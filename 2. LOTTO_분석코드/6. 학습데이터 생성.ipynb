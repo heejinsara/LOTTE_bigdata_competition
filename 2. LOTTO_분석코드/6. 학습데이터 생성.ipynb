{
 "cells": [
  {
   "cell_type": "markdown",
   "metadata": {},
   "source": [
    "아래 데이터를 이용하여\n",
    "- only_data2\n",
    "- only_data3\n",
    "- only_data6\n",
    "\n",
    "예측모델 학습에 필요한 데이터를 만들었습니다.\n",
    "- extension_cust_info2\n",
    "- extension_continue_cust_info\n",
    "- extension"
   ]
  },
  {
   "cell_type": "markdown",
   "metadata": {},
   "source": [
    "## 데이터 불러오기"
   ]
  },
  {
   "cell_type": "code",
   "execution_count": 1,
   "metadata": {
    "ExecuteTime": {
     "end_time": "2022-08-12T07:02:20.925242Z",
     "start_time": "2022-08-12T07:02:19.086553Z"
    }
   },
   "outputs": [],
   "source": [
    "import numpy as np\n",
    "import pandas as pd\n",
    "import matplotlib.pyplot as plt\n",
    "import matplotlib.style as style\n",
    "%matplotlib inline\n",
    "import seaborn as sns\n",
    "\n",
    "style.use(\"fivethirtyeight\")\n",
    "style.use(\"seaborn-talk\")\n",
    "#plt.rcParams['font.family'] = 'serif'\n",
    "\n",
    "import warnings\n",
    "warnings.filterwarnings('ignore')"
   ]
  },
  {
   "cell_type": "code",
   "execution_count": 1,
   "metadata": {
    "ExecuteTime": {
     "end_time": "2022-08-12T07:02:20.940238Z",
     "start_time": "2022-08-12T07:02:20.927234Z"
    }
   },
   "outputs": [
    {
     "data": {
      "text/plain": [
       "['data1.csv', 'data2.csv', 'data3.csv', 'data4.csv', 'data5.csv', 'data6.csv']"
      ]
     },
     "execution_count": 1,
     "metadata": {},
     "output_type": "execute_result"
    }
   ],
   "source": [
    "import os\n",
    "os.listdir(\"../3. LOTTO_데이터 및 모델 세이브 파일/data_preprocessing\")"
   ]
  },
  {
   "cell_type": "code",
   "execution_count": 3,
   "metadata": {
    "ExecuteTime": {
     "end_time": "2022-08-12T07:02:24.922130Z",
     "start_time": "2022-08-12T07:02:20.942239Z"
    }
   },
   "outputs": [],
   "source": [
    "for i, file in enumerate(os.listdir(\"../3. LOTTO_데이터 및 모델 세이브 파일/data_preprocessing\")):\n",
    "    globals()[f'data{i+1}'] = pd.read_csv(\"../3. LOTTO_데이터 및 모델 세이브 파일/data_preprocessing/\"+file,index_col=0)"
   ]
  },
  {
   "cell_type": "markdown",
   "metadata": {},
   "source": [
    "## 시작"
   ]
  },
  {
   "cell_type": "code",
   "execution_count": 4,
   "metadata": {
    "ExecuteTime": {
     "end_time": "2022-08-12T07:02:29.054073Z",
     "start_time": "2022-08-12T07:02:24.924128Z"
    }
   },
   "outputs": [],
   "source": [
    "only_data2=pd.read_csv('../3. LOTTO_데이터 및 모델 세이브 파일/clustering/only_data2.csv',index_col=0)\n",
    "only_data3=pd.read_csv('../3. LOTTO_데이터 및 모델 세이브 파일/clustering/only_data3.csv',index_col=0)\n",
    "only_data6=pd.read_csv('../3. LOTTO_데이터 및 모델 세이브 파일/clustering/only_data6.csv',index_col=0)"
   ]
  },
  {
   "cell_type": "code",
   "execution_count": 5,
   "metadata": {
    "ExecuteTime": {
     "end_time": "2022-08-12T07:02:29.084072Z",
     "start_time": "2022-08-12T07:02:29.056061Z"
    }
   },
   "outputs": [],
   "source": [
    "#Lpay 사용여부 식별하는 컬럼 만들기\n",
    "only_data2['Lpay']='No'\n",
    "only_data3['Lpay']='No'\n",
    "only_data6['Lpay']='Yes'"
   ]
  },
  {
   "cell_type": "code",
   "execution_count": 6,
   "metadata": {
    "ExecuteTime": {
     "end_time": "2022-08-12T07:02:29.520177Z",
     "start_time": "2022-08-12T07:02:29.085074Z"
    }
   },
   "outputs": [],
   "source": [
    "#공통으로 존재하지 않은 컬럼 삭제\n",
    "only_data2.drop(['buy_ct'],axis=1,inplace=True)\n",
    "only_data3.drop(['vst_dt'],axis=1,inplace=True)"
   ]
  },
  {
   "cell_type": "code",
   "execution_count": 7,
   "metadata": {
    "ExecuteTime": {
     "end_time": "2022-08-12T07:02:29.820239Z",
     "start_time": "2022-08-12T07:02:29.522173Z"
    }
   },
   "outputs": [],
   "source": [
    "intersected_df=pd.concat([only_data2, only_data3, only_data6])"
   ]
  },
  {
   "cell_type": "code",
   "execution_count": 8,
   "metadata": {
    "ExecuteTime": {
     "end_time": "2022-08-12T07:02:31.003509Z",
     "start_time": "2022-08-12T07:02:29.824234Z"
    }
   },
   "outputs": [],
   "source": [
    "#채널컬럼을 오프라인이면 0, 온라인이면 1로 변경.\n",
    "#- 변경 전: 오프라인:1, 온라인:2\n",
    "#- 변경 후: 오프라인:0, 오프라인:1\n",
    "intersected_df['chnl_dv'] = intersected_df['chnl_dv'].apply(lambda x: x - 1)"
   ]
  },
  {
   "cell_type": "code",
   "execution_count": 9,
   "metadata": {
    "ExecuteTime": {
     "end_time": "2022-08-12T07:02:33.089964Z",
     "start_time": "2022-08-12T07:02:31.006498Z"
    }
   },
   "outputs": [],
   "source": [
    "intersected_df.loc[:,['Lpay']]=intersected_df.loc[:,['Lpay']].replace('No',0)\n",
    "intersected_df.loc[:,['Lpay']]=intersected_df.loc[:,['Lpay']].replace('Yes',1)"
   ]
  },
  {
   "cell_type": "code",
   "execution_count": 10,
   "metadata": {
    "ExecuteTime": {
     "end_time": "2022-08-12T07:02:33.119983Z",
     "start_time": "2022-08-12T07:02:33.091971Z"
    }
   },
   "outputs": [
    {
     "data": {
      "text/html": [
       "<div>\n",
       "<style scoped>\n",
       "    .dataframe tbody tr th:only-of-type {\n",
       "        vertical-align: middle;\n",
       "    }\n",
       "\n",
       "    .dataframe tbody tr th {\n",
       "        vertical-align: top;\n",
       "    }\n",
       "\n",
       "    .dataframe thead th {\n",
       "        text-align: right;\n",
       "    }\n",
       "</style>\n",
       "<table border=\"1\" class=\"dataframe\">\n",
       "  <thead>\n",
       "    <tr style=\"text-align: right;\">\n",
       "      <th></th>\n",
       "      <th>cust</th>\n",
       "      <th>rct_no</th>\n",
       "      <th>chnl_dv</th>\n",
       "      <th>cop_c</th>\n",
       "      <th>br_c</th>\n",
       "      <th>pd_c</th>\n",
       "      <th>de_dt</th>\n",
       "      <th>de_hr</th>\n",
       "      <th>buy_am</th>\n",
       "      <th>Lpay</th>\n",
       "    </tr>\n",
       "  </thead>\n",
       "  <tbody>\n",
       "    <tr>\n",
       "      <th>0</th>\n",
       "      <td>M000034966</td>\n",
       "      <td>A01016688590</td>\n",
       "      <td>0</td>\n",
       "      <td>A01</td>\n",
       "      <td>A010045</td>\n",
       "      <td>PD0777</td>\n",
       "      <td>20210116</td>\n",
       "      <td>18</td>\n",
       "      <td>78000.0</td>\n",
       "      <td>0</td>\n",
       "    </tr>\n",
       "    <tr>\n",
       "      <th>1</th>\n",
       "      <td>M000034966</td>\n",
       "      <td>A01016688590</td>\n",
       "      <td>0</td>\n",
       "      <td>A01</td>\n",
       "      <td>A010045</td>\n",
       "      <td>PD0796</td>\n",
       "      <td>20210116</td>\n",
       "      <td>18</td>\n",
       "      <td>100.0</td>\n",
       "      <td>0</td>\n",
       "    </tr>\n",
       "    <tr>\n",
       "      <th>2</th>\n",
       "      <td>M000034966</td>\n",
       "      <td>A01016718167</td>\n",
       "      <td>0</td>\n",
       "      <td>A01</td>\n",
       "      <td>A010045</td>\n",
       "      <td>PD0816</td>\n",
       "      <td>20210116</td>\n",
       "      <td>18</td>\n",
       "      <td>62100.0</td>\n",
       "      <td>0</td>\n",
       "    </tr>\n",
       "    <tr>\n",
       "      <th>3</th>\n",
       "      <td>M000034966</td>\n",
       "      <td>A02357398521</td>\n",
       "      <td>0</td>\n",
       "      <td>A02</td>\n",
       "      <td>A020116</td>\n",
       "      <td>PD0616</td>\n",
       "      <td>20210325</td>\n",
       "      <td>13</td>\n",
       "      <td>17900.0</td>\n",
       "      <td>0</td>\n",
       "    </tr>\n",
       "    <tr>\n",
       "      <th>4</th>\n",
       "      <td>M000034966</td>\n",
       "      <td>A02357398521</td>\n",
       "      <td>0</td>\n",
       "      <td>A02</td>\n",
       "      <td>A020116</td>\n",
       "      <td>PD0630</td>\n",
       "      <td>20210325</td>\n",
       "      <td>13</td>\n",
       "      <td>59700.0</td>\n",
       "      <td>0</td>\n",
       "    </tr>\n",
       "  </tbody>\n",
       "</table>\n",
       "</div>"
      ],
      "text/plain": [
       "         cust        rct_no  chnl_dv cop_c     br_c    pd_c     de_dt  de_hr  \\\n",
       "0  M000034966  A01016688590        0   A01  A010045  PD0777  20210116     18   \n",
       "1  M000034966  A01016688590        0   A01  A010045  PD0796  20210116     18   \n",
       "2  M000034966  A01016718167        0   A01  A010045  PD0816  20210116     18   \n",
       "3  M000034966  A02357398521        0   A02  A020116  PD0616  20210325     13   \n",
       "4  M000034966  A02357398521        0   A02  A020116  PD0630  20210325     13   \n",
       "\n",
       "    buy_am  Lpay  \n",
       "0  78000.0     0  \n",
       "1    100.0     0  \n",
       "2  62100.0     0  \n",
       "3  17900.0     0  \n",
       "4  59700.0     0  "
      ]
     },
     "execution_count": 10,
     "metadata": {},
     "output_type": "execute_result"
    }
   ],
   "source": [
    "intersected_df.head()"
   ]
  },
  {
   "cell_type": "markdown",
   "metadata": {},
   "source": [
    "## 상품"
   ]
  },
  {
   "cell_type": "code",
   "execution_count": 11,
   "metadata": {
    "ExecuteTime": {
     "end_time": "2022-08-12T07:02:33.134983Z",
     "start_time": "2022-08-12T07:02:33.121965Z"
    }
   },
   "outputs": [
    {
     "data": {
      "text/html": [
       "<div>\n",
       "<style scoped>\n",
       "    .dataframe tbody tr th:only-of-type {\n",
       "        vertical-align: middle;\n",
       "    }\n",
       "\n",
       "    .dataframe tbody tr th {\n",
       "        vertical-align: top;\n",
       "    }\n",
       "\n",
       "    .dataframe thead th {\n",
       "        text-align: right;\n",
       "    }\n",
       "</style>\n",
       "<table border=\"1\" class=\"dataframe\">\n",
       "  <thead>\n",
       "    <tr style=\"text-align: right;\">\n",
       "      <th></th>\n",
       "      <th>pd_c</th>\n",
       "      <th>pd_nm</th>\n",
       "      <th>clac_hlv_nm</th>\n",
       "      <th>clac_mcls_nm</th>\n",
       "    </tr>\n",
       "  </thead>\n",
       "  <tbody>\n",
       "    <tr>\n",
       "      <th>0</th>\n",
       "      <td>PD0001</td>\n",
       "      <td>소파</td>\n",
       "      <td>가구</td>\n",
       "      <td>거실가구</td>\n",
       "    </tr>\n",
       "    <tr>\n",
       "      <th>1</th>\n",
       "      <td>PD0002</td>\n",
       "      <td>스툴/리빙의자</td>\n",
       "      <td>가구</td>\n",
       "      <td>거실가구</td>\n",
       "    </tr>\n",
       "    <tr>\n",
       "      <th>2</th>\n",
       "      <td>PD0003</td>\n",
       "      <td>탁자</td>\n",
       "      <td>가구</td>\n",
       "      <td>거실가구</td>\n",
       "    </tr>\n",
       "    <tr>\n",
       "      <th>3</th>\n",
       "      <td>PD0004</td>\n",
       "      <td>장식장/진열장</td>\n",
       "      <td>가구</td>\n",
       "      <td>거실가구</td>\n",
       "    </tr>\n",
       "    <tr>\n",
       "      <th>4</th>\n",
       "      <td>PD0005</td>\n",
       "      <td>기타가구</td>\n",
       "      <td>가구</td>\n",
       "      <td>기타가구</td>\n",
       "    </tr>\n",
       "  </tbody>\n",
       "</table>\n",
       "</div>"
      ],
      "text/plain": [
       "     pd_c    pd_nm clac_hlv_nm clac_mcls_nm\n",
       "0  PD0001       소파          가구         거실가구\n",
       "1  PD0002  스툴/리빙의자          가구         거실가구\n",
       "2  PD0003       탁자          가구         거실가구\n",
       "3  PD0004  장식장/진열장          가구         거실가구\n",
       "4  PD0005     기타가구          가구         기타가구"
      ]
     },
     "execution_count": 11,
     "metadata": {},
     "output_type": "execute_result"
    }
   ],
   "source": [
    "data4.head()"
   ]
  },
  {
   "cell_type": "code",
   "execution_count": 12,
   "metadata": {
    "ExecuteTime": {
     "end_time": "2022-08-12T07:02:33.164993Z",
     "start_time": "2022-08-12T07:02:33.136971Z"
    }
   },
   "outputs": [
    {
     "data": {
      "text/html": [
       "<div>\n",
       "<style scoped>\n",
       "    .dataframe tbody tr th:only-of-type {\n",
       "        vertical-align: middle;\n",
       "    }\n",
       "\n",
       "    .dataframe tbody tr th {\n",
       "        vertical-align: top;\n",
       "    }\n",
       "\n",
       "    .dataframe thead th {\n",
       "        text-align: right;\n",
       "    }\n",
       "</style>\n",
       "<table border=\"1\" class=\"dataframe\">\n",
       "  <thead>\n",
       "    <tr style=\"text-align: right;\">\n",
       "      <th></th>\n",
       "      <th>cust</th>\n",
       "      <th>rct_no</th>\n",
       "      <th>chnl_dv</th>\n",
       "      <th>cop_c</th>\n",
       "      <th>br_c</th>\n",
       "      <th>pd_c</th>\n",
       "      <th>de_dt</th>\n",
       "      <th>de_hr</th>\n",
       "      <th>buy_am</th>\n",
       "      <th>Lpay</th>\n",
       "    </tr>\n",
       "  </thead>\n",
       "  <tbody>\n",
       "    <tr>\n",
       "      <th>0</th>\n",
       "      <td>M000034966</td>\n",
       "      <td>A01016688590</td>\n",
       "      <td>0</td>\n",
       "      <td>A01</td>\n",
       "      <td>A010045</td>\n",
       "      <td>PD0777</td>\n",
       "      <td>20210116</td>\n",
       "      <td>18</td>\n",
       "      <td>78000.0</td>\n",
       "      <td>0</td>\n",
       "    </tr>\n",
       "    <tr>\n",
       "      <th>1</th>\n",
       "      <td>M000034966</td>\n",
       "      <td>A01016688590</td>\n",
       "      <td>0</td>\n",
       "      <td>A01</td>\n",
       "      <td>A010045</td>\n",
       "      <td>PD0796</td>\n",
       "      <td>20210116</td>\n",
       "      <td>18</td>\n",
       "      <td>100.0</td>\n",
       "      <td>0</td>\n",
       "    </tr>\n",
       "    <tr>\n",
       "      <th>2</th>\n",
       "      <td>M000034966</td>\n",
       "      <td>A01016718167</td>\n",
       "      <td>0</td>\n",
       "      <td>A01</td>\n",
       "      <td>A010045</td>\n",
       "      <td>PD0816</td>\n",
       "      <td>20210116</td>\n",
       "      <td>18</td>\n",
       "      <td>62100.0</td>\n",
       "      <td>0</td>\n",
       "    </tr>\n",
       "    <tr>\n",
       "      <th>3</th>\n",
       "      <td>M000034966</td>\n",
       "      <td>A02357398521</td>\n",
       "      <td>0</td>\n",
       "      <td>A02</td>\n",
       "      <td>A020116</td>\n",
       "      <td>PD0616</td>\n",
       "      <td>20210325</td>\n",
       "      <td>13</td>\n",
       "      <td>17900.0</td>\n",
       "      <td>0</td>\n",
       "    </tr>\n",
       "    <tr>\n",
       "      <th>4</th>\n",
       "      <td>M000034966</td>\n",
       "      <td>A02357398521</td>\n",
       "      <td>0</td>\n",
       "      <td>A02</td>\n",
       "      <td>A020116</td>\n",
       "      <td>PD0630</td>\n",
       "      <td>20210325</td>\n",
       "      <td>13</td>\n",
       "      <td>59700.0</td>\n",
       "      <td>0</td>\n",
       "    </tr>\n",
       "  </tbody>\n",
       "</table>\n",
       "</div>"
      ],
      "text/plain": [
       "         cust        rct_no  chnl_dv cop_c     br_c    pd_c     de_dt  de_hr  \\\n",
       "0  M000034966  A01016688590        0   A01  A010045  PD0777  20210116     18   \n",
       "1  M000034966  A01016688590        0   A01  A010045  PD0796  20210116     18   \n",
       "2  M000034966  A01016718167        0   A01  A010045  PD0816  20210116     18   \n",
       "3  M000034966  A02357398521        0   A02  A020116  PD0616  20210325     13   \n",
       "4  M000034966  A02357398521        0   A02  A020116  PD0630  20210325     13   \n",
       "\n",
       "    buy_am  Lpay  \n",
       "0  78000.0     0  \n",
       "1    100.0     0  \n",
       "2  62100.0     0  \n",
       "3  17900.0     0  \n",
       "4  59700.0     0  "
      ]
     },
     "execution_count": 12,
     "metadata": {},
     "output_type": "execute_result"
    }
   ],
   "source": [
    "intersected_df.head()"
   ]
  },
  {
   "cell_type": "code",
   "execution_count": 13,
   "metadata": {
    "ExecuteTime": {
     "end_time": "2022-08-12T07:02:33.179993Z",
     "start_time": "2022-08-12T07:02:33.166988Z"
    }
   },
   "outputs": [
    {
     "data": {
      "text/plain": [
       "4251355"
      ]
     },
     "execution_count": 13,
     "metadata": {},
     "output_type": "execute_result"
    }
   ],
   "source": [
    "len(intersected_df)"
   ]
  },
  {
   "cell_type": "code",
   "execution_count": 15,
   "metadata": {
    "ExecuteTime": {
     "end_time": "2022-08-12T07:02:39.662565Z",
     "start_time": "2022-08-12T07:02:38.561325Z"
    }
   },
   "outputs": [
    {
     "data": {
      "text/html": [
       "<div>\n",
       "<style scoped>\n",
       "    .dataframe tbody tr th:only-of-type {\n",
       "        vertical-align: middle;\n",
       "    }\n",
       "\n",
       "    .dataframe tbody tr th {\n",
       "        vertical-align: top;\n",
       "    }\n",
       "\n",
       "    .dataframe thead th {\n",
       "        text-align: right;\n",
       "    }\n",
       "</style>\n",
       "<table border=\"1\" class=\"dataframe\">\n",
       "  <thead>\n",
       "    <tr style=\"text-align: right;\">\n",
       "      <th></th>\n",
       "      <th>cust</th>\n",
       "      <th>rct_no</th>\n",
       "      <th>chnl_dv</th>\n",
       "      <th>cop_c</th>\n",
       "      <th>br_c</th>\n",
       "      <th>pd_c</th>\n",
       "      <th>de_dt</th>\n",
       "      <th>de_hr</th>\n",
       "      <th>buy_am</th>\n",
       "      <th>Lpay</th>\n",
       "      <th>pd_nm</th>\n",
       "      <th>clac_hlv_nm</th>\n",
       "      <th>clac_mcls_nm</th>\n",
       "    </tr>\n",
       "  </thead>\n",
       "  <tbody>\n",
       "    <tr>\n",
       "      <th>0</th>\n",
       "      <td>M000034966</td>\n",
       "      <td>A01016688590</td>\n",
       "      <td>0</td>\n",
       "      <td>A01</td>\n",
       "      <td>A010045</td>\n",
       "      <td>PD0777</td>\n",
       "      <td>20210116</td>\n",
       "      <td>18</td>\n",
       "      <td>78000.0</td>\n",
       "      <td>0</td>\n",
       "      <td>남성런닝/트레이닝화</td>\n",
       "      <td>스포츠패션</td>\n",
       "      <td>남성스포츠화</td>\n",
       "    </tr>\n",
       "    <tr>\n",
       "      <th>1</th>\n",
       "      <td>M000034966</td>\n",
       "      <td>A01016688590</td>\n",
       "      <td>0</td>\n",
       "      <td>A01</td>\n",
       "      <td>A010045</td>\n",
       "      <td>PD0796</td>\n",
       "      <td>20210116</td>\n",
       "      <td>18</td>\n",
       "      <td>100.0</td>\n",
       "      <td>0</td>\n",
       "      <td>스포츠아대/헤어밴드</td>\n",
       "      <td>스포츠패션</td>\n",
       "      <td>스포츠잡화</td>\n",
       "    </tr>\n",
       "    <tr>\n",
       "      <th>2</th>\n",
       "      <td>M000034966</td>\n",
       "      <td>A01016718167</td>\n",
       "      <td>0</td>\n",
       "      <td>A01</td>\n",
       "      <td>A010045</td>\n",
       "      <td>PD0816</td>\n",
       "      <td>20210116</td>\n",
       "      <td>18</td>\n",
       "      <td>62100.0</td>\n",
       "      <td>0</td>\n",
       "      <td>여성런닝/트레이닝화</td>\n",
       "      <td>스포츠패션</td>\n",
       "      <td>여성스포츠화</td>\n",
       "    </tr>\n",
       "    <tr>\n",
       "      <th>3</th>\n",
       "      <td>M000034966</td>\n",
       "      <td>A02357398521</td>\n",
       "      <td>0</td>\n",
       "      <td>A02</td>\n",
       "      <td>A020116</td>\n",
       "      <td>PD0616</td>\n",
       "      <td>20210325</td>\n",
       "      <td>13</td>\n",
       "      <td>17900.0</td>\n",
       "      <td>0</td>\n",
       "      <td>남성팬티</td>\n",
       "      <td>속옷/양말/홈웨어</td>\n",
       "      <td>남성속옷</td>\n",
       "    </tr>\n",
       "    <tr>\n",
       "      <th>4</th>\n",
       "      <td>M000034966</td>\n",
       "      <td>A02357398521</td>\n",
       "      <td>0</td>\n",
       "      <td>A02</td>\n",
       "      <td>A020116</td>\n",
       "      <td>PD0630</td>\n",
       "      <td>20210325</td>\n",
       "      <td>13</td>\n",
       "      <td>59700.0</td>\n",
       "      <td>0</td>\n",
       "      <td>브래지어</td>\n",
       "      <td>속옷/양말/홈웨어</td>\n",
       "      <td>여성속옷</td>\n",
       "    </tr>\n",
       "  </tbody>\n",
       "</table>\n",
       "</div>"
      ],
      "text/plain": [
       "         cust        rct_no  chnl_dv cop_c     br_c    pd_c     de_dt  de_hr  \\\n",
       "0  M000034966  A01016688590        0   A01  A010045  PD0777  20210116     18   \n",
       "1  M000034966  A01016688590        0   A01  A010045  PD0796  20210116     18   \n",
       "2  M000034966  A01016718167        0   A01  A010045  PD0816  20210116     18   \n",
       "3  M000034966  A02357398521        0   A02  A020116  PD0616  20210325     13   \n",
       "4  M000034966  A02357398521        0   A02  A020116  PD0630  20210325     13   \n",
       "\n",
       "    buy_am  Lpay       pd_nm clac_hlv_nm clac_mcls_nm  \n",
       "0  78000.0     0  남성런닝/트레이닝화       스포츠패션       남성스포츠화  \n",
       "1    100.0     0  스포츠아대/헤어밴드       스포츠패션        스포츠잡화  \n",
       "2  62100.0     0  여성런닝/트레이닝화       스포츠패션       여성스포츠화  \n",
       "3  17900.0     0        남성팬티   속옷/양말/홈웨어         남성속옷  \n",
       "4  59700.0     0        브래지어   속옷/양말/홈웨어         여성속옷  "
      ]
     },
     "execution_count": 15,
     "metadata": {},
     "output_type": "execute_result"
    }
   ],
   "source": [
    "intersected_df1=pd.merge(intersected_df,data4, on='pd_c',how='left')\n",
    "intersected_df1.head()"
   ]
  },
  {
   "cell_type": "code",
   "execution_count": 16,
   "metadata": {
    "ExecuteTime": {
     "end_time": "2022-08-12T07:02:44.193593Z",
     "start_time": "2022-08-12T07:02:39.664572Z"
    }
   },
   "outputs": [
    {
     "name": "stdout",
     "output_type": "stream",
     "text": [
      "중복된 데이터의 개수 0\n",
      "중복되지 않은 데이터의 개수: 4251355\n"
     ]
    }
   ],
   "source": [
    "dup = intersected_df1.duplicated()\n",
    "print('중복된 데이터의 개수',len(dup[dup==True]))\n",
    "print('중복되지 않은 데이터의 개수:',len(dup[dup==False]))"
   ]
  },
  {
   "cell_type": "code",
   "execution_count": 17,
   "metadata": {
    "ExecuteTime": {
     "end_time": "2022-08-12T07:02:47.670370Z",
     "start_time": "2022-08-12T07:02:44.195586Z"
    }
   },
   "outputs": [
    {
     "data": {
      "text/plain": [
       "cust                 0\n",
       "rct_no               0\n",
       "chnl_dv              0\n",
       "cop_c                0\n",
       "br_c            350662\n",
       "pd_c            577581\n",
       "de_dt                0\n",
       "de_hr                0\n",
       "buy_am               0\n",
       "Lpay                 0\n",
       "pd_nm           577581\n",
       "clac_hlv_nm     577581\n",
       "clac_mcls_nm    577581\n",
       "dtype: int64"
      ]
     },
     "execution_count": 17,
     "metadata": {},
     "output_type": "execute_result"
    }
   ],
   "source": [
    "intersected_df1.isnull().sum()"
   ]
  },
  {
   "cell_type": "markdown",
   "metadata": {},
   "source": [
    "### 결측치 처리"
   ]
  },
  {
   "cell_type": "code",
   "execution_count": 18,
   "metadata": {
    "ExecuteTime": {
     "end_time": "2022-08-12T07:02:52.487448Z",
     "start_time": "2022-08-12T07:02:47.672358Z"
    }
   },
   "outputs": [],
   "source": [
    "# br_c 결측값 처리\n",
    "null_idx = [(i, intersected_df1[(intersected_df1['br_c'].isnull())&(intersected_df1['cop_c']==i)].index)\n",
    "            for i in intersected_df1[intersected_df1['br_c'].isnull()]['cop_c'].value_counts().index]\n",
    "\n",
    "for _ in null_idx:\n",
    "    intersected_df1.loc[_[1],'br_c'] = _[0]+'00000'"
   ]
  },
  {
   "cell_type": "code",
   "execution_count": 19,
   "metadata": {
    "ExecuteTime": {
     "end_time": "2022-08-12T07:02:53.656710Z",
     "start_time": "2022-08-12T07:02:52.489449Z"
    }
   },
   "outputs": [],
   "source": [
    "# pd_c, clac_hlv_nm, clac_mcls_nm결측값 처리\n",
    "intersected_df1['pd_c'] = np.where(pd.notnull(intersected_df1['pd_c']) == True, intersected_df1['pd_c'], intersected_df1['cop_c'])\n",
    "intersected_df1['pd_nm'] = np.where(pd.notnull(intersected_df1['pd_nm']) == True, intersected_df1['pd_nm'], intersected_df1['cop_c'])\n",
    "intersected_df1['clac_hlv_nm'] = np.where(pd.notnull(intersected_df1['clac_hlv_nm']) == True, intersected_df1['clac_hlv_nm'], intersected_df1['cop_c'])\n",
    "intersected_df1['clac_mcls_nm'] = np.where(pd.notnull(intersected_df1['clac_mcls_nm']) == True, intersected_df1['clac_mcls_nm'], intersected_df1['cop_c'])"
   ]
  },
  {
   "cell_type": "code",
   "execution_count": 20,
   "metadata": {
    "ExecuteTime": {
     "end_time": "2022-08-12T07:02:57.205844Z",
     "start_time": "2022-08-12T07:02:53.658704Z"
    }
   },
   "outputs": [
    {
     "data": {
      "text/plain": [
       "cust            0\n",
       "rct_no          0\n",
       "chnl_dv         0\n",
       "cop_c           0\n",
       "br_c            0\n",
       "pd_c            0\n",
       "de_dt           0\n",
       "de_hr           0\n",
       "buy_am          0\n",
       "Lpay            0\n",
       "pd_nm           0\n",
       "clac_hlv_nm     0\n",
       "clac_mcls_nm    0\n",
       "dtype: int64"
      ]
     },
     "execution_count": 20,
     "metadata": {},
     "output_type": "execute_result"
    }
   ],
   "source": [
    "intersected_df1.isnull().sum()"
   ]
  },
  {
   "cell_type": "code",
   "execution_count": 21,
   "metadata": {
    "ExecuteTime": {
     "end_time": "2022-08-12T07:02:59.800432Z",
     "start_time": "2022-08-12T07:02:57.206837Z"
    }
   },
   "outputs": [],
   "source": [
    "intersected_df1=intersected_df1.sort_values(by=['cust','de_dt','de_hr','cop_c'], ascending=True).reset_index().drop(columns='index',axis=1)"
   ]
  },
  {
   "cell_type": "code",
   "execution_count": 22,
   "metadata": {
    "ExecuteTime": {
     "end_time": "2022-08-12T07:02:59.815432Z",
     "start_time": "2022-08-12T07:02:59.803418Z"
    }
   },
   "outputs": [
    {
     "data": {
      "text/html": [
       "<div>\n",
       "<style scoped>\n",
       "    .dataframe tbody tr th:only-of-type {\n",
       "        vertical-align: middle;\n",
       "    }\n",
       "\n",
       "    .dataframe tbody tr th {\n",
       "        vertical-align: top;\n",
       "    }\n",
       "\n",
       "    .dataframe thead th {\n",
       "        text-align: right;\n",
       "    }\n",
       "</style>\n",
       "<table border=\"1\" class=\"dataframe\">\n",
       "  <thead>\n",
       "    <tr style=\"text-align: right;\">\n",
       "      <th></th>\n",
       "      <th>cust</th>\n",
       "      <th>rct_no</th>\n",
       "      <th>chnl_dv</th>\n",
       "      <th>cop_c</th>\n",
       "      <th>br_c</th>\n",
       "      <th>pd_c</th>\n",
       "      <th>de_dt</th>\n",
       "      <th>de_hr</th>\n",
       "      <th>buy_am</th>\n",
       "      <th>Lpay</th>\n",
       "      <th>pd_nm</th>\n",
       "      <th>clac_hlv_nm</th>\n",
       "      <th>clac_mcls_nm</th>\n",
       "    </tr>\n",
       "  </thead>\n",
       "  <tbody>\n",
       "    <tr>\n",
       "      <th>0</th>\n",
       "      <td>M000034966</td>\n",
       "      <td>A01016688590</td>\n",
       "      <td>0</td>\n",
       "      <td>A01</td>\n",
       "      <td>A010045</td>\n",
       "      <td>PD0777</td>\n",
       "      <td>20210116</td>\n",
       "      <td>18</td>\n",
       "      <td>78000.0</td>\n",
       "      <td>0</td>\n",
       "      <td>남성런닝/트레이닝화</td>\n",
       "      <td>스포츠패션</td>\n",
       "      <td>남성스포츠화</td>\n",
       "    </tr>\n",
       "    <tr>\n",
       "      <th>1</th>\n",
       "      <td>M000034966</td>\n",
       "      <td>A01016688590</td>\n",
       "      <td>0</td>\n",
       "      <td>A01</td>\n",
       "      <td>A010045</td>\n",
       "      <td>PD0796</td>\n",
       "      <td>20210116</td>\n",
       "      <td>18</td>\n",
       "      <td>100.0</td>\n",
       "      <td>0</td>\n",
       "      <td>스포츠아대/헤어밴드</td>\n",
       "      <td>스포츠패션</td>\n",
       "      <td>스포츠잡화</td>\n",
       "    </tr>\n",
       "    <tr>\n",
       "      <th>2</th>\n",
       "      <td>M000034966</td>\n",
       "      <td>A01016718167</td>\n",
       "      <td>0</td>\n",
       "      <td>A01</td>\n",
       "      <td>A010045</td>\n",
       "      <td>PD0816</td>\n",
       "      <td>20210116</td>\n",
       "      <td>18</td>\n",
       "      <td>62100.0</td>\n",
       "      <td>0</td>\n",
       "      <td>여성런닝/트레이닝화</td>\n",
       "      <td>스포츠패션</td>\n",
       "      <td>여성스포츠화</td>\n",
       "    </tr>\n",
       "    <tr>\n",
       "      <th>3</th>\n",
       "      <td>M000034966</td>\n",
       "      <td>A04003723283</td>\n",
       "      <td>0</td>\n",
       "      <td>A04</td>\n",
       "      <td>A043676</td>\n",
       "      <td>PD1161</td>\n",
       "      <td>20210116</td>\n",
       "      <td>21</td>\n",
       "      <td>1200.0</td>\n",
       "      <td>0</td>\n",
       "      <td>과일음료</td>\n",
       "      <td>음료</td>\n",
       "      <td>과채음료</td>\n",
       "    </tr>\n",
       "    <tr>\n",
       "      <th>4</th>\n",
       "      <td>M000034966</td>\n",
       "      <td>A04003723283</td>\n",
       "      <td>0</td>\n",
       "      <td>A04</td>\n",
       "      <td>A043676</td>\n",
       "      <td>PD1330</td>\n",
       "      <td>20210116</td>\n",
       "      <td>21</td>\n",
       "      <td>10800.0</td>\n",
       "      <td>0</td>\n",
       "      <td>국산맥주</td>\n",
       "      <td>주류</td>\n",
       "      <td>맥주</td>\n",
       "    </tr>\n",
       "  </tbody>\n",
       "</table>\n",
       "</div>"
      ],
      "text/plain": [
       "         cust        rct_no  chnl_dv cop_c     br_c    pd_c     de_dt  de_hr  \\\n",
       "0  M000034966  A01016688590        0   A01  A010045  PD0777  20210116     18   \n",
       "1  M000034966  A01016688590        0   A01  A010045  PD0796  20210116     18   \n",
       "2  M000034966  A01016718167        0   A01  A010045  PD0816  20210116     18   \n",
       "3  M000034966  A04003723283        0   A04  A043676  PD1161  20210116     21   \n",
       "4  M000034966  A04003723283        0   A04  A043676  PD1330  20210116     21   \n",
       "\n",
       "    buy_am  Lpay       pd_nm clac_hlv_nm clac_mcls_nm  \n",
       "0  78000.0     0  남성런닝/트레이닝화       스포츠패션       남성스포츠화  \n",
       "1    100.0     0  스포츠아대/헤어밴드       스포츠패션        스포츠잡화  \n",
       "2  62100.0     0  여성런닝/트레이닝화       스포츠패션       여성스포츠화  \n",
       "3   1200.0     0        과일음료          음료         과채음료  \n",
       "4  10800.0     0        국산맥주          주류           맥주  "
      ]
     },
     "execution_count": 22,
     "metadata": {},
     "output_type": "execute_result"
    }
   ],
   "source": [
    "intersected_df1.head()"
   ]
  },
  {
   "cell_type": "markdown",
   "metadata": {},
   "source": [
    "### first extend"
   ]
  },
  {
   "cell_type": "code",
   "execution_count": 23,
   "metadata": {
    "ExecuteTime": {
     "end_time": "2022-08-12T08:52:55.869321Z",
     "start_time": "2022-08-12T07:02:59.818425Z"
    }
   },
   "outputs": [],
   "source": [
    "Q2=[]\n",
    "Y2=[]\n",
    "S2=[]\n",
    "B2=[]\n",
    "MoreThanOne=[]\n",
    "\n",
    "for i in intersected_df1.cust.unique():\n",
    "    intersected_df2=intersected_df1.loc[intersected_df1['cust'] == i].reset_index().sort_values(by=['de_dt','de_hr'], ascending=True).drop(columns='index',axis=1)\n",
    "    first_cop=intersected_df2.loc[0,'cop_c']\n",
    "    Q1=[]\n",
    "    Q1.append(intersected_df2.loc[0,'pd_c'])\n",
    "    Y1=[]\n",
    "    Y1.append(intersected_df2.loc[0,'clac_hlv_nm'])\n",
    "    S1=[]\n",
    "    S1.append(intersected_df2.loc[0,'clac_mcls_nm'])\n",
    "    B1=[]\n",
    "    B1.append(intersected_df2.loc[0,'br_c'])\n",
    "    \n",
    "    for n in range(1,len(intersected_df2)):\n",
    "        if first_cop==intersected_df2.loc[n,'cop_c']:\n",
    "            Q1.append(intersected_df2.loc[n,'pd_c'])\n",
    "            Y1.append(intersected_df2.loc[n,'clac_hlv_nm'])\n",
    "            S1.append(intersected_df2.loc[n,'clac_mcls_nm'])\n",
    "            B1.append(intersected_df2.loc[n,'br_c'])\n",
    "        else:\n",
    "            second_cop=intersected_df2.loc[n,'cop_c']\n",
    "            MoreThanOne.append(i)\n",
    "            Q2.append(Q1)\n",
    "            Y2.append(Y1)\n",
    "            S2.append(S1)\n",
    "            B2.append(B1)\n",
    "            break"
   ]
  },
  {
   "cell_type": "code",
   "execution_count": 26,
   "metadata": {
    "ExecuteTime": {
     "end_time": "2022-08-12T09:38:10.484318Z",
     "start_time": "2022-08-12T09:38:10.434306Z"
    }
   },
   "outputs": [],
   "source": [
    "계속된상품1=pd.DataFrame({'cust':MoreThanOne,'pd_c':Q2,'clac_hlv_nm':Y2, 'clac_mcls_nm':S2,'br_c':B2})"
   ]
  },
  {
   "cell_type": "code",
   "execution_count": 27,
   "metadata": {
    "ExecuteTime": {
     "end_time": "2022-08-12T09:38:12.845113Z",
     "start_time": "2022-08-12T09:38:12.822115Z"
    }
   },
   "outputs": [
    {
     "data": {
      "text/html": [
       "<div>\n",
       "<style scoped>\n",
       "    .dataframe tbody tr th:only-of-type {\n",
       "        vertical-align: middle;\n",
       "    }\n",
       "\n",
       "    .dataframe tbody tr th {\n",
       "        vertical-align: top;\n",
       "    }\n",
       "\n",
       "    .dataframe thead th {\n",
       "        text-align: right;\n",
       "    }\n",
       "</style>\n",
       "<table border=\"1\" class=\"dataframe\">\n",
       "  <thead>\n",
       "    <tr style=\"text-align: right;\">\n",
       "      <th></th>\n",
       "      <th>cust</th>\n",
       "      <th>pd_c</th>\n",
       "      <th>clac_hlv_nm</th>\n",
       "      <th>clac_mcls_nm</th>\n",
       "      <th>br_c</th>\n",
       "    </tr>\n",
       "  </thead>\n",
       "  <tbody>\n",
       "    <tr>\n",
       "      <th>0</th>\n",
       "      <td>M000034966</td>\n",
       "      <td>[PD0777, PD0796, PD0816]</td>\n",
       "      <td>[스포츠패션, 스포츠패션, 스포츠패션]</td>\n",
       "      <td>[남성스포츠화, 스포츠잡화, 여성스포츠화]</td>\n",
       "      <td>[A010045, A010045, A010045]</td>\n",
       "    </tr>\n",
       "    <tr>\n",
       "      <th>1</th>\n",
       "      <td>M000136117</td>\n",
       "      <td>[PD0601, PD1164, PD1847]</td>\n",
       "      <td>[세제/위생, 음료, 퍼스널케어]</td>\n",
       "      <td>[세탁세제, 과채음료, 여성위생용품]</td>\n",
       "      <td>[A0200000, A0200000, A0200000]</td>\n",
       "    </tr>\n",
       "    <tr>\n",
       "      <th>2</th>\n",
       "      <td>M000225114</td>\n",
       "      <td>[PD0232, PD1170, PD1685, PD1684, PD0326, PD168...</td>\n",
       "      <td>[과자, 음료, 테넌트/음식점, 테넌트/음식점, 냉동식품, 테넌트/음식점, 과자, ...</td>\n",
       "      <td>[스낵류, 기능성음료, 식당, 식당, 냉동간편식, 식당, 사탕/캔디, 디저트, 스낵류]</td>\n",
       "      <td>[A010011, A010011, A010011, A010011, A010011, ...</td>\n",
       "    </tr>\n",
       "    <tr>\n",
       "      <th>3</th>\n",
       "      <td>M000261625</td>\n",
       "      <td>[PD1919, PD1919, PD1922, PD1824, PD1839, PD168...</td>\n",
       "      <td>[화장품/뷰티케어, 화장품/뷰티케어, 화장품/뷰티케어, 패션잡화, 퍼스널케어, 테넌...</td>\n",
       "      <td>[스킨케어, 스킨케어, 스킨케어, 패션액세서리, 바디케어, 식당, 여성속옷, 와인]</td>\n",
       "      <td>[A010017, A010017, A010017, A010017, A010017, ...</td>\n",
       "    </tr>\n",
       "    <tr>\n",
       "      <th>4</th>\n",
       "      <td>M000419293</td>\n",
       "      <td>[L01, L01]</td>\n",
       "      <td>[L01, L01]</td>\n",
       "      <td>[L01, L01]</td>\n",
       "      <td>[L0100000, L0100000]</td>\n",
       "    </tr>\n",
       "  </tbody>\n",
       "</table>\n",
       "</div>"
      ],
      "text/plain": [
       "         cust                                               pd_c  \\\n",
       "0  M000034966                           [PD0777, PD0796, PD0816]   \n",
       "1  M000136117                           [PD0601, PD1164, PD1847]   \n",
       "2  M000225114  [PD0232, PD1170, PD1685, PD1684, PD0326, PD168...   \n",
       "3  M000261625  [PD1919, PD1919, PD1922, PD1824, PD1839, PD168...   \n",
       "4  M000419293                                         [L01, L01]   \n",
       "\n",
       "                                         clac_hlv_nm  \\\n",
       "0                              [스포츠패션, 스포츠패션, 스포츠패션]   \n",
       "1                                 [세제/위생, 음료, 퍼스널케어]   \n",
       "2  [과자, 음료, 테넌트/음식점, 테넌트/음식점, 냉동식품, 테넌트/음식점, 과자, ...   \n",
       "3  [화장품/뷰티케어, 화장품/뷰티케어, 화장품/뷰티케어, 패션잡화, 퍼스널케어, 테넌...   \n",
       "4                                         [L01, L01]   \n",
       "\n",
       "                                       clac_mcls_nm  \\\n",
       "0                           [남성스포츠화, 스포츠잡화, 여성스포츠화]   \n",
       "1                              [세탁세제, 과채음료, 여성위생용품]   \n",
       "2  [스낵류, 기능성음료, 식당, 식당, 냉동간편식, 식당, 사탕/캔디, 디저트, 스낵류]   \n",
       "3    [스킨케어, 스킨케어, 스킨케어, 패션액세서리, 바디케어, 식당, 여성속옷, 와인]   \n",
       "4                                        [L01, L01]   \n",
       "\n",
       "                                                br_c  \n",
       "0                        [A010045, A010045, A010045]  \n",
       "1                     [A0200000, A0200000, A0200000]  \n",
       "2  [A010011, A010011, A010011, A010011, A010011, ...  \n",
       "3  [A010017, A010017, A010017, A010017, A010017, ...  \n",
       "4                               [L0100000, L0100000]  "
      ]
     },
     "execution_count": 27,
     "metadata": {},
     "output_type": "execute_result"
    }
   ],
   "source": [
    "계속된상품1.head()"
   ]
  },
  {
   "cell_type": "markdown",
   "metadata": {},
   "source": [
    "### several extend"
   ]
  },
  {
   "cell_type": "code",
   "execution_count": null,
   "metadata": {
    "ExecuteTime": {
     "start_time": "2022-08-12T11:47:39.247Z"
    }
   },
   "outputs": [],
   "source": [
    "Q2=[]\n",
    "Y2=[]\n",
    "S2=[]\n",
    "B2=[]\n",
    "MoreThanOne=[]\n",
    "L1=[]\n",
    "L2=[]\n",
    "\n",
    "for i in intersected_df1.cust.unique():\n",
    "    intersected_df2=intersected_df1.loc[intersected_df1['cust'] == i].reset_index().sort_values(by=['de_dt','de_hr'], ascending=True).drop(columns='index',axis=1)\n",
    "    first_cop=intersected_df2.loc[0,'cop_c']\n",
    "    Q1=[]\n",
    "    Q1.append(intersected_df2.loc[0,'pd_c'])\n",
    "    Y1=[]\n",
    "    Y1.append(intersected_df2.loc[0,'clac_hlv_nm'])\n",
    "    S1=[]\n",
    "    S1.append(intersected_df2.loc[0,'clac_mcls_nm'])\n",
    "    B1=[]\n",
    "    B1.append(intersected_df2.loc[0,'br_c'])\n",
    "    L3=[]\n",
    "    L3.append(first_cop)\n",
    "    \n",
    "    for n in range(1,len(intersected_df2)):\n",
    "        if first_cop==intersected_df2.loc[n,'cop_c']:\n",
    "            Q1.append(intersected_df2.loc[n,'pd_c'])\n",
    "            Y1.append(intersected_df2.loc[n,'clac_hlv_nm'])\n",
    "            S1.append(intersected_df2.loc[n,'clac_mcls_nm'])\n",
    "            B1.append(intersected_df2.loc[n,'br_c'])\n",
    "        elif first_cop!=intersected_df2.loc[n,'cop_c']:\n",
    "            if intersected_df2.loc[n,'cop_c'] not in L3:\n",
    "                second_cop=intersected_df2.loc[n,'cop_c']\n",
    "                L3.append(second_cop)\n",
    "                L1.append(first_cop)\n",
    "                L2.append(second_cop)\n",
    "                MoreThanOne.append(i)\n",
    "                Q2.append(Q1)\n",
    "                Y2.append(Y1)\n",
    "                S2.append(S1)\n",
    "                B2.append(B1)\n",
    "                first_cop=second_cop\n",
    "                Q1=[]\n",
    "                Q1.append(intersected_df2.loc[n,'pd_c'])\n",
    "                Y1=[]\n",
    "                Y1.append(intersected_df2.loc[n,'clac_hlv_nm'])\n",
    "                S1=[]\n",
    "                S1.append(intersected_df2.loc[n,'clac_mcls_nm'])\n",
    "                B1=[]\n",
    "                B1.append(intersected_df2.loc[n,'br_c'])\n",
    "            else:\n",
    "                break"
   ]
  },
  {
   "cell_type": "code",
   "execution_count": null,
   "metadata": {
    "ExecuteTime": {
     "start_time": "2022-08-12T11:47:39.659Z"
    }
   },
   "outputs": [],
   "source": [
    "#유통사간 확장이 한번 이상 일어난 고객들\n",
    "계속된상품2=pd.DataFrame({'cust':MoreThanOne,'first_cop':L1, 'second_cop':L2,'pd_c':Q2,'clac_hlv_nm':Y2, 'clac_mcls_nm':S2,'br_c':B2})"
   ]
  },
  {
   "cell_type": "code",
   "execution_count": null,
   "metadata": {
    "ExecuteTime": {
     "start_time": "2022-08-12T11:47:39.852Z"
    }
   },
   "outputs": [],
   "source": [
    "계속된상품2.head()"
   ]
  },
  {
   "cell_type": "markdown",
   "metadata": {},
   "source": [
    "## 구매금액, 주기, 온라인선호도, 첫번째 두번째 cop, 방문횟수"
   ]
  },
  {
   "cell_type": "code",
   "execution_count": 28,
   "metadata": {
    "ExecuteTime": {
     "end_time": "2022-08-12T09:38:48.863458Z",
     "start_time": "2022-08-12T09:38:47.371134Z"
    }
   },
   "outputs": [
    {
     "data": {
      "text/html": [
       "<div>\n",
       "<style scoped>\n",
       "    .dataframe tbody tr th:only-of-type {\n",
       "        vertical-align: middle;\n",
       "    }\n",
       "\n",
       "    .dataframe tbody tr th {\n",
       "        vertical-align: top;\n",
       "    }\n",
       "\n",
       "    .dataframe thead th {\n",
       "        text-align: right;\n",
       "    }\n",
       "</style>\n",
       "<table border=\"1\" class=\"dataframe\">\n",
       "  <thead>\n",
       "    <tr style=\"text-align: right;\">\n",
       "      <th></th>\n",
       "      <th>cust</th>\n",
       "      <th>de_dt</th>\n",
       "      <th>de_hr</th>\n",
       "      <th>cop_c</th>\n",
       "      <th>chnl_dv</th>\n",
       "      <th>Lpay</th>\n",
       "    </tr>\n",
       "  </thead>\n",
       "  <tbody>\n",
       "    <tr>\n",
       "      <th>0</th>\n",
       "      <td>M000034966</td>\n",
       "      <td>20210116</td>\n",
       "      <td>18</td>\n",
       "      <td>A01</td>\n",
       "      <td>0</td>\n",
       "      <td>0</td>\n",
       "    </tr>\n",
       "    <tr>\n",
       "      <th>1</th>\n",
       "      <td>M000034966</td>\n",
       "      <td>20210116</td>\n",
       "      <td>21</td>\n",
       "      <td>A04</td>\n",
       "      <td>0</td>\n",
       "      <td>0</td>\n",
       "    </tr>\n",
       "    <tr>\n",
       "      <th>2</th>\n",
       "      <td>M000034966</td>\n",
       "      <td>20210325</td>\n",
       "      <td>13</td>\n",
       "      <td>A02</td>\n",
       "      <td>0</td>\n",
       "      <td>0</td>\n",
       "    </tr>\n",
       "    <tr>\n",
       "      <th>3</th>\n",
       "      <td>M000034966</td>\n",
       "      <td>20210328</td>\n",
       "      <td>21</td>\n",
       "      <td>A02</td>\n",
       "      <td>0</td>\n",
       "      <td>0</td>\n",
       "    </tr>\n",
       "    <tr>\n",
       "      <th>4</th>\n",
       "      <td>M000034966</td>\n",
       "      <td>20210629</td>\n",
       "      <td>13</td>\n",
       "      <td>A02</td>\n",
       "      <td>0</td>\n",
       "      <td>0</td>\n",
       "    </tr>\n",
       "    <tr>\n",
       "      <th>...</th>\n",
       "      <td>...</td>\n",
       "      <td>...</td>\n",
       "      <td>...</td>\n",
       "      <td>...</td>\n",
       "      <td>...</td>\n",
       "      <td>...</td>\n",
       "    </tr>\n",
       "    <tr>\n",
       "      <th>1466557</th>\n",
       "      <td>M999962961</td>\n",
       "      <td>20211223</td>\n",
       "      <td>17</td>\n",
       "      <td>D01</td>\n",
       "      <td>0</td>\n",
       "      <td>0</td>\n",
       "    </tr>\n",
       "    <tr>\n",
       "      <th>1466558</th>\n",
       "      <td>M999962961</td>\n",
       "      <td>20211230</td>\n",
       "      <td>16</td>\n",
       "      <td>A02</td>\n",
       "      <td>0</td>\n",
       "      <td>1</td>\n",
       "    </tr>\n",
       "    <tr>\n",
       "      <th>1466559</th>\n",
       "      <td>M999962961</td>\n",
       "      <td>20211230</td>\n",
       "      <td>17</td>\n",
       "      <td>A01</td>\n",
       "      <td>0</td>\n",
       "      <td>0</td>\n",
       "    </tr>\n",
       "    <tr>\n",
       "      <th>1466560</th>\n",
       "      <td>M999962961</td>\n",
       "      <td>20211230</td>\n",
       "      <td>17</td>\n",
       "      <td>A02</td>\n",
       "      <td>0</td>\n",
       "      <td>0</td>\n",
       "    </tr>\n",
       "    <tr>\n",
       "      <th>1466561</th>\n",
       "      <td>M999962961</td>\n",
       "      <td>20211231</td>\n",
       "      <td>13</td>\n",
       "      <td>A03</td>\n",
       "      <td>0</td>\n",
       "      <td>0</td>\n",
       "    </tr>\n",
       "  </tbody>\n",
       "</table>\n",
       "<p>1466562 rows × 6 columns</p>\n",
       "</div>"
      ],
      "text/plain": [
       "               cust     de_dt  de_hr cop_c  chnl_dv  Lpay\n",
       "0        M000034966  20210116     18   A01        0     0\n",
       "1        M000034966  20210116     21   A04        0     0\n",
       "2        M000034966  20210325     13   A02        0     0\n",
       "3        M000034966  20210328     21   A02        0     0\n",
       "4        M000034966  20210629     13   A02        0     0\n",
       "...             ...       ...    ...   ...      ...   ...\n",
       "1466557  M999962961  20211223     17   D01        0     0\n",
       "1466558  M999962961  20211230     16   A02        0     1\n",
       "1466559  M999962961  20211230     17   A01        0     0\n",
       "1466560  M999962961  20211230     17   A02        0     0\n",
       "1466561  M999962961  20211231     13   A03        0     0\n",
       "\n",
       "[1466562 rows x 6 columns]"
      ]
     },
     "execution_count": 28,
     "metadata": {},
     "output_type": "execute_result"
    }
   ],
   "source": [
    "#group1: 같은 고객이 같은 날짜, 같은 시간, 같은 점포, 같은 채널에서 Lpay사용여부 확인\n",
    "# 같은 고객이 같은 날짜, 같은 시간, 같은 점포, 같은 채널에서 Lpay 한번이상 사용했으면 1, 사용 안했으면 0\n",
    "max_Lpay=pd.DataFrame({'Lpay' : intersected_df.groupby(['cust','de_dt','de_hr','cop_c','chnl_dv'])['Lpay'].max()}).reset_index()\n",
    "max_Lpay"
   ]
  },
  {
   "cell_type": "code",
   "execution_count": 29,
   "metadata": {
    "ExecuteTime": {
     "end_time": "2022-08-12T09:38:50.123756Z",
     "start_time": "2022-08-12T09:38:48.865460Z"
    }
   },
   "outputs": [
    {
     "data": {
      "text/html": [
       "<div>\n",
       "<style scoped>\n",
       "    .dataframe tbody tr th:only-of-type {\n",
       "        vertical-align: middle;\n",
       "    }\n",
       "\n",
       "    .dataframe tbody tr th {\n",
       "        vertical-align: top;\n",
       "    }\n",
       "\n",
       "    .dataframe thead th {\n",
       "        text-align: right;\n",
       "    }\n",
       "</style>\n",
       "<table border=\"1\" class=\"dataframe\">\n",
       "  <thead>\n",
       "    <tr style=\"text-align: right;\">\n",
       "      <th></th>\n",
       "      <th>cust</th>\n",
       "      <th>de_dt</th>\n",
       "      <th>de_hr</th>\n",
       "      <th>cop_c</th>\n",
       "      <th>chnl_dv</th>\n",
       "      <th>buy_am</th>\n",
       "    </tr>\n",
       "  </thead>\n",
       "  <tbody>\n",
       "    <tr>\n",
       "      <th>0</th>\n",
       "      <td>M000034966</td>\n",
       "      <td>20210116</td>\n",
       "      <td>18</td>\n",
       "      <td>A01</td>\n",
       "      <td>0</td>\n",
       "      <td>140200.0</td>\n",
       "    </tr>\n",
       "    <tr>\n",
       "      <th>1</th>\n",
       "      <td>M000034966</td>\n",
       "      <td>20210116</td>\n",
       "      <td>21</td>\n",
       "      <td>A04</td>\n",
       "      <td>0</td>\n",
       "      <td>12000.0</td>\n",
       "    </tr>\n",
       "    <tr>\n",
       "      <th>2</th>\n",
       "      <td>M000034966</td>\n",
       "      <td>20210325</td>\n",
       "      <td>13</td>\n",
       "      <td>A02</td>\n",
       "      <td>0</td>\n",
       "      <td>90500.0</td>\n",
       "    </tr>\n",
       "    <tr>\n",
       "      <th>3</th>\n",
       "      <td>M000034966</td>\n",
       "      <td>20210328</td>\n",
       "      <td>21</td>\n",
       "      <td>A02</td>\n",
       "      <td>0</td>\n",
       "      <td>89560.0</td>\n",
       "    </tr>\n",
       "    <tr>\n",
       "      <th>4</th>\n",
       "      <td>M000034966</td>\n",
       "      <td>20210629</td>\n",
       "      <td>13</td>\n",
       "      <td>A02</td>\n",
       "      <td>0</td>\n",
       "      <td>65700.0</td>\n",
       "    </tr>\n",
       "    <tr>\n",
       "      <th>...</th>\n",
       "      <td>...</td>\n",
       "      <td>...</td>\n",
       "      <td>...</td>\n",
       "      <td>...</td>\n",
       "      <td>...</td>\n",
       "      <td>...</td>\n",
       "    </tr>\n",
       "    <tr>\n",
       "      <th>1466557</th>\n",
       "      <td>M999962961</td>\n",
       "      <td>20211223</td>\n",
       "      <td>17</td>\n",
       "      <td>D01</td>\n",
       "      <td>0</td>\n",
       "      <td>5900.0</td>\n",
       "    </tr>\n",
       "    <tr>\n",
       "      <th>1466558</th>\n",
       "      <td>M999962961</td>\n",
       "      <td>20211230</td>\n",
       "      <td>16</td>\n",
       "      <td>A02</td>\n",
       "      <td>0</td>\n",
       "      <td>8000.0</td>\n",
       "    </tr>\n",
       "    <tr>\n",
       "      <th>1466559</th>\n",
       "      <td>M999962961</td>\n",
       "      <td>20211230</td>\n",
       "      <td>17</td>\n",
       "      <td>A01</td>\n",
       "      <td>0</td>\n",
       "      <td>18000.0</td>\n",
       "    </tr>\n",
       "    <tr>\n",
       "      <th>1466560</th>\n",
       "      <td>M999962961</td>\n",
       "      <td>20211230</td>\n",
       "      <td>17</td>\n",
       "      <td>A02</td>\n",
       "      <td>0</td>\n",
       "      <td>34900.0</td>\n",
       "    </tr>\n",
       "    <tr>\n",
       "      <th>1466561</th>\n",
       "      <td>M999962961</td>\n",
       "      <td>20211231</td>\n",
       "      <td>13</td>\n",
       "      <td>A03</td>\n",
       "      <td>0</td>\n",
       "      <td>28540.0</td>\n",
       "    </tr>\n",
       "  </tbody>\n",
       "</table>\n",
       "<p>1466562 rows × 6 columns</p>\n",
       "</div>"
      ],
      "text/plain": [
       "               cust     de_dt  de_hr cop_c  chnl_dv    buy_am\n",
       "0        M000034966  20210116     18   A01        0  140200.0\n",
       "1        M000034966  20210116     21   A04        0   12000.0\n",
       "2        M000034966  20210325     13   A02        0   90500.0\n",
       "3        M000034966  20210328     21   A02        0   89560.0\n",
       "4        M000034966  20210629     13   A02        0   65700.0\n",
       "...             ...       ...    ...   ...      ...       ...\n",
       "1466557  M999962961  20211223     17   D01        0    5900.0\n",
       "1466558  M999962961  20211230     16   A02        0    8000.0\n",
       "1466559  M999962961  20211230     17   A01        0   18000.0\n",
       "1466560  M999962961  20211230     17   A02        0   34900.0\n",
       "1466561  M999962961  20211231     13   A03        0   28540.0\n",
       "\n",
       "[1466562 rows x 6 columns]"
      ]
     },
     "execution_count": 29,
     "metadata": {},
     "output_type": "execute_result"
    }
   ],
   "source": [
    "#group1: 같은 고객이 같은 날짜, 같은 시간, 같은 점포, 같은 채널에서 구매한 금액을 합친 dataframe\n",
    "group1=pd.DataFrame({'buy_am' : intersected_df.groupby(['cust','de_dt','de_hr','cop_c','chnl_dv'])['buy_am'].sum()}).reset_index()\n",
    "group1"
   ]
  },
  {
   "cell_type": "code",
   "execution_count": 30,
   "metadata": {
    "ExecuteTime": {
     "end_time": "2022-08-12T09:38:50.590863Z",
     "start_time": "2022-08-12T09:38:50.126755Z"
    }
   },
   "outputs": [
    {
     "data": {
      "text/plain": [
       "cust       0\n",
       "de_dt      0\n",
       "de_hr      0\n",
       "cop_c      0\n",
       "chnl_dv    0\n",
       "buy_am     0\n",
       "dtype: int64"
      ]
     },
     "execution_count": 30,
     "metadata": {},
     "output_type": "execute_result"
    }
   ],
   "source": [
    "group1.isnull().sum()"
   ]
  },
  {
   "cell_type": "code",
   "execution_count": 31,
   "metadata": {
    "ExecuteTime": {
     "end_time": "2022-08-12T09:38:51.523074Z",
     "start_time": "2022-08-12T09:38:50.592858Z"
    }
   },
   "outputs": [
    {
     "data": {
      "text/html": [
       "<div>\n",
       "<style scoped>\n",
       "    .dataframe tbody tr th:only-of-type {\n",
       "        vertical-align: middle;\n",
       "    }\n",
       "\n",
       "    .dataframe tbody tr th {\n",
       "        vertical-align: top;\n",
       "    }\n",
       "\n",
       "    .dataframe thead th {\n",
       "        text-align: right;\n",
       "    }\n",
       "</style>\n",
       "<table border=\"1\" class=\"dataframe\">\n",
       "  <thead>\n",
       "    <tr style=\"text-align: right;\">\n",
       "      <th></th>\n",
       "      <th>cust</th>\n",
       "      <th>de_dt</th>\n",
       "      <th>de_hr</th>\n",
       "      <th>cop_c</th>\n",
       "      <th>chnl_dv</th>\n",
       "      <th>buy_am</th>\n",
       "      <th>Lpay</th>\n",
       "    </tr>\n",
       "  </thead>\n",
       "  <tbody>\n",
       "    <tr>\n",
       "      <th>0</th>\n",
       "      <td>M000034966</td>\n",
       "      <td>20210116</td>\n",
       "      <td>18</td>\n",
       "      <td>A01</td>\n",
       "      <td>0</td>\n",
       "      <td>140200.0</td>\n",
       "      <td>0</td>\n",
       "    </tr>\n",
       "    <tr>\n",
       "      <th>1</th>\n",
       "      <td>M000034966</td>\n",
       "      <td>20210116</td>\n",
       "      <td>21</td>\n",
       "      <td>A04</td>\n",
       "      <td>0</td>\n",
       "      <td>12000.0</td>\n",
       "      <td>0</td>\n",
       "    </tr>\n",
       "    <tr>\n",
       "      <th>2</th>\n",
       "      <td>M000034966</td>\n",
       "      <td>20210325</td>\n",
       "      <td>13</td>\n",
       "      <td>A02</td>\n",
       "      <td>0</td>\n",
       "      <td>90500.0</td>\n",
       "      <td>0</td>\n",
       "    </tr>\n",
       "    <tr>\n",
       "      <th>3</th>\n",
       "      <td>M000034966</td>\n",
       "      <td>20210328</td>\n",
       "      <td>21</td>\n",
       "      <td>A02</td>\n",
       "      <td>0</td>\n",
       "      <td>89560.0</td>\n",
       "      <td>0</td>\n",
       "    </tr>\n",
       "    <tr>\n",
       "      <th>4</th>\n",
       "      <td>M000034966</td>\n",
       "      <td>20210629</td>\n",
       "      <td>13</td>\n",
       "      <td>A02</td>\n",
       "      <td>0</td>\n",
       "      <td>65700.0</td>\n",
       "      <td>0</td>\n",
       "    </tr>\n",
       "    <tr>\n",
       "      <th>...</th>\n",
       "      <td>...</td>\n",
       "      <td>...</td>\n",
       "      <td>...</td>\n",
       "      <td>...</td>\n",
       "      <td>...</td>\n",
       "      <td>...</td>\n",
       "      <td>...</td>\n",
       "    </tr>\n",
       "    <tr>\n",
       "      <th>1466557</th>\n",
       "      <td>M999962961</td>\n",
       "      <td>20211223</td>\n",
       "      <td>17</td>\n",
       "      <td>D01</td>\n",
       "      <td>0</td>\n",
       "      <td>5900.0</td>\n",
       "      <td>0</td>\n",
       "    </tr>\n",
       "    <tr>\n",
       "      <th>1466558</th>\n",
       "      <td>M999962961</td>\n",
       "      <td>20211230</td>\n",
       "      <td>16</td>\n",
       "      <td>A02</td>\n",
       "      <td>0</td>\n",
       "      <td>8000.0</td>\n",
       "      <td>1</td>\n",
       "    </tr>\n",
       "    <tr>\n",
       "      <th>1466559</th>\n",
       "      <td>M999962961</td>\n",
       "      <td>20211230</td>\n",
       "      <td>17</td>\n",
       "      <td>A01</td>\n",
       "      <td>0</td>\n",
       "      <td>18000.0</td>\n",
       "      <td>0</td>\n",
       "    </tr>\n",
       "    <tr>\n",
       "      <th>1466560</th>\n",
       "      <td>M999962961</td>\n",
       "      <td>20211230</td>\n",
       "      <td>17</td>\n",
       "      <td>A02</td>\n",
       "      <td>0</td>\n",
       "      <td>34900.0</td>\n",
       "      <td>0</td>\n",
       "    </tr>\n",
       "    <tr>\n",
       "      <th>1466561</th>\n",
       "      <td>M999962961</td>\n",
       "      <td>20211231</td>\n",
       "      <td>13</td>\n",
       "      <td>A03</td>\n",
       "      <td>0</td>\n",
       "      <td>28540.0</td>\n",
       "      <td>0</td>\n",
       "    </tr>\n",
       "  </tbody>\n",
       "</table>\n",
       "<p>1466562 rows × 7 columns</p>\n",
       "</div>"
      ],
      "text/plain": [
       "               cust     de_dt  de_hr cop_c  chnl_dv    buy_am  Lpay\n",
       "0        M000034966  20210116     18   A01        0  140200.0     0\n",
       "1        M000034966  20210116     21   A04        0   12000.0     0\n",
       "2        M000034966  20210325     13   A02        0   90500.0     0\n",
       "3        M000034966  20210328     21   A02        0   89560.0     0\n",
       "4        M000034966  20210629     13   A02        0   65700.0     0\n",
       "...             ...       ...    ...   ...      ...       ...   ...\n",
       "1466557  M999962961  20211223     17   D01        0    5900.0     0\n",
       "1466558  M999962961  20211230     16   A02        0    8000.0     1\n",
       "1466559  M999962961  20211230     17   A01        0   18000.0     0\n",
       "1466560  M999962961  20211230     17   A02        0   34900.0     0\n",
       "1466561  M999962961  20211231     13   A03        0   28540.0     0\n",
       "\n",
       "[1466562 rows x 7 columns]"
      ]
     },
     "execution_count": 31,
     "metadata": {},
     "output_type": "execute_result"
    }
   ],
   "source": [
    "#group1에 Lpay사용 여부 컬럼 추가\n",
    "group1=pd.merge(group1, max_Lpay, on=['cust','de_dt','de_hr','cop_c','chnl_dv'], how='left')\n",
    "group1"
   ]
  },
  {
   "cell_type": "code",
   "execution_count": 32,
   "metadata": {
    "ExecuteTime": {
     "end_time": "2022-08-12T09:38:51.928153Z",
     "start_time": "2022-08-12T09:38:51.526069Z"
    }
   },
   "outputs": [
    {
     "data": {
      "text/plain": [
       "cust       0\n",
       "de_dt      0\n",
       "de_hr      0\n",
       "cop_c      0\n",
       "chnl_dv    0\n",
       "buy_am     0\n",
       "Lpay       0\n",
       "dtype: int64"
      ]
     },
     "execution_count": 32,
     "metadata": {},
     "output_type": "execute_result"
    }
   ],
   "source": [
    "group1.isnull().sum()"
   ]
  },
  {
   "cell_type": "code",
   "execution_count": 33,
   "metadata": {
    "ExecuteTime": {
     "end_time": "2022-08-12T09:38:52.363261Z",
     "start_time": "2022-08-12T09:38:51.930165Z"
    }
   },
   "outputs": [
    {
     "name": "stdout",
     "output_type": "stream",
     "text": [
      "중복된 데이터의 개수 0\n",
      "중복되지 않은 데이터의 개수: 1466562\n"
     ]
    }
   ],
   "source": [
    "dup = group1.duplicated(['cust', 'de_dt', 'de_hr', 'cop_c', 'chnl_dv', 'buy_am','Lpay'])\n",
    "print('중복된 데이터의 개수',len(dup[dup==True]))\n",
    "print('중복되지 않은 데이터의 개수:',len(dup[dup==False]))"
   ]
  },
  {
   "cell_type": "code",
   "execution_count": 34,
   "metadata": {
    "ExecuteTime": {
     "end_time": "2022-08-12T09:39:04.115057Z",
     "start_time": "2022-08-12T09:38:52.367258Z"
    }
   },
   "outputs": [],
   "source": [
    "import datetime\n",
    "group1['date']=pd.to_datetime(group1.de_dt.apply(str)) #날짜 형태로 바꿈\n",
    "group1['hour'] = group1.de_hr.apply(lambda x: datetime.time(x))\n",
    "group1['date']=group1['date'].astype('str')\n",
    "group1['hour']=group1['hour'].astype('str')\n",
    "group1['Date&Hour']=group1['date']+' '+group1['hour']\n",
    "group1['Date&Hour']=pd.to_datetime(group1['Date&Hour'])"
   ]
  },
  {
   "cell_type": "code",
   "execution_count": 35,
   "metadata": {
    "ExecuteTime": {
     "end_time": "2022-08-12T09:39:04.144881Z",
     "start_time": "2022-08-12T09:39:04.117888Z"
    }
   },
   "outputs": [
    {
     "data": {
      "text/html": [
       "<div>\n",
       "<style scoped>\n",
       "    .dataframe tbody tr th:only-of-type {\n",
       "        vertical-align: middle;\n",
       "    }\n",
       "\n",
       "    .dataframe tbody tr th {\n",
       "        vertical-align: top;\n",
       "    }\n",
       "\n",
       "    .dataframe thead th {\n",
       "        text-align: right;\n",
       "    }\n",
       "</style>\n",
       "<table border=\"1\" class=\"dataframe\">\n",
       "  <thead>\n",
       "    <tr style=\"text-align: right;\">\n",
       "      <th></th>\n",
       "      <th>cust</th>\n",
       "      <th>de_dt</th>\n",
       "      <th>de_hr</th>\n",
       "      <th>cop_c</th>\n",
       "      <th>chnl_dv</th>\n",
       "      <th>buy_am</th>\n",
       "      <th>Lpay</th>\n",
       "      <th>date</th>\n",
       "      <th>hour</th>\n",
       "      <th>Date&amp;Hour</th>\n",
       "    </tr>\n",
       "  </thead>\n",
       "  <tbody>\n",
       "    <tr>\n",
       "      <th>0</th>\n",
       "      <td>M000034966</td>\n",
       "      <td>20210116</td>\n",
       "      <td>18</td>\n",
       "      <td>A01</td>\n",
       "      <td>0</td>\n",
       "      <td>140200.0</td>\n",
       "      <td>0</td>\n",
       "      <td>2021-01-16</td>\n",
       "      <td>18:00:00</td>\n",
       "      <td>2021-01-16 18:00:00</td>\n",
       "    </tr>\n",
       "    <tr>\n",
       "      <th>1</th>\n",
       "      <td>M000034966</td>\n",
       "      <td>20210116</td>\n",
       "      <td>21</td>\n",
       "      <td>A04</td>\n",
       "      <td>0</td>\n",
       "      <td>12000.0</td>\n",
       "      <td>0</td>\n",
       "      <td>2021-01-16</td>\n",
       "      <td>21:00:00</td>\n",
       "      <td>2021-01-16 21:00:00</td>\n",
       "    </tr>\n",
       "    <tr>\n",
       "      <th>2</th>\n",
       "      <td>M000034966</td>\n",
       "      <td>20210325</td>\n",
       "      <td>13</td>\n",
       "      <td>A02</td>\n",
       "      <td>0</td>\n",
       "      <td>90500.0</td>\n",
       "      <td>0</td>\n",
       "      <td>2021-03-25</td>\n",
       "      <td>13:00:00</td>\n",
       "      <td>2021-03-25 13:00:00</td>\n",
       "    </tr>\n",
       "    <tr>\n",
       "      <th>3</th>\n",
       "      <td>M000034966</td>\n",
       "      <td>20210328</td>\n",
       "      <td>21</td>\n",
       "      <td>A02</td>\n",
       "      <td>0</td>\n",
       "      <td>89560.0</td>\n",
       "      <td>0</td>\n",
       "      <td>2021-03-28</td>\n",
       "      <td>21:00:00</td>\n",
       "      <td>2021-03-28 21:00:00</td>\n",
       "    </tr>\n",
       "    <tr>\n",
       "      <th>4</th>\n",
       "      <td>M000034966</td>\n",
       "      <td>20210629</td>\n",
       "      <td>13</td>\n",
       "      <td>A02</td>\n",
       "      <td>0</td>\n",
       "      <td>65700.0</td>\n",
       "      <td>0</td>\n",
       "      <td>2021-06-29</td>\n",
       "      <td>13:00:00</td>\n",
       "      <td>2021-06-29 13:00:00</td>\n",
       "    </tr>\n",
       "  </tbody>\n",
       "</table>\n",
       "</div>"
      ],
      "text/plain": [
       "         cust     de_dt  de_hr cop_c  chnl_dv    buy_am  Lpay        date  \\\n",
       "0  M000034966  20210116     18   A01        0  140200.0     0  2021-01-16   \n",
       "1  M000034966  20210116     21   A04        0   12000.0     0  2021-01-16   \n",
       "2  M000034966  20210325     13   A02        0   90500.0     0  2021-03-25   \n",
       "3  M000034966  20210328     21   A02        0   89560.0     0  2021-03-28   \n",
       "4  M000034966  20210629     13   A02        0   65700.0     0  2021-06-29   \n",
       "\n",
       "       hour           Date&Hour  \n",
       "0  18:00:00 2021-01-16 18:00:00  \n",
       "1  21:00:00 2021-01-16 21:00:00  \n",
       "2  13:00:00 2021-03-25 13:00:00  \n",
       "3  21:00:00 2021-03-28 21:00:00  \n",
       "4  13:00:00 2021-06-29 13:00:00  "
      ]
     },
     "execution_count": 35,
     "metadata": {},
     "output_type": "execute_result"
    }
   ],
   "source": [
    "group1.head()"
   ]
  },
  {
   "cell_type": "code",
   "execution_count": 36,
   "metadata": {
    "ExecuteTime": {
     "end_time": "2022-08-12T09:39:05.078088Z",
     "start_time": "2022-08-12T09:39:04.147895Z"
    }
   },
   "outputs": [],
   "source": [
    "group1=group1.reset_index().sort_values(by=['cust','de_dt','de_hr','cop_c'], ascending=True).drop(columns='index',axis=1)"
   ]
  },
  {
   "cell_type": "code",
   "execution_count": 37,
   "metadata": {
    "ExecuteTime": {
     "end_time": "2022-08-12T09:39:05.093091Z",
     "start_time": "2022-08-12T09:39:05.080088Z"
    }
   },
   "outputs": [
    {
     "data": {
      "text/html": [
       "<div>\n",
       "<style scoped>\n",
       "    .dataframe tbody tr th:only-of-type {\n",
       "        vertical-align: middle;\n",
       "    }\n",
       "\n",
       "    .dataframe tbody tr th {\n",
       "        vertical-align: top;\n",
       "    }\n",
       "\n",
       "    .dataframe thead th {\n",
       "        text-align: right;\n",
       "    }\n",
       "</style>\n",
       "<table border=\"1\" class=\"dataframe\">\n",
       "  <thead>\n",
       "    <tr style=\"text-align: right;\">\n",
       "      <th></th>\n",
       "      <th>cust</th>\n",
       "      <th>de_dt</th>\n",
       "      <th>de_hr</th>\n",
       "      <th>cop_c</th>\n",
       "      <th>chnl_dv</th>\n",
       "      <th>buy_am</th>\n",
       "      <th>Lpay</th>\n",
       "      <th>date</th>\n",
       "      <th>hour</th>\n",
       "      <th>Date&amp;Hour</th>\n",
       "    </tr>\n",
       "  </thead>\n",
       "  <tbody>\n",
       "    <tr>\n",
       "      <th>0</th>\n",
       "      <td>M000034966</td>\n",
       "      <td>20210116</td>\n",
       "      <td>18</td>\n",
       "      <td>A01</td>\n",
       "      <td>0</td>\n",
       "      <td>140200.0</td>\n",
       "      <td>0</td>\n",
       "      <td>2021-01-16</td>\n",
       "      <td>18:00:00</td>\n",
       "      <td>2021-01-16 18:00:00</td>\n",
       "    </tr>\n",
       "    <tr>\n",
       "      <th>1</th>\n",
       "      <td>M000034966</td>\n",
       "      <td>20210116</td>\n",
       "      <td>21</td>\n",
       "      <td>A04</td>\n",
       "      <td>0</td>\n",
       "      <td>12000.0</td>\n",
       "      <td>0</td>\n",
       "      <td>2021-01-16</td>\n",
       "      <td>21:00:00</td>\n",
       "      <td>2021-01-16 21:00:00</td>\n",
       "    </tr>\n",
       "    <tr>\n",
       "      <th>2</th>\n",
       "      <td>M000034966</td>\n",
       "      <td>20210325</td>\n",
       "      <td>13</td>\n",
       "      <td>A02</td>\n",
       "      <td>0</td>\n",
       "      <td>90500.0</td>\n",
       "      <td>0</td>\n",
       "      <td>2021-03-25</td>\n",
       "      <td>13:00:00</td>\n",
       "      <td>2021-03-25 13:00:00</td>\n",
       "    </tr>\n",
       "    <tr>\n",
       "      <th>3</th>\n",
       "      <td>M000034966</td>\n",
       "      <td>20210328</td>\n",
       "      <td>21</td>\n",
       "      <td>A02</td>\n",
       "      <td>0</td>\n",
       "      <td>89560.0</td>\n",
       "      <td>0</td>\n",
       "      <td>2021-03-28</td>\n",
       "      <td>21:00:00</td>\n",
       "      <td>2021-03-28 21:00:00</td>\n",
       "    </tr>\n",
       "    <tr>\n",
       "      <th>4</th>\n",
       "      <td>M000034966</td>\n",
       "      <td>20210629</td>\n",
       "      <td>13</td>\n",
       "      <td>A02</td>\n",
       "      <td>0</td>\n",
       "      <td>65700.0</td>\n",
       "      <td>0</td>\n",
       "      <td>2021-06-29</td>\n",
       "      <td>13:00:00</td>\n",
       "      <td>2021-06-29 13:00:00</td>\n",
       "    </tr>\n",
       "  </tbody>\n",
       "</table>\n",
       "</div>"
      ],
      "text/plain": [
       "         cust     de_dt  de_hr cop_c  chnl_dv    buy_am  Lpay        date  \\\n",
       "0  M000034966  20210116     18   A01        0  140200.0     0  2021-01-16   \n",
       "1  M000034966  20210116     21   A04        0   12000.0     0  2021-01-16   \n",
       "2  M000034966  20210325     13   A02        0   90500.0     0  2021-03-25   \n",
       "3  M000034966  20210328     21   A02        0   89560.0     0  2021-03-28   \n",
       "4  M000034966  20210629     13   A02        0   65700.0     0  2021-06-29   \n",
       "\n",
       "       hour           Date&Hour  \n",
       "0  18:00:00 2021-01-16 18:00:00  \n",
       "1  21:00:00 2021-01-16 21:00:00  \n",
       "2  13:00:00 2021-03-25 13:00:00  \n",
       "3  21:00:00 2021-03-28 21:00:00  \n",
       "4  13:00:00 2021-06-29 13:00:00  "
      ]
     },
     "execution_count": 37,
     "metadata": {},
     "output_type": "execute_result"
    }
   ],
   "source": [
    "group1.head()"
   ]
  },
  {
   "cell_type": "markdown",
   "metadata": {},
   "source": [
    "### first extend"
   ]
  },
  {
   "cell_type": "code",
   "execution_count": 38,
   "metadata": {
    "ExecuteTime": {
     "end_time": "2022-08-12T10:16:40.631918Z",
     "start_time": "2022-08-12T09:39:05.095092Z"
    }
   },
   "outputs": [],
   "source": [
    "L1=[]\n",
    "L2=[]\n",
    "N1=[]\n",
    "M1=[]\n",
    "MoreThanOne=[]\n",
    "T2=[]\n",
    "C2=[]\n",
    "P2=[]\n",
    "for i in group1.cust.unique():\n",
    "    group2=group1.loc[group1['cust'] == i].reset_index().sort_values(by=['de_dt','de_hr'], ascending=True).drop(columns='index',axis=1)\n",
    "    first_cop=group2.loc[0,'cop_c']\n",
    "    cnt=1\n",
    "    amount=group2.loc[0,'buy_am']\n",
    "    time=group2.loc[0,'Date&Hour']\n",
    "    C1=[]\n",
    "    C1.append(group2.loc[0,'chnl_dv'])\n",
    "    T1=[]\n",
    "    P1=[]\n",
    "    P1.append(group2.loc[0,'Lpay'])\n",
    "    \n",
    "    for n in range(1,len(group2)):\n",
    "        if first_cop==group2.loc[n,'cop_c']:\n",
    "            cnt+=1\n",
    "            amount+=group2.loc[n,'buy_am']\n",
    "            C1.append(group2.loc[n,'chnl_dv'])\n",
    "            T1.append(group2.loc[n,'Date&Hour']-time)\n",
    "            time=group2.loc[n,'Date&Hour']\n",
    "            P1.append(group2.loc[n,'Lpay'])\n",
    "        else:\n",
    "            second_cop=group2.loc[n,'cop_c']\n",
    "            L1.append(first_cop)\n",
    "            N1.append(cnt)\n",
    "            L2.append(second_cop)\n",
    "            M1.append(amount)\n",
    "            MoreThanOne.append(i)\n",
    "            C2.append(np.mean(C1))\n",
    "            P2.append(max(P1))\n",
    "            if len(T1)>0:\n",
    "                T2.append(pd.Series(T1).mean())\n",
    "            else:\n",
    "                T2.append('1번 구매')\n",
    "            break"
   ]
  },
  {
   "cell_type": "code",
   "execution_count": 39,
   "metadata": {
    "ExecuteTime": {
     "end_time": "2022-08-12T10:16:40.706918Z",
     "start_time": "2022-08-12T10:16:40.634919Z"
    }
   },
   "outputs": [],
   "source": [
    "#유통사간 확장이 한번 이상 일어난 고객들\n",
    "계속된확장1=pd.DataFrame({'cust':MoreThanOne,'first_cop':L1,'first_cnt':N1,'second_cop':L2, 'buy_am':M1,'online_prefer':C2, 'cycle':T2,'Lpay':P2})"
   ]
  },
  {
   "cell_type": "code",
   "execution_count": 40,
   "metadata": {
    "ExecuteTime": {
     "end_time": "2022-08-12T10:16:40.736971Z",
     "start_time": "2022-08-12T10:16:40.708925Z"
    }
   },
   "outputs": [
    {
     "data": {
      "text/html": [
       "<div>\n",
       "<style scoped>\n",
       "    .dataframe tbody tr th:only-of-type {\n",
       "        vertical-align: middle;\n",
       "    }\n",
       "\n",
       "    .dataframe tbody tr th {\n",
       "        vertical-align: top;\n",
       "    }\n",
       "\n",
       "    .dataframe thead th {\n",
       "        text-align: right;\n",
       "    }\n",
       "</style>\n",
       "<table border=\"1\" class=\"dataframe\">\n",
       "  <thead>\n",
       "    <tr style=\"text-align: right;\">\n",
       "      <th></th>\n",
       "      <th>cust</th>\n",
       "      <th>first_cop</th>\n",
       "      <th>first_cnt</th>\n",
       "      <th>second_cop</th>\n",
       "      <th>buy_am</th>\n",
       "      <th>online_prefer</th>\n",
       "      <th>cycle</th>\n",
       "      <th>Lpay</th>\n",
       "    </tr>\n",
       "  </thead>\n",
       "  <tbody>\n",
       "    <tr>\n",
       "      <th>0</th>\n",
       "      <td>M000034966</td>\n",
       "      <td>A01</td>\n",
       "      <td>1</td>\n",
       "      <td>A04</td>\n",
       "      <td>140200.0</td>\n",
       "      <td>0.0</td>\n",
       "      <td>1번 구매</td>\n",
       "      <td>0</td>\n",
       "    </tr>\n",
       "    <tr>\n",
       "      <th>1</th>\n",
       "      <td>M000136117</td>\n",
       "      <td>A02</td>\n",
       "      <td>1</td>\n",
       "      <td>A06</td>\n",
       "      <td>24700.0</td>\n",
       "      <td>1.0</td>\n",
       "      <td>1번 구매</td>\n",
       "      <td>0</td>\n",
       "    </tr>\n",
       "    <tr>\n",
       "      <th>2</th>\n",
       "      <td>M000225114</td>\n",
       "      <td>A01</td>\n",
       "      <td>4</td>\n",
       "      <td>A03</td>\n",
       "      <td>82580.0</td>\n",
       "      <td>0.0</td>\n",
       "      <td>1 days 19:20:00</td>\n",
       "      <td>0</td>\n",
       "    </tr>\n",
       "    <tr>\n",
       "      <th>3</th>\n",
       "      <td>M000261625</td>\n",
       "      <td>A01</td>\n",
       "      <td>3</td>\n",
       "      <td>D01</td>\n",
       "      <td>441700.0</td>\n",
       "      <td>0.0</td>\n",
       "      <td>20 days 22:00:00</td>\n",
       "      <td>0</td>\n",
       "    </tr>\n",
       "    <tr>\n",
       "      <th>4</th>\n",
       "      <td>M000419293</td>\n",
       "      <td>L01</td>\n",
       "      <td>2</td>\n",
       "      <td>A01</td>\n",
       "      <td>188174.0</td>\n",
       "      <td>1.0</td>\n",
       "      <td>2 days 15:00:00</td>\n",
       "      <td>1</td>\n",
       "    </tr>\n",
       "  </tbody>\n",
       "</table>\n",
       "</div>"
      ],
      "text/plain": [
       "         cust first_cop  first_cnt second_cop    buy_am  online_prefer  \\\n",
       "0  M000034966       A01          1        A04  140200.0            0.0   \n",
       "1  M000136117       A02          1        A06   24700.0            1.0   \n",
       "2  M000225114       A01          4        A03   82580.0            0.0   \n",
       "3  M000261625       A01          3        D01  441700.0            0.0   \n",
       "4  M000419293       L01          2        A01  188174.0            1.0   \n",
       "\n",
       "              cycle  Lpay  \n",
       "0             1번 구매     0  \n",
       "1             1번 구매     0  \n",
       "2   1 days 19:20:00     0  \n",
       "3  20 days 22:00:00     0  \n",
       "4   2 days 15:00:00     1  "
      ]
     },
     "execution_count": 40,
     "metadata": {},
     "output_type": "execute_result"
    }
   ],
   "source": [
    "계속된확장1.head()"
   ]
  },
  {
   "cell_type": "markdown",
   "metadata": {},
   "source": [
    "### several extend"
   ]
  },
  {
   "cell_type": "code",
   "execution_count": null,
   "metadata": {
    "ExecuteTime": {
     "start_time": "2022-08-12T11:47:48.597Z"
    }
   },
   "outputs": [],
   "source": [
    "L1=[]\n",
    "L2=[]\n",
    "N1=[]\n",
    "M1=[]\n",
    "MoreThanOne=[]\n",
    "T2=[]\n",
    "C2=[]\n",
    "P2=[]\n",
    "for i in group1.cust.unique():\n",
    "    group2=group1.loc[group1['cust'] == i].reset_index().sort_values(by=['de_dt','de_hr'], ascending=True).drop(columns='index',axis=1)\n",
    "    first_cop=group2.loc[0,'cop_c']\n",
    "    cnt=1\n",
    "    amount=group2.loc[0,'buy_am']\n",
    "    time=group2.loc[0,'Date&Hour']\n",
    "    C1=[]\n",
    "    C1.append(group2.loc[0,'chnl_dv'])\n",
    "    T1=[]\n",
    "    P1=[]\n",
    "    P1.append(group2.loc[0,'Lpay'])\n",
    "    L3=[]\n",
    "    L3.append(first_cop)\n",
    "    \n",
    "    for n in range(1,len(group2)):\n",
    "        if first_cop==group2.loc[n,'cop_c']:\n",
    "            cnt+=1\n",
    "            amount+=group2.loc[n,'buy_am']\n",
    "            C1.append(group2.loc[n,'chnl_dv'])\n",
    "            T1.append(group2.loc[n,'Date&Hour']-time)\n",
    "            time=group2.loc[n,'Date&Hour']\n",
    "            P1.append(group2.loc[n,'Lpay'])\n",
    "        elif first_cop!=group2.loc[n,'cop_c']:\n",
    "            if group2.loc[n,'cop_c'] not in L3:\n",
    "                second_cop=group2.loc[n,'cop_c']\n",
    "                L3.append(second_cop)\n",
    "                L1.append(first_cop)\n",
    "                N1.append(cnt)\n",
    "                L2.append(second_cop)\n",
    "                M1.append(amount)\n",
    "                MoreThanOne.append(i)\n",
    "                C2.append(np.mean(C1))\n",
    "                P2.append(max(P1))\n",
    "                if len(T1)>0:\n",
    "                    T2.append(pd.Series(T1).mean())\n",
    "                else:\n",
    "                    T2.append('1번 구매')\n",
    "                first_cop=second_cop\n",
    "                C1=[]\n",
    "                C1.append(group2.loc[n,'chnl_dv'])\n",
    "                T1=[]\n",
    "                P1=[]\n",
    "                P1.append(group2.loc[n,'Lpay'])\n",
    "                amount=group2.loc[n,'buy_am']\n",
    "                time=group2.loc[n,'Date&Hour']\n",
    "                cnt=1\n",
    "            else:\n",
    "                break"
   ]
  },
  {
   "cell_type": "code",
   "execution_count": null,
   "metadata": {
    "ExecuteTime": {
     "start_time": "2022-08-12T11:47:49.386Z"
    }
   },
   "outputs": [],
   "source": [
    "#유통사간 확장이 한번 이상 일어난 고객들\n",
    "계속된확장2=pd.DataFrame({'cust':MoreThanOne,'first_cop':L1,'first_cnt':N1,'second_cop':L2, 'buy_am':M1,'online_prefer':C2, 'cycle':T2,'Lpay':P2})"
   ]
  },
  {
   "cell_type": "code",
   "execution_count": null,
   "metadata": {
    "ExecuteTime": {
     "start_time": "2022-08-12T11:47:49.749Z"
    }
   },
   "outputs": [],
   "source": [
    "계속된확장2.head()"
   ]
  },
  {
   "cell_type": "markdown",
   "metadata": {},
   "source": [
    "## merge"
   ]
  },
  {
   "cell_type": "code",
   "execution_count": 42,
   "metadata": {
    "ExecuteTime": {
     "end_time": "2022-08-12T11:14:56.068228Z",
     "start_time": "2022-08-12T11:14:55.839008Z"
    }
   },
   "outputs": [
    {
     "data": {
      "text/html": [
       "<div>\n",
       "<style scoped>\n",
       "    .dataframe tbody tr th:only-of-type {\n",
       "        vertical-align: middle;\n",
       "    }\n",
       "\n",
       "    .dataframe tbody tr th {\n",
       "        vertical-align: top;\n",
       "    }\n",
       "\n",
       "    .dataframe thead th {\n",
       "        text-align: right;\n",
       "    }\n",
       "</style>\n",
       "<table border=\"1\" class=\"dataframe\">\n",
       "  <thead>\n",
       "    <tr style=\"text-align: right;\">\n",
       "      <th></th>\n",
       "      <th>cust</th>\n",
       "      <th>first_cop</th>\n",
       "      <th>first_cnt</th>\n",
       "      <th>second_cop</th>\n",
       "      <th>buy_am</th>\n",
       "      <th>online_prefer</th>\n",
       "      <th>cycle</th>\n",
       "      <th>Lpay</th>\n",
       "      <th>pd_c</th>\n",
       "      <th>clac_hlv_nm</th>\n",
       "      <th>clac_mcls_nm</th>\n",
       "      <th>br_c</th>\n",
       "      <th>ma_fem_dv</th>\n",
       "      <th>ages</th>\n",
       "      <th>zon_hlv</th>\n",
       "    </tr>\n",
       "  </thead>\n",
       "  <tbody>\n",
       "    <tr>\n",
       "      <th>0</th>\n",
       "      <td>M000034966</td>\n",
       "      <td>A01</td>\n",
       "      <td>1</td>\n",
       "      <td>A04</td>\n",
       "      <td>140200.0</td>\n",
       "      <td>0.0</td>\n",
       "      <td>1번 구매</td>\n",
       "      <td>0</td>\n",
       "      <td>[PD0777, PD0796, PD0816]</td>\n",
       "      <td>[스포츠패션, 스포츠패션, 스포츠패션]</td>\n",
       "      <td>[남성스포츠화, 스포츠잡화, 여성스포츠화]</td>\n",
       "      <td>[A010045, A010045, A010045]</td>\n",
       "      <td>여성</td>\n",
       "      <td>40대</td>\n",
       "      <td>Z07</td>\n",
       "    </tr>\n",
       "    <tr>\n",
       "      <th>1</th>\n",
       "      <td>M000136117</td>\n",
       "      <td>A02</td>\n",
       "      <td>1</td>\n",
       "      <td>A06</td>\n",
       "      <td>24700.0</td>\n",
       "      <td>1.0</td>\n",
       "      <td>1번 구매</td>\n",
       "      <td>0</td>\n",
       "      <td>[PD0601, PD1164, PD1847]</td>\n",
       "      <td>[세제/위생, 음료, 퍼스널케어]</td>\n",
       "      <td>[세탁세제, 과채음료, 여성위생용품]</td>\n",
       "      <td>[A0200000, A0200000, A0200000]</td>\n",
       "      <td>여성</td>\n",
       "      <td>30대</td>\n",
       "      <td>Z11</td>\n",
       "    </tr>\n",
       "    <tr>\n",
       "      <th>2</th>\n",
       "      <td>M000225114</td>\n",
       "      <td>A01</td>\n",
       "      <td>4</td>\n",
       "      <td>A03</td>\n",
       "      <td>82580.0</td>\n",
       "      <td>0.0</td>\n",
       "      <td>1 days 19:20:00</td>\n",
       "      <td>0</td>\n",
       "      <td>[PD0232, PD1170, PD1685, PD1684, PD0326, PD168...</td>\n",
       "      <td>[과자, 음료, 테넌트/음식점, 테넌트/음식점, 냉동식품, 테넌트/음식점, 과자, ...</td>\n",
       "      <td>[스낵류, 기능성음료, 식당, 식당, 냉동간편식, 식당, 사탕/캔디, 디저트, 스낵류]</td>\n",
       "      <td>[A010011, A010011, A010011, A010011, A010011, ...</td>\n",
       "      <td>여성</td>\n",
       "      <td>40대</td>\n",
       "      <td>Z17</td>\n",
       "    </tr>\n",
       "    <tr>\n",
       "      <th>3</th>\n",
       "      <td>M000261625</td>\n",
       "      <td>A01</td>\n",
       "      <td>3</td>\n",
       "      <td>D01</td>\n",
       "      <td>441700.0</td>\n",
       "      <td>0.0</td>\n",
       "      <td>20 days 22:00:00</td>\n",
       "      <td>0</td>\n",
       "      <td>[PD1919, PD1919, PD1922, PD1824, PD1839, PD168...</td>\n",
       "      <td>[화장품/뷰티케어, 화장품/뷰티케어, 화장품/뷰티케어, 패션잡화, 퍼스널케어, 테넌...</td>\n",
       "      <td>[스킨케어, 스킨케어, 스킨케어, 패션액세서리, 바디케어, 식당, 여성속옷, 와인]</td>\n",
       "      <td>[A010017, A010017, A010017, A010017, A010017, ...</td>\n",
       "      <td>여성</td>\n",
       "      <td>40대</td>\n",
       "      <td>Z17</td>\n",
       "    </tr>\n",
       "    <tr>\n",
       "      <th>4</th>\n",
       "      <td>M000419293</td>\n",
       "      <td>L01</td>\n",
       "      <td>2</td>\n",
       "      <td>A01</td>\n",
       "      <td>188174.0</td>\n",
       "      <td>1.0</td>\n",
       "      <td>2 days 15:00:00</td>\n",
       "      <td>1</td>\n",
       "      <td>[L01, L01]</td>\n",
       "      <td>[L01, L01]</td>\n",
       "      <td>[L01, L01]</td>\n",
       "      <td>[L0100000, L0100000]</td>\n",
       "      <td>여성</td>\n",
       "      <td>40대</td>\n",
       "      <td>Z17</td>\n",
       "    </tr>\n",
       "  </tbody>\n",
       "</table>\n",
       "</div>"
      ],
      "text/plain": [
       "         cust first_cop  first_cnt second_cop    buy_am  online_prefer  \\\n",
       "0  M000034966       A01          1        A04  140200.0            0.0   \n",
       "1  M000136117       A02          1        A06   24700.0            1.0   \n",
       "2  M000225114       A01          4        A03   82580.0            0.0   \n",
       "3  M000261625       A01          3        D01  441700.0            0.0   \n",
       "4  M000419293       L01          2        A01  188174.0            1.0   \n",
       "\n",
       "              cycle  Lpay                                               pd_c  \\\n",
       "0             1번 구매     0                           [PD0777, PD0796, PD0816]   \n",
       "1             1번 구매     0                           [PD0601, PD1164, PD1847]   \n",
       "2   1 days 19:20:00     0  [PD0232, PD1170, PD1685, PD1684, PD0326, PD168...   \n",
       "3  20 days 22:00:00     0  [PD1919, PD1919, PD1922, PD1824, PD1839, PD168...   \n",
       "4   2 days 15:00:00     1                                         [L01, L01]   \n",
       "\n",
       "                                         clac_hlv_nm  \\\n",
       "0                              [스포츠패션, 스포츠패션, 스포츠패션]   \n",
       "1                                 [세제/위생, 음료, 퍼스널케어]   \n",
       "2  [과자, 음료, 테넌트/음식점, 테넌트/음식점, 냉동식품, 테넌트/음식점, 과자, ...   \n",
       "3  [화장품/뷰티케어, 화장품/뷰티케어, 화장품/뷰티케어, 패션잡화, 퍼스널케어, 테넌...   \n",
       "4                                         [L01, L01]   \n",
       "\n",
       "                                       clac_mcls_nm  \\\n",
       "0                           [남성스포츠화, 스포츠잡화, 여성스포츠화]   \n",
       "1                              [세탁세제, 과채음료, 여성위생용품]   \n",
       "2  [스낵류, 기능성음료, 식당, 식당, 냉동간편식, 식당, 사탕/캔디, 디저트, 스낵류]   \n",
       "3    [스킨케어, 스킨케어, 스킨케어, 패션액세서리, 바디케어, 식당, 여성속옷, 와인]   \n",
       "4                                        [L01, L01]   \n",
       "\n",
       "                                                br_c ma_fem_dv ages zon_hlv  \n",
       "0                        [A010045, A010045, A010045]        여성  40대     Z07  \n",
       "1                     [A0200000, A0200000, A0200000]        여성  30대     Z11  \n",
       "2  [A010011, A010011, A010011, A010011, A010011, ...        여성  40대     Z17  \n",
       "3  [A010017, A010017, A010017, A010017, A010017, ...        여성  40대     Z17  \n",
       "4                               [L0100000, L0100000]        여성  40대     Z17  "
      ]
     },
     "execution_count": 42,
     "metadata": {},
     "output_type": "execute_result"
    }
   ],
   "source": [
    "one_extend=pd.merge(계속된확장1,계속된상품1, on=['cust'],how='left')\n",
    "one_extend=pd.merge(one_extend, data1, on='cust',how='left')\n",
    "one_extend.head()"
   ]
  },
  {
   "cell_type": "code",
   "execution_count": 45,
   "metadata": {
    "ExecuteTime": {
     "end_time": "2022-08-12T11:15:56.336486Z",
     "start_time": "2022-08-12T11:15:56.317476Z"
    }
   },
   "outputs": [
    {
     "data": {
      "text/plain": [
       "24480"
      ]
     },
     "execution_count": 45,
     "metadata": {},
     "output_type": "execute_result"
    }
   ],
   "source": [
    "len(one_extend)"
   ]
  },
  {
   "cell_type": "code",
   "execution_count": 43,
   "metadata": {
    "ExecuteTime": {
     "end_time": "2022-08-12T11:15:07.119278Z",
     "start_time": "2022-08-12T11:15:07.060264Z"
    }
   },
   "outputs": [
    {
     "data": {
      "text/plain": [
       "cust             0\n",
       "first_cop        0\n",
       "first_cnt        0\n",
       "second_cop       0\n",
       "buy_am           0\n",
       "online_prefer    0\n",
       "cycle            0\n",
       "Lpay             0\n",
       "pd_c             0\n",
       "clac_hlv_nm      0\n",
       "clac_mcls_nm     0\n",
       "br_c             0\n",
       "ma_fem_dv        0\n",
       "ages             0\n",
       "zon_hlv          0\n",
       "dtype: int64"
      ]
     },
     "execution_count": 43,
     "metadata": {},
     "output_type": "execute_result"
    }
   ],
   "source": [
    "one_extend.isnull().sum()"
   ]
  },
  {
   "cell_type": "code",
   "execution_count": 46,
   "metadata": {
    "ExecuteTime": {
     "end_time": "2022-08-12T11:16:08.722108Z",
     "start_time": "2022-08-12T11:16:08.710841Z"
    }
   },
   "outputs": [
    {
     "data": {
      "text/plain": [
       "24480"
      ]
     },
     "execution_count": 46,
     "metadata": {},
     "output_type": "execute_result"
    }
   ],
   "source": [
    "len(계속된상품1)"
   ]
  },
  {
   "cell_type": "code",
   "execution_count": 44,
   "metadata": {
    "ExecuteTime": {
     "end_time": "2022-08-12T11:15:46.194968Z",
     "start_time": "2022-08-12T11:15:46.181897Z"
    }
   },
   "outputs": [
    {
     "data": {
      "text/plain": [
       "24480"
      ]
     },
     "execution_count": 44,
     "metadata": {},
     "output_type": "execute_result"
    }
   ],
   "source": [
    "len(계속된확장1)"
   ]
  },
  {
   "cell_type": "code",
   "execution_count": null,
   "metadata": {
    "ExecuteTime": {
     "start_time": "2022-08-12T06:11:19.535Z"
    }
   },
   "outputs": [],
   "source": [
    "several_extend=pd.merge(계속된확장2,계속된상품2, on=['cust','first_cop','second_cop'],how='left')\n",
    "several_extend=pd.merge(several_extend, data1, on='cust',how='left')\n",
    "several_extend.head()"
   ]
  },
  {
   "cell_type": "markdown",
   "metadata": {},
   "source": [
    "## 추가 데이터 전처리\n",
    "### 첫제휴사 횟수"
   ]
  },
  {
   "cell_type": "code",
   "execution_count": 47,
   "metadata": {
    "ExecuteTime": {
     "end_time": "2022-08-12T11:16:12.359902Z",
     "start_time": "2022-08-12T11:16:12.349885Z"
    }
   },
   "outputs": [],
   "source": [
    "cop_list1 = list(one_extend.first_cop.unique())\n",
    "for cop in cop_list1:\n",
    "    one_extend[cop] = 0"
   ]
  },
  {
   "cell_type": "code",
   "execution_count": null,
   "metadata": {
    "ExecuteTime": {
     "start_time": "2022-08-12T11:47:54.016Z"
    }
   },
   "outputs": [],
   "source": [
    "cop_list2 = list(several_extend.first_cop.unique())\n",
    "for cop in cop_list2:\n",
    "    several_extend[cop] = 0"
   ]
  },
  {
   "cell_type": "code",
   "execution_count": 48,
   "metadata": {
    "ExecuteTime": {
     "end_time": "2022-08-12T11:17:00.757013Z",
     "start_time": "2022-08-12T11:16:19.116792Z"
    }
   },
   "outputs": [],
   "source": [
    "for i in one_extend.values:\n",
    "    one_extend.loc[one_extend.cust == i[0], i[1]] = i[2]"
   ]
  },
  {
   "cell_type": "code",
   "execution_count": null,
   "metadata": {
    "ExecuteTime": {
     "start_time": "2022-08-12T11:47:56.349Z"
    }
   },
   "outputs": [],
   "source": [
    "for i in several_extend.values:\n",
    "    several_extend.loc[several_extend.cust == i[0], i[1]] = i[2]"
   ]
  },
  {
   "cell_type": "markdown",
   "metadata": {},
   "source": [
    "### 주기"
   ]
  },
  {
   "cell_type": "code",
   "execution_count": 49,
   "metadata": {
    "ExecuteTime": {
     "end_time": "2022-08-12T11:17:02.492547Z",
     "start_time": "2022-08-12T11:17:00.759015Z"
    }
   },
   "outputs": [],
   "source": [
    "one_extend.cycle=one_extend.cycle.astype('str')\n",
    "one_extend['cycle_days']=0\n",
    "for i in range(len(one_extend)):\n",
    "    one_extend.loc[i,'cycle_days']=one_extend.cycle[i].split()[0]"
   ]
  },
  {
   "cell_type": "code",
   "execution_count": null,
   "metadata": {
    "ExecuteTime": {
     "start_time": "2022-08-12T11:47:59.449Z"
    }
   },
   "outputs": [],
   "source": [
    "several_extend.cycle=several_extend.cycle.astype('str')\n",
    "several_extend['cycle_days']=0\n",
    "for i in range(len(several_extend)):\n",
    "    several_extend.loc[i,'cycle_days']=several_extend.cycle[i].split()[0]"
   ]
  },
  {
   "cell_type": "code",
   "execution_count": 50,
   "metadata": {
    "ExecuteTime": {
     "end_time": "2022-08-12T11:17:02.537587Z",
     "start_time": "2022-08-12T11:17:02.494535Z"
    }
   },
   "outputs": [],
   "source": [
    "one_extend.loc[:,['cycle_days']]=one_extend.loc[:,['cycle_days']].replace('1번',365)\n",
    "one_extend.loc[:,['cycle_days']]=one_extend.loc[:,['cycle_days']].astype('int')"
   ]
  },
  {
   "cell_type": "code",
   "execution_count": null,
   "metadata": {
    "ExecuteTime": {
     "start_time": "2022-08-12T11:48:02.316Z"
    }
   },
   "outputs": [],
   "source": [
    "several_extend.loc[:,['cycle_days']]=several_extend.loc[:,['cycle_days']].replace('1번',365)\n",
    "several_extend.loc[:,['cycle_days']]=several_extend.loc[:,['cycle_days']].astype('int')"
   ]
  },
  {
   "cell_type": "markdown",
   "metadata": {},
   "source": [
    "## 평균 구매금액"
   ]
  },
  {
   "cell_type": "code",
   "execution_count": 51,
   "metadata": {
    "ExecuteTime": {
     "end_time": "2022-08-12T11:17:03.305636Z",
     "start_time": "2022-08-12T11:17:02.540569Z"
    }
   },
   "outputs": [],
   "source": [
    "#첫 번째 계열사에서의 총구매금액을 첫번째 계열사를 간 횟수로 나눔\n",
    "one_extend['avg_buy_am']=one_extend['buy_am']/one_extend['first_cnt']\n",
    "one_extend['log_avg_buy_am']=np.log1p(one_extend.avg_buy_am)\n",
    "one_extend.to_csv('one_extend.csv')"
   ]
  },
  {
   "cell_type": "code",
   "execution_count": null,
   "metadata": {
    "ExecuteTime": {
     "start_time": "2022-08-12T11:48:05.352Z"
    }
   },
   "outputs": [],
   "source": [
    "#첫 번째 계열사에서의 총구매금액을 첫번째 계열사를 간 횟수로 나눔\n",
    "several_extend['avg_buy_am']=several_extend['buy_am']/several_extend['first_cnt']\n",
    "several_extend['log_avg_buy_am']=np.log1p(several_extend.avg_buy_am)\n",
    "several_extend.to_csv('several_extend.csv')"
   ]
  },
  {
   "cell_type": "code",
   "execution_count": null,
   "metadata": {},
   "outputs": [],
   "source": []
  },
  {
   "cell_type": "code",
   "execution_count": null,
   "metadata": {},
   "outputs": [],
   "source": []
  },
  {
   "cell_type": "code",
   "execution_count": null,
   "metadata": {},
   "outputs": [],
   "source": []
  }
 ],
 "metadata": {
  "kernelspec": {
   "display_name": "Python 3",
   "language": "python",
   "name": "python3"
  },
  "language_info": {
   "codemirror_mode": {
    "name": "ipython",
    "version": 3
   },
   "file_extension": ".py",
   "mimetype": "text/x-python",
   "name": "python",
   "nbconvert_exporter": "python",
   "pygments_lexer": "ipython3",
   "version": "3.8.5"
  },
  "toc": {
   "base_numbering": 1,
   "nav_menu": {},
   "number_sections": true,
   "sideBar": true,
   "skip_h1_title": false,
   "title_cell": "Table of Contents",
   "title_sidebar": "Contents",
   "toc_cell": false,
   "toc_position": {
    "height": "calc(100% - 180px)",
    "left": "10px",
    "top": "150px",
    "width": "213.797px"
   },
   "toc_section_display": true,
   "toc_window_display": true
  }
 },
 "nbformat": 4,
 "nbformat_minor": 5
}
