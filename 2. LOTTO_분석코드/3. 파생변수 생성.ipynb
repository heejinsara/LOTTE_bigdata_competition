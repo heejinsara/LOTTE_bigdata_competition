{
 "cells": [
  {
   "cell_type": "code",
   "execution_count": 3,
   "metadata": {
    "ExecuteTime": {
     "end_time": "2022-08-11T06:25:25.902939Z",
     "start_time": "2022-08-11T06:25:24.549194Z"
    }
   },
   "outputs": [],
   "source": [
    "import numpy as np\n",
    "import pandas as pd\n",
    "import matplotlib.pyplot as plt\n",
    "import matplotlib.style as style\n",
    "%matplotlib inline\n",
    "import seaborn as sns\n",
    "\n",
    "style.use(\"fivethirtyeight\")\n",
    "style.use(\"seaborn-talk\")\n",
    "#plt.rcParams['font.family'] = 'serif'\n",
    "\n",
    "import warnings\n",
    "warnings.filterwarnings('ignore')"
   ]
  },
  {
   "cell_type": "code",
   "execution_count": 1,
   "metadata": {
    "ExecuteTime": {
     "end_time": "2022-08-11T06:25:25.917949Z",
     "start_time": "2022-08-11T06:25:25.905944Z"
    }
   },
   "outputs": [
    {
     "data": {
      "text/plain": [
       "['data1.csv', 'data2.csv', 'data3.csv', 'data4.csv', 'data5.csv', 'data6.csv']"
      ]
     },
     "execution_count": 1,
     "metadata": {},
     "output_type": "execute_result"
    }
   ],
   "source": [
    "import os\n",
    "os.listdir(\"../3. LOTTO_데이터 및 모델 세이브 파일/data_preprocessing\")"
   ]
  },
  {
   "cell_type": "code",
   "execution_count": 3,
   "metadata": {
    "ExecuteTime": {
     "end_time": "2022-08-11T06:25:30.895424Z",
     "start_time": "2022-08-11T06:25:25.922945Z"
    }
   },
   "outputs": [],
   "source": [
    "for i, file in enumerate(os.listdir(\"../3. LOTTO_데이터 및 모델 세이브 파일/data_preprocessing\")):\n",
    "    globals()[f'data{i+1}'] = pd.read_csv(\"../3. LOTTO_데이터 및 모델 세이브 파일/data_preprocessing/\"+file,index_col=0)"
   ]
  },
  {
   "cell_type": "code",
   "execution_count": 4,
   "metadata": {
    "ExecuteTime": {
     "end_time": "2022-08-11T06:25:30.911422Z",
     "start_time": "2022-08-11T06:25:30.897425Z"
    }
   },
   "outputs": [],
   "source": [
    "import matplotlib.pyplot as plt\n",
    "plt.rc('font',family='Gulim')"
   ]
  },
  {
   "cell_type": "code",
   "execution_count": 5,
   "metadata": {
    "ExecuteTime": {
     "end_time": "2022-08-11T06:25:30.926410Z",
     "start_time": "2022-08-11T06:25:30.913428Z"
    }
   },
   "outputs": [],
   "source": [
    "datas = [data1, data2, data3, data4, data5, data6]\n",
    "cust = data1"
   ]
  },
  {
   "cell_type": "markdown",
   "metadata": {},
   "source": [
    "# 상품별 가격\n",
    "- data2와 data4를 이용해 상품의 가격을 역으로 유추하여 상품별 가격을 data4의 변수로 추가했습니다.\n",
    "- 상품의 가격은 data2에서 상품 코드에 대한 (구매 금액)/(구매 수량)으로 추정했습니다."
   ]
  },
  {
   "cell_type": "code",
   "execution_count": 6,
   "metadata": {
    "ExecuteTime": {
     "end_time": "2022-08-11T06:25:35.510276Z",
     "start_time": "2022-08-11T06:25:30.928414Z"
    }
   },
   "outputs": [
    {
     "data": {
      "text/html": [
       "<div>\n",
       "<style scoped>\n",
       "    .dataframe tbody tr th:only-of-type {\n",
       "        vertical-align: middle;\n",
       "    }\n",
       "\n",
       "    .dataframe tbody tr th {\n",
       "        vertical-align: top;\n",
       "    }\n",
       "\n",
       "    .dataframe thead th {\n",
       "        text-align: right;\n",
       "    }\n",
       "</style>\n",
       "<table border=\"1\" class=\"dataframe\">\n",
       "  <thead>\n",
       "    <tr style=\"text-align: right;\">\n",
       "      <th></th>\n",
       "      <th>cust</th>\n",
       "      <th>rct_no</th>\n",
       "      <th>chnl_dv</th>\n",
       "      <th>cop_c</th>\n",
       "      <th>br_c</th>\n",
       "      <th>pd_c</th>\n",
       "      <th>de_dt</th>\n",
       "      <th>de_hr</th>\n",
       "      <th>buy_am</th>\n",
       "      <th>buy_ct</th>\n",
       "    </tr>\n",
       "  </thead>\n",
       "  <tbody>\n",
       "    <tr>\n",
       "      <th>0</th>\n",
       "      <td>M000034966</td>\n",
       "      <td>A01016688590</td>\n",
       "      <td>1</td>\n",
       "      <td>A01</td>\n",
       "      <td>A010045</td>\n",
       "      <td>PD0777</td>\n",
       "      <td>20210116</td>\n",
       "      <td>18</td>\n",
       "      <td>78000.0</td>\n",
       "      <td>2</td>\n",
       "    </tr>\n",
       "    <tr>\n",
       "      <th>1</th>\n",
       "      <td>M000034966</td>\n",
       "      <td>A01016688590</td>\n",
       "      <td>1</td>\n",
       "      <td>A01</td>\n",
       "      <td>A010045</td>\n",
       "      <td>PD0796</td>\n",
       "      <td>20210116</td>\n",
       "      <td>18</td>\n",
       "      <td>100.0</td>\n",
       "      <td>1</td>\n",
       "    </tr>\n",
       "    <tr>\n",
       "      <th>2</th>\n",
       "      <td>M000034966</td>\n",
       "      <td>A01016718167</td>\n",
       "      <td>1</td>\n",
       "      <td>A01</td>\n",
       "      <td>A010045</td>\n",
       "      <td>PD0816</td>\n",
       "      <td>20210116</td>\n",
       "      <td>18</td>\n",
       "      <td>62100.0</td>\n",
       "      <td>1</td>\n",
       "    </tr>\n",
       "    <tr>\n",
       "      <th>3</th>\n",
       "      <td>M000034966</td>\n",
       "      <td>A02357398521</td>\n",
       "      <td>1</td>\n",
       "      <td>A02</td>\n",
       "      <td>A020116</td>\n",
       "      <td>PD0616</td>\n",
       "      <td>20210325</td>\n",
       "      <td>13</td>\n",
       "      <td>17900.0</td>\n",
       "      <td>2</td>\n",
       "    </tr>\n",
       "    <tr>\n",
       "      <th>4</th>\n",
       "      <td>M000034966</td>\n",
       "      <td>A02357398521</td>\n",
       "      <td>1</td>\n",
       "      <td>A02</td>\n",
       "      <td>A020116</td>\n",
       "      <td>PD0630</td>\n",
       "      <td>20210325</td>\n",
       "      <td>13</td>\n",
       "      <td>59700.0</td>\n",
       "      <td>3</td>\n",
       "    </tr>\n",
       "  </tbody>\n",
       "</table>\n",
       "</div>"
      ],
      "text/plain": [
       "         cust        rct_no  chnl_dv cop_c     br_c    pd_c     de_dt  de_hr  \\\n",
       "0  M000034966  A01016688590        1   A01  A010045  PD0777  20210116     18   \n",
       "1  M000034966  A01016688590        1   A01  A010045  PD0796  20210116     18   \n",
       "2  M000034966  A01016718167        1   A01  A010045  PD0816  20210116     18   \n",
       "3  M000034966  A02357398521        1   A02  A020116  PD0616  20210325     13   \n",
       "4  M000034966  A02357398521        1   A02  A020116  PD0630  20210325     13   \n",
       "\n",
       "    buy_am  buy_ct  \n",
       "0  78000.0       2  \n",
       "1    100.0       1  \n",
       "2  62100.0       1  \n",
       "3  17900.0       2  \n",
       "4  59700.0       3  "
      ]
     },
     "execution_count": 6,
     "metadata": {},
     "output_type": "execute_result"
    }
   ],
   "source": [
    "data2 = pd.read_csv('../3. LOTTO_데이터 및 모델 세이브 파일/data_preprocessing/data2.csv')\n",
    "data2.drop('Unnamed: 0', axis=1, inplace=True)\n",
    "data4 = pd.read_csv('../3. LOTTO_데이터 및 모델 세이브 파일/data_preprocessing/data4.csv', index_col=0)\n",
    "data2.head()"
   ]
  },
  {
   "cell_type": "code",
   "execution_count": 7,
   "metadata": {
    "ExecuteTime": {
     "end_time": "2022-08-11T06:25:35.525291Z",
     "start_time": "2022-08-11T06:25:35.512285Z"
    }
   },
   "outputs": [
    {
     "data": {
      "text/html": [
       "<div>\n",
       "<style scoped>\n",
       "    .dataframe tbody tr th:only-of-type {\n",
       "        vertical-align: middle;\n",
       "    }\n",
       "\n",
       "    .dataframe tbody tr th {\n",
       "        vertical-align: top;\n",
       "    }\n",
       "\n",
       "    .dataframe thead th {\n",
       "        text-align: right;\n",
       "    }\n",
       "</style>\n",
       "<table border=\"1\" class=\"dataframe\">\n",
       "  <thead>\n",
       "    <tr style=\"text-align: right;\">\n",
       "      <th></th>\n",
       "      <th>pd_c</th>\n",
       "      <th>pd_nm</th>\n",
       "      <th>clac_hlv_nm</th>\n",
       "      <th>clac_mcls_nm</th>\n",
       "    </tr>\n",
       "  </thead>\n",
       "  <tbody>\n",
       "    <tr>\n",
       "      <th>0</th>\n",
       "      <td>PD0001</td>\n",
       "      <td>소파</td>\n",
       "      <td>가구</td>\n",
       "      <td>거실가구</td>\n",
       "    </tr>\n",
       "    <tr>\n",
       "      <th>1</th>\n",
       "      <td>PD0002</td>\n",
       "      <td>스툴/리빙의자</td>\n",
       "      <td>가구</td>\n",
       "      <td>거실가구</td>\n",
       "    </tr>\n",
       "    <tr>\n",
       "      <th>2</th>\n",
       "      <td>PD0003</td>\n",
       "      <td>탁자</td>\n",
       "      <td>가구</td>\n",
       "      <td>거실가구</td>\n",
       "    </tr>\n",
       "    <tr>\n",
       "      <th>3</th>\n",
       "      <td>PD0004</td>\n",
       "      <td>장식장/진열장</td>\n",
       "      <td>가구</td>\n",
       "      <td>거실가구</td>\n",
       "    </tr>\n",
       "    <tr>\n",
       "      <th>4</th>\n",
       "      <td>PD0005</td>\n",
       "      <td>기타가구</td>\n",
       "      <td>가구</td>\n",
       "      <td>기타가구</td>\n",
       "    </tr>\n",
       "  </tbody>\n",
       "</table>\n",
       "</div>"
      ],
      "text/plain": [
       "     pd_c    pd_nm clac_hlv_nm clac_mcls_nm\n",
       "0  PD0001       소파          가구         거실가구\n",
       "1  PD0002  스툴/리빙의자          가구         거실가구\n",
       "2  PD0003       탁자          가구         거실가구\n",
       "3  PD0004  장식장/진열장          가구         거실가구\n",
       "4  PD0005     기타가구          가구         기타가구"
      ]
     },
     "execution_count": 7,
     "metadata": {},
     "output_type": "execute_result"
    }
   ],
   "source": [
    "data4.head()"
   ]
  },
  {
   "cell_type": "code",
   "execution_count": 8,
   "metadata": {
    "ExecuteTime": {
     "end_time": "2022-08-11T06:25:35.540278Z",
     "start_time": "2022-08-11T06:25:35.527275Z"
    }
   },
   "outputs": [
    {
     "data": {
      "text/plain": [
       "0       PD0001\n",
       "1       PD0002\n",
       "2       PD0003\n",
       "3       PD0004\n",
       "4       PD0005\n",
       "         ...  \n",
       "1928    PD1929\n",
       "1929    PD1930\n",
       "1930    PD1931\n",
       "1931    PD1932\n",
       "1932    PD1933\n",
       "Name: pd_c, Length: 1933, dtype: object"
      ]
     },
     "execution_count": 8,
     "metadata": {},
     "output_type": "execute_result"
    }
   ],
   "source": [
    "data4.pd_c"
   ]
  },
  {
   "cell_type": "code",
   "execution_count": 9,
   "metadata": {
    "ExecuteTime": {
     "end_time": "2022-08-11T06:25:35.555277Z",
     "start_time": "2022-08-11T06:25:35.544291Z"
    }
   },
   "outputs": [
    {
     "data": {
      "text/plain": [
       "1933"
      ]
     },
     "execution_count": 9,
     "metadata": {},
     "output_type": "execute_result"
    }
   ],
   "source": [
    "len(data4.pd_c.unique())"
   ]
  },
  {
   "cell_type": "code",
   "execution_count": 10,
   "metadata": {
    "ExecuteTime": {
     "end_time": "2022-08-11T06:25:35.570308Z",
     "start_time": "2022-08-11T06:25:35.557279Z"
    }
   },
   "outputs": [
    {
     "data": {
      "text/plain": [
       "1932"
      ]
     },
     "execution_count": 10,
     "metadata": {},
     "output_type": "execute_result"
    }
   ],
   "source": [
    "len(data4.pd_nm.unique())"
   ]
  },
  {
   "cell_type": "code",
   "execution_count": 11,
   "metadata": {
    "ExecuteTime": {
     "end_time": "2022-08-11T06:25:35.585293Z",
     "start_time": "2022-08-11T06:25:35.573302Z"
    }
   },
   "outputs": [
    {
     "name": "stdout",
     "output_type": "stream",
     "text": [
      "패션잡화          130\n",
      "축산물            91\n",
      "수산물            88\n",
      "스포츠패션          82\n",
      "문구/사무용품        72\n",
      "채소             72\n",
      "유아동의류          67\n",
      "과일             58\n",
      "속옷/양말/홈웨어      56\n",
      "조미료            51\n",
      "화장품/뷰티케어       50\n",
      "생활/주방가전        43\n",
      "퍼스널케어          39\n",
      "원예/애완          39\n",
      "구기/필드스포츠       38\n",
      "조리식품           38\n",
      "식기/조리기구        36\n",
      "과자             36\n",
      "침구/수예          35\n",
      "자동차용품          35\n",
      "아웃도어/레저        34\n",
      "건강식품           32\n",
      "출산/육아용품        32\n",
      "냉장식품           32\n",
      "주방잡화           32\n",
      "가구             31\n",
      "완구             31\n",
      "건해산물           30\n",
      "청소/세탁/욕실용품     30\n",
      "여성의류           29\n",
      "대용식            29\n",
      "세제/위생          28\n",
      "영상/음향가전        27\n",
      "남성의류           26\n",
      "건강용품           25\n",
      "음료             24\n",
      "테넌트/음식점        22\n",
      "주류             22\n",
      "시즌스포츠          22\n",
      "인테리어/조명        21\n",
      "커피/차           20\n",
      "냉동식품           20\n",
      "헬스/피트니스        15\n",
      "양곡             15\n",
      "서적/음반/악기       15\n",
      "공구/안전용품        15\n",
      "계절가전           15\n",
      "컴퓨터            14\n",
      "병통조림           14\n",
      "생활/렌탈서비스       13\n",
      "냉장/세탁가전        12\n",
      "상품권            10\n",
      "유제품             9\n",
      "기타(비상품)         7\n",
      "담배              6\n",
      "여행/레저서비스        6\n",
      "모바일             6\n",
      "유아식품            4\n",
      "기타상품            1\n",
      "금융/보험서비스        1\n",
      "Name: clac_hlv_nm, dtype: int64\n",
      "\n",
      "어류           20\n",
      "국산과일         19\n",
      "잎채소          18\n",
      "주방가전         18\n",
      "일반문구/사무용품    17\n",
      "             ..\n",
      "유아의류세트        1\n",
      "기타시즌스포츠       1\n",
      "용기보증금         1\n",
      "남아의류전신        1\n",
      "보험            1\n",
      "Name: clac_mcls_nm, Length: 349, dtype: int64\n",
      "\n",
      "기타           2\n",
      "소파           1\n",
      "즉석젓갈류        1\n",
      "카놀라유         1\n",
      "포도씨유         1\n",
      "            ..\n",
      "니삭스/오버니삭스    1\n",
      "여성일반양말       1\n",
      "기타여성속옷       1\n",
      "여성속옷세트       1\n",
      "남녀공용향수세트     1\n",
      "Name: pd_nm, Length: 1932, dtype: int64\n",
      "\n"
     ]
    }
   ],
   "source": [
    "categorys = ['clac_hlv_nm', 'clac_mcls_nm', 'pd_nm']\n",
    "for category in categorys:\n",
    "    print(data4[category].value_counts())\n",
    "    print()"
   ]
  },
  {
   "cell_type": "code",
   "execution_count": 12,
   "metadata": {
    "ExecuteTime": {
     "end_time": "2022-08-11T06:25:35.600304Z",
     "start_time": "2022-08-11T06:25:35.586293Z"
    }
   },
   "outputs": [
    {
     "data": {
      "text/html": [
       "<div>\n",
       "<style scoped>\n",
       "    .dataframe tbody tr th:only-of-type {\n",
       "        vertical-align: middle;\n",
       "    }\n",
       "\n",
       "    .dataframe tbody tr th {\n",
       "        vertical-align: top;\n",
       "    }\n",
       "\n",
       "    .dataframe thead th {\n",
       "        text-align: right;\n",
       "    }\n",
       "</style>\n",
       "<table border=\"1\" class=\"dataframe\">\n",
       "  <thead>\n",
       "    <tr style=\"text-align: right;\">\n",
       "      <th></th>\n",
       "      <th>pd_c</th>\n",
       "      <th>pd_nm</th>\n",
       "      <th>clac_hlv_nm</th>\n",
       "      <th>clac_mcls_nm</th>\n",
       "    </tr>\n",
       "  </thead>\n",
       "  <tbody>\n",
       "    <tr>\n",
       "      <th>85</th>\n",
       "      <td>PD0086</td>\n",
       "      <td>기타</td>\n",
       "      <td>건강용품</td>\n",
       "      <td>일반의약외품</td>\n",
       "    </tr>\n",
       "    <tr>\n",
       "      <th>282</th>\n",
       "      <td>PD0283</td>\n",
       "      <td>기타</td>\n",
       "      <td>기타(비상품)</td>\n",
       "      <td>기타</td>\n",
       "    </tr>\n",
       "  </tbody>\n",
       "</table>\n",
       "</div>"
      ],
      "text/plain": [
       "       pd_c pd_nm clac_hlv_nm clac_mcls_nm\n",
       "85   PD0086    기타        건강용품       일반의약외품\n",
       "282  PD0283    기타     기타(비상품)           기타"
      ]
     },
     "execution_count": 12,
     "metadata": {},
     "output_type": "execute_result"
    }
   ],
   "source": [
    "data4[data4['pd_nm']=='기타']"
   ]
  },
  {
   "cell_type": "code",
   "execution_count": 13,
   "metadata": {
    "ExecuteTime": {
     "end_time": "2022-08-11T06:25:35.645318Z",
     "start_time": "2022-08-11T06:25:35.603294Z"
    }
   },
   "outputs": [],
   "source": [
    "data2['buy_am_per_ct'] = data2['buy_am']/data2['buy_ct']"
   ]
  },
  {
   "cell_type": "code",
   "execution_count": 14,
   "metadata": {
    "ExecuteTime": {
     "end_time": "2022-08-11T06:25:35.990377Z",
     "start_time": "2022-08-11T06:25:35.648303Z"
    }
   },
   "outputs": [
    {
     "name": "stdout",
     "output_type": "stream",
     "text": [
      "pd_c\n",
      "PD0001    2143346\n",
      "PD0002      43059\n",
      "PD0003     201200\n",
      "PD0004     133424\n",
      "PD0005     959597\n",
      "           ...   \n",
      "PD1929     151097\n",
      "PD1930     146227\n",
      "PD1931     142878\n",
      "PD1932     197372\n",
      "PD1933      75220\n",
      "Name: buy_am_per_ct, Length: 1932, dtype: int64\n"
     ]
    }
   ],
   "source": [
    "pd_price = data2.groupby('pd_c').mean()['buy_am_per_ct'].apply(int)\n",
    "print(pd_price)"
   ]
  },
  {
   "cell_type": "code",
   "execution_count": 15,
   "metadata": {
    "ExecuteTime": {
     "end_time": "2022-08-11T06:25:36.275459Z",
     "start_time": "2022-08-11T06:25:35.992376Z"
    }
   },
   "outputs": [
    {
     "data": {
      "text/plain": [
       "<AxesSubplot:xlabel='buy_am_per_ct', ylabel='Density'>"
      ]
     },
     "execution_count": 15,
     "metadata": {},
     "output_type": "execute_result"
    },
    {
     "data": {
      "image/png": "[encoded data removed]",
      "text/plain": [
       "<Figure size 1296x576 with 1 Axes>"
      ]
     },
     "metadata": {},
     "output_type": "display_data"
    }
   ],
   "source": [
    "f, ax = plt.subplots(figsize=(18, 8))\n",
    "sns.distplot(pd_price)"
   ]
  },
  {
   "cell_type": "code",
   "execution_count": 16,
   "metadata": {
    "ExecuteTime": {
     "end_time": "2022-08-11T06:25:36.290451Z",
     "start_time": "2022-08-11T06:25:36.277449Z"
    }
   },
   "outputs": [
    {
     "data": {
      "text/html": [
       "<div>\n",
       "<style scoped>\n",
       "    .dataframe tbody tr th:only-of-type {\n",
       "        vertical-align: middle;\n",
       "    }\n",
       "\n",
       "    .dataframe tbody tr th {\n",
       "        vertical-align: top;\n",
       "    }\n",
       "\n",
       "    .dataframe thead th {\n",
       "        text-align: right;\n",
       "    }\n",
       "</style>\n",
       "<table border=\"1\" class=\"dataframe\">\n",
       "  <thead>\n",
       "    <tr style=\"text-align: right;\">\n",
       "      <th></th>\n",
       "      <th>pd_c</th>\n",
       "      <th>pd_nm</th>\n",
       "      <th>clac_hlv_nm</th>\n",
       "      <th>clac_mcls_nm</th>\n",
       "      <th>buy_am_per_ct</th>\n",
       "    </tr>\n",
       "  </thead>\n",
       "  <tbody>\n",
       "    <tr>\n",
       "      <th>0</th>\n",
       "      <td>PD0001</td>\n",
       "      <td>소파</td>\n",
       "      <td>가구</td>\n",
       "      <td>거실가구</td>\n",
       "      <td>2143346</td>\n",
       "    </tr>\n",
       "    <tr>\n",
       "      <th>1</th>\n",
       "      <td>PD0002</td>\n",
       "      <td>스툴/리빙의자</td>\n",
       "      <td>가구</td>\n",
       "      <td>거실가구</td>\n",
       "      <td>43059</td>\n",
       "    </tr>\n",
       "    <tr>\n",
       "      <th>2</th>\n",
       "      <td>PD0003</td>\n",
       "      <td>탁자</td>\n",
       "      <td>가구</td>\n",
       "      <td>거실가구</td>\n",
       "      <td>201200</td>\n",
       "    </tr>\n",
       "    <tr>\n",
       "      <th>3</th>\n",
       "      <td>PD0004</td>\n",
       "      <td>장식장/진열장</td>\n",
       "      <td>가구</td>\n",
       "      <td>거실가구</td>\n",
       "      <td>133424</td>\n",
       "    </tr>\n",
       "    <tr>\n",
       "      <th>4</th>\n",
       "      <td>PD0005</td>\n",
       "      <td>기타가구</td>\n",
       "      <td>가구</td>\n",
       "      <td>기타가구</td>\n",
       "      <td>959597</td>\n",
       "    </tr>\n",
       "  </tbody>\n",
       "</table>\n",
       "</div>"
      ],
      "text/plain": [
       "     pd_c    pd_nm clac_hlv_nm clac_mcls_nm  buy_am_per_ct\n",
       "0  PD0001       소파          가구         거실가구        2143346\n",
       "1  PD0002  스툴/리빙의자          가구         거실가구          43059\n",
       "2  PD0003       탁자          가구         거실가구         201200\n",
       "3  PD0004  장식장/진열장          가구         거실가구         133424\n",
       "4  PD0005     기타가구          가구         기타가구         959597"
      ]
     },
     "execution_count": 16,
     "metadata": {},
     "output_type": "execute_result"
    }
   ],
   "source": [
    "df4 = pd.merge(data4, pd_price, on='pd_c')\n",
    "df4.head()"
   ]
  },
  {
   "cell_type": "code",
   "execution_count": 4,
   "metadata": {
    "ExecuteTime": {
     "end_time": "2022-08-11T06:25:36.320469Z",
     "start_time": "2022-08-11T06:25:36.292446Z"
    }
   },
   "outputs": [],
   "source": [
    "df4 = pd.read_csv('../3. LOTTO_데이터 및 모델 세이브 파일/new/product_price.csv', index_col=0)"
   ]
  },
  {
   "cell_type": "code",
   "execution_count": 18,
   "metadata": {
    "ExecuteTime": {
     "end_time": "2022-08-11T06:25:36.335467Z",
     "start_time": "2022-08-11T06:25:36.322454Z"
    }
   },
   "outputs": [
    {
     "data": {
      "text/html": [
       "<div>\n",
       "<style scoped>\n",
       "    .dataframe tbody tr th:only-of-type {\n",
       "        vertical-align: middle;\n",
       "    }\n",
       "\n",
       "    .dataframe tbody tr th {\n",
       "        vertical-align: top;\n",
       "    }\n",
       "\n",
       "    .dataframe thead th {\n",
       "        text-align: right;\n",
       "    }\n",
       "</style>\n",
       "<table border=\"1\" class=\"dataframe\">\n",
       "  <thead>\n",
       "    <tr style=\"text-align: right;\">\n",
       "      <th></th>\n",
       "      <th>pd_c</th>\n",
       "      <th>pd_nm</th>\n",
       "      <th>clac_hlv_nm</th>\n",
       "      <th>clac_mcls_nm</th>\n",
       "      <th>buy_am_per_ct</th>\n",
       "      <th>log_buy_am_per_ct</th>\n",
       "    </tr>\n",
       "  </thead>\n",
       "  <tbody>\n",
       "    <tr>\n",
       "      <th>0</th>\n",
       "      <td>PD0001</td>\n",
       "      <td>소파</td>\n",
       "      <td>가구</td>\n",
       "      <td>거실가구</td>\n",
       "      <td>2143346</td>\n",
       "      <td>14.577879</td>\n",
       "    </tr>\n",
       "    <tr>\n",
       "      <th>1</th>\n",
       "      <td>PD0002</td>\n",
       "      <td>스툴/리빙의자</td>\n",
       "      <td>가구</td>\n",
       "      <td>거실가구</td>\n",
       "      <td>43059</td>\n",
       "      <td>10.670350</td>\n",
       "    </tr>\n",
       "    <tr>\n",
       "      <th>2</th>\n",
       "      <td>PD0003</td>\n",
       "      <td>탁자</td>\n",
       "      <td>가구</td>\n",
       "      <td>거실가구</td>\n",
       "      <td>201200</td>\n",
       "      <td>12.212060</td>\n",
       "    </tr>\n",
       "    <tr>\n",
       "      <th>3</th>\n",
       "      <td>PD0004</td>\n",
       "      <td>장식장/진열장</td>\n",
       "      <td>가구</td>\n",
       "      <td>거실가구</td>\n",
       "      <td>133424</td>\n",
       "      <td>11.801295</td>\n",
       "    </tr>\n",
       "    <tr>\n",
       "      <th>4</th>\n",
       "      <td>PD0005</td>\n",
       "      <td>기타가구</td>\n",
       "      <td>가구</td>\n",
       "      <td>기타가구</td>\n",
       "      <td>959597</td>\n",
       "      <td>13.774270</td>\n",
       "    </tr>\n",
       "  </tbody>\n",
       "</table>\n",
       "</div>"
      ],
      "text/plain": [
       "     pd_c    pd_nm clac_hlv_nm clac_mcls_nm  buy_am_per_ct  log_buy_am_per_ct\n",
       "0  PD0001       소파          가구         거실가구        2143346          14.577879\n",
       "1  PD0002  스툴/리빙의자          가구         거실가구          43059          10.670350\n",
       "2  PD0003       탁자          가구         거실가구         201200          12.212060\n",
       "3  PD0004  장식장/진열장          가구         거실가구         133424          11.801295\n",
       "4  PD0005     기타가구          가구         기타가구         959597          13.774270"
      ]
     },
     "execution_count": 18,
     "metadata": {},
     "output_type": "execute_result"
    }
   ],
   "source": [
    "df4['log_buy_am_per_ct'] = np.log1p(df4['buy_am_per_ct'])\n",
    "df4.head()"
   ]
  },
  {
   "cell_type": "code",
   "execution_count": 19,
   "metadata": {
    "ExecuteTime": {
     "end_time": "2022-08-11T06:25:36.350464Z",
     "start_time": "2022-08-11T06:25:36.338467Z"
    }
   },
   "outputs": [],
   "source": [
    "order = df4.groupby('clac_hlv_nm')['log_buy_am_per_ct'].mean().sort_values().index"
   ]
  },
  {
   "cell_type": "code",
   "execution_count": 20,
   "metadata": {
    "ExecuteTime": {
     "end_time": "2022-08-11T06:25:38.773017Z",
     "start_time": "2022-08-11T06:25:36.352477Z"
    }
   },
   "outputs": [
    {
     "data": {
      "text/plain": [
       "<seaborn.axisgrid.FacetGrid at 0x2250f88abb0>"
      ]
     },
     "execution_count": 20,
     "metadata": {},
     "output_type": "execute_result"
    },
    {
     "data": {
      "image/png": "[encoded data removed]",
      "text/plain": [
       "<Figure size 1440x360 with 1 Axes>"
      ]
     },
     "metadata": {},
     "output_type": "display_data"
    }
   ],
   "source": [
    "g=sns.catplot(x='clac_hlv_nm', y='buy_am_per_ct', kind='box', data=df4, height=5, aspect=4) # 상품 대분류별 가격비교\n",
    "g.set_xticklabels(rotation=90)"
   ]
  },
  {
   "cell_type": "code",
   "execution_count": 21,
   "metadata": {
    "ExecuteTime": {
     "end_time": "2022-08-11T06:25:41.106808Z",
     "start_time": "2022-08-11T06:25:38.775021Z"
    }
   },
   "outputs": [
    {
     "data": {
      "text/plain": [
       "<seaborn.axisgrid.FacetGrid at 0x2250f814610>"
      ]
     },
     "execution_count": 21,
     "metadata": {},
     "output_type": "execute_result"
    },
    {
     "data": {
      "image/png": "[encoded data removed]",
      "text/plain": [
       "<Figure size 1440x360 with 1 Axes>"
      ]
     },
     "metadata": {},
     "output_type": "display_data"
    }
   ],
   "source": [
    "g=sns.catplot(x='clac_hlv_nm', y='log_buy_am_per_ct', kind='box', data=df4, height=5, aspect=4, order=order) # 상품 대분류별 가격비교\n",
    "g.set_xticklabels(rotation=90)"
   ]
  },
  {
   "cell_type": "code",
   "execution_count": 22,
   "metadata": {
    "ExecuteTime": {
     "end_time": "2022-08-11T06:25:42.762321Z",
     "start_time": "2022-08-11T06:25:41.110798Z"
    }
   },
   "outputs": [
    {
     "data": {
      "text/plain": [
       "<seaborn.axisgrid.FacetGrid at 0x2251176eb50>"
      ]
     },
     "execution_count": 22,
     "metadata": {},
     "output_type": "execute_result"
    },
    {
     "data": {
      "image/png": "[encoded data removed]",
      "text/plain": [
       "<Figure size 1440x360 with 1 Axes>"
      ]
     },
     "metadata": {},
     "output_type": "display_data"
    },
    {
     "data": {
      "image/png": "[encoded data removed]",
      "text/plain": [
       "<Figure size 1440x360 with 1 Axes>"
      ]
     },
     "metadata": {},
     "output_type": "display_data"
    },
    {
     "data": {
      "image/png": "[encoded data removed]",
      "text/plain": [
       "<Figure size 1440x360 with 1 Axes>"
      ]
     },
     "metadata": {},
     "output_type": "display_data"
    }
   ],
   "source": [
    "g1=sns.catplot(x='clac_hlv_nm', y='buy_am_per_ct', kind='box', data=df4[:492],height=5, aspect=4) # 상품 대분류별 가격비교\n",
    "g1.set_xticklabels(rotation=90)\n",
    "g2=sns.catplot(x='clac_hlv_nm', y='buy_am_per_ct', kind='box', data=df4[492:1151],height=5, aspect=4) # 상품 대분류별 가격비교\n",
    "g2.set_xticklabels(rotation=90)\n",
    "g3=sns.catplot(x='clac_hlv_nm', y='buy_am_per_ct', kind='box', data=df4[1151:],height=5, aspect=4) # 상품 대분류별 가격비교\n",
    "g3.set_xticklabels(rotation=90)"
   ]
  },
  {
   "cell_type": "markdown",
   "metadata": {},
   "source": [
    "# 고객별 구매상품\n",
    "- data2와 data4를 병합하여 고객이 구매한 상품을 리스트 형태로 추출하였습니다.\n",
    "- 고객이 가장 많이 구입한 상위 5개 상품을 Top5 구매상품으로 추가했습니다."
   ]
  },
  {
   "cell_type": "markdown",
   "metadata": {},
   "source": [
    "## 구매 상품 리스트"
   ]
  },
  {
   "cell_type": "code",
   "execution_count": 23,
   "metadata": {
    "ExecuteTime": {
     "end_time": "2022-08-11T06:25:42.927435Z",
     "start_time": "2022-08-11T06:25:42.765304Z"
    },
    "scrolled": true
   },
   "outputs": [
    {
     "data": {
      "text/plain": [
       "1932"
      ]
     },
     "execution_count": 23,
     "metadata": {},
     "output_type": "execute_result"
    }
   ],
   "source": [
    "len(data2.pd_c.unique())"
   ]
  },
  {
   "cell_type": "code",
   "execution_count": 24,
   "metadata": {
    "ExecuteTime": {
     "end_time": "2022-08-11T06:25:42.942439Z",
     "start_time": "2022-08-11T06:25:42.929425Z"
    }
   },
   "outputs": [
    {
     "data": {
      "text/plain": [
       "1933"
      ]
     },
     "execution_count": 24,
     "metadata": {},
     "output_type": "execute_result"
    }
   ],
   "source": [
    "len(data4.pd_c.unique())"
   ]
  },
  {
   "cell_type": "code",
   "execution_count": 25,
   "metadata": {
    "ExecuteTime": {
     "end_time": "2022-08-11T06:25:44.234852Z",
     "start_time": "2022-08-11T06:25:42.944428Z"
    }
   },
   "outputs": [
    {
     "data": {
      "text/html": [
       "<div>\n",
       "<style scoped>\n",
       "    .dataframe tbody tr th:only-of-type {\n",
       "        vertical-align: middle;\n",
       "    }\n",
       "\n",
       "    .dataframe tbody tr th {\n",
       "        vertical-align: top;\n",
       "    }\n",
       "\n",
       "    .dataframe thead th {\n",
       "        text-align: right;\n",
       "    }\n",
       "</style>\n",
       "<table border=\"1\" class=\"dataframe\">\n",
       "  <thead>\n",
       "    <tr style=\"text-align: right;\">\n",
       "      <th></th>\n",
       "      <th>cust</th>\n",
       "      <th>rct_no</th>\n",
       "      <th>chnl_dv</th>\n",
       "      <th>cop_c</th>\n",
       "      <th>br_c</th>\n",
       "      <th>pd_c</th>\n",
       "      <th>de_dt</th>\n",
       "      <th>de_hr</th>\n",
       "      <th>buy_am</th>\n",
       "      <th>buy_ct</th>\n",
       "      <th>buy_am_per_ct</th>\n",
       "      <th>pd_nm</th>\n",
       "      <th>clac_hlv_nm</th>\n",
       "      <th>clac_mcls_nm</th>\n",
       "    </tr>\n",
       "  </thead>\n",
       "  <tbody>\n",
       "    <tr>\n",
       "      <th>0</th>\n",
       "      <td>M000034966</td>\n",
       "      <td>A01016688590</td>\n",
       "      <td>1</td>\n",
       "      <td>A01</td>\n",
       "      <td>A010045</td>\n",
       "      <td>PD0777</td>\n",
       "      <td>20210116</td>\n",
       "      <td>18</td>\n",
       "      <td>78000.0</td>\n",
       "      <td>2</td>\n",
       "      <td>39000.0</td>\n",
       "      <td>남성런닝/트레이닝화</td>\n",
       "      <td>스포츠패션</td>\n",
       "      <td>남성스포츠화</td>\n",
       "    </tr>\n",
       "    <tr>\n",
       "      <th>1</th>\n",
       "      <td>M000034966</td>\n",
       "      <td>A01016688590</td>\n",
       "      <td>1</td>\n",
       "      <td>A01</td>\n",
       "      <td>A010045</td>\n",
       "      <td>PD0796</td>\n",
       "      <td>20210116</td>\n",
       "      <td>18</td>\n",
       "      <td>100.0</td>\n",
       "      <td>1</td>\n",
       "      <td>100.0</td>\n",
       "      <td>스포츠아대/헤어밴드</td>\n",
       "      <td>스포츠패션</td>\n",
       "      <td>스포츠잡화</td>\n",
       "    </tr>\n",
       "    <tr>\n",
       "      <th>2</th>\n",
       "      <td>M000034966</td>\n",
       "      <td>A01016718167</td>\n",
       "      <td>1</td>\n",
       "      <td>A01</td>\n",
       "      <td>A010045</td>\n",
       "      <td>PD0816</td>\n",
       "      <td>20210116</td>\n",
       "      <td>18</td>\n",
       "      <td>62100.0</td>\n",
       "      <td>1</td>\n",
       "      <td>62100.0</td>\n",
       "      <td>여성런닝/트레이닝화</td>\n",
       "      <td>스포츠패션</td>\n",
       "      <td>여성스포츠화</td>\n",
       "    </tr>\n",
       "    <tr>\n",
       "      <th>3</th>\n",
       "      <td>M000034966</td>\n",
       "      <td>A02357398521</td>\n",
       "      <td>1</td>\n",
       "      <td>A02</td>\n",
       "      <td>A020116</td>\n",
       "      <td>PD0616</td>\n",
       "      <td>20210325</td>\n",
       "      <td>13</td>\n",
       "      <td>17900.0</td>\n",
       "      <td>2</td>\n",
       "      <td>8950.0</td>\n",
       "      <td>남성팬티</td>\n",
       "      <td>속옷/양말/홈웨어</td>\n",
       "      <td>남성속옷</td>\n",
       "    </tr>\n",
       "    <tr>\n",
       "      <th>4</th>\n",
       "      <td>M000034966</td>\n",
       "      <td>A02357398521</td>\n",
       "      <td>1</td>\n",
       "      <td>A02</td>\n",
       "      <td>A020116</td>\n",
       "      <td>PD0630</td>\n",
       "      <td>20210325</td>\n",
       "      <td>13</td>\n",
       "      <td>59700.0</td>\n",
       "      <td>3</td>\n",
       "      <td>19900.0</td>\n",
       "      <td>브래지어</td>\n",
       "      <td>속옷/양말/홈웨어</td>\n",
       "      <td>여성속옷</td>\n",
       "    </tr>\n",
       "  </tbody>\n",
       "</table>\n",
       "</div>"
      ],
      "text/plain": [
       "         cust        rct_no  chnl_dv cop_c     br_c    pd_c     de_dt  de_hr  \\\n",
       "0  M000034966  A01016688590        1   A01  A010045  PD0777  20210116     18   \n",
       "1  M000034966  A01016688590        1   A01  A010045  PD0796  20210116     18   \n",
       "2  M000034966  A01016718167        1   A01  A010045  PD0816  20210116     18   \n",
       "3  M000034966  A02357398521        1   A02  A020116  PD0616  20210325     13   \n",
       "4  M000034966  A02357398521        1   A02  A020116  PD0630  20210325     13   \n",
       "\n",
       "    buy_am  buy_ct  buy_am_per_ct       pd_nm clac_hlv_nm clac_mcls_nm  \n",
       "0  78000.0       2        39000.0  남성런닝/트레이닝화       스포츠패션       남성스포츠화  \n",
       "1    100.0       1          100.0  스포츠아대/헤어밴드       스포츠패션        스포츠잡화  \n",
       "2  62100.0       1        62100.0  여성런닝/트레이닝화       스포츠패션       여성스포츠화  \n",
       "3  17900.0       2         8950.0        남성팬티   속옷/양말/홈웨어         남성속옷  \n",
       "4  59700.0       3        19900.0        브래지어   속옷/양말/홈웨어         여성속옷  "
      ]
     },
     "execution_count": 25,
     "metadata": {},
     "output_type": "execute_result"
    }
   ],
   "source": [
    "df24 = pd.merge(data2,data4, how='left',on='pd_c')\n",
    "df24.head()"
   ]
  },
  {
   "cell_type": "code",
   "execution_count": 32,
   "metadata": {
    "ExecuteTime": {
     "end_time": "2022-08-11T06:47:37.955770Z",
     "start_time": "2022-08-11T06:44:22.247305Z"
    },
    "scrolled": true
   },
   "outputs": [
    {
     "data": {
      "text/html": [
       "<div>\n",
       "<style scoped>\n",
       "    .dataframe tbody tr th:only-of-type {\n",
       "        vertical-align: middle;\n",
       "    }\n",
       "\n",
       "    .dataframe tbody tr th {\n",
       "        vertical-align: top;\n",
       "    }\n",
       "\n",
       "    .dataframe thead th {\n",
       "        text-align: right;\n",
       "    }\n",
       "</style>\n",
       "<table border=\"1\" class=\"dataframe\">\n",
       "  <thead>\n",
       "    <tr style=\"text-align: right;\">\n",
       "      <th></th>\n",
       "      <th>cust</th>\n",
       "      <th>ma_fem_dv</th>\n",
       "      <th>ages</th>\n",
       "      <th>zon_hlv</th>\n",
       "      <th>purchase_list</th>\n",
       "    </tr>\n",
       "  </thead>\n",
       "  <tbody>\n",
       "    <tr>\n",
       "      <th>0</th>\n",
       "      <td>M000034966</td>\n",
       "      <td>여성</td>\n",
       "      <td>40대</td>\n",
       "      <td>Z07</td>\n",
       "      <td>['PD0116', 'PD0169', 'PD0178', 'PD0204', 'PD02...</td>\n",
       "    </tr>\n",
       "    <tr>\n",
       "      <th>1</th>\n",
       "      <td>M000059535</td>\n",
       "      <td>여성</td>\n",
       "      <td>30대</td>\n",
       "      <td>Z12</td>\n",
       "      <td>['']</td>\n",
       "    </tr>\n",
       "    <tr>\n",
       "      <th>2</th>\n",
       "      <td>M000136117</td>\n",
       "      <td>여성</td>\n",
       "      <td>30대</td>\n",
       "      <td>Z11</td>\n",
       "      <td>['PD0173', 'PD0197', 'PD0290', 'PD0296', 'PD02...</td>\n",
       "    </tr>\n",
       "    <tr>\n",
       "      <th>3</th>\n",
       "      <td>M000201112</td>\n",
       "      <td>여성</td>\n",
       "      <td>50대</td>\n",
       "      <td>Z17</td>\n",
       "      <td>['PD0217', 'PD0220', 'PD0230', 'PD0282', 'PD03...</td>\n",
       "    </tr>\n",
       "    <tr>\n",
       "      <th>4</th>\n",
       "      <td>M000225114</td>\n",
       "      <td>여성</td>\n",
       "      <td>40대</td>\n",
       "      <td>Z17</td>\n",
       "      <td>['PD0178', 'PD0197', 'PD0209', 'PD0218', 'PD02...</td>\n",
       "    </tr>\n",
       "    <tr>\n",
       "      <th>...</th>\n",
       "      <td>...</td>\n",
       "      <td>...</td>\n",
       "      <td>...</td>\n",
       "      <td>...</td>\n",
       "      <td>...</td>\n",
       "    </tr>\n",
       "    <tr>\n",
       "      <th>29908</th>\n",
       "      <td>M999708287</td>\n",
       "      <td>여성</td>\n",
       "      <td>40대</td>\n",
       "      <td>Z10</td>\n",
       "      <td>['']</td>\n",
       "    </tr>\n",
       "    <tr>\n",
       "      <th>29909</th>\n",
       "      <td>M999770689</td>\n",
       "      <td>여성</td>\n",
       "      <td>30대</td>\n",
       "      <td>Z16</td>\n",
       "      <td>['PD0058', 'PD0060', 'PD0068', 'PD0161', 'PD02...</td>\n",
       "    </tr>\n",
       "    <tr>\n",
       "      <th>29910</th>\n",
       "      <td>M999849895</td>\n",
       "      <td>여성</td>\n",
       "      <td>20대</td>\n",
       "      <td>Z04</td>\n",
       "      <td>['PD0080', 'PD0223', 'PD0228', 'PD0229', 'PD02...</td>\n",
       "    </tr>\n",
       "    <tr>\n",
       "      <th>29911</th>\n",
       "      <td>M999926092</td>\n",
       "      <td>남성</td>\n",
       "      <td>30대</td>\n",
       "      <td>Z08</td>\n",
       "      <td>['']</td>\n",
       "    </tr>\n",
       "    <tr>\n",
       "      <th>29912</th>\n",
       "      <td>M999962961</td>\n",
       "      <td>여성</td>\n",
       "      <td>50대</td>\n",
       "      <td>Z17</td>\n",
       "      <td>['PD0051', 'PD0097', 'PD0113', 'PD0147', 'PD01...</td>\n",
       "    </tr>\n",
       "  </tbody>\n",
       "</table>\n",
       "<p>29909 rows × 5 columns</p>\n",
       "</div>"
      ],
      "text/plain": [
       "             cust ma_fem_dv ages zon_hlv  \\\n",
       "0      M000034966        여성  40대     Z07   \n",
       "1      M000059535        여성  30대     Z12   \n",
       "2      M000136117        여성  30대     Z11   \n",
       "3      M000201112        여성  50대     Z17   \n",
       "4      M000225114        여성  40대     Z17   \n",
       "...           ...       ...  ...     ...   \n",
       "29908  M999708287        여성  40대     Z10   \n",
       "29909  M999770689        여성  30대     Z16   \n",
       "29910  M999849895        여성  20대     Z04   \n",
       "29911  M999926092        남성  30대     Z08   \n",
       "29912  M999962961        여성  50대     Z17   \n",
       "\n",
       "                                           purchase_list  \n",
       "0      ['PD0116', 'PD0169', 'PD0178', 'PD0204', 'PD02...  \n",
       "1                                                   ['']  \n",
       "2      ['PD0173', 'PD0197', 'PD0290', 'PD0296', 'PD02...  \n",
       "3      ['PD0217', 'PD0220', 'PD0230', 'PD0282', 'PD03...  \n",
       "4      ['PD0178', 'PD0197', 'PD0209', 'PD0218', 'PD02...  \n",
       "...                                                  ...  \n",
       "29908                                               ['']  \n",
       "29909  ['PD0058', 'PD0060', 'PD0068', 'PD0161', 'PD02...  \n",
       "29910  ['PD0080', 'PD0223', 'PD0228', 'PD0229', 'PD02...  \n",
       "29911                                               ['']  \n",
       "29912  ['PD0051', 'PD0097', 'PD0113', 'PD0147', 'PD01...  \n",
       "\n",
       "[29909 rows x 5 columns]"
      ]
     },
     "execution_count": 32,
     "metadata": {},
     "output_type": "execute_result"
    }
   ],
   "source": [
    "cust['purchase_list']=\"['']\"\n",
    "df_pur = df24.groupby(['cust', 'pd_c'])['pd_c'].count()\n",
    "\n",
    "before_i = ''\n",
    "for i, j in df_pur.index:\n",
    "    if i != before_i:\n",
    "        cust.loc[cust['cust']==i, 'purchase_list'] = str(list(df_pur[i].index))\n",
    "        before_i = i\n",
    "    else:\n",
    "        before_i = i\n",
    "        continue\n",
    "cust"
   ]
  },
  {
   "cell_type": "markdown",
   "metadata": {},
   "source": [
    "## Top5 구매상품"
   ]
  },
  {
   "cell_type": "code",
   "execution_count": 33,
   "metadata": {
    "ExecuteTime": {
     "end_time": "2022-08-11T06:48:58.254520Z",
     "start_time": "2022-08-11T06:48:56.577175Z"
    }
   },
   "outputs": [
    {
     "data": {
      "text/plain": [
       "cust        clac_hlv_nm\n",
       "M000034966  채소             7\n",
       "            과자             6\n",
       "            조미료            5\n",
       "            과일             3\n",
       "            속옷/양말/홈웨어      3\n",
       "                          ..\n",
       "M999962961  생활/주방가전        1\n",
       "            시즌스포츠          1\n",
       "            양곡             1\n",
       "            여행/레저서비스       1\n",
       "            주방잡화           1\n",
       "Name: clac_hlv_nm, Length: 496399, dtype: int64"
      ]
     },
     "execution_count": 33,
     "metadata": {},
     "output_type": "execute_result"
    }
   ],
   "source": [
    "df24.groupby(['cust'])['clac_hlv_nm'].value_counts()"
   ]
  },
  {
   "cell_type": "code",
   "execution_count": 34,
   "metadata": {
    "ExecuteTime": {
     "end_time": "2022-08-11T06:48:58.615524Z",
     "start_time": "2022-08-11T06:48:58.256510Z"
    }
   },
   "outputs": [
    {
     "data": {
      "text/plain": [
       "cust\n",
       "M000034966     42\n",
       "M000136117     85\n",
       "M000201112     20\n",
       "M000225114    135\n",
       "M000261625     60\n",
       "             ... \n",
       "M999599111     29\n",
       "M999673157     21\n",
       "M999770689    278\n",
       "M999849895     65\n",
       "M999962961    294\n",
       "Name: clac_hlv_nm, Length: 26913, dtype: int64"
      ]
     },
     "execution_count": 34,
     "metadata": {},
     "output_type": "execute_result"
    }
   ],
   "source": [
    "df24.groupby(['cust'])['clac_hlv_nm'].count()"
   ]
  },
  {
   "cell_type": "code",
   "execution_count": 35,
   "metadata": {
    "ExecuteTime": {
     "end_time": "2022-08-11T06:48:58.977650Z",
     "start_time": "2022-08-11T06:48:58.617533Z"
    }
   },
   "outputs": [
    {
     "data": {
      "text/plain": [
       "count    26913.000000\n",
       "mean       137.861814\n",
       "std        176.425293\n",
       "min          1.000000\n",
       "25%         25.000000\n",
       "50%         74.000000\n",
       "75%        182.000000\n",
       "max       2078.000000\n",
       "Name: clac_hlv_nm, dtype: float64"
      ]
     },
     "execution_count": 35,
     "metadata": {},
     "output_type": "execute_result"
    }
   ],
   "source": [
    "df24.groupby(['cust'])['clac_hlv_nm'].count().describe()"
   ]
  },
  {
   "cell_type": "code",
   "execution_count": 36,
   "metadata": {
    "ExecuteTime": {
     "end_time": "2022-08-11T06:48:59.715822Z",
     "start_time": "2022-08-11T06:48:58.980652Z"
    }
   },
   "outputs": [
    {
     "data": {
      "text/plain": [
       "cust        clac_hlv_nm\n",
       "M000034966  건해산물            1\n",
       "            과일              3\n",
       "            과자              6\n",
       "            냉동식품            1\n",
       "            대용식             1\n",
       "                           ..\n",
       "M999962961  커피/차            5\n",
       "            테넌트/음식점         3\n",
       "            패션잡화            5\n",
       "            퍼스널케어           6\n",
       "            화장품/뷰티케어       10\n",
       "Name: clac_hlv_nm, Length: 496399, dtype: int64"
      ]
     },
     "execution_count": 36,
     "metadata": {},
     "output_type": "execute_result"
    }
   ],
   "source": [
    "df24.groupby(['cust','clac_hlv_nm'])['clac_hlv_nm'].count()"
   ]
  },
  {
   "cell_type": "code",
   "execution_count": 37,
   "metadata": {
    "ExecuteTime": {
     "end_time": "2022-08-11T06:49:00.466096Z",
     "start_time": "2022-08-11T06:48:59.718820Z"
    }
   },
   "outputs": [
    {
     "data": {
      "text/html": [
       "<div>\n",
       "<style scoped>\n",
       "    .dataframe tbody tr th:only-of-type {\n",
       "        vertical-align: middle;\n",
       "    }\n",
       "\n",
       "    .dataframe tbody tr th {\n",
       "        vertical-align: top;\n",
       "    }\n",
       "\n",
       "    .dataframe thead th {\n",
       "        text-align: right;\n",
       "    }\n",
       "</style>\n",
       "<table border=\"1\" class=\"dataframe\">\n",
       "  <thead>\n",
       "    <tr style=\"text-align: right;\">\n",
       "      <th></th>\n",
       "      <th>cust</th>\n",
       "      <th>clac_hlv_nm</th>\n",
       "      <th>count</th>\n",
       "    </tr>\n",
       "  </thead>\n",
       "  <tbody>\n",
       "    <tr>\n",
       "      <th>0</th>\n",
       "      <td>M000034966</td>\n",
       "      <td>건해산물</td>\n",
       "      <td>1</td>\n",
       "    </tr>\n",
       "    <tr>\n",
       "      <th>1</th>\n",
       "      <td>M000034966</td>\n",
       "      <td>과일</td>\n",
       "      <td>3</td>\n",
       "    </tr>\n",
       "    <tr>\n",
       "      <th>2</th>\n",
       "      <td>M000034966</td>\n",
       "      <td>과자</td>\n",
       "      <td>6</td>\n",
       "    </tr>\n",
       "    <tr>\n",
       "      <th>3</th>\n",
       "      <td>M000034966</td>\n",
       "      <td>냉동식품</td>\n",
       "      <td>1</td>\n",
       "    </tr>\n",
       "    <tr>\n",
       "      <th>4</th>\n",
       "      <td>M000034966</td>\n",
       "      <td>대용식</td>\n",
       "      <td>1</td>\n",
       "    </tr>\n",
       "  </tbody>\n",
       "</table>\n",
       "</div>"
      ],
      "text/plain": [
       "         cust clac_hlv_nm  count\n",
       "0  M000034966        건해산물      1\n",
       "1  M000034966          과일      3\n",
       "2  M000034966          과자      6\n",
       "3  M000034966        냉동식품      1\n",
       "4  M000034966         대용식      1"
      ]
     },
     "execution_count": 37,
     "metadata": {},
     "output_type": "execute_result"
    }
   ],
   "source": [
    "p1=pd.DataFrame({'count' : df24.groupby(['cust','clac_hlv_nm'])['clac_hlv_nm'].count()}).reset_index()\n",
    "p1.head()"
   ]
  },
  {
   "cell_type": "code",
   "execution_count": 38,
   "metadata": {
    "ExecuteTime": {
     "end_time": "2022-08-11T07:03:11.059322Z",
     "start_time": "2022-08-11T06:49:00.468096Z"
    }
   },
   "outputs": [],
   "source": [
    "L=[]\n",
    "for i in p1.cust.unique():\n",
    "    L.append(p1.loc[p1['cust'] == i].nlargest(n=5,columns='count',keep='first')['clac_hlv_nm'].values)"
   ]
  },
  {
   "cell_type": "code",
   "execution_count": 39,
   "metadata": {
    "ExecuteTime": {
     "end_time": "2022-08-11T07:03:11.135336Z",
     "start_time": "2022-08-11T07:03:11.062323Z"
    }
   },
   "outputs": [
    {
     "data": {
      "text/html": [
       "<div>\n",
       "<style scoped>\n",
       "    .dataframe tbody tr th:only-of-type {\n",
       "        vertical-align: middle;\n",
       "    }\n",
       "\n",
       "    .dataframe tbody tr th {\n",
       "        vertical-align: top;\n",
       "    }\n",
       "\n",
       "    .dataframe thead th {\n",
       "        text-align: right;\n",
       "    }\n",
       "</style>\n",
       "<table border=\"1\" class=\"dataframe\">\n",
       "  <thead>\n",
       "    <tr style=\"text-align: right;\">\n",
       "      <th></th>\n",
       "      <th>cust</th>\n",
       "      <th>Top5상품</th>\n",
       "    </tr>\n",
       "  </thead>\n",
       "  <tbody>\n",
       "    <tr>\n",
       "      <th>0</th>\n",
       "      <td>M000034966</td>\n",
       "      <td>[채소, 과자, 조미료, 과일, 속옷/양말/홈웨어]</td>\n",
       "    </tr>\n",
       "    <tr>\n",
       "      <th>1</th>\n",
       "      <td>M000136117</td>\n",
       "      <td>[여성의류, 침구/수예, 패션잡화, 남성의류, 세제/위생]</td>\n",
       "    </tr>\n",
       "    <tr>\n",
       "      <th>2</th>\n",
       "      <td>M000201112</td>\n",
       "      <td>[대용식, 과자, 음료, 조리식품, 냉장식품]</td>\n",
       "    </tr>\n",
       "    <tr>\n",
       "      <th>3</th>\n",
       "      <td>M000225114</td>\n",
       "      <td>[과자, 냉장식품, 조리식품, 과일, 채소]</td>\n",
       "    </tr>\n",
       "    <tr>\n",
       "      <th>4</th>\n",
       "      <td>M000261625</td>\n",
       "      <td>[화장품/뷰티케어, 테넌트/음식점, 퍼스널케어, 모바일, 속옷/양말/홈웨어]</td>\n",
       "    </tr>\n",
       "    <tr>\n",
       "      <th>...</th>\n",
       "      <td>...</td>\n",
       "      <td>...</td>\n",
       "    </tr>\n",
       "    <tr>\n",
       "      <th>26908</th>\n",
       "      <td>M999599111</td>\n",
       "      <td>[유제품, 축산물, 담배, 대용식, 과자]</td>\n",
       "    </tr>\n",
       "    <tr>\n",
       "      <th>26909</th>\n",
       "      <td>M999673157</td>\n",
       "      <td>[담배, 과자, 기타(비상품), 남성의류, 테넌트/음식점]</td>\n",
       "    </tr>\n",
       "    <tr>\n",
       "      <th>26910</th>\n",
       "      <td>M999770689</td>\n",
       "      <td>[조리식품, 과자, 대용식, 음료, 테넌트/음식점]</td>\n",
       "    </tr>\n",
       "    <tr>\n",
       "      <th>26911</th>\n",
       "      <td>M999849895</td>\n",
       "      <td>[기타(비상품), 냉장식품, 과자, 조미료, 수산물]</td>\n",
       "    </tr>\n",
       "    <tr>\n",
       "      <th>26912</th>\n",
       "      <td>M999962961</td>\n",
       "      <td>[채소, 과일, 주류, 축산물, 유제품]</td>\n",
       "    </tr>\n",
       "  </tbody>\n",
       "</table>\n",
       "<p>26913 rows × 2 columns</p>\n",
       "</div>"
      ],
      "text/plain": [
       "             cust                                      Top5상품\n",
       "0      M000034966                [채소, 과자, 조미료, 과일, 속옷/양말/홈웨어]\n",
       "1      M000136117            [여성의류, 침구/수예, 패션잡화, 남성의류, 세제/위생]\n",
       "2      M000201112                   [대용식, 과자, 음료, 조리식품, 냉장식품]\n",
       "3      M000225114                    [과자, 냉장식품, 조리식품, 과일, 채소]\n",
       "4      M000261625  [화장품/뷰티케어, 테넌트/음식점, 퍼스널케어, 모바일, 속옷/양말/홈웨어]\n",
       "...           ...                                         ...\n",
       "26908  M999599111                     [유제품, 축산물, 담배, 대용식, 과자]\n",
       "26909  M999673157            [담배, 과자, 기타(비상품), 남성의류, 테넌트/음식점]\n",
       "26910  M999770689                [조리식품, 과자, 대용식, 음료, 테넌트/음식점]\n",
       "26911  M999849895               [기타(비상품), 냉장식품, 과자, 조미료, 수산물]\n",
       "26912  M999962961                      [채소, 과일, 주류, 축산물, 유제품]\n",
       "\n",
       "[26913 rows x 2 columns]"
      ]
     },
     "execution_count": 39,
     "metadata": {},
     "output_type": "execute_result"
    }
   ],
   "source": [
    "p2=pd.DataFrame({'cust':p1.cust.unique(),'Top5상품':L})\n",
    "p2"
   ]
  },
  {
   "cell_type": "code",
   "execution_count": 52,
   "metadata": {
    "ExecuteTime": {
     "end_time": "2022-08-11T07:49:10.638822Z",
     "start_time": "2022-08-11T07:47:24.549523Z"
    }
   },
   "outputs": [],
   "source": [
    "L1=[]\n",
    "for i in p2.cust.unique():\n",
    "    sum=0\n",
    "    for products in p2[p2['cust']==i].Top5상품.values:\n",
    "        for j in products:\n",
    "            sum+=float(df4.loc[df4['clac_hlv_nm']==j, 'buy_am_per_ct'].mean())\n",
    "    L1.append(sum)"
   ]
  },
  {
   "cell_type": "code",
   "execution_count": 53,
   "metadata": {
    "ExecuteTime": {
     "end_time": "2022-08-11T07:49:10.713753Z",
     "start_time": "2022-08-11T07:49:10.642805Z"
    }
   },
   "outputs": [
    {
     "data": {
      "text/html": [
       "<div>\n",
       "<style scoped>\n",
       "    .dataframe tbody tr th:only-of-type {\n",
       "        vertical-align: middle;\n",
       "    }\n",
       "\n",
       "    .dataframe tbody tr th {\n",
       "        vertical-align: top;\n",
       "    }\n",
       "\n",
       "    .dataframe thead th {\n",
       "        text-align: right;\n",
       "    }\n",
       "</style>\n",
       "<table border=\"1\" class=\"dataframe\">\n",
       "  <thead>\n",
       "    <tr style=\"text-align: right;\">\n",
       "      <th></th>\n",
       "      <th>cust</th>\n",
       "      <th>Top5상품</th>\n",
       "      <th>Top5상품금액</th>\n",
       "    </tr>\n",
       "  </thead>\n",
       "  <tbody>\n",
       "    <tr>\n",
       "      <th>0</th>\n",
       "      <td>M000034966</td>\n",
       "      <td>[채소, 과자, 조미료, 과일, 속옷/양말/홈웨어]</td>\n",
       "      <td>64592.990860</td>\n",
       "    </tr>\n",
       "    <tr>\n",
       "      <th>1</th>\n",
       "      <td>M000136117</td>\n",
       "      <td>[여성의류, 침구/수예, 패션잡화, 남성의류, 세제/위생]</td>\n",
       "      <td>930174.155987</td>\n",
       "    </tr>\n",
       "    <tr>\n",
       "      <th>2</th>\n",
       "      <td>M000201112</td>\n",
       "      <td>[대용식, 과자, 음료, 조리식품, 냉장식품]</td>\n",
       "      <td>27313.428293</td>\n",
       "    </tr>\n",
       "    <tr>\n",
       "      <th>3</th>\n",
       "      <td>M000225114</td>\n",
       "      <td>[과자, 냉장식품, 조리식품, 과일, 채소]</td>\n",
       "      <td>44512.704155</td>\n",
       "    </tr>\n",
       "    <tr>\n",
       "      <th>4</th>\n",
       "      <td>M000261625</td>\n",
       "      <td>[화장품/뷰티케어, 테넌트/음식점, 퍼스널케어, 모바일, 속옷/양말/홈웨어]</td>\n",
       "      <td>323982.793909</td>\n",
       "    </tr>\n",
       "    <tr>\n",
       "      <th>...</th>\n",
       "      <td>...</td>\n",
       "      <td>...</td>\n",
       "      <td>...</td>\n",
       "    </tr>\n",
       "    <tr>\n",
       "      <th>26908</th>\n",
       "      <td>M999599111</td>\n",
       "      <td>[유제품, 축산물, 담배, 대용식, 과자]</td>\n",
       "      <td>40245.850143</td>\n",
       "    </tr>\n",
       "    <tr>\n",
       "      <th>26909</th>\n",
       "      <td>M999673157</td>\n",
       "      <td>[담배, 과자, 기타(비상품), 남성의류, 테넌트/음식점]</td>\n",
       "      <td>282347.402847</td>\n",
       "    </tr>\n",
       "    <tr>\n",
       "      <th>26910</th>\n",
       "      <td>M999770689</td>\n",
       "      <td>[조리식품, 과자, 대용식, 음료, 테넌트/음식점]</td>\n",
       "      <td>42919.095907</td>\n",
       "    </tr>\n",
       "    <tr>\n",
       "      <th>26911</th>\n",
       "      <td>M999849895</td>\n",
       "      <td>[기타(비상품), 냉장식품, 과자, 조미료, 수산물]</td>\n",
       "      <td>57991.090917</td>\n",
       "    </tr>\n",
       "    <tr>\n",
       "      <th>26912</th>\n",
       "      <td>M999962961</td>\n",
       "      <td>[채소, 과일, 주류, 축산물, 유제품]</td>\n",
       "      <td>70752.190399</td>\n",
       "    </tr>\n",
       "  </tbody>\n",
       "</table>\n",
       "<p>26913 rows × 3 columns</p>\n",
       "</div>"
      ],
      "text/plain": [
       "             cust                                      Top5상품       Top5상품금액\n",
       "0      M000034966                [채소, 과자, 조미료, 과일, 속옷/양말/홈웨어]   64592.990860\n",
       "1      M000136117            [여성의류, 침구/수예, 패션잡화, 남성의류, 세제/위생]  930174.155987\n",
       "2      M000201112                   [대용식, 과자, 음료, 조리식품, 냉장식품]   27313.428293\n",
       "3      M000225114                    [과자, 냉장식품, 조리식품, 과일, 채소]   44512.704155\n",
       "4      M000261625  [화장품/뷰티케어, 테넌트/음식점, 퍼스널케어, 모바일, 속옷/양말/홈웨어]  323982.793909\n",
       "...           ...                                         ...            ...\n",
       "26908  M999599111                     [유제품, 축산물, 담배, 대용식, 과자]   40245.850143\n",
       "26909  M999673157            [담배, 과자, 기타(비상품), 남성의류, 테넌트/음식점]  282347.402847\n",
       "26910  M999770689                [조리식품, 과자, 대용식, 음료, 테넌트/음식점]   42919.095907\n",
       "26911  M999849895               [기타(비상품), 냉장식품, 과자, 조미료, 수산물]   57991.090917\n",
       "26912  M999962961                      [채소, 과일, 주류, 축산물, 유제품]   70752.190399\n",
       "\n",
       "[26913 rows x 3 columns]"
      ]
     },
     "execution_count": 53,
     "metadata": {},
     "output_type": "execute_result"
    }
   ],
   "source": [
    "p3=pd.DataFrame({'cust':p1.cust.unique(),'Top5상품':L,'Top5상품금액':L1})\n",
    "p3"
   ]
  },
  {
   "cell_type": "code",
   "execution_count": 54,
   "metadata": {
    "ExecuteTime": {
     "end_time": "2022-08-11T07:49:10.803759Z",
     "start_time": "2022-08-11T07:49:10.716741Z"
    }
   },
   "outputs": [
    {
     "data": {
      "text/html": [
       "<div>\n",
       "<style scoped>\n",
       "    .dataframe tbody tr th:only-of-type {\n",
       "        vertical-align: middle;\n",
       "    }\n",
       "\n",
       "    .dataframe tbody tr th {\n",
       "        vertical-align: top;\n",
       "    }\n",
       "\n",
       "    .dataframe thead th {\n",
       "        text-align: right;\n",
       "    }\n",
       "</style>\n",
       "<table border=\"1\" class=\"dataframe\">\n",
       "  <thead>\n",
       "    <tr style=\"text-align: right;\">\n",
       "      <th></th>\n",
       "      <th>cust</th>\n",
       "      <th>ma_fem_dv</th>\n",
       "      <th>ages</th>\n",
       "      <th>zon_hlv</th>\n",
       "      <th>purchase_list</th>\n",
       "      <th>Top5상품</th>\n",
       "      <th>Top5상품금액</th>\n",
       "    </tr>\n",
       "  </thead>\n",
       "  <tbody>\n",
       "    <tr>\n",
       "      <th>0</th>\n",
       "      <td>M000034966</td>\n",
       "      <td>여성</td>\n",
       "      <td>40대</td>\n",
       "      <td>Z07</td>\n",
       "      <td>['PD0116', 'PD0169', 'PD0178', 'PD0204', 'PD02...</td>\n",
       "      <td>[채소, 과자, 조미료, 과일, 속옷/양말/홈웨어]</td>\n",
       "      <td>64592.990860</td>\n",
       "    </tr>\n",
       "    <tr>\n",
       "      <th>1</th>\n",
       "      <td>M000059535</td>\n",
       "      <td>여성</td>\n",
       "      <td>30대</td>\n",
       "      <td>Z12</td>\n",
       "      <td>['']</td>\n",
       "      <td>0번 구매</td>\n",
       "      <td>0.000000</td>\n",
       "    </tr>\n",
       "    <tr>\n",
       "      <th>2</th>\n",
       "      <td>M000136117</td>\n",
       "      <td>여성</td>\n",
       "      <td>30대</td>\n",
       "      <td>Z11</td>\n",
       "      <td>['PD0173', 'PD0197', 'PD0290', 'PD0296', 'PD02...</td>\n",
       "      <td>[여성의류, 침구/수예, 패션잡화, 남성의류, 세제/위생]</td>\n",
       "      <td>930174.155987</td>\n",
       "    </tr>\n",
       "    <tr>\n",
       "      <th>3</th>\n",
       "      <td>M000201112</td>\n",
       "      <td>여성</td>\n",
       "      <td>50대</td>\n",
       "      <td>Z17</td>\n",
       "      <td>['PD0217', 'PD0220', 'PD0230', 'PD0282', 'PD03...</td>\n",
       "      <td>[대용식, 과자, 음료, 조리식품, 냉장식품]</td>\n",
       "      <td>27313.428293</td>\n",
       "    </tr>\n",
       "    <tr>\n",
       "      <th>4</th>\n",
       "      <td>M000225114</td>\n",
       "      <td>여성</td>\n",
       "      <td>40대</td>\n",
       "      <td>Z17</td>\n",
       "      <td>['PD0178', 'PD0197', 'PD0209', 'PD0218', 'PD02...</td>\n",
       "      <td>[과자, 냉장식품, 조리식품, 과일, 채소]</td>\n",
       "      <td>44512.704155</td>\n",
       "    </tr>\n",
       "  </tbody>\n",
       "</table>\n",
       "</div>"
      ],
      "text/plain": [
       "         cust ma_fem_dv ages zon_hlv  \\\n",
       "0  M000034966        여성  40대     Z07   \n",
       "1  M000059535        여성  30대     Z12   \n",
       "2  M000136117        여성  30대     Z11   \n",
       "3  M000201112        여성  50대     Z17   \n",
       "4  M000225114        여성  40대     Z17   \n",
       "\n",
       "                                       purchase_list  \\\n",
       "0  ['PD0116', 'PD0169', 'PD0178', 'PD0204', 'PD02...   \n",
       "1                                               ['']   \n",
       "2  ['PD0173', 'PD0197', 'PD0290', 'PD0296', 'PD02...   \n",
       "3  ['PD0217', 'PD0220', 'PD0230', 'PD0282', 'PD03...   \n",
       "4  ['PD0178', 'PD0197', 'PD0209', 'PD0218', 'PD02...   \n",
       "\n",
       "                             Top5상품       Top5상품금액  \n",
       "0      [채소, 과자, 조미료, 과일, 속옷/양말/홈웨어]   64592.990860  \n",
       "1                             0번 구매       0.000000  \n",
       "2  [여성의류, 침구/수예, 패션잡화, 남성의류, 세제/위생]  930174.155987  \n",
       "3         [대용식, 과자, 음료, 조리식품, 냉장식품]   27313.428293  \n",
       "4          [과자, 냉장식품, 조리식품, 과일, 채소]   44512.704155  "
      ]
     },
     "execution_count": 54,
     "metadata": {},
     "output_type": "execute_result"
    }
   ],
   "source": [
    "cust = pd.merge(cust, p3, how='outer',on='cust')\n",
    "cust['Top5상품'].fillna('0번 구매',inplace=True)\n",
    "cust['Top5상품금액'].fillna(0,inplace=True)\n",
    "cust.head()"
   ]
  },
  {
   "cell_type": "markdown",
   "metadata": {},
   "source": [
    "# 고객별 구매주기\n",
    "- 고객의 구매에 대한 정보가 담긴 data2, data3, data6의 구매시간 변수를 통해 구매주기를 구했습니다.\n",
    "- 전체 구매, 유통사 구매, 제휴사 이용, LPAY 결제에 대한 주기를 각각 구했습니다.\n",
    "- 고객의 구매 데이터에서 두 번 이상의 구매가 나타날 경우 주기를 표기하였고 구매 내역이 없거나 한 번의 구매만 나타난 경우 각각 '0번 구매', '1번 구매'로 표기했습니다."
   ]
  },
  {
   "cell_type": "code",
   "execution_count": 6,
   "metadata": {
    "ExecuteTime": {
     "end_time": "2022-08-11T07:49:15.564868Z",
     "start_time": "2022-08-11T07:49:10.806764Z"
    }
   },
   "outputs": [],
   "source": [
    "only_data2 = pd.read_csv('../3. LOTTO_데이터 및 모델 세이브 파일/clustering/only_data2.csv', index_col=0)\n",
    "only_data3 = pd.read_csv('../3. LOTTO_데이터 및 모델 세이브 파일/clustering/only_data3.csv', index_col=0)\n",
    "only_data6 = pd.read_csv('../3. LOTTO_데이터 및 모델 세이브 파일/clustering/only_data6.csv', index_col=0)"
   ]
  },
  {
   "cell_type": "code",
   "execution_count": 56,
   "metadata": {
    "ExecuteTime": {
     "end_time": "2022-08-11T07:49:15.745893Z",
     "start_time": "2022-08-11T07:49:15.567852Z"
    }
   },
   "outputs": [
    {
     "data": {
      "text/html": [
       "<div>\n",
       "<style scoped>\n",
       "    .dataframe tbody tr th:only-of-type {\n",
       "        vertical-align: middle;\n",
       "    }\n",
       "\n",
       "    .dataframe tbody tr th {\n",
       "        vertical-align: top;\n",
       "    }\n",
       "\n",
       "    .dataframe thead th {\n",
       "        text-align: right;\n",
       "    }\n",
       "</style>\n",
       "<table border=\"1\" class=\"dataframe\">\n",
       "  <thead>\n",
       "    <tr style=\"text-align: right;\">\n",
       "      <th></th>\n",
       "      <th>cust</th>\n",
       "      <th>rct_no</th>\n",
       "      <th>cop_c</th>\n",
       "      <th>chnl_dv</th>\n",
       "      <th>de_dt</th>\n",
       "      <th>de_hr</th>\n",
       "      <th>buy_am</th>\n",
       "    </tr>\n",
       "  </thead>\n",
       "  <tbody>\n",
       "    <tr>\n",
       "      <th>0</th>\n",
       "      <td>M629656521</td>\n",
       "      <td>210803210311226</td>\n",
       "      <td>A03</td>\n",
       "      <td>1</td>\n",
       "      <td>20210803</td>\n",
       "      <td>21</td>\n",
       "      <td>10900</td>\n",
       "    </tr>\n",
       "    <tr>\n",
       "      <th>2</th>\n",
       "      <td>M205142844</td>\n",
       "      <td>210803140275112</td>\n",
       "      <td>A02</td>\n",
       "      <td>1</td>\n",
       "      <td>20210803</td>\n",
       "      <td>14</td>\n",
       "      <td>9000</td>\n",
       "    </tr>\n",
       "    <tr>\n",
       "      <th>3</th>\n",
       "      <td>M737010483</td>\n",
       "      <td>210803040637594</td>\n",
       "      <td>A06</td>\n",
       "      <td>2</td>\n",
       "      <td>20210803</td>\n",
       "      <td>4</td>\n",
       "      <td>36740</td>\n",
       "    </tr>\n",
       "    <tr>\n",
       "      <th>4</th>\n",
       "      <td>M707775545</td>\n",
       "      <td>210803140675502</td>\n",
       "      <td>A06</td>\n",
       "      <td>2</td>\n",
       "      <td>20210803</td>\n",
       "      <td>14</td>\n",
       "      <td>138500</td>\n",
       "    </tr>\n",
       "    <tr>\n",
       "      <th>5</th>\n",
       "      <td>M848083175</td>\n",
       "      <td>210803180197432</td>\n",
       "      <td>A01</td>\n",
       "      <td>1</td>\n",
       "      <td>20210803</td>\n",
       "      <td>18</td>\n",
       "      <td>14000</td>\n",
       "    </tr>\n",
       "  </tbody>\n",
       "</table>\n",
       "</div>"
      ],
      "text/plain": [
       "         cust           rct_no cop_c  chnl_dv     de_dt  de_hr  buy_am\n",
       "0  M629656521  210803210311226   A03        1  20210803     21   10900\n",
       "2  M205142844  210803140275112   A02        1  20210803     14    9000\n",
       "3  M737010483  210803040637594   A06        2  20210803      4   36740\n",
       "4  M707775545  210803140675502   A06        2  20210803     14  138500\n",
       "5  M848083175  210803180197432   A01        1  20210803     18   14000"
      ]
     },
     "execution_count": 56,
     "metadata": {},
     "output_type": "execute_result"
    }
   ],
   "source": [
    "df6_2 = only_data6[only_data6['cop_c'].apply(lambda x: x[0]) == 'A']\n",
    "df6_3 = only_data6[only_data6['cop_c'].apply(lambda x: x[0]) != 'A']\n",
    "df6_2.head()"
   ]
  },
  {
   "cell_type": "code",
   "execution_count": 57,
   "metadata": {
    "ExecuteTime": {
     "end_time": "2022-08-11T07:49:16.106967Z",
     "start_time": "2022-08-11T07:49:15.747886Z"
    }
   },
   "outputs": [
    {
     "data": {
      "text/html": [
       "<div>\n",
       "<style scoped>\n",
       "    .dataframe tbody tr th:only-of-type {\n",
       "        vertical-align: middle;\n",
       "    }\n",
       "\n",
       "    .dataframe tbody tr th {\n",
       "        vertical-align: top;\n",
       "    }\n",
       "\n",
       "    .dataframe thead th {\n",
       "        text-align: right;\n",
       "    }\n",
       "</style>\n",
       "<table border=\"1\" class=\"dataframe\">\n",
       "  <thead>\n",
       "    <tr style=\"text-align: right;\">\n",
       "      <th></th>\n",
       "      <th>cust</th>\n",
       "      <th>rct_no</th>\n",
       "      <th>chnl_dv</th>\n",
       "      <th>cop_c</th>\n",
       "      <th>br_c</th>\n",
       "      <th>pd_c</th>\n",
       "      <th>de_dt</th>\n",
       "      <th>de_hr</th>\n",
       "      <th>buy_am</th>\n",
       "      <th>buy_ct</th>\n",
       "    </tr>\n",
       "  </thead>\n",
       "  <tbody>\n",
       "    <tr>\n",
       "      <th>0</th>\n",
       "      <td>M000034966</td>\n",
       "      <td>A01016688590</td>\n",
       "      <td>1</td>\n",
       "      <td>A01</td>\n",
       "      <td>A010045</td>\n",
       "      <td>PD0777</td>\n",
       "      <td>20210116</td>\n",
       "      <td>18</td>\n",
       "      <td>78000.0</td>\n",
       "      <td>2.0</td>\n",
       "    </tr>\n",
       "    <tr>\n",
       "      <th>1</th>\n",
       "      <td>M000034966</td>\n",
       "      <td>A01016688590</td>\n",
       "      <td>1</td>\n",
       "      <td>A01</td>\n",
       "      <td>A010045</td>\n",
       "      <td>PD0796</td>\n",
       "      <td>20210116</td>\n",
       "      <td>18</td>\n",
       "      <td>100.0</td>\n",
       "      <td>1.0</td>\n",
       "    </tr>\n",
       "    <tr>\n",
       "      <th>2</th>\n",
       "      <td>M000034966</td>\n",
       "      <td>A01016718167</td>\n",
       "      <td>1</td>\n",
       "      <td>A01</td>\n",
       "      <td>A010045</td>\n",
       "      <td>PD0816</td>\n",
       "      <td>20210116</td>\n",
       "      <td>18</td>\n",
       "      <td>62100.0</td>\n",
       "      <td>1.0</td>\n",
       "    </tr>\n",
       "    <tr>\n",
       "      <th>3</th>\n",
       "      <td>M000034966</td>\n",
       "      <td>A02357398521</td>\n",
       "      <td>1</td>\n",
       "      <td>A02</td>\n",
       "      <td>A020116</td>\n",
       "      <td>PD0616</td>\n",
       "      <td>20210325</td>\n",
       "      <td>13</td>\n",
       "      <td>17900.0</td>\n",
       "      <td>2.0</td>\n",
       "    </tr>\n",
       "    <tr>\n",
       "      <th>4</th>\n",
       "      <td>M000034966</td>\n",
       "      <td>A02357398521</td>\n",
       "      <td>1</td>\n",
       "      <td>A02</td>\n",
       "      <td>A020116</td>\n",
       "      <td>PD0630</td>\n",
       "      <td>20210325</td>\n",
       "      <td>13</td>\n",
       "      <td>59700.0</td>\n",
       "      <td>3.0</td>\n",
       "    </tr>\n",
       "  </tbody>\n",
       "</table>\n",
       "</div>"
      ],
      "text/plain": [
       "         cust        rct_no  chnl_dv cop_c     br_c    pd_c     de_dt  de_hr  \\\n",
       "0  M000034966  A01016688590        1   A01  A010045  PD0777  20210116     18   \n",
       "1  M000034966  A01016688590        1   A01  A010045  PD0796  20210116     18   \n",
       "2  M000034966  A01016718167        1   A01  A010045  PD0816  20210116     18   \n",
       "3  M000034966  A02357398521        1   A02  A020116  PD0616  20210325     13   \n",
       "4  M000034966  A02357398521        1   A02  A020116  PD0630  20210325     13   \n",
       "\n",
       "    buy_am  buy_ct  \n",
       "0  78000.0     2.0  \n",
       "1    100.0     1.0  \n",
       "2  62100.0     1.0  \n",
       "3  17900.0     2.0  \n",
       "4  59700.0     3.0  "
      ]
     },
     "execution_count": 57,
     "metadata": {},
     "output_type": "execute_result"
    }
   ],
   "source": [
    "data2_1 = pd.concat([only_data2, df6_2])\n",
    "data3_1 = pd.concat([only_data3, df6_3])\n",
    "data2_1.head()"
   ]
  },
  {
   "cell_type": "markdown",
   "metadata": {},
   "source": [
    "## data2"
   ]
  },
  {
   "cell_type": "code",
   "execution_count": 58,
   "metadata": {
    "ExecuteTime": {
     "end_time": "2022-08-11T07:49:18.470805Z",
     "start_time": "2022-08-11T07:49:16.109968Z"
    }
   },
   "outputs": [
    {
     "name": "stdout",
     "output_type": "stream",
     "text": [
      "고객과 이용일자가 중복된 데이터의 개수 2988359\n",
      "고객과 이용일자가 중복되지 않은 데이터의 개수: 912232\n"
     ]
    }
   ],
   "source": [
    "data2_1['de_dt']=pd.to_datetime(data2_1.de_dt.apply(str)) #날짜 형태로 바꿈\n",
    "dup = data2_1[['cust','de_dt']].duplicated()\n",
    "print('고객과 이용일자가 중복된 데이터의 개수',len(dup[dup==True]))\n",
    "print('고객과 이용일자가 중복되지 않은 데이터의 개수:',len(dup[dup==False]))"
   ]
  },
  {
   "cell_type": "code",
   "execution_count": 59,
   "metadata": {
    "ExecuteTime": {
     "end_time": "2022-08-11T07:49:19.432509Z",
     "start_time": "2022-08-11T07:49:18.473805Z"
    }
   },
   "outputs": [],
   "source": [
    "df2=data2_1[['cust','de_dt']][dup==False]\n",
    "A1=pd.DataFrame({'annual_count' : df2.groupby(['cust'])['de_dt'].count()}).reset_index()\n",
    "Only_one_purchase=A1.loc[A1['annual_count'] == 1].cust.values\n",
    "A2=pd.DataFrame({'count' : df2.groupby(['cust','de_dt'])['de_dt'].count()}).reset_index()\n",
    "idx = A2[A2['cust'].isin(Only_one_purchase)].index\n",
    "A2.drop(idx,inplace=True)\n",
    "A3=A2.groupby(['cust','de_dt'])['de_dt'].count()"
   ]
  },
  {
   "cell_type": "code",
   "execution_count": 60,
   "metadata": {
    "ExecuteTime": {
     "end_time": "2022-08-11T07:49:35.881921Z",
     "start_time": "2022-08-11T07:49:19.435517Z"
    }
   },
   "outputs": [],
   "source": [
    "customer,time=A3.index[0]\n",
    "Distance=[]\n",
    "L=[]\n",
    "for i,j in A3.index[1:]:\n",
    "    if customer==i:\n",
    "        Distance.append(j-time)\n",
    "        time=j\n",
    "    else:\n",
    "        mean=pd.Series(Distance).mean()\n",
    "        L.append(mean)\n",
    "        Distance=[]\n",
    "        customer=i\n",
    "        time=j\n",
    "mean=pd.Series(Distance).mean()\n",
    "L.append(mean)"
   ]
  },
  {
   "cell_type": "code",
   "execution_count": 61,
   "metadata": {
    "ExecuteTime": {
     "end_time": "2022-08-11T07:49:36.063958Z",
     "start_time": "2022-08-11T07:49:35.884920Z"
    }
   },
   "outputs": [],
   "source": [
    "cycle2=pd.DataFrame({'cust':A2.cust.unique(),'유통평균주기':L})\n",
    "one2=pd.DataFrame({'cust':Only_one_purchase,'유통평균주기':'1번 구매'})"
   ]
  },
  {
   "cell_type": "code",
   "execution_count": 62,
   "metadata": {
    "ExecuteTime": {
     "end_time": "2022-08-11T07:49:36.304427Z",
     "start_time": "2022-08-11T07:49:36.065959Z"
    }
   },
   "outputs": [
    {
     "data": {
      "text/html": [
       "<div>\n",
       "<style scoped>\n",
       "    .dataframe tbody tr th:only-of-type {\n",
       "        vertical-align: middle;\n",
       "    }\n",
       "\n",
       "    .dataframe tbody tr th {\n",
       "        vertical-align: top;\n",
       "    }\n",
       "\n",
       "    .dataframe thead th {\n",
       "        text-align: right;\n",
       "    }\n",
       "</style>\n",
       "<table border=\"1\" class=\"dataframe\">\n",
       "  <thead>\n",
       "    <tr style=\"text-align: right;\">\n",
       "      <th></th>\n",
       "      <th>cust</th>\n",
       "      <th>유통평균주기</th>\n",
       "    </tr>\n",
       "  </thead>\n",
       "  <tbody>\n",
       "    <tr>\n",
       "      <th>0</th>\n",
       "      <td>M000034966</td>\n",
       "      <td>56 days 20:00:00</td>\n",
       "    </tr>\n",
       "    <tr>\n",
       "      <th>1</th>\n",
       "      <td>M000136117</td>\n",
       "      <td>12 days 09:55:51.724137931</td>\n",
       "    </tr>\n",
       "    <tr>\n",
       "      <th>2</th>\n",
       "      <td>M000201112</td>\n",
       "      <td>42 days 00:00:00</td>\n",
       "    </tr>\n",
       "    <tr>\n",
       "      <th>3</th>\n",
       "      <td>M000225114</td>\n",
       "      <td>8 days 05:11:21.081081081</td>\n",
       "    </tr>\n",
       "    <tr>\n",
       "      <th>4</th>\n",
       "      <td>M000261625</td>\n",
       "      <td>16 days 00:00:00</td>\n",
       "    </tr>\n",
       "    <tr>\n",
       "      <th>...</th>\n",
       "      <td>...</td>\n",
       "      <td>...</td>\n",
       "    </tr>\n",
       "    <tr>\n",
       "      <th>1978</th>\n",
       "      <td>M994285756</td>\n",
       "      <td>1번 구매</td>\n",
       "    </tr>\n",
       "    <tr>\n",
       "      <th>1979</th>\n",
       "      <td>M994550219</td>\n",
       "      <td>1번 구매</td>\n",
       "    </tr>\n",
       "    <tr>\n",
       "      <th>1980</th>\n",
       "      <td>M995528586</td>\n",
       "      <td>1번 구매</td>\n",
       "    </tr>\n",
       "    <tr>\n",
       "      <th>1981</th>\n",
       "      <td>M996092967</td>\n",
       "      <td>1번 구매</td>\n",
       "    </tr>\n",
       "    <tr>\n",
       "      <th>1982</th>\n",
       "      <td>M999492154</td>\n",
       "      <td>1번 구매</td>\n",
       "    </tr>\n",
       "  </tbody>\n",
       "</table>\n",
       "<p>27145 rows × 2 columns</p>\n",
       "</div>"
      ],
      "text/plain": [
       "            cust                      유통평균주기\n",
       "0     M000034966            56 days 20:00:00\n",
       "1     M000136117  12 days 09:55:51.724137931\n",
       "2     M000201112            42 days 00:00:00\n",
       "3     M000225114   8 days 05:11:21.081081081\n",
       "4     M000261625            16 days 00:00:00\n",
       "...          ...                         ...\n",
       "1978  M994285756                       1번 구매\n",
       "1979  M994550219                       1번 구매\n",
       "1980  M995528586                       1번 구매\n",
       "1981  M996092967                       1번 구매\n",
       "1982  M999492154                       1번 구매\n",
       "\n",
       "[27145 rows x 2 columns]"
      ]
     },
     "execution_count": 62,
     "metadata": {},
     "output_type": "execute_result"
    }
   ],
   "source": [
    "cycle_one2=pd.concat([cycle2,one2])\n",
    "cycle_one2"
   ]
  },
  {
   "cell_type": "markdown",
   "metadata": {},
   "source": [
    "## data3"
   ]
  },
  {
   "cell_type": "code",
   "execution_count": 63,
   "metadata": {
    "ExecuteTime": {
     "end_time": "2022-08-11T07:49:36.574487Z",
     "start_time": "2022-08-11T07:49:36.306429Z"
    }
   },
   "outputs": [
    {
     "name": "stdout",
     "output_type": "stream",
     "text": [
      "고객과 이용일자가 중복된 데이터의 개수 72801\n",
      "고객과 이용일자가 중복되지 않은 데이터의 개수: 277963\n"
     ]
    }
   ],
   "source": [
    "data3_1['de_dt']=pd.to_datetime(data3_1.de_dt.apply(str)) #날짜 형태로 바꿈\n",
    "dup = data3_1[['cust','de_dt']].duplicated()\n",
    "print('고객과 이용일자가 중복된 데이터의 개수',len(dup[dup==True]))\n",
    "print('고객과 이용일자가 중복되지 않은 데이터의 개수:',len(dup[dup==False]))"
   ]
  },
  {
   "cell_type": "code",
   "execution_count": 64,
   "metadata": {
    "ExecuteTime": {
     "end_time": "2022-08-11T07:49:36.994581Z",
     "start_time": "2022-08-11T07:49:36.576488Z"
    }
   },
   "outputs": [],
   "source": [
    "df3=data3_1[['cust','de_dt']][dup==False]\n",
    "A1=pd.DataFrame({'annual_count' : df3.groupby(['cust'])['de_dt'].count()}).reset_index()\n",
    "Only_one_purchase=A1.loc[A1['annual_count'] == 1].cust.values\n",
    "A2=pd.DataFrame({'count' : df3.groupby(['cust','de_dt'])['de_dt'].count()}).reset_index()\n",
    "idx = A2[A2['cust'].isin(Only_one_purchase)].index\n",
    "A2.drop(idx,inplace=True)\n",
    "A3=A2.groupby(['cust','de_dt'])['de_dt'].count()"
   ]
  },
  {
   "cell_type": "code",
   "execution_count": 65,
   "metadata": {
    "ExecuteTime": {
     "end_time": "2022-08-11T07:49:44.413798Z",
     "start_time": "2022-08-11T07:49:36.996582Z"
    }
   },
   "outputs": [],
   "source": [
    "customer,time=A3.index[0]\n",
    "Distance=[]\n",
    "L=[]\n",
    "for i,j in A3.index[1:]:\n",
    "    if customer==i:\n",
    "        Distance.append(j-time)\n",
    "        time=j\n",
    "    else:\n",
    "        mean=pd.Series(Distance).mean()\n",
    "        L.append(mean)\n",
    "        Distance=[]\n",
    "        customer=i\n",
    "        time=j\n",
    "mean=pd.Series(Distance).mean()\n",
    "L.append(mean)"
   ]
  },
  {
   "cell_type": "code",
   "execution_count": 66,
   "metadata": {
    "ExecuteTime": {
     "end_time": "2022-08-11T07:49:44.520823Z",
     "start_time": "2022-08-11T07:49:44.416800Z"
    }
   },
   "outputs": [],
   "source": [
    "cycle3=pd.DataFrame({'cust':A2.cust.unique(),'제휴평균주기':L})\n",
    "one3=pd.DataFrame({'cust':Only_one_purchase,'제휴평균주기':'1번 구매'})"
   ]
  },
  {
   "cell_type": "code",
   "execution_count": 67,
   "metadata": {
    "ExecuteTime": {
     "end_time": "2022-08-11T07:49:44.715870Z",
     "start_time": "2022-08-11T07:49:44.522824Z"
    }
   },
   "outputs": [
    {
     "data": {
      "text/html": [
       "<div>\n",
       "<style scoped>\n",
       "    .dataframe tbody tr th:only-of-type {\n",
       "        vertical-align: middle;\n",
       "    }\n",
       "\n",
       "    .dataframe tbody tr th {\n",
       "        vertical-align: top;\n",
       "    }\n",
       "\n",
       "    .dataframe thead th {\n",
       "        text-align: right;\n",
       "    }\n",
       "</style>\n",
       "<table border=\"1\" class=\"dataframe\">\n",
       "  <thead>\n",
       "    <tr style=\"text-align: right;\">\n",
       "      <th></th>\n",
       "      <th>cust</th>\n",
       "      <th>제휴평균주기</th>\n",
       "    </tr>\n",
       "  </thead>\n",
       "  <tbody>\n",
       "    <tr>\n",
       "      <th>0</th>\n",
       "      <td>M000136117</td>\n",
       "      <td>20 days 22:17:08.571428571</td>\n",
       "    </tr>\n",
       "    <tr>\n",
       "      <th>1</th>\n",
       "      <td>M000225114</td>\n",
       "      <td>53 days 06:00:00</td>\n",
       "    </tr>\n",
       "    <tr>\n",
       "      <th>2</th>\n",
       "      <td>M000419293</td>\n",
       "      <td>11 days 08:30:58.064516129</td>\n",
       "    </tr>\n",
       "    <tr>\n",
       "      <th>3</th>\n",
       "      <td>M000494848</td>\n",
       "      <td>6 days 23:30:00</td>\n",
       "    </tr>\n",
       "    <tr>\n",
       "      <th>4</th>\n",
       "      <td>M000504230</td>\n",
       "      <td>68 days 00:00:00</td>\n",
       "    </tr>\n",
       "    <tr>\n",
       "      <th>...</th>\n",
       "      <td>...</td>\n",
       "      <td>...</td>\n",
       "    </tr>\n",
       "    <tr>\n",
       "      <th>3658</th>\n",
       "      <td>M997821980</td>\n",
       "      <td>1번 구매</td>\n",
       "    </tr>\n",
       "    <tr>\n",
       "      <th>3659</th>\n",
       "      <td>M998572907</td>\n",
       "      <td>1번 구매</td>\n",
       "    </tr>\n",
       "    <tr>\n",
       "      <th>3660</th>\n",
       "      <td>M999105944</td>\n",
       "      <td>1번 구매</td>\n",
       "    </tr>\n",
       "    <tr>\n",
       "      <th>3661</th>\n",
       "      <td>M999492154</td>\n",
       "      <td>1번 구매</td>\n",
       "    </tr>\n",
       "    <tr>\n",
       "      <th>3662</th>\n",
       "      <td>M999849895</td>\n",
       "      <td>1번 구매</td>\n",
       "    </tr>\n",
       "  </tbody>\n",
       "</table>\n",
       "<p>22107 rows × 2 columns</p>\n",
       "</div>"
      ],
      "text/plain": [
       "            cust                      제휴평균주기\n",
       "0     M000136117  20 days 22:17:08.571428571\n",
       "1     M000225114            53 days 06:00:00\n",
       "2     M000419293  11 days 08:30:58.064516129\n",
       "3     M000494848             6 days 23:30:00\n",
       "4     M000504230            68 days 00:00:00\n",
       "...          ...                         ...\n",
       "3658  M997821980                       1번 구매\n",
       "3659  M998572907                       1번 구매\n",
       "3660  M999105944                       1번 구매\n",
       "3661  M999492154                       1번 구매\n",
       "3662  M999849895                       1번 구매\n",
       "\n",
       "[22107 rows x 2 columns]"
      ]
     },
     "execution_count": 67,
     "metadata": {},
     "output_type": "execute_result"
    }
   ],
   "source": [
    "cycle_one3=pd.concat([cycle3,one3])\n",
    "cycle_one3"
   ]
  },
  {
   "cell_type": "markdown",
   "metadata": {},
   "source": [
    "## data6"
   ]
  },
  {
   "cell_type": "code",
   "execution_count": 68,
   "metadata": {
    "ExecuteTime": {
     "end_time": "2022-08-11T07:49:44.955921Z",
     "start_time": "2022-08-11T07:49:44.717868Z"
    }
   },
   "outputs": [
    {
     "name": "stdout",
     "output_type": "stream",
     "text": [
      "고객과 이용일자가 중복된 데이터의 개수 88484\n",
      "고객과 이용일자가 중복되지 않은 데이터의 개수: 262178\n"
     ]
    }
   ],
   "source": [
    "only_data6['de_dt']=pd.to_datetime(only_data6.de_dt.apply(str)) #날짜 형태로 바꿈\n",
    "dup = only_data6[['cust','de_dt']].duplicated()\n",
    "print('고객과 이용일자가 중복된 데이터의 개수',len(dup[dup==True]))\n",
    "print('고객과 이용일자가 중복되지 않은 데이터의 개수:',len(dup[dup==False]))"
   ]
  },
  {
   "cell_type": "code",
   "execution_count": 69,
   "metadata": {
    "ExecuteTime": {
     "end_time": "2022-08-11T07:49:45.271539Z",
     "start_time": "2022-08-11T07:49:44.957922Z"
    }
   },
   "outputs": [],
   "source": [
    "df6=only_data6[['cust','de_dt']][dup==False]\n",
    "A1=pd.DataFrame({'annual_count' : df6.groupby(['cust'])['de_dt'].count()}).reset_index()\n",
    "Only_one_purchase=A1.loc[A1['annual_count'] == 1].cust.values\n",
    "A2=pd.DataFrame({'count' : df6.groupby(['cust','de_dt'])['de_dt'].count()}).reset_index()\n",
    "idx = A2[A2['cust'].isin(Only_one_purchase)].index\n",
    "A2.drop(idx,inplace=True)\n",
    "A3=A2.groupby(['cust','de_dt'])['de_dt'].count()"
   ]
  },
  {
   "cell_type": "code",
   "execution_count": 70,
   "metadata": {
    "ExecuteTime": {
     "end_time": "2022-08-11T07:49:50.246845Z",
     "start_time": "2022-08-11T07:49:45.274544Z"
    }
   },
   "outputs": [],
   "source": [
    "customer,time=A3.index[0]\n",
    "Distance=[]\n",
    "L=[]\n",
    "for i,j in A3.index[1:]:\n",
    "    if customer==i:\n",
    "        Distance.append(j-time)\n",
    "        time=j\n",
    "    else:\n",
    "        mean=pd.Series(Distance).mean()\n",
    "        L.append(mean)\n",
    "        Distance=[]\n",
    "        customer=i\n",
    "        time=j\n",
    "mean=pd.Series(Distance).mean()\n",
    "L.append(mean)"
   ]
  },
  {
   "cell_type": "code",
   "execution_count": 71,
   "metadata": {
    "ExecuteTime": {
     "end_time": "2022-08-11T07:49:50.322860Z",
     "start_time": "2022-08-11T07:49:50.248845Z"
    }
   },
   "outputs": [],
   "source": [
    "cycle6=pd.DataFrame({'cust':A2.cust.unique(),'Lpay평균주기':L})\n",
    "one6=pd.DataFrame({'cust':Only_one_purchase,'Lpay평균주기':'1번 구매'})"
   ]
  },
  {
   "cell_type": "code",
   "execution_count": 72,
   "metadata": {
    "ExecuteTime": {
     "end_time": "2022-08-11T07:49:50.427904Z",
     "start_time": "2022-08-11T07:49:50.324875Z"
    }
   },
   "outputs": [
    {
     "data": {
      "text/html": [
       "<div>\n",
       "<style scoped>\n",
       "    .dataframe tbody tr th:only-of-type {\n",
       "        vertical-align: middle;\n",
       "    }\n",
       "\n",
       "    .dataframe tbody tr th {\n",
       "        vertical-align: top;\n",
       "    }\n",
       "\n",
       "    .dataframe thead th {\n",
       "        text-align: right;\n",
       "    }\n",
       "</style>\n",
       "<table border=\"1\" class=\"dataframe\">\n",
       "  <thead>\n",
       "    <tr style=\"text-align: right;\">\n",
       "      <th></th>\n",
       "      <th>cust</th>\n",
       "      <th>Lpay평균주기</th>\n",
       "    </tr>\n",
       "  </thead>\n",
       "  <tbody>\n",
       "    <tr>\n",
       "      <th>0</th>\n",
       "      <td>M000136117</td>\n",
       "      <td>106 days 16:00:00</td>\n",
       "    </tr>\n",
       "    <tr>\n",
       "      <th>1</th>\n",
       "      <td>M000419293</td>\n",
       "      <td>11 days 18:12:24.827586206</td>\n",
       "    </tr>\n",
       "    <tr>\n",
       "      <th>2</th>\n",
       "      <td>M000494848</td>\n",
       "      <td>4 days 18:29:11.351351351</td>\n",
       "    </tr>\n",
       "    <tr>\n",
       "      <th>3</th>\n",
       "      <td>M000557840</td>\n",
       "      <td>9 days 22:40:00</td>\n",
       "    </tr>\n",
       "    <tr>\n",
       "      <th>4</th>\n",
       "      <td>M000871427</td>\n",
       "      <td>37 days 12:00:00</td>\n",
       "    </tr>\n",
       "    <tr>\n",
       "      <th>...</th>\n",
       "      <td>...</td>\n",
       "      <td>...</td>\n",
       "    </tr>\n",
       "    <tr>\n",
       "      <th>963</th>\n",
       "      <td>M993616037</td>\n",
       "      <td>1번 구매</td>\n",
       "    </tr>\n",
       "    <tr>\n",
       "      <th>964</th>\n",
       "      <td>M993947013</td>\n",
       "      <td>1번 구매</td>\n",
       "    </tr>\n",
       "    <tr>\n",
       "      <th>965</th>\n",
       "      <td>M997405773</td>\n",
       "      <td>1번 구매</td>\n",
       "    </tr>\n",
       "    <tr>\n",
       "      <th>966</th>\n",
       "      <td>M998600186</td>\n",
       "      <td>1번 구매</td>\n",
       "    </tr>\n",
       "    <tr>\n",
       "      <th>967</th>\n",
       "      <td>M999105944</td>\n",
       "      <td>1번 구매</td>\n",
       "    </tr>\n",
       "  </tbody>\n",
       "</table>\n",
       "<p>8902 rows × 2 columns</p>\n",
       "</div>"
      ],
      "text/plain": [
       "           cust                    Lpay평균주기\n",
       "0    M000136117           106 days 16:00:00\n",
       "1    M000419293  11 days 18:12:24.827586206\n",
       "2    M000494848   4 days 18:29:11.351351351\n",
       "3    M000557840             9 days 22:40:00\n",
       "4    M000871427            37 days 12:00:00\n",
       "..          ...                         ...\n",
       "963  M993616037                       1번 구매\n",
       "964  M993947013                       1번 구매\n",
       "965  M997405773                       1번 구매\n",
       "966  M998600186                       1번 구매\n",
       "967  M999105944                       1번 구매\n",
       "\n",
       "[8902 rows x 2 columns]"
      ]
     },
     "execution_count": 72,
     "metadata": {},
     "output_type": "execute_result"
    }
   ],
   "source": [
    "cycle_one6=pd.concat([cycle6,one6])\n",
    "cycle_one6"
   ]
  },
  {
   "cell_type": "markdown",
   "metadata": {},
   "source": [
    "## 전체"
   ]
  },
  {
   "cell_type": "code",
   "execution_count": 73,
   "metadata": {
    "ExecuteTime": {
     "end_time": "2022-08-11T07:49:53.884077Z",
     "start_time": "2022-08-11T07:49:50.430886Z"
    }
   },
   "outputs": [
    {
     "name": "stdout",
     "output_type": "stream",
     "text": [
      "(고객,이용일자,이용시간이) 중복된 데이터의 개수 3122498\n",
      "(고객,이용일자,이용시간이) 중복되지 않은 데이터의 개수: 1128857\n"
     ]
    }
   ],
   "source": [
    "data236=pd.concat([only_data2[['cust','de_dt']], only_data3[['cust','de_dt']], only_data6[['cust','de_dt']]])\n",
    "data236['de_dt']=pd.to_datetime(data236.de_dt.apply(str)) #날짜 형태로 바꿈\n",
    "dup = data236.duplicated()\n",
    "print('(고객,이용일자,이용시간이) 중복된 데이터의 개수',len(dup[dup==True]))\n",
    "print('(고객,이용일자,이용시간이) 중복되지 않은 데이터의 개수:',len(dup[dup==False]))"
   ]
  },
  {
   "cell_type": "code",
   "execution_count": 74,
   "metadata": {
    "ExecuteTime": {
     "end_time": "2022-08-11T07:49:55.026330Z",
     "start_time": "2022-08-11T07:49:53.890069Z"
    }
   },
   "outputs": [],
   "source": [
    "df236=data236[dup==False]\n",
    "A1=pd.DataFrame({'annual_count' : df236.groupby(['cust'])['de_dt'].count()}).reset_index()\n",
    "Only_one_purchase=A1.loc[A1['annual_count'] == 1].cust.values\n",
    "A2=pd.DataFrame({'count' : df236.groupby(['cust','de_dt'])['de_dt'].count()}).reset_index()\n",
    "idx = A2[A2['cust'].isin(Only_one_purchase)].index\n",
    "A2.drop(idx,inplace=True)\n",
    "A3=A2.groupby(['cust','de_dt'])['de_dt'].count()"
   ]
  },
  {
   "cell_type": "code",
   "execution_count": 75,
   "metadata": {
    "ExecuteTime": {
     "end_time": "2022-08-11T07:50:16.068959Z",
     "start_time": "2022-08-11T07:49:55.034335Z"
    }
   },
   "outputs": [],
   "source": [
    "customer,time=A3.index[0]\n",
    "Distance=[]\n",
    "L=[]\n",
    "for i,j in A3.index[1:]:\n",
    "    if customer==i:\n",
    "        Distance.append(j-time)\n",
    "        time=j\n",
    "    else:\n",
    "        mean=pd.Series(Distance).mean()\n",
    "        L.append(mean)\n",
    "        Distance=[]\n",
    "        customer=i\n",
    "        time=j\n",
    "mean=pd.Series(Distance).mean()\n",
    "L.append(mean)"
   ]
  },
  {
   "cell_type": "code",
   "execution_count": 76,
   "metadata": {
    "ExecuteTime": {
     "end_time": "2022-08-11T07:50:16.280006Z",
     "start_time": "2022-08-11T07:50:16.071961Z"
    }
   },
   "outputs": [],
   "source": [
    "cycle=pd.DataFrame({'cust':A2.cust.unique(),'총합평균주기':L})\n",
    "one=pd.DataFrame({'cust':Only_one_purchase,'총합평균주기':'1번 구매'})"
   ]
  },
  {
   "cell_type": "code",
   "execution_count": 77,
   "metadata": {
    "ExecuteTime": {
     "end_time": "2022-08-11T07:50:16.550072Z",
     "start_time": "2022-08-11T07:50:16.284009Z"
    }
   },
   "outputs": [
    {
     "data": {
      "text/html": [
       "<div>\n",
       "<style scoped>\n",
       "    .dataframe tbody tr th:only-of-type {\n",
       "        vertical-align: middle;\n",
       "    }\n",
       "\n",
       "    .dataframe tbody tr th {\n",
       "        vertical-align: top;\n",
       "    }\n",
       "\n",
       "    .dataframe thead th {\n",
       "        text-align: right;\n",
       "    }\n",
       "</style>\n",
       "<table border=\"1\" class=\"dataframe\">\n",
       "  <thead>\n",
       "    <tr style=\"text-align: right;\">\n",
       "      <th></th>\n",
       "      <th>cust</th>\n",
       "      <th>총합평균주기</th>\n",
       "    </tr>\n",
       "  </thead>\n",
       "  <tbody>\n",
       "    <tr>\n",
       "      <th>0</th>\n",
       "      <td>M000034966</td>\n",
       "      <td>48 days 17:08:34.285714285</td>\n",
       "    </tr>\n",
       "    <tr>\n",
       "      <th>1</th>\n",
       "      <td>M000136117</td>\n",
       "      <td>8 days 04:21:49.090909090</td>\n",
       "    </tr>\n",
       "    <tr>\n",
       "      <th>2</th>\n",
       "      <td>M000201112</td>\n",
       "      <td>42 days 00:00:00</td>\n",
       "    </tr>\n",
       "    <tr>\n",
       "      <th>3</th>\n",
       "      <td>M000225114</td>\n",
       "      <td>7 days 05:42:51.428571428</td>\n",
       "    </tr>\n",
       "    <tr>\n",
       "      <th>4</th>\n",
       "      <td>M000261625</td>\n",
       "      <td>16 days 00:00:00</td>\n",
       "    </tr>\n",
       "    <tr>\n",
       "      <th>...</th>\n",
       "      <td>...</td>\n",
       "      <td>...</td>\n",
       "    </tr>\n",
       "    <tr>\n",
       "      <th>2160</th>\n",
       "      <td>M996060733</td>\n",
       "      <td>1번 구매</td>\n",
       "    </tr>\n",
       "    <tr>\n",
       "      <th>2161</th>\n",
       "      <td>M996092967</td>\n",
       "      <td>1번 구매</td>\n",
       "    </tr>\n",
       "    <tr>\n",
       "      <th>2162</th>\n",
       "      <td>M997346183</td>\n",
       "      <td>1번 구매</td>\n",
       "    </tr>\n",
       "    <tr>\n",
       "      <th>2163</th>\n",
       "      <td>M997821980</td>\n",
       "      <td>1번 구매</td>\n",
       "    </tr>\n",
       "    <tr>\n",
       "      <th>2164</th>\n",
       "      <td>M998572907</td>\n",
       "      <td>1번 구매</td>\n",
       "    </tr>\n",
       "  </tbody>\n",
       "</table>\n",
       "<p>29870 rows × 2 columns</p>\n",
       "</div>"
      ],
      "text/plain": [
       "            cust                      총합평균주기\n",
       "0     M000034966  48 days 17:08:34.285714285\n",
       "1     M000136117   8 days 04:21:49.090909090\n",
       "2     M000201112            42 days 00:00:00\n",
       "3     M000225114   7 days 05:42:51.428571428\n",
       "4     M000261625            16 days 00:00:00\n",
       "...          ...                         ...\n",
       "2160  M996060733                       1번 구매\n",
       "2161  M996092967                       1번 구매\n",
       "2162  M997346183                       1번 구매\n",
       "2163  M997821980                       1번 구매\n",
       "2164  M998572907                       1번 구매\n",
       "\n",
       "[29870 rows x 2 columns]"
      ]
     },
     "execution_count": 77,
     "metadata": {},
     "output_type": "execute_result"
    }
   ],
   "source": [
    "cycle_one=pd.concat([cycle,one])\n",
    "cycle_one"
   ]
  },
  {
   "cell_type": "code",
   "execution_count": 78,
   "metadata": {
    "ExecuteTime": {
     "end_time": "2022-08-11T07:50:16.821151Z",
     "start_time": "2022-08-11T07:50:16.553069Z"
    }
   },
   "outputs": [
    {
     "data": {
      "text/html": [
       "<div>\n",
       "<style scoped>\n",
       "    .dataframe tbody tr th:only-of-type {\n",
       "        vertical-align: middle;\n",
       "    }\n",
       "\n",
       "    .dataframe tbody tr th {\n",
       "        vertical-align: top;\n",
       "    }\n",
       "\n",
       "    .dataframe thead th {\n",
       "        text-align: right;\n",
       "    }\n",
       "</style>\n",
       "<table border=\"1\" class=\"dataframe\">\n",
       "  <thead>\n",
       "    <tr style=\"text-align: right;\">\n",
       "      <th></th>\n",
       "      <th>cust</th>\n",
       "      <th>유통평균주기</th>\n",
       "      <th>제휴평균주기</th>\n",
       "      <th>Lpay평균주기</th>\n",
       "      <th>총합평균주기</th>\n",
       "      <th>ma_fem_dv</th>\n",
       "      <th>ages</th>\n",
       "      <th>zon_hlv</th>\n",
       "      <th>purchase_list</th>\n",
       "      <th>Top5상품</th>\n",
       "      <th>Top5상품금액</th>\n",
       "    </tr>\n",
       "  </thead>\n",
       "  <tbody>\n",
       "    <tr>\n",
       "      <th>0</th>\n",
       "      <td>M000034966</td>\n",
       "      <td>56 days 20:00:00</td>\n",
       "      <td>1번 구매</td>\n",
       "      <td>0번 구매</td>\n",
       "      <td>48 days 17:08:34.285714285</td>\n",
       "      <td>여성</td>\n",
       "      <td>40대</td>\n",
       "      <td>Z07</td>\n",
       "      <td>['PD0116', 'PD0169', 'PD0178', 'PD0204', 'PD02...</td>\n",
       "      <td>[채소, 과자, 조미료, 과일, 속옷/양말/홈웨어]</td>\n",
       "      <td>64592.990860</td>\n",
       "    </tr>\n",
       "    <tr>\n",
       "      <th>1</th>\n",
       "      <td>M000136117</td>\n",
       "      <td>12 days 09:55:51.724137931</td>\n",
       "      <td>20 days 22:17:08.571428571</td>\n",
       "      <td>106 days 16:00:00</td>\n",
       "      <td>8 days 04:21:49.090909090</td>\n",
       "      <td>여성</td>\n",
       "      <td>30대</td>\n",
       "      <td>Z11</td>\n",
       "      <td>['PD0173', 'PD0197', 'PD0290', 'PD0296', 'PD02...</td>\n",
       "      <td>[여성의류, 침구/수예, 패션잡화, 남성의류, 세제/위생]</td>\n",
       "      <td>930174.155987</td>\n",
       "    </tr>\n",
       "    <tr>\n",
       "      <th>2</th>\n",
       "      <td>M000201112</td>\n",
       "      <td>42 days 00:00:00</td>\n",
       "      <td>0번 구매</td>\n",
       "      <td>0번 구매</td>\n",
       "      <td>42 days 00:00:00</td>\n",
       "      <td>여성</td>\n",
       "      <td>50대</td>\n",
       "      <td>Z17</td>\n",
       "      <td>['PD0217', 'PD0220', 'PD0230', 'PD0282', 'PD03...</td>\n",
       "      <td>[대용식, 과자, 음료, 조리식품, 냉장식품]</td>\n",
       "      <td>27313.428293</td>\n",
       "    </tr>\n",
       "    <tr>\n",
       "      <th>3</th>\n",
       "      <td>M000225114</td>\n",
       "      <td>8 days 05:11:21.081081081</td>\n",
       "      <td>53 days 06:00:00</td>\n",
       "      <td>0번 구매</td>\n",
       "      <td>7 days 05:42:51.428571428</td>\n",
       "      <td>여성</td>\n",
       "      <td>40대</td>\n",
       "      <td>Z17</td>\n",
       "      <td>['PD0178', 'PD0197', 'PD0209', 'PD0218', 'PD02...</td>\n",
       "      <td>[과자, 냉장식품, 조리식품, 과일, 채소]</td>\n",
       "      <td>44512.704155</td>\n",
       "    </tr>\n",
       "    <tr>\n",
       "      <th>4</th>\n",
       "      <td>M000261625</td>\n",
       "      <td>16 days 00:00:00</td>\n",
       "      <td>1번 구매</td>\n",
       "      <td>0번 구매</td>\n",
       "      <td>16 days 00:00:00</td>\n",
       "      <td>여성</td>\n",
       "      <td>40대</td>\n",
       "      <td>Z17</td>\n",
       "      <td>['PD0232', 'PD0415', 'PD0419', 'PD0640', 'PD07...</td>\n",
       "      <td>[화장품/뷰티케어, 테넌트/음식점, 퍼스널케어, 모바일, 속옷/양말/홈웨어]</td>\n",
       "      <td>323982.793909</td>\n",
       "    </tr>\n",
       "  </tbody>\n",
       "</table>\n",
       "</div>"
      ],
      "text/plain": [
       "         cust                      유통평균주기                      제휴평균주기  \\\n",
       "0  M000034966            56 days 20:00:00                       1번 구매   \n",
       "1  M000136117  12 days 09:55:51.724137931  20 days 22:17:08.571428571   \n",
       "2  M000201112            42 days 00:00:00                       0번 구매   \n",
       "3  M000225114   8 days 05:11:21.081081081            53 days 06:00:00   \n",
       "4  M000261625            16 days 00:00:00                       1번 구매   \n",
       "\n",
       "            Lpay평균주기                      총합평균주기 ma_fem_dv ages zon_hlv  \\\n",
       "0              0번 구매  48 days 17:08:34.285714285        여성  40대     Z07   \n",
       "1  106 days 16:00:00   8 days 04:21:49.090909090        여성  30대     Z11   \n",
       "2              0번 구매            42 days 00:00:00        여성  50대     Z17   \n",
       "3              0번 구매   7 days 05:42:51.428571428        여성  40대     Z17   \n",
       "4              0번 구매            16 days 00:00:00        여성  40대     Z17   \n",
       "\n",
       "                                       purchase_list  \\\n",
       "0  ['PD0116', 'PD0169', 'PD0178', 'PD0204', 'PD02...   \n",
       "1  ['PD0173', 'PD0197', 'PD0290', 'PD0296', 'PD02...   \n",
       "2  ['PD0217', 'PD0220', 'PD0230', 'PD0282', 'PD03...   \n",
       "3  ['PD0178', 'PD0197', 'PD0209', 'PD0218', 'PD02...   \n",
       "4  ['PD0232', 'PD0415', 'PD0419', 'PD0640', 'PD07...   \n",
       "\n",
       "                                       Top5상품       Top5상품금액  \n",
       "0                [채소, 과자, 조미료, 과일, 속옷/양말/홈웨어]   64592.990860  \n",
       "1            [여성의류, 침구/수예, 패션잡화, 남성의류, 세제/위생]  930174.155987  \n",
       "2                   [대용식, 과자, 음료, 조리식품, 냉장식품]   27313.428293  \n",
       "3                    [과자, 냉장식품, 조리식품, 과일, 채소]   44512.704155  \n",
       "4  [화장품/뷰티케어, 테넌트/음식점, 퍼스널케어, 모바일, 속옷/양말/홈웨어]  323982.793909  "
      ]
     },
     "execution_count": 78,
     "metadata": {},
     "output_type": "execute_result"
    }
   ],
   "source": [
    "merge23 = pd.merge(cycle_one2,cycle_one3, how='outer',on='cust')\n",
    "merge236 = pd.merge(merge23,cycle_one6, how='outer',on='cust')\n",
    "merge_outer = pd.merge(merge236,cycle_one, how='outer',on='cust')\n",
    "cust=pd.merge(merge_outer,cust, how='outer',on='cust')\n",
    "cust.fillna('0번 구매',inplace=True)\n",
    "cust.head()"
   ]
  },
  {
   "cell_type": "markdown",
   "metadata": {},
   "source": [
    "# 고객별 연간 구매 금액\n",
    "- 고객의 구매에 대한 정보가 담긴 data2, data3, data6의 구매금액 변수를 통해 연간 구매금액를 구했습니다.\n",
    "- 전체 구매, 유통사 구매, 제휴사 이용, LPAY 결제에 따른 구매금액을 각각 구했습니다."
   ]
  },
  {
   "cell_type": "code",
   "execution_count": 79,
   "metadata": {
    "ExecuteTime": {
     "end_time": "2022-08-11T07:50:17.302253Z",
     "start_time": "2022-08-11T07:50:16.825130Z"
    }
   },
   "outputs": [],
   "source": [
    "buy2=pd.DataFrame({'연간구매금액2' : data2_1.groupby(['cust'])['buy_am'].sum()}).reset_index()\n",
    "buy3=pd.DataFrame({'연간구매금액3' : data3_1.groupby(['cust'])['buy_am'].sum()}).reset_index()\n",
    "buy6=pd.DataFrame({'연간구매금액6' : only_data6.groupby(['cust'])['buy_am'].sum()}).reset_index()"
   ]
  },
  {
   "cell_type": "code",
   "execution_count": 80,
   "metadata": {
    "ExecuteTime": {
     "end_time": "2022-08-11T07:50:18.548517Z",
     "start_time": "2022-08-11T07:50:17.305237Z"
    }
   },
   "outputs": [],
   "source": [
    "data236=pd.concat([only_data2, only_data3, only_data6])\n",
    "buy236=pd.DataFrame({'연간구매금액236' : data236.groupby(['cust'])['buy_am'].sum()}).reset_index()"
   ]
  },
  {
   "cell_type": "code",
   "execution_count": 81,
   "metadata": {
    "ExecuteTime": {
     "end_time": "2022-08-11T07:50:18.668541Z",
     "start_time": "2022-08-11T07:50:18.552521Z"
    }
   },
   "outputs": [
    {
     "data": {
      "text/html": [
       "<div>\n",
       "<style scoped>\n",
       "    .dataframe tbody tr th:only-of-type {\n",
       "        vertical-align: middle;\n",
       "    }\n",
       "\n",
       "    .dataframe tbody tr th {\n",
       "        vertical-align: top;\n",
       "    }\n",
       "\n",
       "    .dataframe thead th {\n",
       "        text-align: right;\n",
       "    }\n",
       "</style>\n",
       "<table border=\"1\" class=\"dataframe\">\n",
       "  <thead>\n",
       "    <tr style=\"text-align: right;\">\n",
       "      <th></th>\n",
       "      <th>cust</th>\n",
       "      <th>연간구매금액2</th>\n",
       "      <th>연간구매금액3</th>\n",
       "      <th>연간구매금액6</th>\n",
       "      <th>연간구매금액236</th>\n",
       "    </tr>\n",
       "  </thead>\n",
       "  <tbody>\n",
       "    <tr>\n",
       "      <th>0</th>\n",
       "      <td>M000034966</td>\n",
       "      <td>654120.0</td>\n",
       "      <td>3900.0</td>\n",
       "      <td>0.0</td>\n",
       "      <td>658020.0</td>\n",
       "    </tr>\n",
       "    <tr>\n",
       "      <th>1</th>\n",
       "      <td>M000136117</td>\n",
       "      <td>28496031.0</td>\n",
       "      <td>252500.0</td>\n",
       "      <td>1137501.0</td>\n",
       "      <td>28748531.0</td>\n",
       "    </tr>\n",
       "    <tr>\n",
       "      <th>2</th>\n",
       "      <td>M000201112</td>\n",
       "      <td>53120.0</td>\n",
       "      <td>0.0</td>\n",
       "      <td>0.0</td>\n",
       "      <td>53120.0</td>\n",
       "    </tr>\n",
       "    <tr>\n",
       "      <th>3</th>\n",
       "      <td>M000225114</td>\n",
       "      <td>1937700.0</td>\n",
       "      <td>316200.0</td>\n",
       "      <td>0.0</td>\n",
       "      <td>2253900.0</td>\n",
       "    </tr>\n",
       "    <tr>\n",
       "      <th>4</th>\n",
       "      <td>M000261625</td>\n",
       "      <td>6052700.0</td>\n",
       "      <td>23250.0</td>\n",
       "      <td>0.0</td>\n",
       "      <td>6075950.0</td>\n",
       "    </tr>\n",
       "  </tbody>\n",
       "</table>\n",
       "</div>"
      ],
      "text/plain": [
       "         cust     연간구매금액2   연간구매금액3    연간구매금액6   연간구매금액236\n",
       "0  M000034966    654120.0    3900.0        0.0    658020.0\n",
       "1  M000136117  28496031.0  252500.0  1137501.0  28748531.0\n",
       "2  M000201112     53120.0       0.0        0.0     53120.0\n",
       "3  M000225114   1937700.0  316200.0        0.0   2253900.0\n",
       "4  M000261625   6052700.0   23250.0        0.0   6075950.0"
      ]
     },
     "execution_count": 81,
     "metadata": {},
     "output_type": "execute_result"
    }
   ],
   "source": [
    "buyamount=pd.merge(buy2,buy3, how='outer',on='cust')\n",
    "buyamount=pd.merge(buyamount,buy6, how='outer',on='cust')\n",
    "buyamount=pd.merge(buyamount,buy236, how='outer',on='cust')\n",
    "buyamount.fillna(0,inplace=True)\n",
    "buyamount.head()"
   ]
  },
  {
   "cell_type": "code",
   "execution_count": 82,
   "metadata": {
    "ExecuteTime": {
     "end_time": "2022-08-11T07:50:18.833578Z",
     "start_time": "2022-08-11T07:50:18.670542Z"
    },
    "scrolled": true
   },
   "outputs": [
    {
     "data": {
      "text/html": [
       "<div>\n",
       "<style scoped>\n",
       "    .dataframe tbody tr th:only-of-type {\n",
       "        vertical-align: middle;\n",
       "    }\n",
       "\n",
       "    .dataframe tbody tr th {\n",
       "        vertical-align: top;\n",
       "    }\n",
       "\n",
       "    .dataframe thead th {\n",
       "        text-align: right;\n",
       "    }\n",
       "</style>\n",
       "<table border=\"1\" class=\"dataframe\">\n",
       "  <thead>\n",
       "    <tr style=\"text-align: right;\">\n",
       "      <th></th>\n",
       "      <th>cust</th>\n",
       "      <th>연간구매금액2</th>\n",
       "      <th>연간구매금액3</th>\n",
       "      <th>연간구매금액6</th>\n",
       "      <th>연간구매금액236</th>\n",
       "      <th>유통평균주기</th>\n",
       "      <th>제휴평균주기</th>\n",
       "      <th>Lpay평균주기</th>\n",
       "      <th>총합평균주기</th>\n",
       "      <th>ma_fem_dv</th>\n",
       "      <th>ages</th>\n",
       "      <th>zon_hlv</th>\n",
       "      <th>purchase_list</th>\n",
       "      <th>Top5상품</th>\n",
       "      <th>Top5상품금액</th>\n",
       "    </tr>\n",
       "  </thead>\n",
       "  <tbody>\n",
       "    <tr>\n",
       "      <th>0</th>\n",
       "      <td>M000034966</td>\n",
       "      <td>654120.0</td>\n",
       "      <td>3900.0</td>\n",
       "      <td>0.0</td>\n",
       "      <td>658020.0</td>\n",
       "      <td>56 days 20:00:00</td>\n",
       "      <td>1번 구매</td>\n",
       "      <td>0번 구매</td>\n",
       "      <td>48 days 17:08:34.285714285</td>\n",
       "      <td>여성</td>\n",
       "      <td>40대</td>\n",
       "      <td>Z07</td>\n",
       "      <td>['PD0116', 'PD0169', 'PD0178', 'PD0204', 'PD02...</td>\n",
       "      <td>[채소, 과자, 조미료, 과일, 속옷/양말/홈웨어]</td>\n",
       "      <td>64592.990860</td>\n",
       "    </tr>\n",
       "    <tr>\n",
       "      <th>1</th>\n",
       "      <td>M000136117</td>\n",
       "      <td>28496031.0</td>\n",
       "      <td>252500.0</td>\n",
       "      <td>1137501.0</td>\n",
       "      <td>28748531.0</td>\n",
       "      <td>12 days 09:55:51.724137931</td>\n",
       "      <td>20 days 22:17:08.571428571</td>\n",
       "      <td>106 days 16:00:00</td>\n",
       "      <td>8 days 04:21:49.090909090</td>\n",
       "      <td>여성</td>\n",
       "      <td>30대</td>\n",
       "      <td>Z11</td>\n",
       "      <td>['PD0173', 'PD0197', 'PD0290', 'PD0296', 'PD02...</td>\n",
       "      <td>[여성의류, 침구/수예, 패션잡화, 남성의류, 세제/위생]</td>\n",
       "      <td>930174.155987</td>\n",
       "    </tr>\n",
       "    <tr>\n",
       "      <th>2</th>\n",
       "      <td>M000201112</td>\n",
       "      <td>53120.0</td>\n",
       "      <td>0.0</td>\n",
       "      <td>0.0</td>\n",
       "      <td>53120.0</td>\n",
       "      <td>42 days 00:00:00</td>\n",
       "      <td>0번 구매</td>\n",
       "      <td>0번 구매</td>\n",
       "      <td>42 days 00:00:00</td>\n",
       "      <td>여성</td>\n",
       "      <td>50대</td>\n",
       "      <td>Z17</td>\n",
       "      <td>['PD0217', 'PD0220', 'PD0230', 'PD0282', 'PD03...</td>\n",
       "      <td>[대용식, 과자, 음료, 조리식품, 냉장식품]</td>\n",
       "      <td>27313.428293</td>\n",
       "    </tr>\n",
       "    <tr>\n",
       "      <th>3</th>\n",
       "      <td>M000225114</td>\n",
       "      <td>1937700.0</td>\n",
       "      <td>316200.0</td>\n",
       "      <td>0.0</td>\n",
       "      <td>2253900.0</td>\n",
       "      <td>8 days 05:11:21.081081081</td>\n",
       "      <td>53 days 06:00:00</td>\n",
       "      <td>0번 구매</td>\n",
       "      <td>7 days 05:42:51.428571428</td>\n",
       "      <td>여성</td>\n",
       "      <td>40대</td>\n",
       "      <td>Z17</td>\n",
       "      <td>['PD0178', 'PD0197', 'PD0209', 'PD0218', 'PD02...</td>\n",
       "      <td>[과자, 냉장식품, 조리식품, 과일, 채소]</td>\n",
       "      <td>44512.704155</td>\n",
       "    </tr>\n",
       "    <tr>\n",
       "      <th>4</th>\n",
       "      <td>M000261625</td>\n",
       "      <td>6052700.0</td>\n",
       "      <td>23250.0</td>\n",
       "      <td>0.0</td>\n",
       "      <td>6075950.0</td>\n",
       "      <td>16 days 00:00:00</td>\n",
       "      <td>1번 구매</td>\n",
       "      <td>0번 구매</td>\n",
       "      <td>16 days 00:00:00</td>\n",
       "      <td>여성</td>\n",
       "      <td>40대</td>\n",
       "      <td>Z17</td>\n",
       "      <td>['PD0232', 'PD0415', 'PD0419', 'PD0640', 'PD07...</td>\n",
       "      <td>[화장품/뷰티케어, 테넌트/음식점, 퍼스널케어, 모바일, 속옷/양말/홈웨어]</td>\n",
       "      <td>323982.793909</td>\n",
       "    </tr>\n",
       "  </tbody>\n",
       "</table>\n",
       "</div>"
      ],
      "text/plain": [
       "         cust     연간구매금액2   연간구매금액3    연간구매금액6   연간구매금액236  \\\n",
       "0  M000034966    654120.0    3900.0        0.0    658020.0   \n",
       "1  M000136117  28496031.0  252500.0  1137501.0  28748531.0   \n",
       "2  M000201112     53120.0       0.0        0.0     53120.0   \n",
       "3  M000225114   1937700.0  316200.0        0.0   2253900.0   \n",
       "4  M000261625   6052700.0   23250.0        0.0   6075950.0   \n",
       "\n",
       "                       유통평균주기                      제휴평균주기           Lpay평균주기  \\\n",
       "0            56 days 20:00:00                       1번 구매              0번 구매   \n",
       "1  12 days 09:55:51.724137931  20 days 22:17:08.571428571  106 days 16:00:00   \n",
       "2            42 days 00:00:00                       0번 구매              0번 구매   \n",
       "3   8 days 05:11:21.081081081            53 days 06:00:00              0번 구매   \n",
       "4            16 days 00:00:00                       1번 구매              0번 구매   \n",
       "\n",
       "                       총합평균주기 ma_fem_dv ages zon_hlv  \\\n",
       "0  48 days 17:08:34.285714285        여성  40대     Z07   \n",
       "1   8 days 04:21:49.090909090        여성  30대     Z11   \n",
       "2            42 days 00:00:00        여성  50대     Z17   \n",
       "3   7 days 05:42:51.428571428        여성  40대     Z17   \n",
       "4            16 days 00:00:00        여성  40대     Z17   \n",
       "\n",
       "                                       purchase_list  \\\n",
       "0  ['PD0116', 'PD0169', 'PD0178', 'PD0204', 'PD02...   \n",
       "1  ['PD0173', 'PD0197', 'PD0290', 'PD0296', 'PD02...   \n",
       "2  ['PD0217', 'PD0220', 'PD0230', 'PD0282', 'PD03...   \n",
       "3  ['PD0178', 'PD0197', 'PD0209', 'PD0218', 'PD02...   \n",
       "4  ['PD0232', 'PD0415', 'PD0419', 'PD0640', 'PD07...   \n",
       "\n",
       "                                       Top5상품       Top5상품금액  \n",
       "0                [채소, 과자, 조미료, 과일, 속옷/양말/홈웨어]   64592.990860  \n",
       "1            [여성의류, 침구/수예, 패션잡화, 남성의류, 세제/위생]  930174.155987  \n",
       "2                   [대용식, 과자, 음료, 조리식품, 냉장식품]   27313.428293  \n",
       "3                    [과자, 냉장식품, 조리식품, 과일, 채소]   44512.704155  \n",
       "4  [화장품/뷰티케어, 테넌트/음식점, 퍼스널케어, 모바일, 속옷/양말/홈웨어]  323982.793909  "
      ]
     },
     "execution_count": 82,
     "metadata": {},
     "output_type": "execute_result"
    }
   ],
   "source": [
    "cust=pd.merge(buyamount,cust, how='outer',on='cust')\n",
    "cust.fillna(0,inplace=True)\n",
    "cust.head()"
   ]
  },
  {
   "cell_type": "markdown",
   "metadata": {},
   "source": [
    "# 고객별 유통사, 제휴사, Lpay 구매건수\n",
    "- 고객의 구매에 대한 정보가 담긴 data2, data3, data6의 영수증 개수를 세어 구매건수를 구했습니다.\n",
    "- 전체 구매, 유통사 구매, 제휴사 이용, LPAY 결제에 대한 구매건수를 각각 구했습니다."
   ]
  },
  {
   "cell_type": "code",
   "execution_count": 83,
   "metadata": {
    "ExecuteTime": {
     "end_time": "2022-08-11T07:50:21.738229Z",
     "start_time": "2022-08-11T07:50:18.835589Z"
    }
   },
   "outputs": [],
   "source": [
    "num_pur2 = data2_1.groupby('cust').count()['rct_no']\n",
    "num_pur3 = data3_1.groupby('cust').count()['rct_no']\n",
    "num_pur6 = only_data6.groupby('cust').count()['rct_no']\n",
    "num_pur2.name = 'num_pur2'\n",
    "num_pur3.name = 'num_pur3'\n",
    "num_pur6.name = 'num_pur6'"
   ]
  },
  {
   "cell_type": "code",
   "execution_count": 84,
   "metadata": {
    "ExecuteTime": {
     "end_time": "2022-08-11T07:50:21.993287Z",
     "start_time": "2022-08-11T07:50:21.740234Z"
    }
   },
   "outputs": [
    {
     "data": {
      "text/html": [
       "<div>\n",
       "<style scoped>\n",
       "    .dataframe tbody tr th:only-of-type {\n",
       "        vertical-align: middle;\n",
       "    }\n",
       "\n",
       "    .dataframe tbody tr th {\n",
       "        vertical-align: top;\n",
       "    }\n",
       "\n",
       "    .dataframe thead th {\n",
       "        text-align: right;\n",
       "    }\n",
       "</style>\n",
       "<table border=\"1\" class=\"dataframe\">\n",
       "  <thead>\n",
       "    <tr style=\"text-align: right;\">\n",
       "      <th></th>\n",
       "      <th>cust</th>\n",
       "      <th>연간구매금액2</th>\n",
       "      <th>연간구매금액3</th>\n",
       "      <th>연간구매금액6</th>\n",
       "      <th>연간구매금액236</th>\n",
       "      <th>유통평균주기</th>\n",
       "      <th>제휴평균주기</th>\n",
       "      <th>Lpay평균주기</th>\n",
       "      <th>총합평균주기</th>\n",
       "      <th>ma_fem_dv</th>\n",
       "      <th>ages</th>\n",
       "      <th>zon_hlv</th>\n",
       "      <th>purchase_list</th>\n",
       "      <th>Top5상품</th>\n",
       "      <th>Top5상품금액</th>\n",
       "      <th>num_pur2</th>\n",
       "      <th>num_pur3</th>\n",
       "      <th>num_pur6</th>\n",
       "      <th>num_pur</th>\n",
       "    </tr>\n",
       "  </thead>\n",
       "  <tbody>\n",
       "    <tr>\n",
       "      <th>0</th>\n",
       "      <td>M000034966</td>\n",
       "      <td>654120.0</td>\n",
       "      <td>3900.0</td>\n",
       "      <td>0.0</td>\n",
       "      <td>658020.0</td>\n",
       "      <td>56 days 20:00:00</td>\n",
       "      <td>1번 구매</td>\n",
       "      <td>0번 구매</td>\n",
       "      <td>48 days 17:08:34.285714285</td>\n",
       "      <td>여성</td>\n",
       "      <td>40대</td>\n",
       "      <td>Z07</td>\n",
       "      <td>['PD0116', 'PD0169', 'PD0178', 'PD0204', 'PD02...</td>\n",
       "      <td>[채소, 과자, 조미료, 과일, 속옷/양말/홈웨어]</td>\n",
       "      <td>64592.990860</td>\n",
       "      <td>42.0</td>\n",
       "      <td>1.0</td>\n",
       "      <td>0.0</td>\n",
       "      <td>43.0</td>\n",
       "    </tr>\n",
       "    <tr>\n",
       "      <th>1</th>\n",
       "      <td>M000136117</td>\n",
       "      <td>28496031.0</td>\n",
       "      <td>252500.0</td>\n",
       "      <td>1137501.0</td>\n",
       "      <td>28748531.0</td>\n",
       "      <td>12 days 09:55:51.724137931</td>\n",
       "      <td>20 days 22:17:08.571428571</td>\n",
       "      <td>106 days 16:00:00</td>\n",
       "      <td>8 days 04:21:49.090909090</td>\n",
       "      <td>여성</td>\n",
       "      <td>30대</td>\n",
       "      <td>Z11</td>\n",
       "      <td>['PD0173', 'PD0197', 'PD0290', 'PD0296', 'PD02...</td>\n",
       "      <td>[여성의류, 침구/수예, 패션잡화, 남성의류, 세제/위생]</td>\n",
       "      <td>930174.155987</td>\n",
       "      <td>88.0</td>\n",
       "      <td>16.0</td>\n",
       "      <td>4.0</td>\n",
       "      <td>108.0</td>\n",
       "    </tr>\n",
       "    <tr>\n",
       "      <th>2</th>\n",
       "      <td>M000201112</td>\n",
       "      <td>53120.0</td>\n",
       "      <td>0.0</td>\n",
       "      <td>0.0</td>\n",
       "      <td>53120.0</td>\n",
       "      <td>42 days 00:00:00</td>\n",
       "      <td>0번 구매</td>\n",
       "      <td>0번 구매</td>\n",
       "      <td>42 days 00:00:00</td>\n",
       "      <td>여성</td>\n",
       "      <td>50대</td>\n",
       "      <td>Z17</td>\n",
       "      <td>['PD0217', 'PD0220', 'PD0230', 'PD0282', 'PD03...</td>\n",
       "      <td>[대용식, 과자, 음료, 조리식품, 냉장식품]</td>\n",
       "      <td>27313.428293</td>\n",
       "      <td>20.0</td>\n",
       "      <td>0.0</td>\n",
       "      <td>0.0</td>\n",
       "      <td>20.0</td>\n",
       "    </tr>\n",
       "    <tr>\n",
       "      <th>3</th>\n",
       "      <td>M000225114</td>\n",
       "      <td>1937700.0</td>\n",
       "      <td>316200.0</td>\n",
       "      <td>0.0</td>\n",
       "      <td>2253900.0</td>\n",
       "      <td>8 days 05:11:21.081081081</td>\n",
       "      <td>53 days 06:00:00</td>\n",
       "      <td>0번 구매</td>\n",
       "      <td>7 days 05:42:51.428571428</td>\n",
       "      <td>여성</td>\n",
       "      <td>40대</td>\n",
       "      <td>Z17</td>\n",
       "      <td>['PD0178', 'PD0197', 'PD0209', 'PD0218', 'PD02...</td>\n",
       "      <td>[과자, 냉장식품, 조리식품, 과일, 채소]</td>\n",
       "      <td>44512.704155</td>\n",
       "      <td>135.0</td>\n",
       "      <td>10.0</td>\n",
       "      <td>0.0</td>\n",
       "      <td>145.0</td>\n",
       "    </tr>\n",
       "    <tr>\n",
       "      <th>4</th>\n",
       "      <td>M000261625</td>\n",
       "      <td>6052700.0</td>\n",
       "      <td>23250.0</td>\n",
       "      <td>0.0</td>\n",
       "      <td>6075950.0</td>\n",
       "      <td>16 days 00:00:00</td>\n",
       "      <td>1번 구매</td>\n",
       "      <td>0번 구매</td>\n",
       "      <td>16 days 00:00:00</td>\n",
       "      <td>여성</td>\n",
       "      <td>40대</td>\n",
       "      <td>Z17</td>\n",
       "      <td>['PD0232', 'PD0415', 'PD0419', 'PD0640', 'PD07...</td>\n",
       "      <td>[화장품/뷰티케어, 테넌트/음식점, 퍼스널케어, 모바일, 속옷/양말/홈웨어]</td>\n",
       "      <td>323982.793909</td>\n",
       "      <td>60.0</td>\n",
       "      <td>1.0</td>\n",
       "      <td>0.0</td>\n",
       "      <td>61.0</td>\n",
       "    </tr>\n",
       "  </tbody>\n",
       "</table>\n",
       "</div>"
      ],
      "text/plain": [
       "         cust     연간구매금액2   연간구매금액3    연간구매금액6   연간구매금액236  \\\n",
       "0  M000034966    654120.0    3900.0        0.0    658020.0   \n",
       "1  M000136117  28496031.0  252500.0  1137501.0  28748531.0   \n",
       "2  M000201112     53120.0       0.0        0.0     53120.0   \n",
       "3  M000225114   1937700.0  316200.0        0.0   2253900.0   \n",
       "4  M000261625   6052700.0   23250.0        0.0   6075950.0   \n",
       "\n",
       "                       유통평균주기                      제휴평균주기           Lpay평균주기  \\\n",
       "0            56 days 20:00:00                       1번 구매              0번 구매   \n",
       "1  12 days 09:55:51.724137931  20 days 22:17:08.571428571  106 days 16:00:00   \n",
       "2            42 days 00:00:00                       0번 구매              0번 구매   \n",
       "3   8 days 05:11:21.081081081            53 days 06:00:00              0번 구매   \n",
       "4            16 days 00:00:00                       1번 구매              0번 구매   \n",
       "\n",
       "                       총합평균주기 ma_fem_dv ages zon_hlv  \\\n",
       "0  48 days 17:08:34.285714285        여성  40대     Z07   \n",
       "1   8 days 04:21:49.090909090        여성  30대     Z11   \n",
       "2            42 days 00:00:00        여성  50대     Z17   \n",
       "3   7 days 05:42:51.428571428        여성  40대     Z17   \n",
       "4            16 days 00:00:00        여성  40대     Z17   \n",
       "\n",
       "                                       purchase_list  \\\n",
       "0  ['PD0116', 'PD0169', 'PD0178', 'PD0204', 'PD02...   \n",
       "1  ['PD0173', 'PD0197', 'PD0290', 'PD0296', 'PD02...   \n",
       "2  ['PD0217', 'PD0220', 'PD0230', 'PD0282', 'PD03...   \n",
       "3  ['PD0178', 'PD0197', 'PD0209', 'PD0218', 'PD02...   \n",
       "4  ['PD0232', 'PD0415', 'PD0419', 'PD0640', 'PD07...   \n",
       "\n",
       "                                       Top5상품       Top5상품금액  num_pur2  \\\n",
       "0                [채소, 과자, 조미료, 과일, 속옷/양말/홈웨어]   64592.990860      42.0   \n",
       "1            [여성의류, 침구/수예, 패션잡화, 남성의류, 세제/위생]  930174.155987      88.0   \n",
       "2                   [대용식, 과자, 음료, 조리식품, 냉장식품]   27313.428293      20.0   \n",
       "3                    [과자, 냉장식품, 조리식품, 과일, 채소]   44512.704155     135.0   \n",
       "4  [화장품/뷰티케어, 테넌트/음식점, 퍼스널케어, 모바일, 속옷/양말/홈웨어]  323982.793909      60.0   \n",
       "\n",
       "   num_pur3  num_pur6  num_pur  \n",
       "0       1.0       0.0     43.0  \n",
       "1      16.0       4.0    108.0  \n",
       "2       0.0       0.0     20.0  \n",
       "3      10.0       0.0    145.0  \n",
       "4       1.0       0.0     61.0  "
      ]
     },
     "execution_count": 84,
     "metadata": {},
     "output_type": "execute_result"
    }
   ],
   "source": [
    "cust = pd.merge(cust, num_pur2, how='left', on='cust')\n",
    "cust = pd.merge(cust, num_pur3, how='left', on='cust')\n",
    "cust = pd.merge(cust, num_pur6, how='left', on='cust')\n",
    "cust = cust.fillna(0)\n",
    "cust['num_pur'] = cust['num_pur2'] + cust['num_pur3'] + cust['num_pur6']\n",
    "cust.head()"
   ]
  },
  {
   "cell_type": "code",
   "execution_count": 85,
   "metadata": {
    "ExecuteTime": {
     "end_time": "2022-08-11T07:50:22.023297Z",
     "start_time": "2022-08-11T07:50:21.995287Z"
    }
   },
   "outputs": [
    {
     "data": {
      "text/html": [
       "<div>\n",
       "<style scoped>\n",
       "    .dataframe tbody tr th:only-of-type {\n",
       "        vertical-align: middle;\n",
       "    }\n",
       "\n",
       "    .dataframe tbody tr th {\n",
       "        vertical-align: top;\n",
       "    }\n",
       "\n",
       "    .dataframe thead th {\n",
       "        text-align: right;\n",
       "    }\n",
       "</style>\n",
       "<table border=\"1\" class=\"dataframe\">\n",
       "  <thead>\n",
       "    <tr style=\"text-align: right;\">\n",
       "      <th></th>\n",
       "      <th>num_pur2</th>\n",
       "      <th>num_pur3</th>\n",
       "      <th>num_pur6</th>\n",
       "    </tr>\n",
       "  </thead>\n",
       "  <tbody>\n",
       "    <tr>\n",
       "      <th>num_pur2</th>\n",
       "      <td>1.000000</td>\n",
       "      <td>0.241856</td>\n",
       "      <td>0.377374</td>\n",
       "    </tr>\n",
       "    <tr>\n",
       "      <th>num_pur3</th>\n",
       "      <td>0.241856</td>\n",
       "      <td>1.000000</td>\n",
       "      <td>0.707209</td>\n",
       "    </tr>\n",
       "    <tr>\n",
       "      <th>num_pur6</th>\n",
       "      <td>0.377374</td>\n",
       "      <td>0.707209</td>\n",
       "      <td>1.000000</td>\n",
       "    </tr>\n",
       "  </tbody>\n",
       "</table>\n",
       "</div>"
      ],
      "text/plain": [
       "          num_pur2  num_pur3  num_pur6\n",
       "num_pur2  1.000000  0.241856  0.377374\n",
       "num_pur3  0.241856  1.000000  0.707209\n",
       "num_pur6  0.377374  0.707209  1.000000"
      ]
     },
     "execution_count": 85,
     "metadata": {},
     "output_type": "execute_result"
    }
   ],
   "source": [
    "cust.loc[: ,['num_pur2', 'num_pur3', 'num_pur6']].corr()"
   ]
  },
  {
   "cell_type": "code",
   "execution_count": 86,
   "metadata": {
    "ExecuteTime": {
     "end_time": "2022-08-11T07:50:22.851480Z",
     "start_time": "2022-08-11T07:50:22.026294Z"
    }
   },
   "outputs": [
    {
     "data": {
      "text/plain": [
       "<mpl_toolkits.mplot3d.art3d.Path3DCollection at 0x2251171e040>"
      ]
     },
     "execution_count": 86,
     "metadata": {},
     "output_type": "execute_result"
    },
    {
     "data": {
      "image/png": "[encoded data removed]",
      "text/plain": [
       "<Figure size 1296x576 with 1 Axes>"
      ]
     },
     "metadata": {},
     "output_type": "display_data"
    }
   ],
   "source": [
    "fig = plt.figure(figsize=(18, 8))\n",
    "ax = fig.add_subplot(111, projection='3d', )\n",
    "#ax.view_init(30,30)\n",
    "ax.scatter(cust.num_pur2, cust.num_pur3, cust.num_pur6, marker='o', s=15, cmap='Greens')"
   ]
  },
  {
   "cell_type": "code",
   "execution_count": 87,
   "metadata": {
    "ExecuteTime": {
     "end_time": "2022-08-11T07:50:23.637658Z",
     "start_time": "2022-08-11T07:50:22.854480Z"
    }
   },
   "outputs": [
    {
     "data": {
      "text/plain": [
       "<mpl_toolkits.mplot3d.art3d.Path3DCollection at 0x225d6497dc0>"
      ]
     },
     "execution_count": 87,
     "metadata": {},
     "output_type": "execute_result"
    },
    {
     "data": {
      "image/png": "[encoded data removed]",
      "text/plain": [
       "<Figure size 1296x576 with 1 Axes>"
      ]
     },
     "metadata": {},
     "output_type": "display_data"
    }
   ],
   "source": [
    "fig = plt.figure(figsize=(18, 8))\n",
    "ax1 = fig.add_subplot(111, projection='3d')\n",
    "ax1.view_init(0,0)\n",
    "ax1.set_title('num_pur3~num_pur6')\n",
    "ax1.scatter(cust.num_pur2, cust.num_pur3, cust.num_pur6, marker='.', s=15, cmap='Greens')"
   ]
  },
  {
   "cell_type": "code",
   "execution_count": 88,
   "metadata": {
    "ExecuteTime": {
     "end_time": "2022-08-11T07:50:24.405825Z",
     "start_time": "2022-08-11T07:50:23.639655Z"
    },
    "scrolled": true
   },
   "outputs": [
    {
     "data": {
      "text/plain": [
       "<mpl_toolkits.mplot3d.art3d.Path3DCollection at 0x225d6506d60>"
      ]
     },
     "execution_count": 88,
     "metadata": {},
     "output_type": "execute_result"
    },
    {
     "data": {
      "image/png": "[encoded data removed]",
      "text/plain": [
       "<Figure size 1296x576 with 1 Axes>"
      ]
     },
     "metadata": {},
     "output_type": "display_data"
    }
   ],
   "source": [
    "fig = plt.figure(figsize=(18, 8))\n",
    "ax2 = fig.add_subplot(111, projection='3d')\n",
    "ax2.view_init(-90,0)\n",
    "ax2.set_title('num_pur3~num_pur2')\n",
    "ax2.scatter(cust.num_pur2, cust.num_pur3, cust.num_pur6, marker='.', s=15, cmap='Greens')"
   ]
  },
  {
   "cell_type": "code",
   "execution_count": 89,
   "metadata": {
    "ExecuteTime": {
     "end_time": "2022-08-11T07:50:25.188021Z",
     "start_time": "2022-08-11T07:50:24.407827Z"
    },
    "scrolled": true
   },
   "outputs": [
    {
     "data": {
      "text/plain": [
       "<mpl_toolkits.mplot3d.art3d.Path3DCollection at 0x225d6573cd0>"
      ]
     },
     "execution_count": 89,
     "metadata": {},
     "output_type": "execute_result"
    },
    {
     "data": {
      "image/png": "[encoded data removed]",
      "text/plain": [
       "<Figure size 1296x576 with 1 Axes>"
      ]
     },
     "metadata": {},
     "output_type": "display_data"
    }
   ],
   "source": [
    "fig = plt.figure(figsize=(18, 8))\n",
    "ax3 = fig.add_subplot(111, projection='3d')\n",
    "ax3.view_init(0,-90)\n",
    "ax3.set_title('num_pur2~num_pur6')\n",
    "ax3.scatter(cust.num_pur2, cust.num_pur3, cust.num_pur6, marker='.', s=15, cmap='Greens')"
   ]
  },
  {
   "cell_type": "markdown",
   "metadata": {},
   "source": [
    "# 고객별 각 계열사 구매 횟수\n",
    "- 고객의 구매에 대한 정보가 담긴 data2, data3, data6의 계열사 구분 코드를 통해 각 계열사별 구매 횟수를 구했습니다.\n",
    "- 변수 A01, A02, A03, A04, A05, A06, B01, C01, C02, D01, D02, E01, L00, L01에 각 계열사에서의 구매 횟수를 입력했습니다."
   ]
  },
  {
   "cell_type": "code",
   "execution_count": 90,
   "metadata": {
    "ExecuteTime": {
     "end_time": "2022-08-11T07:50:27.804588Z",
     "start_time": "2022-08-11T07:50:25.191004Z"
    }
   },
   "outputs": [
    {
     "data": {
      "text/html": [
       "<div>\n",
       "<style scoped>\n",
       "    .dataframe tbody tr th:only-of-type {\n",
       "        vertical-align: middle;\n",
       "    }\n",
       "\n",
       "    .dataframe tbody tr th {\n",
       "        vertical-align: top;\n",
       "    }\n",
       "\n",
       "    .dataframe thead th {\n",
       "        text-align: right;\n",
       "    }\n",
       "</style>\n",
       "<table border=\"1\" class=\"dataframe\">\n",
       "  <thead>\n",
       "    <tr style=\"text-align: right;\">\n",
       "      <th></th>\n",
       "      <th>cust</th>\n",
       "      <th>연간구매금액2</th>\n",
       "      <th>연간구매금액3</th>\n",
       "      <th>연간구매금액6</th>\n",
       "      <th>연간구매금액236</th>\n",
       "      <th>유통평균주기</th>\n",
       "      <th>제휴평균주기</th>\n",
       "      <th>Lpay평균주기</th>\n",
       "      <th>총합평균주기</th>\n",
       "      <th>ma_fem_dv</th>\n",
       "      <th>...</th>\n",
       "      <th>A05</th>\n",
       "      <th>B01</th>\n",
       "      <th>C01</th>\n",
       "      <th>C02</th>\n",
       "      <th>D01</th>\n",
       "      <th>D02</th>\n",
       "      <th>E01</th>\n",
       "      <th>A06</th>\n",
       "      <th>L00</th>\n",
       "      <th>L01</th>\n",
       "    </tr>\n",
       "  </thead>\n",
       "  <tbody>\n",
       "    <tr>\n",
       "      <th>0</th>\n",
       "      <td>M000034966</td>\n",
       "      <td>654120.0</td>\n",
       "      <td>3900.0</td>\n",
       "      <td>0.0</td>\n",
       "      <td>658020.0</td>\n",
       "      <td>56 days 20:00:00</td>\n",
       "      <td>1번 구매</td>\n",
       "      <td>0번 구매</td>\n",
       "      <td>48 days 17:08:34.285714285</td>\n",
       "      <td>여성</td>\n",
       "      <td>...</td>\n",
       "      <td>0</td>\n",
       "      <td>0</td>\n",
       "      <td>0</td>\n",
       "      <td>0</td>\n",
       "      <td>0</td>\n",
       "      <td>0</td>\n",
       "      <td>0</td>\n",
       "      <td>0</td>\n",
       "      <td>0</td>\n",
       "      <td>0</td>\n",
       "    </tr>\n",
       "    <tr>\n",
       "      <th>1</th>\n",
       "      <td>M000136117</td>\n",
       "      <td>28496031.0</td>\n",
       "      <td>252500.0</td>\n",
       "      <td>1137501.0</td>\n",
       "      <td>28748531.0</td>\n",
       "      <td>12 days 09:55:51.724137931</td>\n",
       "      <td>20 days 22:17:08.571428571</td>\n",
       "      <td>106 days 16:00:00</td>\n",
       "      <td>8 days 04:21:49.090909090</td>\n",
       "      <td>여성</td>\n",
       "      <td>...</td>\n",
       "      <td>0</td>\n",
       "      <td>0</td>\n",
       "      <td>0</td>\n",
       "      <td>0</td>\n",
       "      <td>0</td>\n",
       "      <td>0</td>\n",
       "      <td>0</td>\n",
       "      <td>0</td>\n",
       "      <td>0</td>\n",
       "      <td>0</td>\n",
       "    </tr>\n",
       "    <tr>\n",
       "      <th>2</th>\n",
       "      <td>M000201112</td>\n",
       "      <td>53120.0</td>\n",
       "      <td>0.0</td>\n",
       "      <td>0.0</td>\n",
       "      <td>53120.0</td>\n",
       "      <td>42 days 00:00:00</td>\n",
       "      <td>0번 구매</td>\n",
       "      <td>0번 구매</td>\n",
       "      <td>42 days 00:00:00</td>\n",
       "      <td>여성</td>\n",
       "      <td>...</td>\n",
       "      <td>0</td>\n",
       "      <td>0</td>\n",
       "      <td>0</td>\n",
       "      <td>0</td>\n",
       "      <td>0</td>\n",
       "      <td>0</td>\n",
       "      <td>0</td>\n",
       "      <td>0</td>\n",
       "      <td>0</td>\n",
       "      <td>0</td>\n",
       "    </tr>\n",
       "    <tr>\n",
       "      <th>3</th>\n",
       "      <td>M000225114</td>\n",
       "      <td>1937700.0</td>\n",
       "      <td>316200.0</td>\n",
       "      <td>0.0</td>\n",
       "      <td>2253900.0</td>\n",
       "      <td>8 days 05:11:21.081081081</td>\n",
       "      <td>53 days 06:00:00</td>\n",
       "      <td>0번 구매</td>\n",
       "      <td>7 days 05:42:51.428571428</td>\n",
       "      <td>여성</td>\n",
       "      <td>...</td>\n",
       "      <td>0</td>\n",
       "      <td>0</td>\n",
       "      <td>0</td>\n",
       "      <td>0</td>\n",
       "      <td>0</td>\n",
       "      <td>0</td>\n",
       "      <td>0</td>\n",
       "      <td>0</td>\n",
       "      <td>0</td>\n",
       "      <td>0</td>\n",
       "    </tr>\n",
       "    <tr>\n",
       "      <th>4</th>\n",
       "      <td>M000261625</td>\n",
       "      <td>6052700.0</td>\n",
       "      <td>23250.0</td>\n",
       "      <td>0.0</td>\n",
       "      <td>6075950.0</td>\n",
       "      <td>16 days 00:00:00</td>\n",
       "      <td>1번 구매</td>\n",
       "      <td>0번 구매</td>\n",
       "      <td>16 days 00:00:00</td>\n",
       "      <td>여성</td>\n",
       "      <td>...</td>\n",
       "      <td>0</td>\n",
       "      <td>0</td>\n",
       "      <td>0</td>\n",
       "      <td>0</td>\n",
       "      <td>0</td>\n",
       "      <td>0</td>\n",
       "      <td>0</td>\n",
       "      <td>0</td>\n",
       "      <td>0</td>\n",
       "      <td>0</td>\n",
       "    </tr>\n",
       "  </tbody>\n",
       "</table>\n",
       "<p>5 rows × 33 columns</p>\n",
       "</div>"
      ],
      "text/plain": [
       "         cust     연간구매금액2   연간구매금액3    연간구매금액6   연간구매금액236  \\\n",
       "0  M000034966    654120.0    3900.0        0.0    658020.0   \n",
       "1  M000136117  28496031.0  252500.0  1137501.0  28748531.0   \n",
       "2  M000201112     53120.0       0.0        0.0     53120.0   \n",
       "3  M000225114   1937700.0  316200.0        0.0   2253900.0   \n",
       "4  M000261625   6052700.0   23250.0        0.0   6075950.0   \n",
       "\n",
       "                       유통평균주기                      제휴평균주기           Lpay평균주기  \\\n",
       "0            56 days 20:00:00                       1번 구매              0번 구매   \n",
       "1  12 days 09:55:51.724137931  20 days 22:17:08.571428571  106 days 16:00:00   \n",
       "2            42 days 00:00:00                       0번 구매              0번 구매   \n",
       "3   8 days 05:11:21.081081081            53 days 06:00:00              0번 구매   \n",
       "4            16 days 00:00:00                       1번 구매              0번 구매   \n",
       "\n",
       "                       총합평균주기 ma_fem_dv  ... A05 B01 C01 C02  D01  D02  E01  \\\n",
       "0  48 days 17:08:34.285714285        여성  ...   0   0   0   0    0    0    0   \n",
       "1   8 days 04:21:49.090909090        여성  ...   0   0   0   0    0    0    0   \n",
       "2            42 days 00:00:00        여성  ...   0   0   0   0    0    0    0   \n",
       "3   7 days 05:42:51.428571428        여성  ...   0   0   0   0    0    0    0   \n",
       "4            16 days 00:00:00        여성  ...   0   0   0   0    0    0    0   \n",
       "\n",
       "   A06  L00  L01  \n",
       "0    0    0    0  \n",
       "1    0    0    0  \n",
       "2    0    0    0  \n",
       "3    0    0    0  \n",
       "4    0    0    0  \n",
       "\n",
       "[5 rows x 33 columns]"
      ]
     },
     "execution_count": 90,
     "metadata": {},
     "output_type": "execute_result"
    }
   ],
   "source": [
    "num_cop_c2 = only_data2.groupby(['cust', 'cop_c']).count()['rct_no']\n",
    "num_cop_c3 = only_data3.groupby(['cust', 'cop_c']).count()['rct_no']\n",
    "num_cop_c6 = only_data6.groupby(['cust', 'cop_c']).count()['rct_no']\n",
    "num_cop_c2.name = 'num_cop_c2'\n",
    "num_cop_c3.name = 'num_cop_c3'\n",
    "num_cop_c6.name = 'num_cop_c6'\n",
    "cust[list(data5.cop_c.unique())] = 0\n",
    "cust[['A06', 'L00', 'L01']]=0\n",
    "cust.head()"
   ]
  },
  {
   "cell_type": "code",
   "execution_count": 91,
   "metadata": {
    "ExecuteTime": {
     "end_time": "2022-08-11T07:58:56.633640Z",
     "start_time": "2022-08-11T07:50:27.806588Z"
    },
    "scrolled": true
   },
   "outputs": [
    {
     "data": {
      "text/html": [
       "<div>\n",
       "<style scoped>\n",
       "    .dataframe tbody tr th:only-of-type {\n",
       "        vertical-align: middle;\n",
       "    }\n",
       "\n",
       "    .dataframe tbody tr th {\n",
       "        vertical-align: top;\n",
       "    }\n",
       "\n",
       "    .dataframe thead th {\n",
       "        text-align: right;\n",
       "    }\n",
       "</style>\n",
       "<table border=\"1\" class=\"dataframe\">\n",
       "  <thead>\n",
       "    <tr style=\"text-align: right;\">\n",
       "      <th></th>\n",
       "      <th>cust</th>\n",
       "      <th>연간구매금액2</th>\n",
       "      <th>연간구매금액3</th>\n",
       "      <th>연간구매금액6</th>\n",
       "      <th>연간구매금액236</th>\n",
       "      <th>유통평균주기</th>\n",
       "      <th>제휴평균주기</th>\n",
       "      <th>Lpay평균주기</th>\n",
       "      <th>총합평균주기</th>\n",
       "      <th>ma_fem_dv</th>\n",
       "      <th>...</th>\n",
       "      <th>A05</th>\n",
       "      <th>B01</th>\n",
       "      <th>C01</th>\n",
       "      <th>C02</th>\n",
       "      <th>D01</th>\n",
       "      <th>D02</th>\n",
       "      <th>E01</th>\n",
       "      <th>A06</th>\n",
       "      <th>L00</th>\n",
       "      <th>L01</th>\n",
       "    </tr>\n",
       "  </thead>\n",
       "  <tbody>\n",
       "    <tr>\n",
       "      <th>0</th>\n",
       "      <td>M000034966</td>\n",
       "      <td>654120.0</td>\n",
       "      <td>3900.0</td>\n",
       "      <td>0.0</td>\n",
       "      <td>658020.0</td>\n",
       "      <td>56 days 20:00:00</td>\n",
       "      <td>1번 구매</td>\n",
       "      <td>0번 구매</td>\n",
       "      <td>48 days 17:08:34.285714285</td>\n",
       "      <td>여성</td>\n",
       "      <td>...</td>\n",
       "      <td>0</td>\n",
       "      <td>0</td>\n",
       "      <td>0</td>\n",
       "      <td>0</td>\n",
       "      <td>1</td>\n",
       "      <td>0</td>\n",
       "      <td>0</td>\n",
       "      <td>0</td>\n",
       "      <td>0</td>\n",
       "      <td>0</td>\n",
       "    </tr>\n",
       "    <tr>\n",
       "      <th>1</th>\n",
       "      <td>M000136117</td>\n",
       "      <td>28496031.0</td>\n",
       "      <td>252500.0</td>\n",
       "      <td>1137501.0</td>\n",
       "      <td>28748531.0</td>\n",
       "      <td>12 days 09:55:51.724137931</td>\n",
       "      <td>20 days 22:17:08.571428571</td>\n",
       "      <td>106 days 16:00:00</td>\n",
       "      <td>8 days 04:21:49.090909090</td>\n",
       "      <td>여성</td>\n",
       "      <td>...</td>\n",
       "      <td>0</td>\n",
       "      <td>0</td>\n",
       "      <td>0</td>\n",
       "      <td>0</td>\n",
       "      <td>16</td>\n",
       "      <td>0</td>\n",
       "      <td>0</td>\n",
       "      <td>11</td>\n",
       "      <td>0</td>\n",
       "      <td>0</td>\n",
       "    </tr>\n",
       "    <tr>\n",
       "      <th>2</th>\n",
       "      <td>M000201112</td>\n",
       "      <td>53120.0</td>\n",
       "      <td>0.0</td>\n",
       "      <td>0.0</td>\n",
       "      <td>53120.0</td>\n",
       "      <td>42 days 00:00:00</td>\n",
       "      <td>0번 구매</td>\n",
       "      <td>0번 구매</td>\n",
       "      <td>42 days 00:00:00</td>\n",
       "      <td>여성</td>\n",
       "      <td>...</td>\n",
       "      <td>0</td>\n",
       "      <td>0</td>\n",
       "      <td>0</td>\n",
       "      <td>0</td>\n",
       "      <td>0</td>\n",
       "      <td>0</td>\n",
       "      <td>0</td>\n",
       "      <td>0</td>\n",
       "      <td>0</td>\n",
       "      <td>0</td>\n",
       "    </tr>\n",
       "    <tr>\n",
       "      <th>3</th>\n",
       "      <td>M000225114</td>\n",
       "      <td>1937700.0</td>\n",
       "      <td>316200.0</td>\n",
       "      <td>0.0</td>\n",
       "      <td>2253900.0</td>\n",
       "      <td>8 days 05:11:21.081081081</td>\n",
       "      <td>53 days 06:00:00</td>\n",
       "      <td>0번 구매</td>\n",
       "      <td>7 days 05:42:51.428571428</td>\n",
       "      <td>여성</td>\n",
       "      <td>...</td>\n",
       "      <td>0</td>\n",
       "      <td>0</td>\n",
       "      <td>1</td>\n",
       "      <td>7</td>\n",
       "      <td>0</td>\n",
       "      <td>2</td>\n",
       "      <td>0</td>\n",
       "      <td>0</td>\n",
       "      <td>0</td>\n",
       "      <td>0</td>\n",
       "    </tr>\n",
       "    <tr>\n",
       "      <th>4</th>\n",
       "      <td>M000261625</td>\n",
       "      <td>6052700.0</td>\n",
       "      <td>23250.0</td>\n",
       "      <td>0.0</td>\n",
       "      <td>6075950.0</td>\n",
       "      <td>16 days 00:00:00</td>\n",
       "      <td>1번 구매</td>\n",
       "      <td>0번 구매</td>\n",
       "      <td>16 days 00:00:00</td>\n",
       "      <td>여성</td>\n",
       "      <td>...</td>\n",
       "      <td>0</td>\n",
       "      <td>0</td>\n",
       "      <td>0</td>\n",
       "      <td>0</td>\n",
       "      <td>1</td>\n",
       "      <td>0</td>\n",
       "      <td>0</td>\n",
       "      <td>0</td>\n",
       "      <td>0</td>\n",
       "      <td>0</td>\n",
       "    </tr>\n",
       "    <tr>\n",
       "      <th>...</th>\n",
       "      <td>...</td>\n",
       "      <td>...</td>\n",
       "      <td>...</td>\n",
       "      <td>...</td>\n",
       "      <td>...</td>\n",
       "      <td>...</td>\n",
       "      <td>...</td>\n",
       "      <td>...</td>\n",
       "      <td>...</td>\n",
       "      <td>...</td>\n",
       "      <td>...</td>\n",
       "      <td>...</td>\n",
       "      <td>...</td>\n",
       "      <td>...</td>\n",
       "      <td>...</td>\n",
       "      <td>...</td>\n",
       "      <td>...</td>\n",
       "      <td>...</td>\n",
       "      <td>...</td>\n",
       "      <td>...</td>\n",
       "      <td>...</td>\n",
       "    </tr>\n",
       "    <tr>\n",
       "      <th>29904</th>\n",
       "      <td>M915138788</td>\n",
       "      <td>0.0</td>\n",
       "      <td>0.0</td>\n",
       "      <td>0.0</td>\n",
       "      <td>0.0</td>\n",
       "      <td>0번 구매</td>\n",
       "      <td>0번 구매</td>\n",
       "      <td>0번 구매</td>\n",
       "      <td>0번 구매</td>\n",
       "      <td>남성</td>\n",
       "      <td>...</td>\n",
       "      <td>0</td>\n",
       "      <td>0</td>\n",
       "      <td>0</td>\n",
       "      <td>0</td>\n",
       "      <td>0</td>\n",
       "      <td>0</td>\n",
       "      <td>0</td>\n",
       "      <td>0</td>\n",
       "      <td>0</td>\n",
       "      <td>0</td>\n",
       "    </tr>\n",
       "    <tr>\n",
       "      <th>29905</th>\n",
       "      <td>M931112452</td>\n",
       "      <td>0.0</td>\n",
       "      <td>0.0</td>\n",
       "      <td>0.0</td>\n",
       "      <td>0.0</td>\n",
       "      <td>0번 구매</td>\n",
       "      <td>0번 구매</td>\n",
       "      <td>0번 구매</td>\n",
       "      <td>0번 구매</td>\n",
       "      <td>남성</td>\n",
       "      <td>...</td>\n",
       "      <td>0</td>\n",
       "      <td>0</td>\n",
       "      <td>0</td>\n",
       "      <td>0</td>\n",
       "      <td>0</td>\n",
       "      <td>0</td>\n",
       "      <td>0</td>\n",
       "      <td>0</td>\n",
       "      <td>0</td>\n",
       "      <td>0</td>\n",
       "    </tr>\n",
       "    <tr>\n",
       "      <th>29906</th>\n",
       "      <td>M937793665</td>\n",
       "      <td>0.0</td>\n",
       "      <td>0.0</td>\n",
       "      <td>0.0</td>\n",
       "      <td>0.0</td>\n",
       "      <td>0번 구매</td>\n",
       "      <td>0번 구매</td>\n",
       "      <td>0번 구매</td>\n",
       "      <td>0번 구매</td>\n",
       "      <td>남성</td>\n",
       "      <td>...</td>\n",
       "      <td>0</td>\n",
       "      <td>0</td>\n",
       "      <td>0</td>\n",
       "      <td>0</td>\n",
       "      <td>0</td>\n",
       "      <td>0</td>\n",
       "      <td>0</td>\n",
       "      <td>0</td>\n",
       "      <td>0</td>\n",
       "      <td>0</td>\n",
       "    </tr>\n",
       "    <tr>\n",
       "      <th>29907</th>\n",
       "      <td>M960942132</td>\n",
       "      <td>0.0</td>\n",
       "      <td>0.0</td>\n",
       "      <td>0.0</td>\n",
       "      <td>0.0</td>\n",
       "      <td>0번 구매</td>\n",
       "      <td>0번 구매</td>\n",
       "      <td>0번 구매</td>\n",
       "      <td>0번 구매</td>\n",
       "      <td>남성</td>\n",
       "      <td>...</td>\n",
       "      <td>0</td>\n",
       "      <td>0</td>\n",
       "      <td>0</td>\n",
       "      <td>0</td>\n",
       "      <td>0</td>\n",
       "      <td>0</td>\n",
       "      <td>0</td>\n",
       "      <td>0</td>\n",
       "      <td>0</td>\n",
       "      <td>0</td>\n",
       "    </tr>\n",
       "    <tr>\n",
       "      <th>29908</th>\n",
       "      <td>M976801252</td>\n",
       "      <td>0.0</td>\n",
       "      <td>0.0</td>\n",
       "      <td>0.0</td>\n",
       "      <td>0.0</td>\n",
       "      <td>0번 구매</td>\n",
       "      <td>0번 구매</td>\n",
       "      <td>0번 구매</td>\n",
       "      <td>0번 구매</td>\n",
       "      <td>남성</td>\n",
       "      <td>...</td>\n",
       "      <td>0</td>\n",
       "      <td>0</td>\n",
       "      <td>0</td>\n",
       "      <td>0</td>\n",
       "      <td>0</td>\n",
       "      <td>0</td>\n",
       "      <td>0</td>\n",
       "      <td>0</td>\n",
       "      <td>0</td>\n",
       "      <td>0</td>\n",
       "    </tr>\n",
       "  </tbody>\n",
       "</table>\n",
       "<p>29909 rows × 33 columns</p>\n",
       "</div>"
      ],
      "text/plain": [
       "             cust     연간구매금액2   연간구매금액3    연간구매금액6   연간구매금액236  \\\n",
       "0      M000034966    654120.0    3900.0        0.0    658020.0   \n",
       "1      M000136117  28496031.0  252500.0  1137501.0  28748531.0   \n",
       "2      M000201112     53120.0       0.0        0.0     53120.0   \n",
       "3      M000225114   1937700.0  316200.0        0.0   2253900.0   \n",
       "4      M000261625   6052700.0   23250.0        0.0   6075950.0   \n",
       "...           ...         ...       ...        ...         ...   \n",
       "29904  M915138788         0.0       0.0        0.0         0.0   \n",
       "29905  M931112452         0.0       0.0        0.0         0.0   \n",
       "29906  M937793665         0.0       0.0        0.0         0.0   \n",
       "29907  M960942132         0.0       0.0        0.0         0.0   \n",
       "29908  M976801252         0.0       0.0        0.0         0.0   \n",
       "\n",
       "                           유통평균주기                      제휴평균주기  \\\n",
       "0                56 days 20:00:00                       1번 구매   \n",
       "1      12 days 09:55:51.724137931  20 days 22:17:08.571428571   \n",
       "2                42 days 00:00:00                       0번 구매   \n",
       "3       8 days 05:11:21.081081081            53 days 06:00:00   \n",
       "4                16 days 00:00:00                       1번 구매   \n",
       "...                           ...                         ...   \n",
       "29904                       0번 구매                       0번 구매   \n",
       "29905                       0번 구매                       0번 구매   \n",
       "29906                       0번 구매                       0번 구매   \n",
       "29907                       0번 구매                       0번 구매   \n",
       "29908                       0번 구매                       0번 구매   \n",
       "\n",
       "                Lpay평균주기                      총합평균주기 ma_fem_dv  ... A05 B01  \\\n",
       "0                  0번 구매  48 days 17:08:34.285714285        여성  ...   0   0   \n",
       "1      106 days 16:00:00   8 days 04:21:49.090909090        여성  ...   0   0   \n",
       "2                  0번 구매            42 days 00:00:00        여성  ...   0   0   \n",
       "3                  0번 구매   7 days 05:42:51.428571428        여성  ...   0   0   \n",
       "4                  0번 구매            16 days 00:00:00        여성  ...   0   0   \n",
       "...                  ...                         ...       ...  ...  ..  ..   \n",
       "29904              0번 구매                       0번 구매        남성  ...   0   0   \n",
       "29905              0번 구매                       0번 구매        남성  ...   0   0   \n",
       "29906              0번 구매                       0번 구매        남성  ...   0   0   \n",
       "29907              0번 구매                       0번 구매        남성  ...   0   0   \n",
       "29908              0번 구매                       0번 구매        남성  ...   0   0   \n",
       "\n",
       "      C01 C02  D01  D02  E01  A06  L00  L01  \n",
       "0       0   0    1    0    0    0    0    0  \n",
       "1       0   0   16    0    0   11    0    0  \n",
       "2       0   0    0    0    0    0    0    0  \n",
       "3       1   7    0    2    0    0    0    0  \n",
       "4       0   0    1    0    0    0    0    0  \n",
       "...    ..  ..  ...  ...  ...  ...  ...  ...  \n",
       "29904   0   0    0    0    0    0    0    0  \n",
       "29905   0   0    0    0    0    0    0    0  \n",
       "29906   0   0    0    0    0    0    0    0  \n",
       "29907   0   0    0    0    0    0    0    0  \n",
       "29908   0   0    0    0    0    0    0    0  \n",
       "\n",
       "[29909 rows x 33 columns]"
      ]
     },
     "execution_count": 91,
     "metadata": {},
     "output_type": "execute_result"
    }
   ],
   "source": [
    "for i, j in num_cop_c2.index:\n",
    "    cust.loc[cust.cust == i, j] += num_cop_c2[i,j]\n",
    "for i, j in num_cop_c3.index:\n",
    "    cust.loc[cust.cust == i, j] += num_cop_c3[i,j]\n",
    "for i, j in num_cop_c6.index:\n",
    "    cust.loc[cust.cust == i, j] += num_cop_c6[i,j]\n",
    "cust"
   ]
  },
  {
   "cell_type": "markdown",
   "metadata": {},
   "source": [
    "# 고객별 이용한 계열사 수\n",
    "- 고객의 모든 구매목록에 대하여 1년간 몇 개의 계열사를 이용하였는지 구하였습니다."
   ]
  },
  {
   "cell_type": "code",
   "execution_count": 92,
   "metadata": {
    "ExecuteTime": {
     "end_time": "2022-08-11T07:58:56.784687Z",
     "start_time": "2022-08-11T07:58:56.635641Z"
    }
   },
   "outputs": [
    {
     "data": {
      "text/html": [
       "<div>\n",
       "<style scoped>\n",
       "    .dataframe tbody tr th:only-of-type {\n",
       "        vertical-align: middle;\n",
       "    }\n",
       "\n",
       "    .dataframe tbody tr th {\n",
       "        vertical-align: top;\n",
       "    }\n",
       "\n",
       "    .dataframe thead th {\n",
       "        text-align: right;\n",
       "    }\n",
       "</style>\n",
       "<table border=\"1\" class=\"dataframe\">\n",
       "  <thead>\n",
       "    <tr style=\"text-align: right;\">\n",
       "      <th></th>\n",
       "      <th>cust</th>\n",
       "      <th>cop_c</th>\n",
       "    </tr>\n",
       "  </thead>\n",
       "  <tbody>\n",
       "    <tr>\n",
       "      <th>0</th>\n",
       "      <td>M000034966</td>\n",
       "      <td>A01</td>\n",
       "    </tr>\n",
       "    <tr>\n",
       "      <th>1</th>\n",
       "      <td>M000034966</td>\n",
       "      <td>A01</td>\n",
       "    </tr>\n",
       "    <tr>\n",
       "      <th>2</th>\n",
       "      <td>M000034966</td>\n",
       "      <td>A01</td>\n",
       "    </tr>\n",
       "    <tr>\n",
       "      <th>3</th>\n",
       "      <td>M000034966</td>\n",
       "      <td>A02</td>\n",
       "    </tr>\n",
       "    <tr>\n",
       "      <th>4</th>\n",
       "      <td>M000034966</td>\n",
       "      <td>A02</td>\n",
       "    </tr>\n",
       "    <tr>\n",
       "      <th>...</th>\n",
       "      <td>...</td>\n",
       "      <td>...</td>\n",
       "    </tr>\n",
       "    <tr>\n",
       "      <th>353179</th>\n",
       "      <td>M470112503</td>\n",
       "      <td>A06</td>\n",
       "    </tr>\n",
       "    <tr>\n",
       "      <th>353180</th>\n",
       "      <td>M470112503</td>\n",
       "      <td>A06</td>\n",
       "    </tr>\n",
       "    <tr>\n",
       "      <th>353181</th>\n",
       "      <td>M748878049</td>\n",
       "      <td>A02</td>\n",
       "    </tr>\n",
       "    <tr>\n",
       "      <th>353182</th>\n",
       "      <td>M748878049</td>\n",
       "      <td>A02</td>\n",
       "    </tr>\n",
       "    <tr>\n",
       "      <th>353183</th>\n",
       "      <td>M748878049</td>\n",
       "      <td>C01</td>\n",
       "    </tr>\n",
       "  </tbody>\n",
       "</table>\n",
       "<p>4251355 rows × 2 columns</p>\n",
       "</div>"
      ],
      "text/plain": [
       "              cust cop_c\n",
       "0       M000034966   A01\n",
       "1       M000034966   A01\n",
       "2       M000034966   A01\n",
       "3       M000034966   A02\n",
       "4       M000034966   A02\n",
       "...            ...   ...\n",
       "353179  M470112503   A06\n",
       "353180  M470112503   A06\n",
       "353181  M748878049   A02\n",
       "353182  M748878049   A02\n",
       "353183  M748878049   C01\n",
       "\n",
       "[4251355 rows x 2 columns]"
      ]
     },
     "execution_count": 92,
     "metadata": {},
     "output_type": "execute_result"
    }
   ],
   "source": [
    "num_cop = pd.concat([only_data2.loc[:, ['cust', 'cop_c']], only_data3.loc[:, ['cust', 'cop_c']], only_data6.loc[:, ['cust', 'cop_c']]])\n",
    "num_cop"
   ]
  },
  {
   "cell_type": "code",
   "execution_count": 93,
   "metadata": {
    "ExecuteTime": {
     "end_time": "2022-08-11T07:58:59.251567Z",
     "start_time": "2022-08-11T07:58:56.787689Z"
    }
   },
   "outputs": [
    {
     "data": {
      "text/plain": [
       "cust\n",
       "M000034966                                 [A01, A02, A04, D01]\n",
       "M000059535                                                [C01]\n",
       "M000136117                                 [A01, A02, A06, D01]\n",
       "M000201112                                                [A04]\n",
       "M000225114                            [A01, A03, C01, C02, D02]\n",
       "                                    ...                        \n",
       "M999708287                                                [C01]\n",
       "M999770689        [A01, A02, A03, A04, D02, B01, D01, L00, A06]\n",
       "M999849895                                 [A01, A02, A04, D01]\n",
       "M999926092                                      [D02, C01, D01]\n",
       "M999962961    [A01, A02, A03, A05, A06, C02, C01, D02, D01, ...\n",
       "Name: cop_c, Length: 29870, dtype: object"
      ]
     },
     "execution_count": 93,
     "metadata": {},
     "output_type": "execute_result"
    }
   ],
   "source": [
    "num_cop.groupby(['cust'])['cop_c'].unique()\n",
    "# 여기서 비슷한 방식으로 유사도 구할수 있을듯?"
   ]
  },
  {
   "cell_type": "code",
   "execution_count": 94,
   "metadata": {
    "ExecuteTime": {
     "end_time": "2022-08-11T07:59:01.836187Z",
     "start_time": "2022-08-11T07:58:59.253562Z"
    }
   },
   "outputs": [
    {
     "data": {
      "text/html": [
       "<div>\n",
       "<style scoped>\n",
       "    .dataframe tbody tr th:only-of-type {\n",
       "        vertical-align: middle;\n",
       "    }\n",
       "\n",
       "    .dataframe tbody tr th {\n",
       "        vertical-align: top;\n",
       "    }\n",
       "\n",
       "    .dataframe thead th {\n",
       "        text-align: right;\n",
       "    }\n",
       "</style>\n",
       "<table border=\"1\" class=\"dataframe\">\n",
       "  <thead>\n",
       "    <tr style=\"text-align: right;\">\n",
       "      <th></th>\n",
       "      <th>cust</th>\n",
       "      <th>연간구매금액2</th>\n",
       "      <th>연간구매금액3</th>\n",
       "      <th>연간구매금액6</th>\n",
       "      <th>연간구매금액236</th>\n",
       "      <th>유통평균주기</th>\n",
       "      <th>제휴평균주기</th>\n",
       "      <th>Lpay평균주기</th>\n",
       "      <th>총합평균주기</th>\n",
       "      <th>ma_fem_dv</th>\n",
       "      <th>...</th>\n",
       "      <th>B01</th>\n",
       "      <th>C01</th>\n",
       "      <th>C02</th>\n",
       "      <th>D01</th>\n",
       "      <th>D02</th>\n",
       "      <th>E01</th>\n",
       "      <th>A06</th>\n",
       "      <th>L00</th>\n",
       "      <th>L01</th>\n",
       "      <th>how_many_cop</th>\n",
       "    </tr>\n",
       "  </thead>\n",
       "  <tbody>\n",
       "    <tr>\n",
       "      <th>0</th>\n",
       "      <td>M000034966</td>\n",
       "      <td>654120.0</td>\n",
       "      <td>3900.0</td>\n",
       "      <td>0.0</td>\n",
       "      <td>658020.0</td>\n",
       "      <td>56 days 20:00:00</td>\n",
       "      <td>1번 구매</td>\n",
       "      <td>0번 구매</td>\n",
       "      <td>48 days 17:08:34.285714285</td>\n",
       "      <td>여성</td>\n",
       "      <td>...</td>\n",
       "      <td>0</td>\n",
       "      <td>0</td>\n",
       "      <td>0</td>\n",
       "      <td>1</td>\n",
       "      <td>0</td>\n",
       "      <td>0</td>\n",
       "      <td>0</td>\n",
       "      <td>0</td>\n",
       "      <td>0</td>\n",
       "      <td>4.0</td>\n",
       "    </tr>\n",
       "    <tr>\n",
       "      <th>1</th>\n",
       "      <td>M000136117</td>\n",
       "      <td>28496031.0</td>\n",
       "      <td>252500.0</td>\n",
       "      <td>1137501.0</td>\n",
       "      <td>28748531.0</td>\n",
       "      <td>12 days 09:55:51.724137931</td>\n",
       "      <td>20 days 22:17:08.571428571</td>\n",
       "      <td>106 days 16:00:00</td>\n",
       "      <td>8 days 04:21:49.090909090</td>\n",
       "      <td>여성</td>\n",
       "      <td>...</td>\n",
       "      <td>0</td>\n",
       "      <td>0</td>\n",
       "      <td>0</td>\n",
       "      <td>16</td>\n",
       "      <td>0</td>\n",
       "      <td>0</td>\n",
       "      <td>11</td>\n",
       "      <td>0</td>\n",
       "      <td>0</td>\n",
       "      <td>4.0</td>\n",
       "    </tr>\n",
       "    <tr>\n",
       "      <th>2</th>\n",
       "      <td>M000201112</td>\n",
       "      <td>53120.0</td>\n",
       "      <td>0.0</td>\n",
       "      <td>0.0</td>\n",
       "      <td>53120.0</td>\n",
       "      <td>42 days 00:00:00</td>\n",
       "      <td>0번 구매</td>\n",
       "      <td>0번 구매</td>\n",
       "      <td>42 days 00:00:00</td>\n",
       "      <td>여성</td>\n",
       "      <td>...</td>\n",
       "      <td>0</td>\n",
       "      <td>0</td>\n",
       "      <td>0</td>\n",
       "      <td>0</td>\n",
       "      <td>0</td>\n",
       "      <td>0</td>\n",
       "      <td>0</td>\n",
       "      <td>0</td>\n",
       "      <td>0</td>\n",
       "      <td>1.0</td>\n",
       "    </tr>\n",
       "    <tr>\n",
       "      <th>3</th>\n",
       "      <td>M000225114</td>\n",
       "      <td>1937700.0</td>\n",
       "      <td>316200.0</td>\n",
       "      <td>0.0</td>\n",
       "      <td>2253900.0</td>\n",
       "      <td>8 days 05:11:21.081081081</td>\n",
       "      <td>53 days 06:00:00</td>\n",
       "      <td>0번 구매</td>\n",
       "      <td>7 days 05:42:51.428571428</td>\n",
       "      <td>여성</td>\n",
       "      <td>...</td>\n",
       "      <td>0</td>\n",
       "      <td>1</td>\n",
       "      <td>7</td>\n",
       "      <td>0</td>\n",
       "      <td>2</td>\n",
       "      <td>0</td>\n",
       "      <td>0</td>\n",
       "      <td>0</td>\n",
       "      <td>0</td>\n",
       "      <td>5.0</td>\n",
       "    </tr>\n",
       "    <tr>\n",
       "      <th>4</th>\n",
       "      <td>M000261625</td>\n",
       "      <td>6052700.0</td>\n",
       "      <td>23250.0</td>\n",
       "      <td>0.0</td>\n",
       "      <td>6075950.0</td>\n",
       "      <td>16 days 00:00:00</td>\n",
       "      <td>1번 구매</td>\n",
       "      <td>0번 구매</td>\n",
       "      <td>16 days 00:00:00</td>\n",
       "      <td>여성</td>\n",
       "      <td>...</td>\n",
       "      <td>0</td>\n",
       "      <td>0</td>\n",
       "      <td>0</td>\n",
       "      <td>1</td>\n",
       "      <td>0</td>\n",
       "      <td>0</td>\n",
       "      <td>0</td>\n",
       "      <td>0</td>\n",
       "      <td>0</td>\n",
       "      <td>2.0</td>\n",
       "    </tr>\n",
       "  </tbody>\n",
       "</table>\n",
       "<p>5 rows × 34 columns</p>\n",
       "</div>"
      ],
      "text/plain": [
       "         cust     연간구매금액2   연간구매금액3    연간구매금액6   연간구매금액236  \\\n",
       "0  M000034966    654120.0    3900.0        0.0    658020.0   \n",
       "1  M000136117  28496031.0  252500.0  1137501.0  28748531.0   \n",
       "2  M000201112     53120.0       0.0        0.0     53120.0   \n",
       "3  M000225114   1937700.0  316200.0        0.0   2253900.0   \n",
       "4  M000261625   6052700.0   23250.0        0.0   6075950.0   \n",
       "\n",
       "                       유통평균주기                      제휴평균주기           Lpay평균주기  \\\n",
       "0            56 days 20:00:00                       1번 구매              0번 구매   \n",
       "1  12 days 09:55:51.724137931  20 days 22:17:08.571428571  106 days 16:00:00   \n",
       "2            42 days 00:00:00                       0번 구매              0번 구매   \n",
       "3   8 days 05:11:21.081081081            53 days 06:00:00              0번 구매   \n",
       "4            16 days 00:00:00                       1번 구매              0번 구매   \n",
       "\n",
       "                       총합평균주기 ma_fem_dv  ... B01 C01 C02 D01  D02  E01  A06  \\\n",
       "0  48 days 17:08:34.285714285        여성  ...   0   0   0   1    0    0    0   \n",
       "1   8 days 04:21:49.090909090        여성  ...   0   0   0  16    0    0   11   \n",
       "2            42 days 00:00:00        여성  ...   0   0   0   0    0    0    0   \n",
       "3   7 days 05:42:51.428571428        여성  ...   0   1   7   0    2    0    0   \n",
       "4            16 days 00:00:00        여성  ...   0   0   0   1    0    0    0   \n",
       "\n",
       "   L00  L01  how_many_cop  \n",
       "0    0    0           4.0  \n",
       "1    0    0           4.0  \n",
       "2    0    0           1.0  \n",
       "3    0    0           5.0  \n",
       "4    0    0           2.0  \n",
       "\n",
       "[5 rows x 34 columns]"
      ]
     },
     "execution_count": 94,
     "metadata": {},
     "output_type": "execute_result"
    }
   ],
   "source": [
    "how_many_cop = num_cop.groupby(['cust'])['cop_c'].unique().apply(len)\n",
    "how_many_cop.name = 'how_many_cop'\n",
    "cust = cust.merge(how_many_cop, how='left', on='cust')\n",
    "cust.fillna(0, inplace=True)\n",
    "cust.head()"
   ]
  },
  {
   "cell_type": "markdown",
   "metadata": {},
   "source": [
    "# 고객별 온라인 친화도\n",
    "- 고객의 모든 구매목록에 대하여 구매시 오프라인 채널과 온라인 채널 중 어떤 채널을 선호하였는지 구하였습니다.\n",
    "- 온라인 친화도는 0과 1 사이의 값으로 전체 구매 중 온라인 구매의 비율입니다."
   ]
  },
  {
   "cell_type": "code",
   "execution_count": 95,
   "metadata": {
    "ExecuteTime": {
     "end_time": "2022-08-11T07:59:01.941719Z",
     "start_time": "2022-08-11T07:59:01.840182Z"
    }
   },
   "outputs": [
    {
     "data": {
      "text/html": [
       "<div>\n",
       "<style scoped>\n",
       "    .dataframe tbody tr th:only-of-type {\n",
       "        vertical-align: middle;\n",
       "    }\n",
       "\n",
       "    .dataframe tbody tr th {\n",
       "        vertical-align: top;\n",
       "    }\n",
       "\n",
       "    .dataframe thead th {\n",
       "        text-align: right;\n",
       "    }\n",
       "</style>\n",
       "<table border=\"1\" class=\"dataframe\">\n",
       "  <thead>\n",
       "    <tr style=\"text-align: right;\">\n",
       "      <th></th>\n",
       "      <th>cust</th>\n",
       "      <th>chnl_dv</th>\n",
       "    </tr>\n",
       "  </thead>\n",
       "  <tbody>\n",
       "    <tr>\n",
       "      <th>0</th>\n",
       "      <td>M000034966</td>\n",
       "      <td>1</td>\n",
       "    </tr>\n",
       "    <tr>\n",
       "      <th>1</th>\n",
       "      <td>M000034966</td>\n",
       "      <td>1</td>\n",
       "    </tr>\n",
       "    <tr>\n",
       "      <th>2</th>\n",
       "      <td>M000034966</td>\n",
       "      <td>1</td>\n",
       "    </tr>\n",
       "    <tr>\n",
       "      <th>3</th>\n",
       "      <td>M000034966</td>\n",
       "      <td>1</td>\n",
       "    </tr>\n",
       "    <tr>\n",
       "      <th>4</th>\n",
       "      <td>M000034966</td>\n",
       "      <td>1</td>\n",
       "    </tr>\n",
       "    <tr>\n",
       "      <th>...</th>\n",
       "      <td>...</td>\n",
       "      <td>...</td>\n",
       "    </tr>\n",
       "    <tr>\n",
       "      <th>353179</th>\n",
       "      <td>M470112503</td>\n",
       "      <td>2</td>\n",
       "    </tr>\n",
       "    <tr>\n",
       "      <th>353180</th>\n",
       "      <td>M470112503</td>\n",
       "      <td>2</td>\n",
       "    </tr>\n",
       "    <tr>\n",
       "      <th>353181</th>\n",
       "      <td>M748878049</td>\n",
       "      <td>1</td>\n",
       "    </tr>\n",
       "    <tr>\n",
       "      <th>353182</th>\n",
       "      <td>M748878049</td>\n",
       "      <td>1</td>\n",
       "    </tr>\n",
       "    <tr>\n",
       "      <th>353183</th>\n",
       "      <td>M748878049</td>\n",
       "      <td>2</td>\n",
       "    </tr>\n",
       "  </tbody>\n",
       "</table>\n",
       "<p>4251355 rows × 2 columns</p>\n",
       "</div>"
      ],
      "text/plain": [
       "              cust  chnl_dv\n",
       "0       M000034966        1\n",
       "1       M000034966        1\n",
       "2       M000034966        1\n",
       "3       M000034966        1\n",
       "4       M000034966        1\n",
       "...            ...      ...\n",
       "353179  M470112503        2\n",
       "353180  M470112503        2\n",
       "353181  M748878049        1\n",
       "353182  M748878049        1\n",
       "353183  M748878049        2\n",
       "\n",
       "[4251355 rows x 2 columns]"
      ]
     },
     "execution_count": 95,
     "metadata": {},
     "output_type": "execute_result"
    }
   ],
   "source": [
    "cust_chnl_dv = pd.concat([only_data2.loc[:, ['cust', 'chnl_dv']], only_data3.loc[:, ['cust', 'chnl_dv']], only_data6.loc[:, ['cust', 'chnl_dv']]])\n",
    "cust_chnl_dv"
   ]
  },
  {
   "cell_type": "code",
   "execution_count": 96,
   "metadata": {
    "ExecuteTime": {
     "end_time": "2022-08-11T07:59:02.512922Z",
     "start_time": "2022-08-11T07:59:01.943719Z"
    }
   },
   "outputs": [
    {
     "data": {
      "text/html": [
       "<div>\n",
       "<style scoped>\n",
       "    .dataframe tbody tr th:only-of-type {\n",
       "        vertical-align: middle;\n",
       "    }\n",
       "\n",
       "    .dataframe tbody tr th {\n",
       "        vertical-align: top;\n",
       "    }\n",
       "\n",
       "    .dataframe thead th {\n",
       "        text-align: right;\n",
       "    }\n",
       "</style>\n",
       "<table border=\"1\" class=\"dataframe\">\n",
       "  <thead>\n",
       "    <tr style=\"text-align: right;\">\n",
       "      <th></th>\n",
       "      <th>cust</th>\n",
       "      <th>연간구매금액2</th>\n",
       "      <th>연간구매금액3</th>\n",
       "      <th>연간구매금액6</th>\n",
       "      <th>연간구매금액236</th>\n",
       "      <th>유통평균주기</th>\n",
       "      <th>제휴평균주기</th>\n",
       "      <th>Lpay평균주기</th>\n",
       "      <th>총합평균주기</th>\n",
       "      <th>ma_fem_dv</th>\n",
       "      <th>...</th>\n",
       "      <th>C01</th>\n",
       "      <th>C02</th>\n",
       "      <th>D01</th>\n",
       "      <th>D02</th>\n",
       "      <th>E01</th>\n",
       "      <th>A06</th>\n",
       "      <th>L00</th>\n",
       "      <th>L01</th>\n",
       "      <th>how_many_cop</th>\n",
       "      <th>online_friendly</th>\n",
       "    </tr>\n",
       "  </thead>\n",
       "  <tbody>\n",
       "    <tr>\n",
       "      <th>0</th>\n",
       "      <td>M000034966</td>\n",
       "      <td>654120.0</td>\n",
       "      <td>3900.0</td>\n",
       "      <td>0.0</td>\n",
       "      <td>658020.0</td>\n",
       "      <td>56 days 20:00:00</td>\n",
       "      <td>1번 구매</td>\n",
       "      <td>0번 구매</td>\n",
       "      <td>48 days 17:08:34.285714285</td>\n",
       "      <td>여성</td>\n",
       "      <td>...</td>\n",
       "      <td>0</td>\n",
       "      <td>0</td>\n",
       "      <td>1</td>\n",
       "      <td>0</td>\n",
       "      <td>0</td>\n",
       "      <td>0</td>\n",
       "      <td>0</td>\n",
       "      <td>0</td>\n",
       "      <td>4.0</td>\n",
       "      <td>0.000000</td>\n",
       "    </tr>\n",
       "    <tr>\n",
       "      <th>1</th>\n",
       "      <td>M000136117</td>\n",
       "      <td>28496031.0</td>\n",
       "      <td>252500.0</td>\n",
       "      <td>1137501.0</td>\n",
       "      <td>28748531.0</td>\n",
       "      <td>12 days 09:55:51.724137931</td>\n",
       "      <td>20 days 22:17:08.571428571</td>\n",
       "      <td>106 days 16:00:00</td>\n",
       "      <td>8 days 04:21:49.090909090</td>\n",
       "      <td>여성</td>\n",
       "      <td>...</td>\n",
       "      <td>0</td>\n",
       "      <td>0</td>\n",
       "      <td>16</td>\n",
       "      <td>0</td>\n",
       "      <td>0</td>\n",
       "      <td>11</td>\n",
       "      <td>0</td>\n",
       "      <td>0</td>\n",
       "      <td>4.0</td>\n",
       "      <td>0.144231</td>\n",
       "    </tr>\n",
       "    <tr>\n",
       "      <th>2</th>\n",
       "      <td>M000201112</td>\n",
       "      <td>53120.0</td>\n",
       "      <td>0.0</td>\n",
       "      <td>0.0</td>\n",
       "      <td>53120.0</td>\n",
       "      <td>42 days 00:00:00</td>\n",
       "      <td>0번 구매</td>\n",
       "      <td>0번 구매</td>\n",
       "      <td>42 days 00:00:00</td>\n",
       "      <td>여성</td>\n",
       "      <td>...</td>\n",
       "      <td>0</td>\n",
       "      <td>0</td>\n",
       "      <td>0</td>\n",
       "      <td>0</td>\n",
       "      <td>0</td>\n",
       "      <td>0</td>\n",
       "      <td>0</td>\n",
       "      <td>0</td>\n",
       "      <td>1.0</td>\n",
       "      <td>0.000000</td>\n",
       "    </tr>\n",
       "    <tr>\n",
       "      <th>3</th>\n",
       "      <td>M000225114</td>\n",
       "      <td>1937700.0</td>\n",
       "      <td>316200.0</td>\n",
       "      <td>0.0</td>\n",
       "      <td>2253900.0</td>\n",
       "      <td>8 days 05:11:21.081081081</td>\n",
       "      <td>53 days 06:00:00</td>\n",
       "      <td>0번 구매</td>\n",
       "      <td>7 days 05:42:51.428571428</td>\n",
       "      <td>여성</td>\n",
       "      <td>...</td>\n",
       "      <td>1</td>\n",
       "      <td>7</td>\n",
       "      <td>0</td>\n",
       "      <td>2</td>\n",
       "      <td>0</td>\n",
       "      <td>0</td>\n",
       "      <td>0</td>\n",
       "      <td>0</td>\n",
       "      <td>5.0</td>\n",
       "      <td>0.000000</td>\n",
       "    </tr>\n",
       "    <tr>\n",
       "      <th>4</th>\n",
       "      <td>M000261625</td>\n",
       "      <td>6052700.0</td>\n",
       "      <td>23250.0</td>\n",
       "      <td>0.0</td>\n",
       "      <td>6075950.0</td>\n",
       "      <td>16 days 00:00:00</td>\n",
       "      <td>1번 구매</td>\n",
       "      <td>0번 구매</td>\n",
       "      <td>16 days 00:00:00</td>\n",
       "      <td>여성</td>\n",
       "      <td>...</td>\n",
       "      <td>0</td>\n",
       "      <td>0</td>\n",
       "      <td>1</td>\n",
       "      <td>0</td>\n",
       "      <td>0</td>\n",
       "      <td>0</td>\n",
       "      <td>0</td>\n",
       "      <td>0</td>\n",
       "      <td>2.0</td>\n",
       "      <td>0.000000</td>\n",
       "    </tr>\n",
       "  </tbody>\n",
       "</table>\n",
       "<p>5 rows × 35 columns</p>\n",
       "</div>"
      ],
      "text/plain": [
       "         cust     연간구매금액2   연간구매금액3    연간구매금액6   연간구매금액236  \\\n",
       "0  M000034966    654120.0    3900.0        0.0    658020.0   \n",
       "1  M000136117  28496031.0  252500.0  1137501.0  28748531.0   \n",
       "2  M000201112     53120.0       0.0        0.0     53120.0   \n",
       "3  M000225114   1937700.0  316200.0        0.0   2253900.0   \n",
       "4  M000261625   6052700.0   23250.0        0.0   6075950.0   \n",
       "\n",
       "                       유통평균주기                      제휴평균주기           Lpay평균주기  \\\n",
       "0            56 days 20:00:00                       1번 구매              0번 구매   \n",
       "1  12 days 09:55:51.724137931  20 days 22:17:08.571428571  106 days 16:00:00   \n",
       "2            42 days 00:00:00                       0번 구매              0번 구매   \n",
       "3   8 days 05:11:21.081081081            53 days 06:00:00              0번 구매   \n",
       "4            16 days 00:00:00                       1번 구매              0번 구매   \n",
       "\n",
       "                       총합평균주기 ma_fem_dv  ... C01 C02 D01 D02  E01  A06  L00  \\\n",
       "0  48 days 17:08:34.285714285        여성  ...   0   0   1   0    0    0    0   \n",
       "1   8 days 04:21:49.090909090        여성  ...   0   0  16   0    0   11    0   \n",
       "2            42 days 00:00:00        여성  ...   0   0   0   0    0    0    0   \n",
       "3   7 days 05:42:51.428571428        여성  ...   1   7   0   2    0    0    0   \n",
       "4            16 days 00:00:00        여성  ...   0   0   1   0    0    0    0   \n",
       "\n",
       "   L01  how_many_cop  online_friendly  \n",
       "0    0           4.0         0.000000  \n",
       "1    0           4.0         0.144231  \n",
       "2    0           1.0         0.000000  \n",
       "3    0           5.0         0.000000  \n",
       "4    0           2.0         0.000000  \n",
       "\n",
       "[5 rows x 35 columns]"
      ]
     },
     "execution_count": 96,
     "metadata": {},
     "output_type": "execute_result"
    }
   ],
   "source": [
    "online_friendly = cust_chnl_dv.loc[:, ['cust', 'chnl_dv']].groupby('cust').mean().apply(lambda x: x-1)\n",
    "online_friendly.rename(columns = {'chnl_dv':'online_friendly'},inplace=True)\n",
    "cust = cust.merge(online_friendly, how='left', on='cust')\n",
    "cust.fillna(0, inplace=True)\n",
    "cust.head()"
   ]
  },
  {
   "cell_type": "markdown",
   "metadata": {},
   "source": [
    "# CLTV, 고객생애가치"
   ]
  },
  {
   "cell_type": "markdown",
   "metadata": {},
   "source": [
    "## 평균 구매 가치\n",
    "- 일정 기간 동안의 매출 / 해당 기간동안 발생한 구매 횟수"
   ]
  },
  {
   "cell_type": "code",
   "execution_count": 97,
   "metadata": {
    "ExecuteTime": {
     "end_time": "2022-08-11T07:59:04.270321Z",
     "start_time": "2022-08-11T07:59:02.514914Z"
    },
    "scrolled": true
   },
   "outputs": [
    {
     "data": {
      "text/html": [
       "<div>\n",
       "<style scoped>\n",
       "    .dataframe tbody tr th:only-of-type {\n",
       "        vertical-align: middle;\n",
       "    }\n",
       "\n",
       "    .dataframe tbody tr th {\n",
       "        vertical-align: top;\n",
       "    }\n",
       "\n",
       "    .dataframe thead th {\n",
       "        text-align: right;\n",
       "    }\n",
       "</style>\n",
       "<table border=\"1\" class=\"dataframe\">\n",
       "  <thead>\n",
       "    <tr style=\"text-align: right;\">\n",
       "      <th></th>\n",
       "      <th>cust</th>\n",
       "      <th>연간구매금액2</th>\n",
       "      <th>연간구매금액3</th>\n",
       "      <th>연간구매금액6</th>\n",
       "      <th>연간구매금액236</th>\n",
       "      <th>유통평균주기</th>\n",
       "      <th>제휴평균주기</th>\n",
       "      <th>Lpay평균주기</th>\n",
       "      <th>총합평균주기</th>\n",
       "      <th>ma_fem_dv</th>\n",
       "      <th>...</th>\n",
       "      <th>C02</th>\n",
       "      <th>D01</th>\n",
       "      <th>D02</th>\n",
       "      <th>E01</th>\n",
       "      <th>A06</th>\n",
       "      <th>L00</th>\n",
       "      <th>L01</th>\n",
       "      <th>how_many_cop</th>\n",
       "      <th>online_friendly</th>\n",
       "      <th>total_pur</th>\n",
       "    </tr>\n",
       "  </thead>\n",
       "  <tbody>\n",
       "    <tr>\n",
       "      <th>0</th>\n",
       "      <td>M000034966</td>\n",
       "      <td>654120.0</td>\n",
       "      <td>3900.0</td>\n",
       "      <td>0.0</td>\n",
       "      <td>658020.0</td>\n",
       "      <td>56 days 20:00:00</td>\n",
       "      <td>1번 구매</td>\n",
       "      <td>0번 구매</td>\n",
       "      <td>48 days 17:08:34.285714285</td>\n",
       "      <td>여성</td>\n",
       "      <td>...</td>\n",
       "      <td>0</td>\n",
       "      <td>1</td>\n",
       "      <td>0</td>\n",
       "      <td>0</td>\n",
       "      <td>0</td>\n",
       "      <td>0</td>\n",
       "      <td>0</td>\n",
       "      <td>4.0</td>\n",
       "      <td>0.000000</td>\n",
       "      <td>43.0</td>\n",
       "    </tr>\n",
       "    <tr>\n",
       "      <th>1</th>\n",
       "      <td>M000136117</td>\n",
       "      <td>28496031.0</td>\n",
       "      <td>252500.0</td>\n",
       "      <td>1137501.0</td>\n",
       "      <td>28748531.0</td>\n",
       "      <td>12 days 09:55:51.724137931</td>\n",
       "      <td>20 days 22:17:08.571428571</td>\n",
       "      <td>106 days 16:00:00</td>\n",
       "      <td>8 days 04:21:49.090909090</td>\n",
       "      <td>여성</td>\n",
       "      <td>...</td>\n",
       "      <td>0</td>\n",
       "      <td>16</td>\n",
       "      <td>0</td>\n",
       "      <td>0</td>\n",
       "      <td>11</td>\n",
       "      <td>0</td>\n",
       "      <td>0</td>\n",
       "      <td>4.0</td>\n",
       "      <td>0.144231</td>\n",
       "      <td>104.0</td>\n",
       "    </tr>\n",
       "    <tr>\n",
       "      <th>2</th>\n",
       "      <td>M000201112</td>\n",
       "      <td>53120.0</td>\n",
       "      <td>0.0</td>\n",
       "      <td>0.0</td>\n",
       "      <td>53120.0</td>\n",
       "      <td>42 days 00:00:00</td>\n",
       "      <td>0번 구매</td>\n",
       "      <td>0번 구매</td>\n",
       "      <td>42 days 00:00:00</td>\n",
       "      <td>여성</td>\n",
       "      <td>...</td>\n",
       "      <td>0</td>\n",
       "      <td>0</td>\n",
       "      <td>0</td>\n",
       "      <td>0</td>\n",
       "      <td>0</td>\n",
       "      <td>0</td>\n",
       "      <td>0</td>\n",
       "      <td>1.0</td>\n",
       "      <td>0.000000</td>\n",
       "      <td>20.0</td>\n",
       "    </tr>\n",
       "    <tr>\n",
       "      <th>3</th>\n",
       "      <td>M000225114</td>\n",
       "      <td>1937700.0</td>\n",
       "      <td>316200.0</td>\n",
       "      <td>0.0</td>\n",
       "      <td>2253900.0</td>\n",
       "      <td>8 days 05:11:21.081081081</td>\n",
       "      <td>53 days 06:00:00</td>\n",
       "      <td>0번 구매</td>\n",
       "      <td>7 days 05:42:51.428571428</td>\n",
       "      <td>여성</td>\n",
       "      <td>...</td>\n",
       "      <td>7</td>\n",
       "      <td>0</td>\n",
       "      <td>2</td>\n",
       "      <td>0</td>\n",
       "      <td>0</td>\n",
       "      <td>0</td>\n",
       "      <td>0</td>\n",
       "      <td>5.0</td>\n",
       "      <td>0.000000</td>\n",
       "      <td>145.0</td>\n",
       "    </tr>\n",
       "    <tr>\n",
       "      <th>4</th>\n",
       "      <td>M000261625</td>\n",
       "      <td>6052700.0</td>\n",
       "      <td>23250.0</td>\n",
       "      <td>0.0</td>\n",
       "      <td>6075950.0</td>\n",
       "      <td>16 days 00:00:00</td>\n",
       "      <td>1번 구매</td>\n",
       "      <td>0번 구매</td>\n",
       "      <td>16 days 00:00:00</td>\n",
       "      <td>여성</td>\n",
       "      <td>...</td>\n",
       "      <td>0</td>\n",
       "      <td>1</td>\n",
       "      <td>0</td>\n",
       "      <td>0</td>\n",
       "      <td>0</td>\n",
       "      <td>0</td>\n",
       "      <td>0</td>\n",
       "      <td>2.0</td>\n",
       "      <td>0.000000</td>\n",
       "      <td>61.0</td>\n",
       "    </tr>\n",
       "  </tbody>\n",
       "</table>\n",
       "<p>5 rows × 36 columns</p>\n",
       "</div>"
      ],
      "text/plain": [
       "         cust     연간구매금액2   연간구매금액3    연간구매금액6   연간구매금액236  \\\n",
       "0  M000034966    654120.0    3900.0        0.0    658020.0   \n",
       "1  M000136117  28496031.0  252500.0  1137501.0  28748531.0   \n",
       "2  M000201112     53120.0       0.0        0.0     53120.0   \n",
       "3  M000225114   1937700.0  316200.0        0.0   2253900.0   \n",
       "4  M000261625   6052700.0   23250.0        0.0   6075950.0   \n",
       "\n",
       "                       유통평균주기                      제휴평균주기           Lpay평균주기  \\\n",
       "0            56 days 20:00:00                       1번 구매              0번 구매   \n",
       "1  12 days 09:55:51.724137931  20 days 22:17:08.571428571  106 days 16:00:00   \n",
       "2            42 days 00:00:00                       0번 구매              0번 구매   \n",
       "3   8 days 05:11:21.081081081            53 days 06:00:00              0번 구매   \n",
       "4            16 days 00:00:00                       1번 구매              0번 구매   \n",
       "\n",
       "                       총합평균주기 ma_fem_dv  ... C02 D01 D02 E01  A06  L00  L01  \\\n",
       "0  48 days 17:08:34.285714285        여성  ...   0   1   0   0    0    0    0   \n",
       "1   8 days 04:21:49.090909090        여성  ...   0  16   0   0   11    0    0   \n",
       "2            42 days 00:00:00        여성  ...   0   0   0   0    0    0    0   \n",
       "3   7 days 05:42:51.428571428        여성  ...   7   0   2   0    0    0    0   \n",
       "4            16 days 00:00:00        여성  ...   0   1   0   0    0    0    0   \n",
       "\n",
       "   how_many_cop  online_friendly  total_pur  \n",
       "0           4.0         0.000000       43.0  \n",
       "1           4.0         0.144231      104.0  \n",
       "2           1.0         0.000000       20.0  \n",
       "3           5.0         0.000000      145.0  \n",
       "4           2.0         0.000000       61.0  \n",
       "\n",
       "[5 rows x 36 columns]"
      ]
     },
     "execution_count": 97,
     "metadata": {},
     "output_type": "execute_result"
    }
   ],
   "source": [
    "total_pur = pd.concat([only_data2, only_data3, only_data6]).groupby('cust')['rct_no'].count()\n",
    "total_pur.name = 'total_pur'\n",
    "cust = pd.merge(cust, total_pur, how='left', on='cust')\n",
    "cust.fillna(0, inplace=True)\n",
    "cust.head()"
   ]
  },
  {
   "cell_type": "code",
   "execution_count": 98,
   "metadata": {
    "ExecuteTime": {
     "end_time": "2022-08-11T07:59:04.840451Z",
     "start_time": "2022-08-11T07:59:04.273305Z"
    }
   },
   "outputs": [
    {
     "name": "stdout",
     "output_type": "stream",
     "text": [
      "평균 구매 가치 : 47826.81\n"
     ]
    }
   ],
   "source": [
    "cust['apv'] = cust.apply(lambda x: round(x['연간구매금액236']/x['total_pur'],2) if x['total_pur'] != 0 else 0, axis=1)\n",
    "\n",
    "total_apv = round(cust['apv'].sum() / len(cust), 2)\n",
    "print('평균 구매 가치 :', total_apv)"
   ]
  },
  {
   "cell_type": "code",
   "execution_count": 99,
   "metadata": {
    "ExecuteTime": {
     "end_time": "2022-08-11T07:59:04.855436Z",
     "start_time": "2022-08-11T07:59:04.843449Z"
    }
   },
   "outputs": [
    {
     "data": {
      "text/plain": [
       "count    2.990900e+04\n",
       "mean     4.782681e+04\n",
       "std      1.417217e+05\n",
       "min      0.000000e+00\n",
       "25%      8.645920e+03\n",
       "50%      1.654703e+04\n",
       "75%      3.962781e+04\n",
       "max      5.698819e+06\n",
       "Name: apv, dtype: float64"
      ]
     },
     "execution_count": 99,
     "metadata": {},
     "output_type": "execute_result"
    }
   ],
   "source": [
    "cust['apv'].describe()"
   ]
  },
  {
   "cell_type": "code",
   "execution_count": 100,
   "metadata": {
    "ExecuteTime": {
     "end_time": "2022-08-11T07:59:04.870440Z",
     "start_time": "2022-08-11T07:59:04.857439Z"
    }
   },
   "outputs": [
    {
     "name": "stdout",
     "output_type": "stream",
     "text": [
      "로그 변환 평균 구매 가치: 19733.059938929244\n"
     ]
    }
   ],
   "source": [
    "# 로그 변환\n",
    "total_log_apv = round(np.log1p(cust['apv']).sum() / len(cust), 2)\n",
    "print('로그 변환 평균 구매 가치:', np.exp(total_log_apv)+1)"
   ]
  },
  {
   "cell_type": "markdown",
   "metadata": {},
   "source": [
    "## 평균 구매 빈도율\n",
    "- 일정 기간 동안의 구매 횟수 / 해당 기간동안 구매한 고객 수"
   ]
  },
  {
   "cell_type": "code",
   "execution_count": 101,
   "metadata": {
    "ExecuteTime": {
     "end_time": "2022-08-11T07:59:04.885455Z",
     "start_time": "2022-08-11T07:59:04.873446Z"
    }
   },
   "outputs": [],
   "source": [
    "# cust_pur = cust[cust['total_pur']!='0번 구매']                   # 0번 구매 고객 제외\n",
    "# total_apf = round(sum(cust_pur['total_pur']) / len(cust_pur), 2)\n",
    "# print('평균 구매 빈도율 :', total_apf)"
   ]
  },
  {
   "cell_type": "code",
   "execution_count": 102,
   "metadata": {
    "ExecuteTime": {
     "end_time": "2022-08-11T07:59:05.110510Z",
     "start_time": "2022-08-11T07:59:04.888446Z"
    }
   },
   "outputs": [
    {
     "data": {
      "text/plain": [
       "[<matplotlib.lines.Line2D at 0x225d6565c10>]"
      ]
     },
     "execution_count": 102,
     "metadata": {},
     "output_type": "execute_result"
    },
    {
     "data": {
      "image/png": "[encoded data removed]",
      "text/plain": [
       "<Figure size 748.8x514.8 with 1 Axes>"
      ]
     },
     "metadata": {},
     "output_type": "display_data"
    }
   ],
   "source": [
    "plt.plot(cust['total_pur'].value_counts().index,cust['total_pur'].value_counts().values)"
   ]
  },
  {
   "cell_type": "code",
   "execution_count": 103,
   "metadata": {
    "ExecuteTime": {
     "end_time": "2022-08-11T07:59:05.140503Z",
     "start_time": "2022-08-11T07:59:05.112494Z"
    }
   },
   "outputs": [
    {
     "name": "stdout",
     "output_type": "stream",
     "text": [
      "구매 빈도 중앙값: 74.0\n"
     ]
    }
   ],
   "source": [
    "total_mpf = cust[cust['total_pur']!=0]['total_pur'].median()\n",
    "print('구매 빈도 중앙값:', total_mpf)"
   ]
  },
  {
   "cell_type": "code",
   "execution_count": 104,
   "metadata": {
    "ExecuteTime": {
     "end_time": "2022-08-11T07:59:05.170517Z",
     "start_time": "2022-08-11T07:59:05.142500Z"
    },
    "scrolled": true
   },
   "outputs": [
    {
     "data": {
      "text/plain": [
       "cust                                                      M124357021\n",
       "연간구매금액2                                                   11699200.0\n",
       "연간구매금액3                                                      47300.0\n",
       "연간구매금액6                                                    1808050.0\n",
       "연간구매금액236                                                 11746500.0\n",
       "유통평균주기                                     1 days 04:28:14.117647058\n",
       "제휴평균주기                                              12 days 00:00:00\n",
       "Lpay평균주기                                   1 days 23:25:09.677419354\n",
       "총합평균주기                                     1 days 04:22:40.260586319\n",
       "ma_fem_dv                                                         남성\n",
       "ages                                                             40대\n",
       "zon_hlv                                                          Z08\n",
       "purchase_list      ['PD0044', 'PD0080', 'PD0082', 'PD0083', 'PD00...\n",
       "Top5상품                                  [음료, 과자, 유제품, 생활/렌탈서비스, 대용식]\n",
       "Top5상품금액                                              1100129.303898\n",
       "num_pur2                                                      2156.0\n",
       "num_pur3                                                         2.0\n",
       "num_pur6                                                       331.0\n",
       "num_pur                                                       2489.0\n",
       "A01                                                                0\n",
       "A02                                                                0\n",
       "A03                                                                0\n",
       "A04                                                             2156\n",
       "A05                                                                0\n",
       "B01                                                                0\n",
       "C01                                                                0\n",
       "C02                                                                0\n",
       "D01                                                                2\n",
       "D02                                                                0\n",
       "E01                                                                0\n",
       "A06                                                                0\n",
       "L00                                                                0\n",
       "L01                                                                0\n",
       "how_many_cop                                                     2.0\n",
       "online_friendly                                                  0.0\n",
       "total_pur                                                     2158.0\n",
       "apv                                                          5443.23\n",
       "Name: 3414, dtype: object"
      ]
     },
     "execution_count": 104,
     "metadata": {},
     "output_type": "execute_result"
    }
   ],
   "source": [
    "cust.loc[cust['total_pur'].idxmax(),:]"
   ]
  },
  {
   "cell_type": "code",
   "execution_count": 105,
   "metadata": {
    "ExecuteTime": {
     "end_time": "2022-08-11T07:59:05.185510Z",
     "start_time": "2022-08-11T07:59:05.172509Z"
    }
   },
   "outputs": [
    {
     "data": {
      "text/plain": [
       "count    29909.000000\n",
       "mean       142.143000\n",
       "std        186.882832\n",
       "min          0.000000\n",
       "25%         18.000000\n",
       "50%         74.000000\n",
       "75%        190.000000\n",
       "max       2158.000000\n",
       "Name: total_pur, dtype: float64"
      ]
     },
     "execution_count": 105,
     "metadata": {},
     "output_type": "execute_result"
    }
   ],
   "source": [
    "cust['total_pur'].describe()"
   ]
  },
  {
   "cell_type": "markdown",
   "metadata": {},
   "source": [
    "## 고객 가치\n",
    "- 평균 구매 가치 X 평균 구매 빈도율"
   ]
  },
  {
   "cell_type": "code",
   "execution_count": 106,
   "metadata": {
    "ExecuteTime": {
     "end_time": "2022-08-11T07:59:05.215528Z",
     "start_time": "2022-08-11T07:59:05.189512Z"
    }
   },
   "outputs": [
    {
     "name": "stdout",
     "output_type": "stream",
     "text": [
      "평균 고객 가치 : 3539183.69\n"
     ]
    }
   ],
   "source": [
    "cust['cv'] = cust['apv'].apply(lambda x: x * total_mpf)\n",
    "\n",
    "total_cv = round(cust['cv'].sum() / len(cust), 2)\n",
    "print('평균 고객 가치 :', total_cv)"
   ]
  },
  {
   "cell_type": "code",
   "execution_count": 107,
   "metadata": {
    "ExecuteTime": {
     "end_time": "2022-08-11T07:59:05.230522Z",
     "start_time": "2022-08-11T07:59:05.218517Z"
    }
   },
   "outputs": [
    {
     "data": {
      "text/plain": [
       "count    2.990900e+04\n",
       "mean     3.539184e+06\n",
       "std      1.048741e+07\n",
       "min      0.000000e+00\n",
       "25%      6.397981e+05\n",
       "50%      1.224480e+06\n",
       "75%      2.932458e+06\n",
       "max      4.217126e+08\n",
       "Name: cv, dtype: float64"
      ]
     },
     "execution_count": 107,
     "metadata": {},
     "output_type": "execute_result"
    }
   ],
   "source": [
    "cust['cv'].describe()"
   ]
  },
  {
   "cell_type": "markdown",
   "metadata": {},
   "source": [
    "## 평균 고객 수명\n",
    "- 고객이 계속 구매한 년 수의 평균값"
   ]
  },
  {
   "cell_type": "code",
   "execution_count": 108,
   "metadata": {
    "ExecuteTime": {
     "end_time": "2022-08-11T07:59:08.134185Z",
     "start_time": "2022-08-11T07:59:05.233526Z"
    }
   },
   "outputs": [
    {
     "data": {
      "text/html": [
       "<div>\n",
       "<style scoped>\n",
       "    .dataframe tbody tr th:only-of-type {\n",
       "        vertical-align: middle;\n",
       "    }\n",
       "\n",
       "    .dataframe tbody tr th {\n",
       "        vertical-align: top;\n",
       "    }\n",
       "\n",
       "    .dataframe thead th {\n",
       "        text-align: right;\n",
       "    }\n",
       "</style>\n",
       "<table border=\"1\" class=\"dataframe\">\n",
       "  <thead>\n",
       "    <tr style=\"text-align: right;\">\n",
       "      <th></th>\n",
       "      <th>cust</th>\n",
       "      <th>rct_no</th>\n",
       "      <th>de_dt</th>\n",
       "    </tr>\n",
       "  </thead>\n",
       "  <tbody>\n",
       "    <tr>\n",
       "      <th>0</th>\n",
       "      <td>M000034966</td>\n",
       "      <td>A01016688590</td>\n",
       "      <td>2021-01-16</td>\n",
       "    </tr>\n",
       "    <tr>\n",
       "      <th>1</th>\n",
       "      <td>M000034966</td>\n",
       "      <td>A01016688590</td>\n",
       "      <td>2021-01-16</td>\n",
       "    </tr>\n",
       "    <tr>\n",
       "      <th>2</th>\n",
       "      <td>M000034966</td>\n",
       "      <td>A01016718167</td>\n",
       "      <td>2021-01-16</td>\n",
       "    </tr>\n",
       "    <tr>\n",
       "      <th>3</th>\n",
       "      <td>M000034966</td>\n",
       "      <td>A02357398521</td>\n",
       "      <td>2021-03-25</td>\n",
       "    </tr>\n",
       "    <tr>\n",
       "      <th>4</th>\n",
       "      <td>M000034966</td>\n",
       "      <td>A02357398521</td>\n",
       "      <td>2021-03-25</td>\n",
       "    </tr>\n",
       "  </tbody>\n",
       "</table>\n",
       "</div>"
      ],
      "text/plain": [
       "         cust        rct_no      de_dt\n",
       "0  M000034966  A01016688590 2021-01-16\n",
       "1  M000034966  A01016688590 2021-01-16\n",
       "2  M000034966  A01016718167 2021-01-16\n",
       "3  M000034966  A02357398521 2021-03-25\n",
       "4  M000034966  A02357398521 2021-03-25"
      ]
     },
     "execution_count": 108,
     "metadata": {},
     "output_type": "execute_result"
    }
   ],
   "source": [
    "# 고객별 구매 날짜\n",
    "only_data2['de_dt']=pd.to_datetime(only_data2.de_dt.apply(str)) \n",
    "only_data3['de_dt']=pd.to_datetime(only_data3.de_dt.apply(str)) \n",
    "only_data6['de_dt']=pd.to_datetime(only_data6.de_dt.apply(str)) \n",
    "\n",
    "only_data2_dt = only_data2[['cust','rct_no','de_dt']]\n",
    "only_data3_dt = only_data3[['cust','rct_no','de_dt']]\n",
    "only_data6_dt = only_data6[['cust','rct_no','de_dt']]\n",
    "only_data236 = pd.concat([only_data2_dt, only_data3_dt, only_data6_dt])\n",
    "\n",
    "only_data236.head()"
   ]
  },
  {
   "cell_type": "code",
   "execution_count": 109,
   "metadata": {
    "ExecuteTime": {
     "end_time": "2022-08-11T08:02:14.004794Z",
     "start_time": "2022-08-11T07:59:08.137171Z"
    }
   },
   "outputs": [
    {
     "data": {
      "text/html": [
       "<div>\n",
       "<style scoped>\n",
       "    .dataframe tbody tr th:only-of-type {\n",
       "        vertical-align: middle;\n",
       "    }\n",
       "\n",
       "    .dataframe tbody tr th {\n",
       "        vertical-align: top;\n",
       "    }\n",
       "\n",
       "    .dataframe thead th {\n",
       "        text-align: right;\n",
       "    }\n",
       "</style>\n",
       "<table border=\"1\" class=\"dataframe\">\n",
       "  <thead>\n",
       "    <tr style=\"text-align: right;\">\n",
       "      <th></th>\n",
       "      <th>cust</th>\n",
       "      <th>dt</th>\n",
       "    </tr>\n",
       "  </thead>\n",
       "  <tbody>\n",
       "    <tr>\n",
       "      <th>0</th>\n",
       "      <td>M336831476</td>\n",
       "      <td>[2021-02-22 00:00:00, 2021-02-26 00:00:00, 202...</td>\n",
       "    </tr>\n",
       "    <tr>\n",
       "      <th>1</th>\n",
       "      <td>M951469922</td>\n",
       "      <td>[2021-01-02 00:00:00, 2021-01-08 00:00:00, 202...</td>\n",
       "    </tr>\n",
       "    <tr>\n",
       "      <th>2</th>\n",
       "      <td>M433403084</td>\n",
       "      <td>[2021-01-02 00:00:00, 2021-01-15 00:00:00, 202...</td>\n",
       "    </tr>\n",
       "    <tr>\n",
       "      <th>3</th>\n",
       "      <td>M324482167</td>\n",
       "      <td>[2021-01-08 00:00:00, 2021-01-18 00:00:00, 202...</td>\n",
       "    </tr>\n",
       "    <tr>\n",
       "      <th>4</th>\n",
       "      <td>M524104915</td>\n",
       "      <td>[2021-01-06 00:00:00, 2021-02-01 00:00:00, 202...</td>\n",
       "    </tr>\n",
       "  </tbody>\n",
       "</table>\n",
       "</div>"
      ],
      "text/plain": [
       "         cust                                                 dt\n",
       "0  M336831476  [2021-02-22 00:00:00, 2021-02-26 00:00:00, 202...\n",
       "1  M951469922  [2021-01-02 00:00:00, 2021-01-08 00:00:00, 202...\n",
       "2  M433403084  [2021-01-02 00:00:00, 2021-01-15 00:00:00, 202...\n",
       "3  M324482167  [2021-01-08 00:00:00, 2021-01-18 00:00:00, 202...\n",
       "4  M524104915  [2021-01-06 00:00:00, 2021-02-01 00:00:00, 202..."
      ]
     },
     "execution_count": 109,
     "metadata": {},
     "output_type": "execute_result"
    }
   ],
   "source": [
    "pur_dt = only_data236.groupby(['cust','de_dt'])['de_dt'].count()\n",
    "\n",
    "cust_lst = list(set(list(pur_dt.index.get_level_values(0))))\n",
    "\n",
    "lt_total = pd.DataFrame(columns=['cust','dt'])\n",
    "\n",
    "for i in range(len(cust_lst)):\n",
    "    lt_total.loc[i,'cust'] = cust_lst[i]\n",
    "    lt_total.loc[i,'dt'] = list(pur_dt[cust_lst[i]].index)\n",
    "    \n",
    "lt_total.head()"
   ]
  },
  {
   "cell_type": "code",
   "execution_count": 110,
   "metadata": {
    "ExecuteTime": {
     "end_time": "2022-08-11T08:02:14.035861Z",
     "start_time": "2022-08-11T08:02:14.008799Z"
    }
   },
   "outputs": [
    {
     "data": {
      "text/html": [
       "<div>\n",
       "<style scoped>\n",
       "    .dataframe tbody tr th:only-of-type {\n",
       "        vertical-align: middle;\n",
       "    }\n",
       "\n",
       "    .dataframe tbody tr th {\n",
       "        vertical-align: top;\n",
       "    }\n",
       "\n",
       "    .dataframe thead th {\n",
       "        text-align: right;\n",
       "    }\n",
       "</style>\n",
       "<table border=\"1\" class=\"dataframe\">\n",
       "  <thead>\n",
       "    <tr style=\"text-align: right;\">\n",
       "      <th></th>\n",
       "      <th>cust</th>\n",
       "      <th>dt</th>\n",
       "    </tr>\n",
       "  </thead>\n",
       "  <tbody>\n",
       "    <tr>\n",
       "      <th>0</th>\n",
       "      <td>M336831476</td>\n",
       "      <td>[2021-02-22 00:00:00, 2021-02-26 00:00:00, 202...</td>\n",
       "    </tr>\n",
       "    <tr>\n",
       "      <th>1</th>\n",
       "      <td>M951469922</td>\n",
       "      <td>[2021-01-02 00:00:00, 2021-01-08 00:00:00, 202...</td>\n",
       "    </tr>\n",
       "    <tr>\n",
       "      <th>2</th>\n",
       "      <td>M433403084</td>\n",
       "      <td>[2021-01-02 00:00:00, 2021-01-15 00:00:00, 202...</td>\n",
       "    </tr>\n",
       "    <tr>\n",
       "      <th>3</th>\n",
       "      <td>M324482167</td>\n",
       "      <td>[2021-01-08 00:00:00, 2021-01-18 00:00:00, 202...</td>\n",
       "    </tr>\n",
       "    <tr>\n",
       "      <th>4</th>\n",
       "      <td>M524104915</td>\n",
       "      <td>[2021-01-06 00:00:00, 2021-02-01 00:00:00, 202...</td>\n",
       "    </tr>\n",
       "    <tr>\n",
       "      <th>...</th>\n",
       "      <td>...</td>\n",
       "      <td>...</td>\n",
       "    </tr>\n",
       "    <tr>\n",
       "      <th>29865</th>\n",
       "      <td>M907356655</td>\n",
       "      <td>[2021-03-18 00:00:00, 2021-04-26 00:00:00, 202...</td>\n",
       "    </tr>\n",
       "    <tr>\n",
       "      <th>29866</th>\n",
       "      <td>M920270819</td>\n",
       "      <td>[2021-01-03 00:00:00, 2021-01-06 00:00:00, 202...</td>\n",
       "    </tr>\n",
       "    <tr>\n",
       "      <th>29867</th>\n",
       "      <td>M619970140</td>\n",
       "      <td>[2021-12-26 00:00:00, 2021-12-31 00:00:00]</td>\n",
       "    </tr>\n",
       "    <tr>\n",
       "      <th>29868</th>\n",
       "      <td>M604001792</td>\n",
       "      <td>[2021-08-08 00:00:00]</td>\n",
       "    </tr>\n",
       "    <tr>\n",
       "      <th>29869</th>\n",
       "      <td>M894940433</td>\n",
       "      <td>[2021-05-08 00:00:00, 2021-06-13 00:00:00, 202...</td>\n",
       "    </tr>\n",
       "  </tbody>\n",
       "</table>\n",
       "<p>29870 rows × 2 columns</p>\n",
       "</div>"
      ],
      "text/plain": [
       "             cust                                                 dt\n",
       "0      M336831476  [2021-02-22 00:00:00, 2021-02-26 00:00:00, 202...\n",
       "1      M951469922  [2021-01-02 00:00:00, 2021-01-08 00:00:00, 202...\n",
       "2      M433403084  [2021-01-02 00:00:00, 2021-01-15 00:00:00, 202...\n",
       "3      M324482167  [2021-01-08 00:00:00, 2021-01-18 00:00:00, 202...\n",
       "4      M524104915  [2021-01-06 00:00:00, 2021-02-01 00:00:00, 202...\n",
       "...           ...                                                ...\n",
       "29865  M907356655  [2021-03-18 00:00:00, 2021-04-26 00:00:00, 202...\n",
       "29866  M920270819  [2021-01-03 00:00:00, 2021-01-06 00:00:00, 202...\n",
       "29867  M619970140         [2021-12-26 00:00:00, 2021-12-31 00:00:00]\n",
       "29868  M604001792                              [2021-08-08 00:00:00]\n",
       "29869  M894940433  [2021-05-08 00:00:00, 2021-06-13 00:00:00, 202...\n",
       "\n",
       "[29870 rows x 2 columns]"
      ]
     },
     "execution_count": 110,
     "metadata": {},
     "output_type": "execute_result"
    }
   ],
   "source": [
    "lt_total"
   ]
  },
  {
   "cell_type": "code",
   "execution_count": 111,
   "metadata": {
    "ExecuteTime": {
     "end_time": "2022-08-11T08:02:15.060105Z",
     "start_time": "2022-08-11T08:02:14.040862Z"
    }
   },
   "outputs": [
    {
     "data": {
      "text/html": [
       "<div>\n",
       "<style scoped>\n",
       "    .dataframe tbody tr th:only-of-type {\n",
       "        vertical-align: middle;\n",
       "    }\n",
       "\n",
       "    .dataframe tbody tr th {\n",
       "        vertical-align: top;\n",
       "    }\n",
       "\n",
       "    .dataframe thead th {\n",
       "        text-align: right;\n",
       "    }\n",
       "</style>\n",
       "<table border=\"1\" class=\"dataframe\">\n",
       "  <thead>\n",
       "    <tr style=\"text-align: right;\">\n",
       "      <th></th>\n",
       "      <th>cust</th>\n",
       "      <th>dt</th>\n",
       "      <th>len</th>\n",
       "      <th>lt</th>\n",
       "    </tr>\n",
       "  </thead>\n",
       "  <tbody>\n",
       "    <tr>\n",
       "      <th>0</th>\n",
       "      <td>M336831476</td>\n",
       "      <td>[2021-02-22 00:00:00, 2021-02-26 00:00:00, 202...</td>\n",
       "      <td>113</td>\n",
       "      <td>0.767</td>\n",
       "    </tr>\n",
       "    <tr>\n",
       "      <th>1</th>\n",
       "      <td>M951469922</td>\n",
       "      <td>[2021-01-02 00:00:00, 2021-01-08 00:00:00, 202...</td>\n",
       "      <td>23</td>\n",
       "      <td>0.975</td>\n",
       "    </tr>\n",
       "    <tr>\n",
       "      <th>2</th>\n",
       "      <td>M433403084</td>\n",
       "      <td>[2021-01-02 00:00:00, 2021-01-15 00:00:00, 202...</td>\n",
       "      <td>87</td>\n",
       "      <td>0.951</td>\n",
       "    </tr>\n",
       "    <tr>\n",
       "      <th>3</th>\n",
       "      <td>M324482167</td>\n",
       "      <td>[2021-01-08 00:00:00, 2021-01-18 00:00:00, 202...</td>\n",
       "      <td>56</td>\n",
       "      <td>0.915</td>\n",
       "    </tr>\n",
       "    <tr>\n",
       "      <th>4</th>\n",
       "      <td>M524104915</td>\n",
       "      <td>[2021-01-06 00:00:00, 2021-02-01 00:00:00, 202...</td>\n",
       "      <td>33</td>\n",
       "      <td>0.942</td>\n",
       "    </tr>\n",
       "  </tbody>\n",
       "</table>\n",
       "</div>"
      ],
      "text/plain": [
       "         cust                                                 dt  len     lt\n",
       "0  M336831476  [2021-02-22 00:00:00, 2021-02-26 00:00:00, 202...  113  0.767\n",
       "1  M951469922  [2021-01-02 00:00:00, 2021-01-08 00:00:00, 202...   23  0.975\n",
       "2  M433403084  [2021-01-02 00:00:00, 2021-01-15 00:00:00, 202...   87  0.951\n",
       "3  M324482167  [2021-01-08 00:00:00, 2021-01-18 00:00:00, 202...   56  0.915\n",
       "4  M524104915  [2021-01-06 00:00:00, 2021-02-01 00:00:00, 202...   33  0.942"
      ]
     },
     "execution_count": 111,
     "metadata": {},
     "output_type": "execute_result"
    }
   ],
   "source": [
    "lt_total['dt'] = lt_total['dt'].apply(lambda x: sorted(x))\n",
    "lt_total['len'] = lt_total['dt'].apply(lambda x: len(x))\n",
    "lt_total['lt'] = lt_total.apply(lambda x: round(1/365,3) if x['len']==1 else round((x['dt'][-1]-x['dt'][0]).days/365,3), axis=1)\n",
    "lt_total.head()"
   ]
  },
  {
   "cell_type": "code",
   "execution_count": 112,
   "metadata": {
    "ExecuteTime": {
     "end_time": "2022-08-11T08:02:15.183129Z",
     "start_time": "2022-08-11T08:02:15.063091Z"
    }
   },
   "outputs": [
    {
     "data": {
      "text/html": [
       "<div>\n",
       "<style scoped>\n",
       "    .dataframe tbody tr th:only-of-type {\n",
       "        vertical-align: middle;\n",
       "    }\n",
       "\n",
       "    .dataframe tbody tr th {\n",
       "        vertical-align: top;\n",
       "    }\n",
       "\n",
       "    .dataframe thead th {\n",
       "        text-align: right;\n",
       "    }\n",
       "</style>\n",
       "<table border=\"1\" class=\"dataframe\">\n",
       "  <thead>\n",
       "    <tr style=\"text-align: right;\">\n",
       "      <th></th>\n",
       "      <th>cust</th>\n",
       "      <th>연간구매금액2</th>\n",
       "      <th>연간구매금액3</th>\n",
       "      <th>연간구매금액6</th>\n",
       "      <th>연간구매금액236</th>\n",
       "      <th>유통평균주기</th>\n",
       "      <th>제휴평균주기</th>\n",
       "      <th>Lpay평균주기</th>\n",
       "      <th>총합평균주기</th>\n",
       "      <th>ma_fem_dv</th>\n",
       "      <th>...</th>\n",
       "      <th>E01</th>\n",
       "      <th>A06</th>\n",
       "      <th>L00</th>\n",
       "      <th>L01</th>\n",
       "      <th>how_many_cop</th>\n",
       "      <th>online_friendly</th>\n",
       "      <th>total_pur</th>\n",
       "      <th>apv</th>\n",
       "      <th>cv</th>\n",
       "      <th>lt</th>\n",
       "    </tr>\n",
       "  </thead>\n",
       "  <tbody>\n",
       "    <tr>\n",
       "      <th>0</th>\n",
       "      <td>M000034966</td>\n",
       "      <td>654120.0</td>\n",
       "      <td>3900.0</td>\n",
       "      <td>0.0</td>\n",
       "      <td>658020.0</td>\n",
       "      <td>56 days 20:00:00</td>\n",
       "      <td>1번 구매</td>\n",
       "      <td>0번 구매</td>\n",
       "      <td>48 days 17:08:34.285714285</td>\n",
       "      <td>여성</td>\n",
       "      <td>...</td>\n",
       "      <td>0</td>\n",
       "      <td>0</td>\n",
       "      <td>0</td>\n",
       "      <td>0</td>\n",
       "      <td>4.0</td>\n",
       "      <td>0.000000</td>\n",
       "      <td>43.0</td>\n",
       "      <td>15302.79</td>\n",
       "      <td>1132406.46</td>\n",
       "      <td>0.934</td>\n",
       "    </tr>\n",
       "    <tr>\n",
       "      <th>1</th>\n",
       "      <td>M000136117</td>\n",
       "      <td>28496031.0</td>\n",
       "      <td>252500.0</td>\n",
       "      <td>1137501.0</td>\n",
       "      <td>28748531.0</td>\n",
       "      <td>12 days 09:55:51.724137931</td>\n",
       "      <td>20 days 22:17:08.571428571</td>\n",
       "      <td>106 days 16:00:00</td>\n",
       "      <td>8 days 04:21:49.090909090</td>\n",
       "      <td>여성</td>\n",
       "      <td>...</td>\n",
       "      <td>0</td>\n",
       "      <td>11</td>\n",
       "      <td>0</td>\n",
       "      <td>0</td>\n",
       "      <td>4.0</td>\n",
       "      <td>0.144231</td>\n",
       "      <td>104.0</td>\n",
       "      <td>276428.18</td>\n",
       "      <td>20455685.32</td>\n",
       "      <td>0.986</td>\n",
       "    </tr>\n",
       "    <tr>\n",
       "      <th>2</th>\n",
       "      <td>M000201112</td>\n",
       "      <td>53120.0</td>\n",
       "      <td>0.0</td>\n",
       "      <td>0.0</td>\n",
       "      <td>53120.0</td>\n",
       "      <td>42 days 00:00:00</td>\n",
       "      <td>0번 구매</td>\n",
       "      <td>0번 구매</td>\n",
       "      <td>42 days 00:00:00</td>\n",
       "      <td>여성</td>\n",
       "      <td>...</td>\n",
       "      <td>0</td>\n",
       "      <td>0</td>\n",
       "      <td>0</td>\n",
       "      <td>0</td>\n",
       "      <td>1.0</td>\n",
       "      <td>0.000000</td>\n",
       "      <td>20.0</td>\n",
       "      <td>2656.00</td>\n",
       "      <td>196544.00</td>\n",
       "      <td>0.345</td>\n",
       "    </tr>\n",
       "    <tr>\n",
       "      <th>3</th>\n",
       "      <td>M000225114</td>\n",
       "      <td>1937700.0</td>\n",
       "      <td>316200.0</td>\n",
       "      <td>0.0</td>\n",
       "      <td>2253900.0</td>\n",
       "      <td>8 days 05:11:21.081081081</td>\n",
       "      <td>53 days 06:00:00</td>\n",
       "      <td>0번 구매</td>\n",
       "      <td>7 days 05:42:51.428571428</td>\n",
       "      <td>여성</td>\n",
       "      <td>...</td>\n",
       "      <td>0</td>\n",
       "      <td>0</td>\n",
       "      <td>0</td>\n",
       "      <td>0</td>\n",
       "      <td>5.0</td>\n",
       "      <td>0.000000</td>\n",
       "      <td>145.0</td>\n",
       "      <td>15544.14</td>\n",
       "      <td>1150266.36</td>\n",
       "      <td>0.833</td>\n",
       "    </tr>\n",
       "    <tr>\n",
       "      <th>4</th>\n",
       "      <td>M000261625</td>\n",
       "      <td>6052700.0</td>\n",
       "      <td>23250.0</td>\n",
       "      <td>0.0</td>\n",
       "      <td>6075950.0</td>\n",
       "      <td>16 days 00:00:00</td>\n",
       "      <td>1번 구매</td>\n",
       "      <td>0번 구매</td>\n",
       "      <td>16 days 00:00:00</td>\n",
       "      <td>여성</td>\n",
       "      <td>...</td>\n",
       "      <td>0</td>\n",
       "      <td>0</td>\n",
       "      <td>0</td>\n",
       "      <td>0</td>\n",
       "      <td>2.0</td>\n",
       "      <td>0.000000</td>\n",
       "      <td>61.0</td>\n",
       "      <td>99605.74</td>\n",
       "      <td>7370824.76</td>\n",
       "      <td>0.921</td>\n",
       "    </tr>\n",
       "    <tr>\n",
       "      <th>...</th>\n",
       "      <td>...</td>\n",
       "      <td>...</td>\n",
       "      <td>...</td>\n",
       "      <td>...</td>\n",
       "      <td>...</td>\n",
       "      <td>...</td>\n",
       "      <td>...</td>\n",
       "      <td>...</td>\n",
       "      <td>...</td>\n",
       "      <td>...</td>\n",
       "      <td>...</td>\n",
       "      <td>...</td>\n",
       "      <td>...</td>\n",
       "      <td>...</td>\n",
       "      <td>...</td>\n",
       "      <td>...</td>\n",
       "      <td>...</td>\n",
       "      <td>...</td>\n",
       "      <td>...</td>\n",
       "      <td>...</td>\n",
       "      <td>...</td>\n",
       "    </tr>\n",
       "    <tr>\n",
       "      <th>29904</th>\n",
       "      <td>M915138788</td>\n",
       "      <td>0.0</td>\n",
       "      <td>0.0</td>\n",
       "      <td>0.0</td>\n",
       "      <td>0.0</td>\n",
       "      <td>0번 구매</td>\n",
       "      <td>0번 구매</td>\n",
       "      <td>0번 구매</td>\n",
       "      <td>0번 구매</td>\n",
       "      <td>남성</td>\n",
       "      <td>...</td>\n",
       "      <td>0</td>\n",
       "      <td>0</td>\n",
       "      <td>0</td>\n",
       "      <td>0</td>\n",
       "      <td>0.0</td>\n",
       "      <td>0.000000</td>\n",
       "      <td>0.0</td>\n",
       "      <td>0.00</td>\n",
       "      <td>0.00</td>\n",
       "      <td>NaN</td>\n",
       "    </tr>\n",
       "    <tr>\n",
       "      <th>29905</th>\n",
       "      <td>M931112452</td>\n",
       "      <td>0.0</td>\n",
       "      <td>0.0</td>\n",
       "      <td>0.0</td>\n",
       "      <td>0.0</td>\n",
       "      <td>0번 구매</td>\n",
       "      <td>0번 구매</td>\n",
       "      <td>0번 구매</td>\n",
       "      <td>0번 구매</td>\n",
       "      <td>남성</td>\n",
       "      <td>...</td>\n",
       "      <td>0</td>\n",
       "      <td>0</td>\n",
       "      <td>0</td>\n",
       "      <td>0</td>\n",
       "      <td>0.0</td>\n",
       "      <td>0.000000</td>\n",
       "      <td>0.0</td>\n",
       "      <td>0.00</td>\n",
       "      <td>0.00</td>\n",
       "      <td>NaN</td>\n",
       "    </tr>\n",
       "    <tr>\n",
       "      <th>29906</th>\n",
       "      <td>M937793665</td>\n",
       "      <td>0.0</td>\n",
       "      <td>0.0</td>\n",
       "      <td>0.0</td>\n",
       "      <td>0.0</td>\n",
       "      <td>0번 구매</td>\n",
       "      <td>0번 구매</td>\n",
       "      <td>0번 구매</td>\n",
       "      <td>0번 구매</td>\n",
       "      <td>남성</td>\n",
       "      <td>...</td>\n",
       "      <td>0</td>\n",
       "      <td>0</td>\n",
       "      <td>0</td>\n",
       "      <td>0</td>\n",
       "      <td>0.0</td>\n",
       "      <td>0.000000</td>\n",
       "      <td>0.0</td>\n",
       "      <td>0.00</td>\n",
       "      <td>0.00</td>\n",
       "      <td>NaN</td>\n",
       "    </tr>\n",
       "    <tr>\n",
       "      <th>29907</th>\n",
       "      <td>M960942132</td>\n",
       "      <td>0.0</td>\n",
       "      <td>0.0</td>\n",
       "      <td>0.0</td>\n",
       "      <td>0.0</td>\n",
       "      <td>0번 구매</td>\n",
       "      <td>0번 구매</td>\n",
       "      <td>0번 구매</td>\n",
       "      <td>0번 구매</td>\n",
       "      <td>남성</td>\n",
       "      <td>...</td>\n",
       "      <td>0</td>\n",
       "      <td>0</td>\n",
       "      <td>0</td>\n",
       "      <td>0</td>\n",
       "      <td>0.0</td>\n",
       "      <td>0.000000</td>\n",
       "      <td>0.0</td>\n",
       "      <td>0.00</td>\n",
       "      <td>0.00</td>\n",
       "      <td>NaN</td>\n",
       "    </tr>\n",
       "    <tr>\n",
       "      <th>29908</th>\n",
       "      <td>M976801252</td>\n",
       "      <td>0.0</td>\n",
       "      <td>0.0</td>\n",
       "      <td>0.0</td>\n",
       "      <td>0.0</td>\n",
       "      <td>0번 구매</td>\n",
       "      <td>0번 구매</td>\n",
       "      <td>0번 구매</td>\n",
       "      <td>0번 구매</td>\n",
       "      <td>남성</td>\n",
       "      <td>...</td>\n",
       "      <td>0</td>\n",
       "      <td>0</td>\n",
       "      <td>0</td>\n",
       "      <td>0</td>\n",
       "      <td>0.0</td>\n",
       "      <td>0.000000</td>\n",
       "      <td>0.0</td>\n",
       "      <td>0.00</td>\n",
       "      <td>0.00</td>\n",
       "      <td>NaN</td>\n",
       "    </tr>\n",
       "  </tbody>\n",
       "</table>\n",
       "<p>29909 rows × 39 columns</p>\n",
       "</div>"
      ],
      "text/plain": [
       "             cust     연간구매금액2   연간구매금액3    연간구매금액6   연간구매금액236  \\\n",
       "0      M000034966    654120.0    3900.0        0.0    658020.0   \n",
       "1      M000136117  28496031.0  252500.0  1137501.0  28748531.0   \n",
       "2      M000201112     53120.0       0.0        0.0     53120.0   \n",
       "3      M000225114   1937700.0  316200.0        0.0   2253900.0   \n",
       "4      M000261625   6052700.0   23250.0        0.0   6075950.0   \n",
       "...           ...         ...       ...        ...         ...   \n",
       "29904  M915138788         0.0       0.0        0.0         0.0   \n",
       "29905  M931112452         0.0       0.0        0.0         0.0   \n",
       "29906  M937793665         0.0       0.0        0.0         0.0   \n",
       "29907  M960942132         0.0       0.0        0.0         0.0   \n",
       "29908  M976801252         0.0       0.0        0.0         0.0   \n",
       "\n",
       "                           유통평균주기                      제휴평균주기  \\\n",
       "0                56 days 20:00:00                       1번 구매   \n",
       "1      12 days 09:55:51.724137931  20 days 22:17:08.571428571   \n",
       "2                42 days 00:00:00                       0번 구매   \n",
       "3       8 days 05:11:21.081081081            53 days 06:00:00   \n",
       "4                16 days 00:00:00                       1번 구매   \n",
       "...                           ...                         ...   \n",
       "29904                       0번 구매                       0번 구매   \n",
       "29905                       0번 구매                       0번 구매   \n",
       "29906                       0번 구매                       0번 구매   \n",
       "29907                       0번 구매                       0번 구매   \n",
       "29908                       0번 구매                       0번 구매   \n",
       "\n",
       "                Lpay평균주기                      총합평균주기 ma_fem_dv  ... E01 A06  \\\n",
       "0                  0번 구매  48 days 17:08:34.285714285        여성  ...   0   0   \n",
       "1      106 days 16:00:00   8 days 04:21:49.090909090        여성  ...   0  11   \n",
       "2                  0번 구매            42 days 00:00:00        여성  ...   0   0   \n",
       "3                  0번 구매   7 days 05:42:51.428571428        여성  ...   0   0   \n",
       "4                  0번 구매            16 days 00:00:00        여성  ...   0   0   \n",
       "...                  ...                         ...       ...  ...  ..  ..   \n",
       "29904              0번 구매                       0번 구매        남성  ...   0   0   \n",
       "29905              0번 구매                       0번 구매        남성  ...   0   0   \n",
       "29906              0번 구매                       0번 구매        남성  ...   0   0   \n",
       "29907              0번 구매                       0번 구매        남성  ...   0   0   \n",
       "29908              0번 구매                       0번 구매        남성  ...   0   0   \n",
       "\n",
       "      L00 L01  how_many_cop  online_friendly  total_pur        apv  \\\n",
       "0       0   0           4.0         0.000000       43.0   15302.79   \n",
       "1       0   0           4.0         0.144231      104.0  276428.18   \n",
       "2       0   0           1.0         0.000000       20.0    2656.00   \n",
       "3       0   0           5.0         0.000000      145.0   15544.14   \n",
       "4       0   0           2.0         0.000000       61.0   99605.74   \n",
       "...    ..  ..           ...              ...        ...        ...   \n",
       "29904   0   0           0.0         0.000000        0.0       0.00   \n",
       "29905   0   0           0.0         0.000000        0.0       0.00   \n",
       "29906   0   0           0.0         0.000000        0.0       0.00   \n",
       "29907   0   0           0.0         0.000000        0.0       0.00   \n",
       "29908   0   0           0.0         0.000000        0.0       0.00   \n",
       "\n",
       "                cv     lt  \n",
       "0       1132406.46  0.934  \n",
       "1      20455685.32  0.986  \n",
       "2        196544.00  0.345  \n",
       "3       1150266.36  0.833  \n",
       "4       7370824.76  0.921  \n",
       "...            ...    ...  \n",
       "29904         0.00    NaN  \n",
       "29905         0.00    NaN  \n",
       "29906         0.00    NaN  \n",
       "29907         0.00    NaN  \n",
       "29908         0.00    NaN  \n",
       "\n",
       "[29909 rows x 39 columns]"
      ]
     },
     "execution_count": 112,
     "metadata": {},
     "output_type": "execute_result"
    }
   ],
   "source": [
    "cust = pd.merge(cust, lt_total[['cust','lt']], how='left', on='cust')\n",
    "cust"
   ]
  },
  {
   "cell_type": "code",
   "execution_count": 113,
   "metadata": {
    "ExecuteTime": {
     "end_time": "2022-08-11T08:02:15.205122Z",
     "start_time": "2022-08-11T08:02:15.185116Z"
    }
   },
   "outputs": [
    {
     "name": "stdout",
     "output_type": "stream",
     "text": [
      "평균 고객 수명: 0.76\n"
     ]
    }
   ],
   "source": [
    "cust['lt'].fillna(0, inplace=True)\n",
    "\n",
    "total_acl = round(cust['lt'].mean(), 2)\n",
    "print('평균 고객 수명:', total_acl)"
   ]
  },
  {
   "cell_type": "markdown",
   "metadata": {},
   "source": [
    "## 고객 생애 가치\n",
    "- 고객 가치 X 고객 수명"
   ]
  },
  {
   "cell_type": "code",
   "execution_count": 114,
   "metadata": {
    "ExecuteTime": {
     "end_time": "2022-08-11T08:02:15.756553Z",
     "start_time": "2022-08-11T08:02:15.208121Z"
    },
    "scrolled": true
   },
   "outputs": [
    {
     "data": {
      "text/html": [
       "<div>\n",
       "<style scoped>\n",
       "    .dataframe tbody tr th:only-of-type {\n",
       "        vertical-align: middle;\n",
       "    }\n",
       "\n",
       "    .dataframe tbody tr th {\n",
       "        vertical-align: top;\n",
       "    }\n",
       "\n",
       "    .dataframe thead th {\n",
       "        text-align: right;\n",
       "    }\n",
       "</style>\n",
       "<table border=\"1\" class=\"dataframe\">\n",
       "  <thead>\n",
       "    <tr style=\"text-align: right;\">\n",
       "      <th></th>\n",
       "      <th>cust</th>\n",
       "      <th>연간구매금액2</th>\n",
       "      <th>연간구매금액3</th>\n",
       "      <th>연간구매금액6</th>\n",
       "      <th>연간구매금액236</th>\n",
       "      <th>유통평균주기</th>\n",
       "      <th>제휴평균주기</th>\n",
       "      <th>Lpay평균주기</th>\n",
       "      <th>총합평균주기</th>\n",
       "      <th>ma_fem_dv</th>\n",
       "      <th>...</th>\n",
       "      <th>A06</th>\n",
       "      <th>L00</th>\n",
       "      <th>L01</th>\n",
       "      <th>how_many_cop</th>\n",
       "      <th>online_friendly</th>\n",
       "      <th>total_pur</th>\n",
       "      <th>apv</th>\n",
       "      <th>cv</th>\n",
       "      <th>lt</th>\n",
       "      <th>cltv</th>\n",
       "    </tr>\n",
       "  </thead>\n",
       "  <tbody>\n",
       "    <tr>\n",
       "      <th>0</th>\n",
       "      <td>M000034966</td>\n",
       "      <td>654120.0</td>\n",
       "      <td>3900.0</td>\n",
       "      <td>0.0</td>\n",
       "      <td>658020.0</td>\n",
       "      <td>56 days 20:00:00</td>\n",
       "      <td>1번 구매</td>\n",
       "      <td>0번 구매</td>\n",
       "      <td>48 days 17:08:34.285714285</td>\n",
       "      <td>여성</td>\n",
       "      <td>...</td>\n",
       "      <td>0</td>\n",
       "      <td>0</td>\n",
       "      <td>0</td>\n",
       "      <td>4.0</td>\n",
       "      <td>0.000000</td>\n",
       "      <td>43.0</td>\n",
       "      <td>15302.79</td>\n",
       "      <td>1132406.46</td>\n",
       "      <td>0.934</td>\n",
       "      <td>1.057668e+06</td>\n",
       "    </tr>\n",
       "    <tr>\n",
       "      <th>1</th>\n",
       "      <td>M000136117</td>\n",
       "      <td>28496031.0</td>\n",
       "      <td>252500.0</td>\n",
       "      <td>1137501.0</td>\n",
       "      <td>28748531.0</td>\n",
       "      <td>12 days 09:55:51.724137931</td>\n",
       "      <td>20 days 22:17:08.571428571</td>\n",
       "      <td>106 days 16:00:00</td>\n",
       "      <td>8 days 04:21:49.090909090</td>\n",
       "      <td>여성</td>\n",
       "      <td>...</td>\n",
       "      <td>11</td>\n",
       "      <td>0</td>\n",
       "      <td>0</td>\n",
       "      <td>4.0</td>\n",
       "      <td>0.144231</td>\n",
       "      <td>104.0</td>\n",
       "      <td>276428.18</td>\n",
       "      <td>20455685.32</td>\n",
       "      <td>0.986</td>\n",
       "      <td>2.016931e+07</td>\n",
       "    </tr>\n",
       "    <tr>\n",
       "      <th>2</th>\n",
       "      <td>M000201112</td>\n",
       "      <td>53120.0</td>\n",
       "      <td>0.0</td>\n",
       "      <td>0.0</td>\n",
       "      <td>53120.0</td>\n",
       "      <td>42 days 00:00:00</td>\n",
       "      <td>0번 구매</td>\n",
       "      <td>0번 구매</td>\n",
       "      <td>42 days 00:00:00</td>\n",
       "      <td>여성</td>\n",
       "      <td>...</td>\n",
       "      <td>0</td>\n",
       "      <td>0</td>\n",
       "      <td>0</td>\n",
       "      <td>1.0</td>\n",
       "      <td>0.000000</td>\n",
       "      <td>20.0</td>\n",
       "      <td>2656.00</td>\n",
       "      <td>196544.00</td>\n",
       "      <td>0.345</td>\n",
       "      <td>6.780768e+04</td>\n",
       "    </tr>\n",
       "    <tr>\n",
       "      <th>3</th>\n",
       "      <td>M000225114</td>\n",
       "      <td>1937700.0</td>\n",
       "      <td>316200.0</td>\n",
       "      <td>0.0</td>\n",
       "      <td>2253900.0</td>\n",
       "      <td>8 days 05:11:21.081081081</td>\n",
       "      <td>53 days 06:00:00</td>\n",
       "      <td>0번 구매</td>\n",
       "      <td>7 days 05:42:51.428571428</td>\n",
       "      <td>여성</td>\n",
       "      <td>...</td>\n",
       "      <td>0</td>\n",
       "      <td>0</td>\n",
       "      <td>0</td>\n",
       "      <td>5.0</td>\n",
       "      <td>0.000000</td>\n",
       "      <td>145.0</td>\n",
       "      <td>15544.14</td>\n",
       "      <td>1150266.36</td>\n",
       "      <td>0.833</td>\n",
       "      <td>9.581719e+05</td>\n",
       "    </tr>\n",
       "    <tr>\n",
       "      <th>4</th>\n",
       "      <td>M000261625</td>\n",
       "      <td>6052700.0</td>\n",
       "      <td>23250.0</td>\n",
       "      <td>0.0</td>\n",
       "      <td>6075950.0</td>\n",
       "      <td>16 days 00:00:00</td>\n",
       "      <td>1번 구매</td>\n",
       "      <td>0번 구매</td>\n",
       "      <td>16 days 00:00:00</td>\n",
       "      <td>여성</td>\n",
       "      <td>...</td>\n",
       "      <td>0</td>\n",
       "      <td>0</td>\n",
       "      <td>0</td>\n",
       "      <td>2.0</td>\n",
       "      <td>0.000000</td>\n",
       "      <td>61.0</td>\n",
       "      <td>99605.74</td>\n",
       "      <td>7370824.76</td>\n",
       "      <td>0.921</td>\n",
       "      <td>6.788530e+06</td>\n",
       "    </tr>\n",
       "    <tr>\n",
       "      <th>...</th>\n",
       "      <td>...</td>\n",
       "      <td>...</td>\n",
       "      <td>...</td>\n",
       "      <td>...</td>\n",
       "      <td>...</td>\n",
       "      <td>...</td>\n",
       "      <td>...</td>\n",
       "      <td>...</td>\n",
       "      <td>...</td>\n",
       "      <td>...</td>\n",
       "      <td>...</td>\n",
       "      <td>...</td>\n",
       "      <td>...</td>\n",
       "      <td>...</td>\n",
       "      <td>...</td>\n",
       "      <td>...</td>\n",
       "      <td>...</td>\n",
       "      <td>...</td>\n",
       "      <td>...</td>\n",
       "      <td>...</td>\n",
       "      <td>...</td>\n",
       "    </tr>\n",
       "    <tr>\n",
       "      <th>29904</th>\n",
       "      <td>M915138788</td>\n",
       "      <td>0.0</td>\n",
       "      <td>0.0</td>\n",
       "      <td>0.0</td>\n",
       "      <td>0.0</td>\n",
       "      <td>0번 구매</td>\n",
       "      <td>0번 구매</td>\n",
       "      <td>0번 구매</td>\n",
       "      <td>0번 구매</td>\n",
       "      <td>남성</td>\n",
       "      <td>...</td>\n",
       "      <td>0</td>\n",
       "      <td>0</td>\n",
       "      <td>0</td>\n",
       "      <td>0.0</td>\n",
       "      <td>0.000000</td>\n",
       "      <td>0.0</td>\n",
       "      <td>0.00</td>\n",
       "      <td>0.00</td>\n",
       "      <td>0.000</td>\n",
       "      <td>0.000000e+00</td>\n",
       "    </tr>\n",
       "    <tr>\n",
       "      <th>29905</th>\n",
       "      <td>M931112452</td>\n",
       "      <td>0.0</td>\n",
       "      <td>0.0</td>\n",
       "      <td>0.0</td>\n",
       "      <td>0.0</td>\n",
       "      <td>0번 구매</td>\n",
       "      <td>0번 구매</td>\n",
       "      <td>0번 구매</td>\n",
       "      <td>0번 구매</td>\n",
       "      <td>남성</td>\n",
       "      <td>...</td>\n",
       "      <td>0</td>\n",
       "      <td>0</td>\n",
       "      <td>0</td>\n",
       "      <td>0.0</td>\n",
       "      <td>0.000000</td>\n",
       "      <td>0.0</td>\n",
       "      <td>0.00</td>\n",
       "      <td>0.00</td>\n",
       "      <td>0.000</td>\n",
       "      <td>0.000000e+00</td>\n",
       "    </tr>\n",
       "    <tr>\n",
       "      <th>29906</th>\n",
       "      <td>M937793665</td>\n",
       "      <td>0.0</td>\n",
       "      <td>0.0</td>\n",
       "      <td>0.0</td>\n",
       "      <td>0.0</td>\n",
       "      <td>0번 구매</td>\n",
       "      <td>0번 구매</td>\n",
       "      <td>0번 구매</td>\n",
       "      <td>0번 구매</td>\n",
       "      <td>남성</td>\n",
       "      <td>...</td>\n",
       "      <td>0</td>\n",
       "      <td>0</td>\n",
       "      <td>0</td>\n",
       "      <td>0.0</td>\n",
       "      <td>0.000000</td>\n",
       "      <td>0.0</td>\n",
       "      <td>0.00</td>\n",
       "      <td>0.00</td>\n",
       "      <td>0.000</td>\n",
       "      <td>0.000000e+00</td>\n",
       "    </tr>\n",
       "    <tr>\n",
       "      <th>29907</th>\n",
       "      <td>M960942132</td>\n",
       "      <td>0.0</td>\n",
       "      <td>0.0</td>\n",
       "      <td>0.0</td>\n",
       "      <td>0.0</td>\n",
       "      <td>0번 구매</td>\n",
       "      <td>0번 구매</td>\n",
       "      <td>0번 구매</td>\n",
       "      <td>0번 구매</td>\n",
       "      <td>남성</td>\n",
       "      <td>...</td>\n",
       "      <td>0</td>\n",
       "      <td>0</td>\n",
       "      <td>0</td>\n",
       "      <td>0.0</td>\n",
       "      <td>0.000000</td>\n",
       "      <td>0.0</td>\n",
       "      <td>0.00</td>\n",
       "      <td>0.00</td>\n",
       "      <td>0.000</td>\n",
       "      <td>0.000000e+00</td>\n",
       "    </tr>\n",
       "    <tr>\n",
       "      <th>29908</th>\n",
       "      <td>M976801252</td>\n",
       "      <td>0.0</td>\n",
       "      <td>0.0</td>\n",
       "      <td>0.0</td>\n",
       "      <td>0.0</td>\n",
       "      <td>0번 구매</td>\n",
       "      <td>0번 구매</td>\n",
       "      <td>0번 구매</td>\n",
       "      <td>0번 구매</td>\n",
       "      <td>남성</td>\n",
       "      <td>...</td>\n",
       "      <td>0</td>\n",
       "      <td>0</td>\n",
       "      <td>0</td>\n",
       "      <td>0.0</td>\n",
       "      <td>0.000000</td>\n",
       "      <td>0.0</td>\n",
       "      <td>0.00</td>\n",
       "      <td>0.00</td>\n",
       "      <td>0.000</td>\n",
       "      <td>0.000000e+00</td>\n",
       "    </tr>\n",
       "  </tbody>\n",
       "</table>\n",
       "<p>29909 rows × 40 columns</p>\n",
       "</div>"
      ],
      "text/plain": [
       "             cust     연간구매금액2   연간구매금액3    연간구매금액6   연간구매금액236  \\\n",
       "0      M000034966    654120.0    3900.0        0.0    658020.0   \n",
       "1      M000136117  28496031.0  252500.0  1137501.0  28748531.0   \n",
       "2      M000201112     53120.0       0.0        0.0     53120.0   \n",
       "3      M000225114   1937700.0  316200.0        0.0   2253900.0   \n",
       "4      M000261625   6052700.0   23250.0        0.0   6075950.0   \n",
       "...           ...         ...       ...        ...         ...   \n",
       "29904  M915138788         0.0       0.0        0.0         0.0   \n",
       "29905  M931112452         0.0       0.0        0.0         0.0   \n",
       "29906  M937793665         0.0       0.0        0.0         0.0   \n",
       "29907  M960942132         0.0       0.0        0.0         0.0   \n",
       "29908  M976801252         0.0       0.0        0.0         0.0   \n",
       "\n",
       "                           유통평균주기                      제휴평균주기  \\\n",
       "0                56 days 20:00:00                       1번 구매   \n",
       "1      12 days 09:55:51.724137931  20 days 22:17:08.571428571   \n",
       "2                42 days 00:00:00                       0번 구매   \n",
       "3       8 days 05:11:21.081081081            53 days 06:00:00   \n",
       "4                16 days 00:00:00                       1번 구매   \n",
       "...                           ...                         ...   \n",
       "29904                       0번 구매                       0번 구매   \n",
       "29905                       0번 구매                       0번 구매   \n",
       "29906                       0번 구매                       0번 구매   \n",
       "29907                       0번 구매                       0번 구매   \n",
       "29908                       0번 구매                       0번 구매   \n",
       "\n",
       "                Lpay평균주기                      총합평균주기 ma_fem_dv  ... A06 L00  \\\n",
       "0                  0번 구매  48 days 17:08:34.285714285        여성  ...   0   0   \n",
       "1      106 days 16:00:00   8 days 04:21:49.090909090        여성  ...  11   0   \n",
       "2                  0번 구매            42 days 00:00:00        여성  ...   0   0   \n",
       "3                  0번 구매   7 days 05:42:51.428571428        여성  ...   0   0   \n",
       "4                  0번 구매            16 days 00:00:00        여성  ...   0   0   \n",
       "...                  ...                         ...       ...  ...  ..  ..   \n",
       "29904              0번 구매                       0번 구매        남성  ...   0   0   \n",
       "29905              0번 구매                       0번 구매        남성  ...   0   0   \n",
       "29906              0번 구매                       0번 구매        남성  ...   0   0   \n",
       "29907              0번 구매                       0번 구매        남성  ...   0   0   \n",
       "29908              0번 구매                       0번 구매        남성  ...   0   0   \n",
       "\n",
       "      L01 how_many_cop  online_friendly  total_pur        apv           cv  \\\n",
       "0       0          4.0         0.000000       43.0   15302.79   1132406.46   \n",
       "1       0          4.0         0.144231      104.0  276428.18  20455685.32   \n",
       "2       0          1.0         0.000000       20.0    2656.00    196544.00   \n",
       "3       0          5.0         0.000000      145.0   15544.14   1150266.36   \n",
       "4       0          2.0         0.000000       61.0   99605.74   7370824.76   \n",
       "...    ..          ...              ...        ...        ...          ...   \n",
       "29904   0          0.0         0.000000        0.0       0.00         0.00   \n",
       "29905   0          0.0         0.000000        0.0       0.00         0.00   \n",
       "29906   0          0.0         0.000000        0.0       0.00         0.00   \n",
       "29907   0          0.0         0.000000        0.0       0.00         0.00   \n",
       "29908   0          0.0         0.000000        0.0       0.00         0.00   \n",
       "\n",
       "          lt          cltv  \n",
       "0      0.934  1.057668e+06  \n",
       "1      0.986  2.016931e+07  \n",
       "2      0.345  6.780768e+04  \n",
       "3      0.833  9.581719e+05  \n",
       "4      0.921  6.788530e+06  \n",
       "...      ...           ...  \n",
       "29904  0.000  0.000000e+00  \n",
       "29905  0.000  0.000000e+00  \n",
       "29906  0.000  0.000000e+00  \n",
       "29907  0.000  0.000000e+00  \n",
       "29908  0.000  0.000000e+00  \n",
       "\n",
       "[29909 rows x 40 columns]"
      ]
     },
     "execution_count": 114,
     "metadata": {},
     "output_type": "execute_result"
    }
   ],
   "source": [
    "cust['cltv'] = cust.apply(lambda x: x['cv'] * x['lt'], axis=1)\n",
    "cust"
   ]
  },
  {
   "cell_type": "code",
   "execution_count": 115,
   "metadata": {
    "ExecuteTime": {
     "end_time": "2022-08-11T08:02:15.771413Z",
     "start_time": "2022-08-11T08:02:15.759539Z"
    },
    "scrolled": true
   },
   "outputs": [
    {
     "data": {
      "text/plain": [
       "count    2.990900e+04\n",
       "mean     2.427157e+06\n",
       "std      6.908710e+06\n",
       "min      0.000000e+00\n",
       "25%      4.276005e+05\n",
       "50%      8.912700e+05\n",
       "75%      2.174580e+06\n",
       "max      2.470619e+08\n",
       "Name: cltv, dtype: float64"
      ]
     },
     "execution_count": 115,
     "metadata": {},
     "output_type": "execute_result"
    }
   ],
   "source": [
    "cust['cltv'].describe()"
   ]
  },
  {
   "cell_type": "code",
   "execution_count": 116,
   "metadata": {
    "ExecuteTime": {
     "end_time": "2022-08-11T08:02:15.801417Z",
     "start_time": "2022-08-11T08:02:15.774409Z"
    }
   },
   "outputs": [
    {
     "data": {
      "text/plain": [
       "cust                         M669977400\n",
       "연간구매금액2                      15355000.0\n",
       "연간구매금액3                          7000.0\n",
       "연간구매금액6                             0.0\n",
       "연간구매금액236                    15362000.0\n",
       "유통평균주기                238 days 00:00:00\n",
       "제휴평균주기                            1번 구매\n",
       "Lpay평균주기                          0번 구매\n",
       "총합평균주기                119 days 00:00:00\n",
       "ma_fem_dv                            남성\n",
       "ages                                30대\n",
       "zon_hlv                             Z10\n",
       "purchase_list      ['PD1685', 'PD1752']\n",
       "Top5상품                  [테넌트/음식점, 패션잡화]\n",
       "Top5상품금액                  308607.782517\n",
       "num_pur2                            2.0\n",
       "num_pur3                            1.0\n",
       "num_pur6                            0.0\n",
       "num_pur                             3.0\n",
       "A01                                   1\n",
       "A02                                   1\n",
       "A03                                   0\n",
       "A04                                   0\n",
       "A05                                   0\n",
       "B01                                   0\n",
       "C01                                   0\n",
       "C02                                   1\n",
       "D01                                   0\n",
       "D02                                   0\n",
       "E01                                   0\n",
       "A06                                   0\n",
       "L00                                   0\n",
       "L01                                   0\n",
       "how_many_cop                        3.0\n",
       "online_friendly                     0.0\n",
       "total_pur                           3.0\n",
       "apv                          5120666.67\n",
       "cv                         378929333.58\n",
       "lt                                0.652\n",
       "cltv                    247061925.49416\n",
       "Name: 18220, dtype: object"
      ]
     },
     "execution_count": 116,
     "metadata": {},
     "output_type": "execute_result"
    }
   ],
   "source": [
    "cust.loc[cust['cltv'].idxmax(),:]"
   ]
  },
  {
   "cell_type": "code",
   "execution_count": 117,
   "metadata": {
    "ExecuteTime": {
     "end_time": "2022-08-11T08:02:15.832420Z",
     "start_time": "2022-08-11T08:02:15.804415Z"
    }
   },
   "outputs": [
    {
     "name": "stdout",
     "output_type": "stream",
     "text": [
      "평균 고객 생애 가치 : 2689779.6044\n"
     ]
    }
   ],
   "source": [
    "total_ltv = total_cv * total_acl\n",
    "print('평균 고객 생애 가치 :', total_ltv)"
   ]
  },
  {
   "cell_type": "code",
   "execution_count": 118,
   "metadata": {
    "ExecuteTime": {
     "end_time": "2022-08-11T08:02:15.863438Z",
     "start_time": "2022-08-11T08:02:15.835422Z"
    }
   },
   "outputs": [],
   "source": [
    "cust = cust.drop(['apv','cv','lt','total_pur'], axis=1)"
   ]
  },
  {
   "cell_type": "code",
   "execution_count": 119,
   "metadata": {
    "ExecuteTime": {
     "end_time": "2022-08-11T08:02:15.894433Z",
     "start_time": "2022-08-11T08:02:15.870429Z"
    }
   },
   "outputs": [
    {
     "data": {
      "text/html": [
       "<div>\n",
       "<style scoped>\n",
       "    .dataframe tbody tr th:only-of-type {\n",
       "        vertical-align: middle;\n",
       "    }\n",
       "\n",
       "    .dataframe tbody tr th {\n",
       "        vertical-align: top;\n",
       "    }\n",
       "\n",
       "    .dataframe thead th {\n",
       "        text-align: right;\n",
       "    }\n",
       "</style>\n",
       "<table border=\"1\" class=\"dataframe\">\n",
       "  <thead>\n",
       "    <tr style=\"text-align: right;\">\n",
       "      <th></th>\n",
       "      <th>cust</th>\n",
       "      <th>연간구매금액2</th>\n",
       "      <th>연간구매금액3</th>\n",
       "      <th>연간구매금액6</th>\n",
       "      <th>연간구매금액236</th>\n",
       "      <th>유통평균주기</th>\n",
       "      <th>제휴평균주기</th>\n",
       "      <th>Lpay평균주기</th>\n",
       "      <th>총합평균주기</th>\n",
       "      <th>ma_fem_dv</th>\n",
       "      <th>...</th>\n",
       "      <th>C02</th>\n",
       "      <th>D01</th>\n",
       "      <th>D02</th>\n",
       "      <th>E01</th>\n",
       "      <th>A06</th>\n",
       "      <th>L00</th>\n",
       "      <th>L01</th>\n",
       "      <th>how_many_cop</th>\n",
       "      <th>online_friendly</th>\n",
       "      <th>cltv</th>\n",
       "    </tr>\n",
       "  </thead>\n",
       "  <tbody>\n",
       "    <tr>\n",
       "      <th>0</th>\n",
       "      <td>M000034966</td>\n",
       "      <td>654120.0</td>\n",
       "      <td>3900.0</td>\n",
       "      <td>0.0</td>\n",
       "      <td>658020.0</td>\n",
       "      <td>56 days 20:00:00</td>\n",
       "      <td>1번 구매</td>\n",
       "      <td>0번 구매</td>\n",
       "      <td>48 days 17:08:34.285714285</td>\n",
       "      <td>여성</td>\n",
       "      <td>...</td>\n",
       "      <td>0</td>\n",
       "      <td>1</td>\n",
       "      <td>0</td>\n",
       "      <td>0</td>\n",
       "      <td>0</td>\n",
       "      <td>0</td>\n",
       "      <td>0</td>\n",
       "      <td>4.0</td>\n",
       "      <td>0.000000</td>\n",
       "      <td>1.057668e+06</td>\n",
       "    </tr>\n",
       "    <tr>\n",
       "      <th>1</th>\n",
       "      <td>M000136117</td>\n",
       "      <td>28496031.0</td>\n",
       "      <td>252500.0</td>\n",
       "      <td>1137501.0</td>\n",
       "      <td>28748531.0</td>\n",
       "      <td>12 days 09:55:51.724137931</td>\n",
       "      <td>20 days 22:17:08.571428571</td>\n",
       "      <td>106 days 16:00:00</td>\n",
       "      <td>8 days 04:21:49.090909090</td>\n",
       "      <td>여성</td>\n",
       "      <td>...</td>\n",
       "      <td>0</td>\n",
       "      <td>16</td>\n",
       "      <td>0</td>\n",
       "      <td>0</td>\n",
       "      <td>11</td>\n",
       "      <td>0</td>\n",
       "      <td>0</td>\n",
       "      <td>4.0</td>\n",
       "      <td>0.144231</td>\n",
       "      <td>2.016931e+07</td>\n",
       "    </tr>\n",
       "    <tr>\n",
       "      <th>2</th>\n",
       "      <td>M000201112</td>\n",
       "      <td>53120.0</td>\n",
       "      <td>0.0</td>\n",
       "      <td>0.0</td>\n",
       "      <td>53120.0</td>\n",
       "      <td>42 days 00:00:00</td>\n",
       "      <td>0번 구매</td>\n",
       "      <td>0번 구매</td>\n",
       "      <td>42 days 00:00:00</td>\n",
       "      <td>여성</td>\n",
       "      <td>...</td>\n",
       "      <td>0</td>\n",
       "      <td>0</td>\n",
       "      <td>0</td>\n",
       "      <td>0</td>\n",
       "      <td>0</td>\n",
       "      <td>0</td>\n",
       "      <td>0</td>\n",
       "      <td>1.0</td>\n",
       "      <td>0.000000</td>\n",
       "      <td>6.780768e+04</td>\n",
       "    </tr>\n",
       "    <tr>\n",
       "      <th>3</th>\n",
       "      <td>M000225114</td>\n",
       "      <td>1937700.0</td>\n",
       "      <td>316200.0</td>\n",
       "      <td>0.0</td>\n",
       "      <td>2253900.0</td>\n",
       "      <td>8 days 05:11:21.081081081</td>\n",
       "      <td>53 days 06:00:00</td>\n",
       "      <td>0번 구매</td>\n",
       "      <td>7 days 05:42:51.428571428</td>\n",
       "      <td>여성</td>\n",
       "      <td>...</td>\n",
       "      <td>7</td>\n",
       "      <td>0</td>\n",
       "      <td>2</td>\n",
       "      <td>0</td>\n",
       "      <td>0</td>\n",
       "      <td>0</td>\n",
       "      <td>0</td>\n",
       "      <td>5.0</td>\n",
       "      <td>0.000000</td>\n",
       "      <td>9.581719e+05</td>\n",
       "    </tr>\n",
       "    <tr>\n",
       "      <th>4</th>\n",
       "      <td>M000261625</td>\n",
       "      <td>6052700.0</td>\n",
       "      <td>23250.0</td>\n",
       "      <td>0.0</td>\n",
       "      <td>6075950.0</td>\n",
       "      <td>16 days 00:00:00</td>\n",
       "      <td>1번 구매</td>\n",
       "      <td>0번 구매</td>\n",
       "      <td>16 days 00:00:00</td>\n",
       "      <td>여성</td>\n",
       "      <td>...</td>\n",
       "      <td>0</td>\n",
       "      <td>1</td>\n",
       "      <td>0</td>\n",
       "      <td>0</td>\n",
       "      <td>0</td>\n",
       "      <td>0</td>\n",
       "      <td>0</td>\n",
       "      <td>2.0</td>\n",
       "      <td>0.000000</td>\n",
       "      <td>6.788530e+06</td>\n",
       "    </tr>\n",
       "  </tbody>\n",
       "</table>\n",
       "<p>5 rows × 36 columns</p>\n",
       "</div>"
      ],
      "text/plain": [
       "         cust     연간구매금액2   연간구매금액3    연간구매금액6   연간구매금액236  \\\n",
       "0  M000034966    654120.0    3900.0        0.0    658020.0   \n",
       "1  M000136117  28496031.0  252500.0  1137501.0  28748531.0   \n",
       "2  M000201112     53120.0       0.0        0.0     53120.0   \n",
       "3  M000225114   1937700.0  316200.0        0.0   2253900.0   \n",
       "4  M000261625   6052700.0   23250.0        0.0   6075950.0   \n",
       "\n",
       "                       유통평균주기                      제휴평균주기           Lpay평균주기  \\\n",
       "0            56 days 20:00:00                       1번 구매              0번 구매   \n",
       "1  12 days 09:55:51.724137931  20 days 22:17:08.571428571  106 days 16:00:00   \n",
       "2            42 days 00:00:00                       0번 구매              0번 구매   \n",
       "3   8 days 05:11:21.081081081            53 days 06:00:00              0번 구매   \n",
       "4            16 days 00:00:00                       1번 구매              0번 구매   \n",
       "\n",
       "                       총합평균주기 ma_fem_dv  ... C02 D01 D02 E01  A06  L00  L01  \\\n",
       "0  48 days 17:08:34.285714285        여성  ...   0   1   0   0    0    0    0   \n",
       "1   8 days 04:21:49.090909090        여성  ...   0  16   0   0   11    0    0   \n",
       "2            42 days 00:00:00        여성  ...   0   0   0   0    0    0    0   \n",
       "3   7 days 05:42:51.428571428        여성  ...   7   0   2   0    0    0    0   \n",
       "4            16 days 00:00:00        여성  ...   0   1   0   0    0    0    0   \n",
       "\n",
       "   how_many_cop  online_friendly          cltv  \n",
       "0           4.0         0.000000  1.057668e+06  \n",
       "1           4.0         0.144231  2.016931e+07  \n",
       "2           1.0         0.000000  6.780768e+04  \n",
       "3           5.0         0.000000  9.581719e+05  \n",
       "4           2.0         0.000000  6.788530e+06  \n",
       "\n",
       "[5 rows x 36 columns]"
      ]
     },
     "execution_count": 119,
     "metadata": {},
     "output_type": "execute_result"
    }
   ],
   "source": [
    "cust.head()"
   ]
  },
  {
   "cell_type": "code",
   "execution_count": 120,
   "metadata": {
    "ExecuteTime": {
     "end_time": "2022-08-11T08:02:15.909437Z",
     "start_time": "2022-08-11T08:02:15.896435Z"
    }
   },
   "outputs": [
    {
     "data": {
      "text/plain": [
       "Index(['cust', '연간구매금액2', '연간구매금액3', '연간구매금액6', '연간구매금액236', '유통평균주기',\n",
       "       '제휴평균주기', 'Lpay평균주기', '총합평균주기', 'ma_fem_dv', 'ages', 'zon_hlv',\n",
       "       'purchase_list', 'Top5상품', 'Top5상품금액', 'num_pur2', 'num_pur3',\n",
       "       'num_pur6', 'num_pur', 'A01', 'A02', 'A03', 'A04', 'A05', 'B01', 'C01',\n",
       "       'C02', 'D01', 'D02', 'E01', 'A06', 'L00', 'L01', 'how_many_cop',\n",
       "       'online_friendly', 'cltv'],\n",
       "      dtype='object')"
      ]
     },
     "execution_count": 120,
     "metadata": {},
     "output_type": "execute_result"
    }
   ],
   "source": [
    "cust.columns"
   ]
  },
  {
   "cell_type": "code",
   "execution_count": 121,
   "metadata": {
    "ExecuteTime": {
     "end_time": "2022-08-11T08:02:15.985469Z",
     "start_time": "2022-08-11T08:02:15.911439Z"
    },
    "scrolled": true
   },
   "outputs": [
    {
     "data": {
      "text/plain": [
       "cust               0\n",
       "연간구매금액2            0\n",
       "연간구매금액3            0\n",
       "연간구매금액6            0\n",
       "연간구매금액236          0\n",
       "유통평균주기             0\n",
       "제휴평균주기             0\n",
       "Lpay평균주기           0\n",
       "총합평균주기             0\n",
       "ma_fem_dv          0\n",
       "ages               0\n",
       "zon_hlv            0\n",
       "purchase_list      0\n",
       "Top5상품             0\n",
       "Top5상품금액           0\n",
       "num_pur2           0\n",
       "num_pur3           0\n",
       "num_pur6           0\n",
       "num_pur            0\n",
       "A01                0\n",
       "A02                0\n",
       "A03                0\n",
       "A04                0\n",
       "A05                0\n",
       "B01                0\n",
       "C01                0\n",
       "C02                0\n",
       "D01                0\n",
       "D02                0\n",
       "E01                0\n",
       "A06                0\n",
       "L00                0\n",
       "L01                0\n",
       "how_many_cop       0\n",
       "online_friendly    0\n",
       "cltv               0\n",
       "dtype: int64"
      ]
     },
     "execution_count": 121,
     "metadata": {},
     "output_type": "execute_result"
    }
   ],
   "source": [
    "cust.isnull().sum()"
   ]
  },
  {
   "cell_type": "code",
   "execution_count": null,
   "metadata": {
    "ExecuteTime": {
     "end_time": "2022-08-11T06:25:44.635942Z",
     "start_time": "2022-08-11T06:25:24.889Z"
    }
   },
   "outputs": [],
   "source": [
    "cust.to_csv('../clustering/customer.csv')"
   ]
  }
 ],
 "metadata": {
  "kernelspec": {
   "display_name": "Python 3",
   "language": "python",
   "name": "python3"
  },
  "language_info": {
   "codemirror_mode": {
    "name": "ipython",
    "version": 3
   },
   "file_extension": ".py",
   "mimetype": "text/x-python",
   "name": "python",
   "nbconvert_exporter": "python",
   "pygments_lexer": "ipython3",
   "version": "3.8.5"
  },
  "toc": {
   "base_numbering": 1,
   "nav_menu": {},
   "number_sections": true,
   "sideBar": true,
   "skip_h1_title": false,
   "title_cell": "Table of Contents",
   "title_sidebar": "Contents",
   "toc_cell": false,
   "toc_position": {
    "height": "calc(100% - 180px)",
    "left": "10px",
    "top": "150px",
    "width": "279.266px"
   },
   "toc_section_display": true,
   "toc_window_display": true
  }
 },
 "nbformat": 4,
 "nbformat_minor": 5
}
