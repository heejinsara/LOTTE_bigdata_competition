{
 "cells": [
  {
   "cell_type": "markdown",
   "metadata": {},
   "source": [
    "## 데이터 전처리"
   ]
  },
  {
   "cell_type": "markdown",
   "metadata": {},
   "source": [
    "아래의 데이터를 이용해 \n",
    "- LPOINT_BIG_COMP_01_DEMO.csv\n",
    "- LPOINT_BIG_COMP_02_PDDE.csv\n",
    "- LPOINT_BIG_COMP_03_COP_U.csv\n",
    "- LPOINT_BIG_COMP_04_PD_CLAC.csv\n",
    "- LPOINT_BIG_COMP_05_BR.csv\n",
    "- LPOINT_BIG_COMP_06_LPAY.csv\n",
    "\n",
    "다음 데이터를 만들었다.\n",
    "- data1.csv\n",
    "- data2.csv\n",
    "- data3.csv\n",
    "- data4.csv\n",
    "- data5.csv\n",
    "- data6.csv"
   ]
  },
  {
   "cell_type": "code",
   "execution_count": 1,
   "metadata": {
    "ExecuteTime": {
     "end_time": "2022-08-12T00:16:57.118406Z",
     "start_time": "2022-08-12T00:16:57.113406Z"
    }
   },
   "outputs": [],
   "source": [
    "import numpy as np\n",
    "import pandas as pd\n",
    "import seaborn as sns\n",
    "import warnings\n",
    "warnings.filterwarnings('ignore')\n",
    "import matplotlib.pyplot as plt"
   ]
  },
  {
   "cell_type": "code",
   "execution_count": 7,
   "metadata": {
    "ExecuteTime": {
     "end_time": "2022-08-12T00:16:57.343455Z",
     "start_time": "2022-08-12T00:16:57.338461Z"
    }
   },
   "outputs": [
    {
     "data": {
      "text/plain": [
       "['LPOINT_BIG_COMP_01_DEMO.csv',\n",
       " 'LPOINT_BIG_COMP_02_PDDE.csv',\n",
       " 'LPOINT_BIG_COMP_03_COP_U.csv',\n",
       " 'LPOINT_BIG_COMP_04_PD_CLAC.csv',\n",
       " 'LPOINT_BIG_COMP_05_BR.csv',\n",
       " 'LPOINT_BIG_COMP_06_LPAY.csv']"
      ]
     },
     "execution_count": 7,
     "metadata": {},
     "output_type": "execute_result"
    }
   ],
   "source": [
    "import os\n",
    "sorted(os.listdir(\"../3. LOTTO_데이터 및 모델 세이브 파일/data\"))"
   ]
  },
  {
   "cell_type": "code",
   "execution_count": 8,
   "metadata": {
    "ExecuteTime": {
     "end_time": "2022-08-12T00:17:03.188458Z",
     "start_time": "2022-08-12T00:16:57.501542Z"
    }
   },
   "outputs": [],
   "source": [
    "for i, file in enumerate(sorted(os.listdir(\"../3. LOTTO_데이터 및 모델 세이브 파일/data\"))):\n",
    "    globals()[f'data{i+1}'] = pd.read_csv(\"../3. LOTTO_데이터 및 모델 세이브 파일/data/\"+file)\n",
    "datas = [data1, data2, data3, data4, data5, data6]"
   ]
  },
  {
   "cell_type": "markdown",
   "metadata": {},
   "source": [
    "### 이상치 처리"
   ]
  },
  {
   "cell_type": "code",
   "execution_count": 9,
   "metadata": {
    "ExecuteTime": {
     "end_time": "2022-08-12T00:17:06.706360Z",
     "start_time": "2022-08-12T00:17:03.191461Z"
    }
   },
   "outputs": [],
   "source": [
    "cust_outlier = ['M057015266','M919374790','M223630342','M785169881']\n",
    "\n",
    "for cust in cust_outlier:\n",
    "    data1 = data1.drop(data1[data1['cust']==cust].index)\n",
    "    data2 = data2.drop(data2[data2['cust']==cust].index)\n",
    "    data3 = data3.drop(data3[data3['cust']==cust].index)\n",
    "    data6 = data6.drop(data6[data6['cust']==cust].index)"
   ]
  },
  {
   "cell_type": "markdown",
   "metadata": {},
   "source": [
    "### 결측치 처리"
   ]
  },
  {
   "cell_type": "code",
   "execution_count": 10,
   "metadata": {
    "ExecuteTime": {
     "end_time": "2022-08-12T00:17:09.372054Z",
     "start_time": "2022-08-12T00:17:06.709351Z"
    }
   },
   "outputs": [],
   "source": [
    "# 결측치\n",
    "\n",
    "# data2\n",
    "null_idx = [(i, data2[(data2['br_c'].isnull())&(data2['cop_c']==i)].index)\n",
    "            for i in data2[data2['br_c'].isnull()]['cop_c'].value_counts().index]\n",
    "\n",
    "for _ in null_idx:\n",
    "    data2.loc[_[1],'br_c'] = _[0]+'00000'\n",
    "\n",
    "    \n",
    "# data3\n",
    "data3['br_c'] = data3['br_c'].fillna('E0100000')\n",
    "\n",
    "\n",
    "# data5\n",
    "add = pd.DataFrame({\n",
    "    'br_c':['A0200000','A0300000','A0600000','A0100000','A0500000','E0100000'],\n",
    "    'cop_c':['A02','A03','A06','A01','A05','E01'],\n",
    "    'zon_hlv':['Z00','Z00','Z00','Z00','Z00','Z00'],\n",
    "    'zon_mcls':['Z00000','Z00000','Z00000','Z00000','Z00000','Z00000']\n",
    "})\n",
    "\n",
    "data5 = pd.concat([data5,add])"
   ]
  },
  {
   "cell_type": "markdown",
   "metadata": {},
   "source": [
    "### 중복 제거"
   ]
  },
  {
   "cell_type": "code",
   "execution_count": 11,
   "metadata": {
    "ExecuteTime": {
     "end_time": "2022-08-12T00:17:17.093078Z",
     "start_time": "2022-08-12T00:17:09.374057Z"
    }
   },
   "outputs": [
    {
     "data": {
      "text/html": [
       "<div>\n",
       "<style scoped>\n",
       "    .dataframe tbody tr th:only-of-type {\n",
       "        vertical-align: middle;\n",
       "    }\n",
       "\n",
       "    .dataframe tbody tr th {\n",
       "        vertical-align: top;\n",
       "    }\n",
       "\n",
       "    .dataframe thead th {\n",
       "        text-align: right;\n",
       "    }\n",
       "</style>\n",
       "<table border=\"1\" class=\"dataframe\">\n",
       "  <thead>\n",
       "    <tr style=\"text-align: right;\">\n",
       "      <th></th>\n",
       "      <th></th>\n",
       "      <th></th>\n",
       "      <th></th>\n",
       "      <th></th>\n",
       "      <th></th>\n",
       "      <th></th>\n",
       "      <th>buy_am</th>\n",
       "      <th>buy_ct</th>\n",
       "    </tr>\n",
       "    <tr>\n",
       "      <th>cust</th>\n",
       "      <th>rct_no</th>\n",
       "      <th>cop_c</th>\n",
       "      <th>br_c</th>\n",
       "      <th>pd_c</th>\n",
       "      <th>de_dt</th>\n",
       "      <th>de_hr</th>\n",
       "      <th></th>\n",
       "      <th></th>\n",
       "    </tr>\n",
       "  </thead>\n",
       "  <tbody>\n",
       "    <tr>\n",
       "      <th rowspan=\"5\" valign=\"top\">M000034966</th>\n",
       "      <th rowspan=\"2\" valign=\"top\">A01016688590</th>\n",
       "      <th rowspan=\"2\" valign=\"top\">A01</th>\n",
       "      <th rowspan=\"2\" valign=\"top\">A010045</th>\n",
       "      <th>PD0777</th>\n",
       "      <th>20210116</th>\n",
       "      <th>18</th>\n",
       "      <td>78000.0</td>\n",
       "      <td>2</td>\n",
       "    </tr>\n",
       "    <tr>\n",
       "      <th>PD0796</th>\n",
       "      <th>20210116</th>\n",
       "      <th>18</th>\n",
       "      <td>100.0</td>\n",
       "      <td>1</td>\n",
       "    </tr>\n",
       "    <tr>\n",
       "      <th>A01016718167</th>\n",
       "      <th>A01</th>\n",
       "      <th>A010045</th>\n",
       "      <th>PD0816</th>\n",
       "      <th>20210116</th>\n",
       "      <th>18</th>\n",
       "      <td>62100.0</td>\n",
       "      <td>1</td>\n",
       "    </tr>\n",
       "    <tr>\n",
       "      <th rowspan=\"2\" valign=\"top\">A02357398521</th>\n",
       "      <th rowspan=\"2\" valign=\"top\">A02</th>\n",
       "      <th rowspan=\"2\" valign=\"top\">A020116</th>\n",
       "      <th>PD0616</th>\n",
       "      <th>20210325</th>\n",
       "      <th>13</th>\n",
       "      <td>17900.0</td>\n",
       "      <td>2</td>\n",
       "    </tr>\n",
       "    <tr>\n",
       "      <th>PD0630</th>\n",
       "      <th>20210325</th>\n",
       "      <th>13</th>\n",
       "      <td>59700.0</td>\n",
       "      <td>3</td>\n",
       "    </tr>\n",
       "    <tr>\n",
       "      <th>...</th>\n",
       "      <th>...</th>\n",
       "      <th>...</th>\n",
       "      <th>...</th>\n",
       "      <th>...</th>\n",
       "      <th>...</th>\n",
       "      <th>...</th>\n",
       "      <td>...</td>\n",
       "      <td>...</td>\n",
       "    </tr>\n",
       "    <tr>\n",
       "      <th rowspan=\"5\" valign=\"top\">M999962961</th>\n",
       "      <th>E02024505549</th>\n",
       "      <th>A02</th>\n",
       "      <th>A0200000</th>\n",
       "      <th>PD1441</th>\n",
       "      <th>20210515</th>\n",
       "      <th>10</th>\n",
       "      <td>1180.0</td>\n",
       "      <td>1</td>\n",
       "    </tr>\n",
       "    <tr>\n",
       "      <th>E06002810292</th>\n",
       "      <th>A06</th>\n",
       "      <th>A0600000</th>\n",
       "      <th>PD0959</th>\n",
       "      <th>20210113</th>\n",
       "      <th>18</th>\n",
       "      <td>129000.0</td>\n",
       "      <td>1</td>\n",
       "    </tr>\n",
       "    <tr>\n",
       "      <th>E06004609359</th>\n",
       "      <th>A06</th>\n",
       "      <th>A0600000</th>\n",
       "      <th>PD0954</th>\n",
       "      <th>20210122</th>\n",
       "      <th>14</th>\n",
       "      <td>34300.0</td>\n",
       "      <td>1</td>\n",
       "    </tr>\n",
       "    <tr>\n",
       "      <th>E06025413888</th>\n",
       "      <th>A06</th>\n",
       "      <th>A0600000</th>\n",
       "      <th>PD0967</th>\n",
       "      <th>20210406</th>\n",
       "      <th>17</th>\n",
       "      <td>89000.0</td>\n",
       "      <td>1</td>\n",
       "    </tr>\n",
       "    <tr>\n",
       "      <th>E06035713248</th>\n",
       "      <th>A06</th>\n",
       "      <th>A0600000</th>\n",
       "      <th>PD1889</th>\n",
       "      <th>20210503</th>\n",
       "      <th>22</th>\n",
       "      <td>50000.0</td>\n",
       "      <td>1</td>\n",
       "    </tr>\n",
       "  </tbody>\n",
       "</table>\n",
       "<p>3710275 rows × 2 columns</p>\n",
       "</div>"
      ],
      "text/plain": [
       "                                                                buy_am  buy_ct\n",
       "cust       rct_no       cop_c br_c     pd_c   de_dt    de_hr                  \n",
       "M000034966 A01016688590 A01   A010045  PD0777 20210116 18      78000.0       2\n",
       "                                       PD0796 20210116 18        100.0       1\n",
       "           A01016718167 A01   A010045  PD0816 20210116 18      62100.0       1\n",
       "           A02357398521 A02   A020116  PD0616 20210325 13      17900.0       2\n",
       "                                       PD0630 20210325 13      59700.0       3\n",
       "...                                                                ...     ...\n",
       "M999962961 E02024505549 A02   A0200000 PD1441 20210515 10       1180.0       1\n",
       "           E06002810292 A06   A0600000 PD0959 20210113 18     129000.0       1\n",
       "           E06004609359 A06   A0600000 PD0954 20210122 14      34300.0       1\n",
       "           E06025413888 A06   A0600000 PD0967 20210406 17      89000.0       1\n",
       "           E06035713248 A06   A0600000 PD1889 20210503 22      50000.0       1\n",
       "\n",
       "[3710275 rows x 2 columns]"
      ]
     },
     "execution_count": 11,
     "metadata": {},
     "output_type": "execute_result"
    }
   ],
   "source": [
    "drop_dup = data2.groupby(['cust','rct_no','cop_c','br_c','pd_c','de_dt','de_hr'])['buy_am','buy_ct'].sum()\n",
    "drop_dup"
   ]
  },
  {
   "cell_type": "code",
   "execution_count": 12,
   "metadata": {
    "ExecuteTime": {
     "end_time": "2022-08-12T00:17:17.648342Z",
     "start_time": "2022-08-12T00:17:17.096080Z"
    }
   },
   "outputs": [],
   "source": [
    "drop_dup.reset_index(inplace=True)"
   ]
  },
  {
   "cell_type": "code",
   "execution_count": 13,
   "metadata": {
    "ExecuteTime": {
     "end_time": "2022-08-12T00:17:17.678855Z",
     "start_time": "2022-08-12T00:17:17.651340Z"
    }
   },
   "outputs": [
    {
     "data": {
      "text/html": [
       "<div>\n",
       "<style scoped>\n",
       "    .dataframe tbody tr th:only-of-type {\n",
       "        vertical-align: middle;\n",
       "    }\n",
       "\n",
       "    .dataframe tbody tr th {\n",
       "        vertical-align: top;\n",
       "    }\n",
       "\n",
       "    .dataframe thead th {\n",
       "        text-align: right;\n",
       "    }\n",
       "</style>\n",
       "<table border=\"1\" class=\"dataframe\">\n",
       "  <thead>\n",
       "    <tr style=\"text-align: right;\">\n",
       "      <th></th>\n",
       "      <th>cust</th>\n",
       "      <th>rct_no</th>\n",
       "      <th>cop_c</th>\n",
       "      <th>br_c</th>\n",
       "      <th>pd_c</th>\n",
       "      <th>de_dt</th>\n",
       "      <th>de_hr</th>\n",
       "      <th>buy_am</th>\n",
       "      <th>buy_ct</th>\n",
       "    </tr>\n",
       "  </thead>\n",
       "  <tbody>\n",
       "    <tr>\n",
       "      <th>0</th>\n",
       "      <td>M000034966</td>\n",
       "      <td>A01016688590</td>\n",
       "      <td>A01</td>\n",
       "      <td>A010045</td>\n",
       "      <td>PD0777</td>\n",
       "      <td>20210116</td>\n",
       "      <td>18</td>\n",
       "      <td>78000.0</td>\n",
       "      <td>2</td>\n",
       "    </tr>\n",
       "    <tr>\n",
       "      <th>1</th>\n",
       "      <td>M000034966</td>\n",
       "      <td>A01016688590</td>\n",
       "      <td>A01</td>\n",
       "      <td>A010045</td>\n",
       "      <td>PD0796</td>\n",
       "      <td>20210116</td>\n",
       "      <td>18</td>\n",
       "      <td>100.0</td>\n",
       "      <td>1</td>\n",
       "    </tr>\n",
       "    <tr>\n",
       "      <th>2</th>\n",
       "      <td>M000034966</td>\n",
       "      <td>A01016718167</td>\n",
       "      <td>A01</td>\n",
       "      <td>A010045</td>\n",
       "      <td>PD0816</td>\n",
       "      <td>20210116</td>\n",
       "      <td>18</td>\n",
       "      <td>62100.0</td>\n",
       "      <td>1</td>\n",
       "    </tr>\n",
       "    <tr>\n",
       "      <th>3</th>\n",
       "      <td>M000034966</td>\n",
       "      <td>A02357398521</td>\n",
       "      <td>A02</td>\n",
       "      <td>A020116</td>\n",
       "      <td>PD0616</td>\n",
       "      <td>20210325</td>\n",
       "      <td>13</td>\n",
       "      <td>17900.0</td>\n",
       "      <td>2</td>\n",
       "    </tr>\n",
       "    <tr>\n",
       "      <th>4</th>\n",
       "      <td>M000034966</td>\n",
       "      <td>A02357398521</td>\n",
       "      <td>A02</td>\n",
       "      <td>A020116</td>\n",
       "      <td>PD0630</td>\n",
       "      <td>20210325</td>\n",
       "      <td>13</td>\n",
       "      <td>59700.0</td>\n",
       "      <td>3</td>\n",
       "    </tr>\n",
       "    <tr>\n",
       "      <th>...</th>\n",
       "      <td>...</td>\n",
       "      <td>...</td>\n",
       "      <td>...</td>\n",
       "      <td>...</td>\n",
       "      <td>...</td>\n",
       "      <td>...</td>\n",
       "      <td>...</td>\n",
       "      <td>...</td>\n",
       "      <td>...</td>\n",
       "    </tr>\n",
       "    <tr>\n",
       "      <th>3710270</th>\n",
       "      <td>M999962961</td>\n",
       "      <td>E02024505549</td>\n",
       "      <td>A02</td>\n",
       "      <td>A0200000</td>\n",
       "      <td>PD1441</td>\n",
       "      <td>20210515</td>\n",
       "      <td>10</td>\n",
       "      <td>1180.0</td>\n",
       "      <td>1</td>\n",
       "    </tr>\n",
       "    <tr>\n",
       "      <th>3710271</th>\n",
       "      <td>M999962961</td>\n",
       "      <td>E06002810292</td>\n",
       "      <td>A06</td>\n",
       "      <td>A0600000</td>\n",
       "      <td>PD0959</td>\n",
       "      <td>20210113</td>\n",
       "      <td>18</td>\n",
       "      <td>129000.0</td>\n",
       "      <td>1</td>\n",
       "    </tr>\n",
       "    <tr>\n",
       "      <th>3710272</th>\n",
       "      <td>M999962961</td>\n",
       "      <td>E06004609359</td>\n",
       "      <td>A06</td>\n",
       "      <td>A0600000</td>\n",
       "      <td>PD0954</td>\n",
       "      <td>20210122</td>\n",
       "      <td>14</td>\n",
       "      <td>34300.0</td>\n",
       "      <td>1</td>\n",
       "    </tr>\n",
       "    <tr>\n",
       "      <th>3710273</th>\n",
       "      <td>M999962961</td>\n",
       "      <td>E06025413888</td>\n",
       "      <td>A06</td>\n",
       "      <td>A0600000</td>\n",
       "      <td>PD0967</td>\n",
       "      <td>20210406</td>\n",
       "      <td>17</td>\n",
       "      <td>89000.0</td>\n",
       "      <td>1</td>\n",
       "    </tr>\n",
       "    <tr>\n",
       "      <th>3710274</th>\n",
       "      <td>M999962961</td>\n",
       "      <td>E06035713248</td>\n",
       "      <td>A06</td>\n",
       "      <td>A0600000</td>\n",
       "      <td>PD1889</td>\n",
       "      <td>20210503</td>\n",
       "      <td>22</td>\n",
       "      <td>50000.0</td>\n",
       "      <td>1</td>\n",
       "    </tr>\n",
       "  </tbody>\n",
       "</table>\n",
       "<p>3710275 rows × 9 columns</p>\n",
       "</div>"
      ],
      "text/plain": [
       "               cust        rct_no cop_c      br_c    pd_c     de_dt  de_hr  \\\n",
       "0        M000034966  A01016688590   A01   A010045  PD0777  20210116     18   \n",
       "1        M000034966  A01016688590   A01   A010045  PD0796  20210116     18   \n",
       "2        M000034966  A01016718167   A01   A010045  PD0816  20210116     18   \n",
       "3        M000034966  A02357398521   A02   A020116  PD0616  20210325     13   \n",
       "4        M000034966  A02357398521   A02   A020116  PD0630  20210325     13   \n",
       "...             ...           ...   ...       ...     ...       ...    ...   \n",
       "3710270  M999962961  E02024505549   A02  A0200000  PD1441  20210515     10   \n",
       "3710271  M999962961  E06002810292   A06  A0600000  PD0959  20210113     18   \n",
       "3710272  M999962961  E06004609359   A06  A0600000  PD0954  20210122     14   \n",
       "3710273  M999962961  E06025413888   A06  A0600000  PD0967  20210406     17   \n",
       "3710274  M999962961  E06035713248   A06  A0600000  PD1889  20210503     22   \n",
       "\n",
       "           buy_am  buy_ct  \n",
       "0         78000.0       2  \n",
       "1           100.0       1  \n",
       "2         62100.0       1  \n",
       "3         17900.0       2  \n",
       "4         59700.0       3  \n",
       "...           ...     ...  \n",
       "3710270    1180.0       1  \n",
       "3710271  129000.0       1  \n",
       "3710272   34300.0       1  \n",
       "3710273   89000.0       1  \n",
       "3710274   50000.0       1  \n",
       "\n",
       "[3710275 rows x 9 columns]"
      ]
     },
     "execution_count": 13,
     "metadata": {},
     "output_type": "execute_result"
    }
   ],
   "source": [
    "drop_dup"
   ]
  },
  {
   "cell_type": "markdown",
   "metadata": {},
   "source": [
    "## Only Data(Lpay 사용여부)"
   ]
  },
  {
   "cell_type": "markdown",
   "metadata": {},
   "source": [
    "아래의 데이터를 이용해 \n",
    "- data2.csv\n",
    "- data3.csv\n",
    "- data6.csv\n",
    "\n",
    "\n",
    "다음 데이터를 만들었다.\n",
    "- only_data2.csv\n",
    "- only_data3.csv\n",
    "- only_data6.csv"
   ]
  },
  {
   "cell_type": "markdown",
   "metadata": {},
   "source": [
    "**data2와 data3 중 Lpay로 결제한 경우는 data6에 포함되어 있으므로 Lpay사용여부를 구분하고자 한다.**\n",
    "1. 엘페이를 이용하지 않고 유통사를 이용한 고객의 거래정보(only_data2)\n",
    "2. 엘페이를 이용하지 않고 제휴사를 이용한 고객의 거래정보(only_data3)\n",
    "3. 엘페이를 이용한 고객의 거래정보(only_data6)<br>\n",
    "를 구하고자 한다.<br><br>\n",
    "- 이를 확인하기 위해 중복처리를 하지 않은 데이터를 사용해야 한다.\n",
    "- 현재 data2는 중복처리를 한 데이터이므로 중복처리하지 않은 원본 데이터를 불러와야 한다."
   ]
  },
  {
   "cell_type": "code",
   "execution_count": 8,
   "metadata": {
    "ExecuteTime": {
     "end_time": "2022-08-12T00:26:07.560135Z",
     "start_time": "2022-08-12T00:26:07.544144Z"
    }
   },
   "outputs": [
    {
     "data": {
      "text/plain": [
       "['data1.csv', 'data2.csv', 'data3.csv', 'data4.csv', 'data5.csv', 'data6.csv']"
      ]
     },
     "execution_count": 8,
     "metadata": {},
     "output_type": "execute_result"
    }
   ],
   "source": [
    "import os\n",
    "os.listdir(\"../3. LOTTO_데이터 및 모델 세이브 파일/data_preprocessing\")"
   ]
  },
  {
   "cell_type": "code",
   "execution_count": 15,
   "metadata": {
    "ExecuteTime": {
     "end_time": "2022-08-12T00:26:26.742992Z",
     "start_time": "2022-08-12T00:26:20.050974Z"
    }
   },
   "outputs": [],
   "source": [
    "for i, file in enumerate(os.listdir(\"../3. LOTTO_데이터 및 모델 세이브 파일/data_preprocessing\")):\n",
    "    globals()[f'data{i+1}'] = pd.read_csv(\"../3. LOTTO_데이터 및 모델 세이브 파일/data_preprocessing/\"+file,index_col=0)"
   ]
  },
  {
   "cell_type": "code",
   "execution_count": 16,
   "metadata": {
    "ExecuteTime": {
     "end_time": "2022-08-12T00:26:33.863486Z",
     "start_time": "2022-08-12T00:26:27.680383Z"
    }
   },
   "outputs": [],
   "source": [
    "real_data2=pd.read_csv('../3. LOTTO_데이터 및 모델 세이브 파일/data/LPOINT_BIG_COMP_02_PDDE.csv')"
   ]
  },
  {
   "cell_type": "code",
   "execution_count": 17,
   "metadata": {
    "ExecuteTime": {
     "end_time": "2022-08-12T00:26:38.108522Z",
     "start_time": "2022-08-12T00:26:33.868487Z"
    }
   },
   "outputs": [],
   "source": [
    "#이상치 제거\n",
    "cust_outlier = ['M057015266','M919374790','M223630342','M785169881']\n",
    "\n",
    "for cust in cust_outlier:\n",
    "    real_data2 = real_data2.drop(real_data2[real_data2['cust']==cust].index)"
   ]
  },
  {
   "cell_type": "code",
   "execution_count": 18,
   "metadata": {
    "ExecuteTime": {
     "end_time": "2022-08-12T00:26:46.948969Z",
     "start_time": "2022-08-12T00:26:43.824543Z"
    }
   },
   "outputs": [],
   "source": [
    "# 결측값 채우기\n",
    "null_idx = [(i, real_data2[(real_data2['br_c'].isnull())&(real_data2['cop_c']==i)].index)\n",
    "            for i in real_data2[real_data2['br_c'].isnull()]['cop_c'].value_counts().index]\n",
    "\n",
    "for _ in null_idx:\n",
    "    real_data2.loc[_[1],'br_c'] = _[0]+'00000'"
   ]
  },
  {
   "cell_type": "code",
   "execution_count": 19,
   "metadata": {
    "ExecuteTime": {
     "end_time": "2022-08-12T00:27:00.936348Z",
     "start_time": "2022-08-12T00:27:00.896334Z"
    }
   },
   "outputs": [],
   "source": [
    "real_data2['kind']='two'\n",
    "data3['kind']='three'\n",
    "data6['kind']='six'"
   ]
  },
  {
   "cell_type": "markdown",
   "metadata": {},
   "source": [
    "### Only_data2\n",
    "**엘페이를 이용하지 않고 유통사를 이용한 고객의 거래정보**"
   ]
  },
  {
   "cell_type": "code",
   "execution_count": 20,
   "metadata": {
    "ExecuteTime": {
     "end_time": "2022-08-12T00:28:53.513977Z",
     "start_time": "2022-08-12T00:28:45.309082Z"
    }
   },
   "outputs": [
    {
     "data": {
      "text/html": [
       "<div>\n",
       "<style scoped>\n",
       "    .dataframe tbody tr th:only-of-type {\n",
       "        vertical-align: middle;\n",
       "    }\n",
       "\n",
       "    .dataframe tbody tr th {\n",
       "        vertical-align: top;\n",
       "    }\n",
       "\n",
       "    .dataframe thead th {\n",
       "        text-align: right;\n",
       "    }\n",
       "</style>\n",
       "<table border=\"1\" class=\"dataframe\">\n",
       "  <thead>\n",
       "    <tr style=\"text-align: right;\">\n",
       "      <th></th>\n",
       "      <th>cust</th>\n",
       "      <th>rct_no</th>\n",
       "      <th>chnl_dv</th>\n",
       "      <th>cop_c</th>\n",
       "      <th>br_c</th>\n",
       "      <th>pd_c</th>\n",
       "      <th>de_dt</th>\n",
       "      <th>de_hr</th>\n",
       "      <th>buy_am</th>\n",
       "      <th>buy_ct</th>\n",
       "      <th>kind_x</th>\n",
       "      <th>kind_y</th>\n",
       "      <th>_merge</th>\n",
       "    </tr>\n",
       "  </thead>\n",
       "  <tbody>\n",
       "    <tr>\n",
       "      <th>0</th>\n",
       "      <td>M430112881</td>\n",
       "      <td>A01000001113</td>\n",
       "      <td>1</td>\n",
       "      <td>A01</td>\n",
       "      <td>A010039</td>\n",
       "      <td>PD0290</td>\n",
       "      <td>20210101</td>\n",
       "      <td>10</td>\n",
       "      <td>15000.0</td>\n",
       "      <td>1.0</td>\n",
       "      <td>two</td>\n",
       "      <td>NaN</td>\n",
       "      <td>left_only</td>\n",
       "    </tr>\n",
       "    <tr>\n",
       "      <th>1</th>\n",
       "      <td>M646853852</td>\n",
       "      <td>A01000002265</td>\n",
       "      <td>1</td>\n",
       "      <td>A01</td>\n",
       "      <td>A010025</td>\n",
       "      <td>PD1369</td>\n",
       "      <td>20210101</td>\n",
       "      <td>10</td>\n",
       "      <td>79700.0</td>\n",
       "      <td>1.0</td>\n",
       "      <td>two</td>\n",
       "      <td>NaN</td>\n",
       "      <td>left_only</td>\n",
       "    </tr>\n",
       "    <tr>\n",
       "      <th>2</th>\n",
       "      <td>M430112881</td>\n",
       "      <td>A01000003148</td>\n",
       "      <td>1</td>\n",
       "      <td>A01</td>\n",
       "      <td>A010039</td>\n",
       "      <td>PD0290</td>\n",
       "      <td>20210101</td>\n",
       "      <td>10</td>\n",
       "      <td>19000.0</td>\n",
       "      <td>1.0</td>\n",
       "      <td>two</td>\n",
       "      <td>NaN</td>\n",
       "      <td>left_only</td>\n",
       "    </tr>\n",
       "    <tr>\n",
       "      <th>3</th>\n",
       "      <td>M430112881</td>\n",
       "      <td>A01000003148</td>\n",
       "      <td>1</td>\n",
       "      <td>A01</td>\n",
       "      <td>A010039</td>\n",
       "      <td>PD0290</td>\n",
       "      <td>20210101</td>\n",
       "      <td>10</td>\n",
       "      <td>19000.0</td>\n",
       "      <td>1.0</td>\n",
       "      <td>two</td>\n",
       "      <td>NaN</td>\n",
       "      <td>left_only</td>\n",
       "    </tr>\n",
       "    <tr>\n",
       "      <th>4</th>\n",
       "      <td>M430112881</td>\n",
       "      <td>A01000004946</td>\n",
       "      <td>1</td>\n",
       "      <td>A01</td>\n",
       "      <td>A010039</td>\n",
       "      <td>PD0290</td>\n",
       "      <td>20210101</td>\n",
       "      <td>10</td>\n",
       "      <td>19000.0</td>\n",
       "      <td>1.0</td>\n",
       "      <td>two</td>\n",
       "      <td>NaN</td>\n",
       "      <td>left_only</td>\n",
       "    </tr>\n",
       "  </tbody>\n",
       "</table>\n",
       "</div>"
      ],
      "text/plain": [
       "         cust        rct_no  chnl_dv cop_c     br_c    pd_c     de_dt  de_hr  \\\n",
       "0  M430112881  A01000001113        1   A01  A010039  PD0290  20210101     10   \n",
       "1  M646853852  A01000002265        1   A01  A010025  PD1369  20210101     10   \n",
       "2  M430112881  A01000003148        1   A01  A010039  PD0290  20210101     10   \n",
       "3  M430112881  A01000003148        1   A01  A010039  PD0290  20210101     10   \n",
       "4  M430112881  A01000004946        1   A01  A010039  PD0290  20210101     10   \n",
       "\n",
       "    buy_am  buy_ct kind_x kind_y     _merge  \n",
       "0  15000.0     1.0    two    NaN  left_only  \n",
       "1  79700.0     1.0    two    NaN  left_only  \n",
       "2  19000.0     1.0    two    NaN  left_only  \n",
       "3  19000.0     1.0    two    NaN  left_only  \n",
       "4  19000.0     1.0    two    NaN  left_only  "
      ]
     },
     "execution_count": 20,
     "metadata": {},
     "output_type": "execute_result"
    }
   ],
   "source": [
    "int_df26 = pd.merge(real_data2, data6[['cust', 'cop_c', 'chnl_dv', 'de_dt', 'de_hr', 'buy_am','kind']], on=['cust', 'de_dt', 'de_hr', 'cop_c', 'chnl_dv','buy_am'],how='outer',indicator=True)\n",
    "int_df26.head()"
   ]
  },
  {
   "cell_type": "code",
   "execution_count": 21,
   "metadata": {
    "ExecuteTime": {
     "end_time": "2022-08-12T00:29:44.878178Z",
     "start_time": "2022-08-12T00:29:43.665065Z"
    }
   },
   "outputs": [
    {
     "data": {
      "text/html": [
       "<div>\n",
       "<style scoped>\n",
       "    .dataframe tbody tr th:only-of-type {\n",
       "        vertical-align: middle;\n",
       "    }\n",
       "\n",
       "    .dataframe tbody tr th {\n",
       "        vertical-align: top;\n",
       "    }\n",
       "\n",
       "    .dataframe thead th {\n",
       "        text-align: right;\n",
       "    }\n",
       "</style>\n",
       "<table border=\"1\" class=\"dataframe\">\n",
       "  <thead>\n",
       "    <tr style=\"text-align: right;\">\n",
       "      <th></th>\n",
       "      <th>cust</th>\n",
       "      <th>rct_no</th>\n",
       "      <th>chnl_dv</th>\n",
       "      <th>cop_c</th>\n",
       "      <th>br_c</th>\n",
       "      <th>pd_c</th>\n",
       "      <th>de_dt</th>\n",
       "      <th>de_hr</th>\n",
       "      <th>buy_am</th>\n",
       "      <th>buy_ct</th>\n",
       "    </tr>\n",
       "  </thead>\n",
       "  <tbody>\n",
       "    <tr>\n",
       "      <th>0</th>\n",
       "      <td>M430112881</td>\n",
       "      <td>A01000001113</td>\n",
       "      <td>1</td>\n",
       "      <td>A01</td>\n",
       "      <td>A010039</td>\n",
       "      <td>PD0290</td>\n",
       "      <td>20210101</td>\n",
       "      <td>10</td>\n",
       "      <td>15000.0</td>\n",
       "      <td>1.0</td>\n",
       "    </tr>\n",
       "    <tr>\n",
       "      <th>1</th>\n",
       "      <td>M646853852</td>\n",
       "      <td>A01000002265</td>\n",
       "      <td>1</td>\n",
       "      <td>A01</td>\n",
       "      <td>A010025</td>\n",
       "      <td>PD1369</td>\n",
       "      <td>20210101</td>\n",
       "      <td>10</td>\n",
       "      <td>79700.0</td>\n",
       "      <td>1.0</td>\n",
       "    </tr>\n",
       "    <tr>\n",
       "      <th>2</th>\n",
       "      <td>M430112881</td>\n",
       "      <td>A01000003148</td>\n",
       "      <td>1</td>\n",
       "      <td>A01</td>\n",
       "      <td>A010039</td>\n",
       "      <td>PD0290</td>\n",
       "      <td>20210101</td>\n",
       "      <td>10</td>\n",
       "      <td>19000.0</td>\n",
       "      <td>1.0</td>\n",
       "    </tr>\n",
       "    <tr>\n",
       "      <th>3</th>\n",
       "      <td>M430112881</td>\n",
       "      <td>A01000003148</td>\n",
       "      <td>1</td>\n",
       "      <td>A01</td>\n",
       "      <td>A010039</td>\n",
       "      <td>PD0290</td>\n",
       "      <td>20210101</td>\n",
       "      <td>10</td>\n",
       "      <td>19000.0</td>\n",
       "      <td>1.0</td>\n",
       "    </tr>\n",
       "    <tr>\n",
       "      <th>4</th>\n",
       "      <td>M430112881</td>\n",
       "      <td>A01000004946</td>\n",
       "      <td>1</td>\n",
       "      <td>A01</td>\n",
       "      <td>A010039</td>\n",
       "      <td>PD0290</td>\n",
       "      <td>20210101</td>\n",
       "      <td>10</td>\n",
       "      <td>19000.0</td>\n",
       "      <td>1.0</td>\n",
       "    </tr>\n",
       "  </tbody>\n",
       "</table>\n",
       "</div>"
      ],
      "text/plain": [
       "         cust        rct_no  chnl_dv cop_c     br_c    pd_c     de_dt  de_hr  \\\n",
       "0  M430112881  A01000001113        1   A01  A010039  PD0290  20210101     10   \n",
       "1  M646853852  A01000002265        1   A01  A010025  PD1369  20210101     10   \n",
       "2  M430112881  A01000003148        1   A01  A010039  PD0290  20210101     10   \n",
       "3  M430112881  A01000003148        1   A01  A010039  PD0290  20210101     10   \n",
       "4  M430112881  A01000004946        1   A01  A010039  PD0290  20210101     10   \n",
       "\n",
       "    buy_am  buy_ct  \n",
       "0  15000.0     1.0  \n",
       "1  79700.0     1.0  \n",
       "2  19000.0     1.0  \n",
       "3  19000.0     1.0  \n",
       "4  19000.0     1.0  "
      ]
     },
     "execution_count": 21,
     "metadata": {},
     "output_type": "execute_result"
    }
   ],
   "source": [
    "Only_data2=int_df26.loc[int_df26._merge=='left_only']\n",
    "Only_data2.drop(['kind_x','kind_y','_merge'],axis=1,inplace=True)\n",
    "Only_data2.head()"
   ]
  },
  {
   "cell_type": "markdown",
   "metadata": {},
   "source": [
    "### Only_data3\n",
    "**엘페이를 이용하지 않고 제휴사를 이용한 고객의 거래정보**"
   ]
  },
  {
   "cell_type": "code",
   "execution_count": 22,
   "metadata": {
    "ExecuteTime": {
     "end_time": "2022-08-12T00:31:45.359314Z",
     "start_time": "2022-08-12T00:31:44.499914Z"
    }
   },
   "outputs": [
    {
     "data": {
      "text/html": [
       "<div>\n",
       "<style scoped>\n",
       "    .dataframe tbody tr th:only-of-type {\n",
       "        vertical-align: middle;\n",
       "    }\n",
       "\n",
       "    .dataframe tbody tr th {\n",
       "        vertical-align: top;\n",
       "    }\n",
       "\n",
       "    .dataframe thead th {\n",
       "        text-align: right;\n",
       "    }\n",
       "</style>\n",
       "<table border=\"1\" class=\"dataframe\">\n",
       "  <thead>\n",
       "    <tr style=\"text-align: right;\">\n",
       "      <th></th>\n",
       "      <th>cust</th>\n",
       "      <th>rct_no</th>\n",
       "      <th>cop_c</th>\n",
       "      <th>br_c</th>\n",
       "      <th>chnl_dv</th>\n",
       "      <th>de_dt</th>\n",
       "      <th>vst_dt</th>\n",
       "      <th>de_hr</th>\n",
       "      <th>buy_am</th>\n",
       "      <th>kind_x</th>\n",
       "      <th>kind_y</th>\n",
       "      <th>_merge</th>\n",
       "    </tr>\n",
       "  </thead>\n",
       "  <tbody>\n",
       "    <tr>\n",
       "      <th>0</th>\n",
       "      <td>M839993508</td>\n",
       "      <td>21102612B015763935</td>\n",
       "      <td>B01</td>\n",
       "      <td>B010012</td>\n",
       "      <td>1</td>\n",
       "      <td>20211026</td>\n",
       "      <td>20211026.0</td>\n",
       "      <td>12</td>\n",
       "      <td>60000</td>\n",
       "      <td>three</td>\n",
       "      <td>NaN</td>\n",
       "      <td>left_only</td>\n",
       "    </tr>\n",
       "    <tr>\n",
       "      <th>1</th>\n",
       "      <td>M839993508</td>\n",
       "      <td>21110610B014219744</td>\n",
       "      <td>B01</td>\n",
       "      <td>B010012</td>\n",
       "      <td>1</td>\n",
       "      <td>20211106</td>\n",
       "      <td>20211106.0</td>\n",
       "      <td>10</td>\n",
       "      <td>17100</td>\n",
       "      <td>three</td>\n",
       "      <td>NaN</td>\n",
       "      <td>left_only</td>\n",
       "    </tr>\n",
       "    <tr>\n",
       "      <th>2</th>\n",
       "      <td>M839993508</td>\n",
       "      <td>21021112B013419710</td>\n",
       "      <td>B01</td>\n",
       "      <td>B010012</td>\n",
       "      <td>1</td>\n",
       "      <td>20210211</td>\n",
       "      <td>20210211.0</td>\n",
       "      <td>12</td>\n",
       "      <td>136500</td>\n",
       "      <td>three</td>\n",
       "      <td>NaN</td>\n",
       "      <td>left_only</td>\n",
       "    </tr>\n",
       "    <tr>\n",
       "      <th>3</th>\n",
       "      <td>M839993508</td>\n",
       "      <td>21092010B012637545</td>\n",
       "      <td>B01</td>\n",
       "      <td>B010012</td>\n",
       "      <td>1</td>\n",
       "      <td>20210920</td>\n",
       "      <td>20210920.0</td>\n",
       "      <td>10</td>\n",
       "      <td>34200</td>\n",
       "      <td>three</td>\n",
       "      <td>NaN</td>\n",
       "      <td>left_only</td>\n",
       "    </tr>\n",
       "    <tr>\n",
       "      <th>4</th>\n",
       "      <td>M839993508</td>\n",
       "      <td>21101009D015920171</td>\n",
       "      <td>D01</td>\n",
       "      <td>D010614</td>\n",
       "      <td>1</td>\n",
       "      <td>20211010</td>\n",
       "      <td>20211010.0</td>\n",
       "      <td>9</td>\n",
       "      <td>2500</td>\n",
       "      <td>three</td>\n",
       "      <td>NaN</td>\n",
       "      <td>left_only</td>\n",
       "    </tr>\n",
       "  </tbody>\n",
       "</table>\n",
       "</div>"
      ],
      "text/plain": [
       "         cust              rct_no cop_c     br_c  chnl_dv     de_dt  \\\n",
       "0  M839993508  21102612B015763935   B01  B010012        1  20211026   \n",
       "1  M839993508  21110610B014219744   B01  B010012        1  20211106   \n",
       "2  M839993508  21021112B013419710   B01  B010012        1  20210211   \n",
       "3  M839993508  21092010B012637545   B01  B010012        1  20210920   \n",
       "4  M839993508  21101009D015920171   D01  D010614        1  20211010   \n",
       "\n",
       "       vst_dt  de_hr  buy_am kind_x kind_y     _merge  \n",
       "0  20211026.0     12   60000  three    NaN  left_only  \n",
       "1  20211106.0     10   17100  three    NaN  left_only  \n",
       "2  20210211.0     12  136500  three    NaN  left_only  \n",
       "3  20210920.0     10   34200  three    NaN  left_only  \n",
       "4  20211010.0      9    2500  three    NaN  left_only  "
      ]
     },
     "execution_count": 22,
     "metadata": {},
     "output_type": "execute_result"
    }
   ],
   "source": [
    "int_df36 = pd.merge(data3, data6[['cust', 'cop_c', 'chnl_dv', 'de_dt', 'de_hr', 'buy_am','kind']], on=['cust', 'de_dt', 'de_hr', 'cop_c', 'chnl_dv','buy_am'],how='outer',indicator=True)\n",
    "int_df36.head()"
   ]
  },
  {
   "cell_type": "code",
   "execution_count": 23,
   "metadata": {
    "ExecuteTime": {
     "end_time": "2022-08-12T00:31:58.381868Z",
     "start_time": "2022-08-12T00:31:58.247849Z"
    }
   },
   "outputs": [
    {
     "data": {
      "text/html": [
       "<div>\n",
       "<style scoped>\n",
       "    .dataframe tbody tr th:only-of-type {\n",
       "        vertical-align: middle;\n",
       "    }\n",
       "\n",
       "    .dataframe tbody tr th {\n",
       "        vertical-align: top;\n",
       "    }\n",
       "\n",
       "    .dataframe thead th {\n",
       "        text-align: right;\n",
       "    }\n",
       "</style>\n",
       "<table border=\"1\" class=\"dataframe\">\n",
       "  <thead>\n",
       "    <tr style=\"text-align: right;\">\n",
       "      <th></th>\n",
       "      <th>cust</th>\n",
       "      <th>rct_no</th>\n",
       "      <th>cop_c</th>\n",
       "      <th>br_c</th>\n",
       "      <th>chnl_dv</th>\n",
       "      <th>de_dt</th>\n",
       "      <th>vst_dt</th>\n",
       "      <th>de_hr</th>\n",
       "      <th>buy_am</th>\n",
       "    </tr>\n",
       "  </thead>\n",
       "  <tbody>\n",
       "    <tr>\n",
       "      <th>0</th>\n",
       "      <td>M839993508</td>\n",
       "      <td>21102612B015763935</td>\n",
       "      <td>B01</td>\n",
       "      <td>B010012</td>\n",
       "      <td>1</td>\n",
       "      <td>20211026</td>\n",
       "      <td>20211026.0</td>\n",
       "      <td>12</td>\n",
       "      <td>60000</td>\n",
       "    </tr>\n",
       "    <tr>\n",
       "      <th>1</th>\n",
       "      <td>M839993508</td>\n",
       "      <td>21110610B014219744</td>\n",
       "      <td>B01</td>\n",
       "      <td>B010012</td>\n",
       "      <td>1</td>\n",
       "      <td>20211106</td>\n",
       "      <td>20211106.0</td>\n",
       "      <td>10</td>\n",
       "      <td>17100</td>\n",
       "    </tr>\n",
       "    <tr>\n",
       "      <th>2</th>\n",
       "      <td>M839993508</td>\n",
       "      <td>21021112B013419710</td>\n",
       "      <td>B01</td>\n",
       "      <td>B010012</td>\n",
       "      <td>1</td>\n",
       "      <td>20210211</td>\n",
       "      <td>20210211.0</td>\n",
       "      <td>12</td>\n",
       "      <td>136500</td>\n",
       "    </tr>\n",
       "    <tr>\n",
       "      <th>3</th>\n",
       "      <td>M839993508</td>\n",
       "      <td>21092010B012637545</td>\n",
       "      <td>B01</td>\n",
       "      <td>B010012</td>\n",
       "      <td>1</td>\n",
       "      <td>20210920</td>\n",
       "      <td>20210920.0</td>\n",
       "      <td>10</td>\n",
       "      <td>34200</td>\n",
       "    </tr>\n",
       "    <tr>\n",
       "      <th>4</th>\n",
       "      <td>M839993508</td>\n",
       "      <td>21101009D015920171</td>\n",
       "      <td>D01</td>\n",
       "      <td>D010614</td>\n",
       "      <td>1</td>\n",
       "      <td>20211010</td>\n",
       "      <td>20211010.0</td>\n",
       "      <td>9</td>\n",
       "      <td>2500</td>\n",
       "    </tr>\n",
       "  </tbody>\n",
       "</table>\n",
       "</div>"
      ],
      "text/plain": [
       "         cust              rct_no cop_c     br_c  chnl_dv     de_dt  \\\n",
       "0  M839993508  21102612B015763935   B01  B010012        1  20211026   \n",
       "1  M839993508  21110610B014219744   B01  B010012        1  20211106   \n",
       "2  M839993508  21021112B013419710   B01  B010012        1  20210211   \n",
       "3  M839993508  21092010B012637545   B01  B010012        1  20210920   \n",
       "4  M839993508  21101009D015920171   D01  D010614        1  20211010   \n",
       "\n",
       "       vst_dt  de_hr  buy_am  \n",
       "0  20211026.0     12   60000  \n",
       "1  20211106.0     10   17100  \n",
       "2  20210211.0     12  136500  \n",
       "3  20210920.0     10   34200  \n",
       "4  20211010.0      9    2500  "
      ]
     },
     "execution_count": 23,
     "metadata": {},
     "output_type": "execute_result"
    }
   ],
   "source": [
    "Only_data3=int_df36.loc[int_df36._merge=='left_only']\n",
    "Only_data3.drop(['kind_x','kind_y','_merge'],axis=1,inplace=True)\n",
    "Only_data3.head()"
   ]
  },
  {
   "cell_type": "markdown",
   "metadata": {},
   "source": [
    "### 중복확인"
   ]
  },
  {
   "cell_type": "code",
   "execution_count": 24,
   "metadata": {
    "ExecuteTime": {
     "end_time": "2022-08-12T00:32:27.995809Z",
     "start_time": "2022-08-12T00:32:23.436013Z"
    }
   },
   "outputs": [
    {
     "name": "stdout",
     "output_type": "stream",
     "text": [
      "중복된 데이터의 개수 236127\n",
      "중복되지 않은 ㅁ데이터의 개수: 4086286\n"
     ]
    }
   ],
   "source": [
    "dup = Only_data2.duplicated()\n",
    "print('중복된 데이터의 개수',len(dup[dup==True]))\n",
    "print('중복되지 않은 데이터의 개수:',len(dup[dup==False]))"
   ]
  },
  {
   "cell_type": "code",
   "execution_count": 25,
   "metadata": {
    "ExecuteTime": {
     "end_time": "2022-08-12T00:32:28.235907Z",
     "start_time": "2022-08-12T00:32:27.999812Z"
    }
   },
   "outputs": [
    {
     "name": "stdout",
     "output_type": "stream",
     "text": [
      "중복된 데이터의 개수 0\n",
      "중복되지 않은 데이터의 개수: 226919\n"
     ]
    }
   ],
   "source": [
    "dup = Only_data3.duplicated()\n",
    "print('중복된 데이터의 개수',len(dup[dup==True]))\n",
    "print('중복되지 않은 데이터의 개수:',len(dup[dup==False]))"
   ]
  },
  {
   "cell_type": "code",
   "execution_count": 26,
   "metadata": {
    "ExecuteTime": {
     "end_time": "2022-08-12T00:32:31.487685Z",
     "start_time": "2022-08-12T00:32:31.200621Z"
    }
   },
   "outputs": [
    {
     "name": "stdout",
     "output_type": "stream",
     "text": [
      "중복된 데이터의 개수 0\n",
      "중복되지 않은 데이터의 개수: 350662\n"
     ]
    }
   ],
   "source": [
    "dup = data6.duplicated()\n",
    "print('중복된 데이터의 개수',len(dup[dup==True]))\n",
    "print('중복되지 않은 데이터의 개수:',len(dup[dup==False]))"
   ]
  },
  {
   "cell_type": "markdown",
   "metadata": {},
   "source": [
    "- Only_data2에서만 중복된 데이터가 존재한다.\n",
    "- 구매금액, 구매수량을 제외한 모든 항목이 중복된 데이터를 **\"제거\"가 아닌 \"병합\"을 통해** 중복처리를 진행"
   ]
  },
  {
   "cell_type": "code",
   "execution_count": 27,
   "metadata": {
    "ExecuteTime": {
     "end_time": "2022-08-12T00:32:56.553494Z",
     "start_time": "2022-08-12T00:32:46.469000Z"
    }
   },
   "outputs": [
    {
     "data": {
      "text/html": [
       "<div>\n",
       "<style scoped>\n",
       "    .dataframe tbody tr th:only-of-type {\n",
       "        vertical-align: middle;\n",
       "    }\n",
       "\n",
       "    .dataframe tbody tr th {\n",
       "        vertical-align: top;\n",
       "    }\n",
       "\n",
       "    .dataframe thead th {\n",
       "        text-align: right;\n",
       "    }\n",
       "</style>\n",
       "<table border=\"1\" class=\"dataframe\">\n",
       "  <thead>\n",
       "    <tr style=\"text-align: right;\">\n",
       "      <th></th>\n",
       "      <th>cust</th>\n",
       "      <th>rct_no</th>\n",
       "      <th>chnl_dv</th>\n",
       "      <th>cop_c</th>\n",
       "      <th>br_c</th>\n",
       "      <th>pd_c</th>\n",
       "      <th>de_dt</th>\n",
       "      <th>de_hr</th>\n",
       "      <th>buy_am</th>\n",
       "      <th>buy_ct</th>\n",
       "    </tr>\n",
       "  </thead>\n",
       "  <tbody>\n",
       "    <tr>\n",
       "      <th>0</th>\n",
       "      <td>M000034966</td>\n",
       "      <td>A01016688590</td>\n",
       "      <td>1</td>\n",
       "      <td>A01</td>\n",
       "      <td>A010045</td>\n",
       "      <td>PD0777</td>\n",
       "      <td>20210116</td>\n",
       "      <td>18</td>\n",
       "      <td>78000.0</td>\n",
       "      <td>2.0</td>\n",
       "    </tr>\n",
       "    <tr>\n",
       "      <th>1</th>\n",
       "      <td>M000034966</td>\n",
       "      <td>A01016688590</td>\n",
       "      <td>1</td>\n",
       "      <td>A01</td>\n",
       "      <td>A010045</td>\n",
       "      <td>PD0796</td>\n",
       "      <td>20210116</td>\n",
       "      <td>18</td>\n",
       "      <td>100.0</td>\n",
       "      <td>1.0</td>\n",
       "    </tr>\n",
       "    <tr>\n",
       "      <th>2</th>\n",
       "      <td>M000034966</td>\n",
       "      <td>A01016718167</td>\n",
       "      <td>1</td>\n",
       "      <td>A01</td>\n",
       "      <td>A010045</td>\n",
       "      <td>PD0816</td>\n",
       "      <td>20210116</td>\n",
       "      <td>18</td>\n",
       "      <td>62100.0</td>\n",
       "      <td>1.0</td>\n",
       "    </tr>\n",
       "    <tr>\n",
       "      <th>3</th>\n",
       "      <td>M000034966</td>\n",
       "      <td>A02357398521</td>\n",
       "      <td>1</td>\n",
       "      <td>A02</td>\n",
       "      <td>A020116</td>\n",
       "      <td>PD0616</td>\n",
       "      <td>20210325</td>\n",
       "      <td>13</td>\n",
       "      <td>17900.0</td>\n",
       "      <td>2.0</td>\n",
       "    </tr>\n",
       "    <tr>\n",
       "      <th>4</th>\n",
       "      <td>M000034966</td>\n",
       "      <td>A02357398521</td>\n",
       "      <td>1</td>\n",
       "      <td>A02</td>\n",
       "      <td>A020116</td>\n",
       "      <td>PD0630</td>\n",
       "      <td>20210325</td>\n",
       "      <td>13</td>\n",
       "      <td>59700.0</td>\n",
       "      <td>3.0</td>\n",
       "    </tr>\n",
       "    <tr>\n",
       "      <th>...</th>\n",
       "      <td>...</td>\n",
       "      <td>...</td>\n",
       "      <td>...</td>\n",
       "      <td>...</td>\n",
       "      <td>...</td>\n",
       "      <td>...</td>\n",
       "      <td>...</td>\n",
       "      <td>...</td>\n",
       "      <td>...</td>\n",
       "      <td>...</td>\n",
       "    </tr>\n",
       "    <tr>\n",
       "      <th>3673769</th>\n",
       "      <td>M999962961</td>\n",
       "      <td>E02024505549</td>\n",
       "      <td>2</td>\n",
       "      <td>A02</td>\n",
       "      <td>A0200000</td>\n",
       "      <td>PD1441</td>\n",
       "      <td>20210515</td>\n",
       "      <td>10</td>\n",
       "      <td>1180.0</td>\n",
       "      <td>1.0</td>\n",
       "    </tr>\n",
       "    <tr>\n",
       "      <th>3673770</th>\n",
       "      <td>M999962961</td>\n",
       "      <td>E06002810292</td>\n",
       "      <td>2</td>\n",
       "      <td>A06</td>\n",
       "      <td>A0600000</td>\n",
       "      <td>PD0959</td>\n",
       "      <td>20210113</td>\n",
       "      <td>18</td>\n",
       "      <td>129000.0</td>\n",
       "      <td>1.0</td>\n",
       "    </tr>\n",
       "    <tr>\n",
       "      <th>3673771</th>\n",
       "      <td>M999962961</td>\n",
       "      <td>E06004609359</td>\n",
       "      <td>2</td>\n",
       "      <td>A06</td>\n",
       "      <td>A0600000</td>\n",
       "      <td>PD0954</td>\n",
       "      <td>20210122</td>\n",
       "      <td>14</td>\n",
       "      <td>34300.0</td>\n",
       "      <td>1.0</td>\n",
       "    </tr>\n",
       "    <tr>\n",
       "      <th>3673772</th>\n",
       "      <td>M999962961</td>\n",
       "      <td>E06025413888</td>\n",
       "      <td>2</td>\n",
       "      <td>A06</td>\n",
       "      <td>A0600000</td>\n",
       "      <td>PD0967</td>\n",
       "      <td>20210406</td>\n",
       "      <td>17</td>\n",
       "      <td>89000.0</td>\n",
       "      <td>1.0</td>\n",
       "    </tr>\n",
       "    <tr>\n",
       "      <th>3673773</th>\n",
       "      <td>M999962961</td>\n",
       "      <td>E06035713248</td>\n",
       "      <td>2</td>\n",
       "      <td>A06</td>\n",
       "      <td>A0600000</td>\n",
       "      <td>PD1889</td>\n",
       "      <td>20210503</td>\n",
       "      <td>22</td>\n",
       "      <td>50000.0</td>\n",
       "      <td>1.0</td>\n",
       "    </tr>\n",
       "  </tbody>\n",
       "</table>\n",
       "<p>3673774 rows × 10 columns</p>\n",
       "</div>"
      ],
      "text/plain": [
       "               cust        rct_no  chnl_dv cop_c      br_c    pd_c     de_dt  \\\n",
       "0        M000034966  A01016688590        1   A01   A010045  PD0777  20210116   \n",
       "1        M000034966  A01016688590        1   A01   A010045  PD0796  20210116   \n",
       "2        M000034966  A01016718167        1   A01   A010045  PD0816  20210116   \n",
       "3        M000034966  A02357398521        1   A02   A020116  PD0616  20210325   \n",
       "4        M000034966  A02357398521        1   A02   A020116  PD0630  20210325   \n",
       "...             ...           ...      ...   ...       ...     ...       ...   \n",
       "3673769  M999962961  E02024505549        2   A02  A0200000  PD1441  20210515   \n",
       "3673770  M999962961  E06002810292        2   A06  A0600000  PD0959  20210113   \n",
       "3673771  M999962961  E06004609359        2   A06  A0600000  PD0954  20210122   \n",
       "3673772  M999962961  E06025413888        2   A06  A0600000  PD0967  20210406   \n",
       "3673773  M999962961  E06035713248        2   A06  A0600000  PD1889  20210503   \n",
       "\n",
       "         de_hr    buy_am  buy_ct  \n",
       "0           18   78000.0     2.0  \n",
       "1           18     100.0     1.0  \n",
       "2           18   62100.0     1.0  \n",
       "3           13   17900.0     2.0  \n",
       "4           13   59700.0     3.0  \n",
       "...        ...       ...     ...  \n",
       "3673769     10    1180.0     1.0  \n",
       "3673770     18  129000.0     1.0  \n",
       "3673771     14   34300.0     1.0  \n",
       "3673772     17   89000.0     1.0  \n",
       "3673773     22   50000.0     1.0  \n",
       "\n",
       "[3673774 rows x 10 columns]"
      ]
     },
     "execution_count": 27,
     "metadata": {},
     "output_type": "execute_result"
    }
   ],
   "source": [
    "Only_data2_중복처리 = Only_data2.groupby(list(Only_data2.columns[:-2]))['buy_am','buy_ct'].sum()\n",
    "Only_data2_중복처리.reset_index(inplace=True)\n",
    "Only_data2_중복처리"
   ]
  },
  {
   "cell_type": "code",
   "execution_count": 28,
   "metadata": {
    "ExecuteTime": {
     "end_time": "2022-08-12T00:33:01.127699Z",
     "start_time": "2022-08-12T00:32:56.555504Z"
    }
   },
   "outputs": [
    {
     "name": "stdout",
     "output_type": "stream",
     "text": [
      "중복된 데이터의 개수 0\n",
      "중복되지 않은 데이터의 개수: 3673774\n"
     ]
    }
   ],
   "source": [
    "dup = Only_data2_중복처리.duplicated()\n",
    "print('중복된 데이터의 개수',len(dup[dup==True]))\n",
    "print('중복되지 않은 데이터의 개수:',len(dup[dup==False]))"
   ]
  },
  {
   "cell_type": "code",
   "execution_count": null,
   "metadata": {},
   "outputs": [],
   "source": []
  }
 ],
 "metadata": {
  "kernelspec": {
   "display_name": "Python 3",
   "language": "python",
   "name": "python3"
  },
  "language_info": {
   "codemirror_mode": {
    "name": "ipython",
    "version": 3
   },
   "file_extension": ".py",
   "mimetype": "text/x-python",
   "name": "python",
   "nbconvert_exporter": "python",
   "pygments_lexer": "ipython3",
   "version": "3.8.5"
  },
  "toc": {
   "base_numbering": 1,
   "nav_menu": {},
   "number_sections": true,
   "sideBar": true,
   "skip_h1_title": false,
   "title_cell": "Table of Contents",
   "title_sidebar": "Contents",
   "toc_cell": false,
   "toc_position": {},
   "toc_section_display": true,
   "toc_window_display": true
  }
 },
 "nbformat": 4,
 "nbformat_minor": 5
}
