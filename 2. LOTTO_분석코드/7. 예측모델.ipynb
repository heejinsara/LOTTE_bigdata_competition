{
 "cells": [
  {
   "cell_type": "markdown",
   "metadata": {
    "id": "I4aVimGJYYRM"
   },
   "source": [
    "# data 불러오기"
   ]
  },
  {
   "cell_type": "code",
   "execution_count": 9,
   "metadata": {
    "ExecuteTime": {
     "end_time": "2022-08-12T08:26:44.918171Z",
     "start_time": "2022-08-12T08:26:42.537981Z"
    },
    "id": "GII-1EHZYYRh"
   },
   "outputs": [],
   "source": [
    "import numpy as np\n",
    "import pandas as pd\n",
    "import matplotlib.pyplot as plt\n",
    "import matplotlib.style as style\n",
    "%matplotlib inline\n",
    "import seaborn as sns\n",
    "\n",
    "style.use(\"fivethirtyeight\")\n",
    "style.use(\"seaborn-talk\")\n",
    "#plt.rcParams['font.family'] = 'serif'\n",
    "\n",
    "import warnings\n",
    "\n",
    "warnings.filterwarnings('ignore')"
   ]
  },
  {
   "cell_type": "markdown",
   "metadata": {},
   "source": [
    "# Data: 첫 번째 확장"
   ]
  },
  {
   "cell_type": "markdown",
   "metadata": {},
   "source": [
    "**첫구매를 기준으로 첫 번째 확장이 일어난 정보만을 이용해 다음 확장될 계열사를 예측해보자!**\n",
    "- 구매가 한 번 이하인 사람들은 제외시킴. \n",
    "- A01&rarr;A02&rarr;A03&rarr;A02&rarr;A05가 나오면 A01&rarr;A02까지만 다루고 그 이후는 제외시킴.\n",
    "- 즉, 같은 고객이 첫 번째 계열사 확장이 일어날 때까지의 데이터만을 다룸."
   ]
  },
  {
   "cell_type": "code",
   "execution_count": 10,
   "metadata": {
    "ExecuteTime": {
     "end_time": "2022-08-12T08:26:45.384321Z",
     "start_time": "2022-08-12T08:26:44.920169Z"
    },
    "id": "cHAsLgunYYRo"
   },
   "outputs": [],
   "source": [
    "ext = pd.read_csv('../3. LOTTO_데이터 및 모델 세이브 파일/예측 모델 데이터/extension_cust_info2.csv', index_col=0)"
   ]
  },
  {
   "cell_type": "code",
   "execution_count": 3,
   "metadata": {
    "ExecuteTime": {
     "end_time": "2022-08-12T08:26:45.608701Z",
     "start_time": "2022-08-12T08:26:45.385294Z"
    }
   },
   "outputs": [],
   "source": [
    "ext['clac_hlv_nm']=ext['clac_hlv_nm'].apply(lambda x: max(x[1:-1].split(', '))[1:-1])\n",
    "ext['clac_mcls_nm']=ext['clac_mcls_nm'].apply(lambda x: max(x[1:-1].split(', '))[1:-1])\n",
    "ext['pd_c']=ext['pd_c'].apply(lambda x: max(x[1:-1].split(', '))[1:-1])\n",
    "ext['br_c']=ext['br_c'].apply(lambda x: max(x[1:-1].split(', '))[1:-1])"
   ]
  },
  {
   "cell_type": "code",
   "execution_count": 12,
   "metadata": {
    "ExecuteTime": {
     "end_time": "2022-08-12T08:26:45.623660Z",
     "start_time": "2022-08-12T08:26:45.610694Z"
    },
    "colab": {
     "base_uri": "https://localhost:8080/"
    },
    "id": "THEgQgaOYYRp",
    "outputId": "b572770b-5b83-4a80-b590-aa6fd84f1c5e"
   },
   "outputs": [
    {
     "data": {
      "text/plain": [
       "Index(['cust', 'first_cop', 'first_cnt', 'second_cop', 'buy_am',\n",
       "       'online_prefer', 'cycle', 'Lpay', 'pd_c', 'clac_hlv_nm', 'clac_mcls_nm',\n",
       "       'br_c', 'ma_fem_dv', 'ages', 'zon_hlv', 'A01', 'A02', 'L01', 'A03',\n",
       "       'C01', 'D02', 'A04', 'D01', 'A05', 'A06', 'E01', 'B01', 'C02', 'L00',\n",
       "       'cycle_days', 'avg_buy_am', 'log_avg_buy_am'],\n",
       "      dtype='object')"
      ]
     },
     "execution_count": 12,
     "metadata": {},
     "output_type": "execute_result"
    }
   ],
   "source": [
    "ext.columns"
   ]
  },
  {
   "cell_type": "code",
   "execution_count": 11,
   "metadata": {
    "ExecuteTime": {
     "end_time": "2022-08-12T08:26:45.668539Z",
     "start_time": "2022-08-12T08:26:45.625665Z"
    },
    "scrolled": true
   },
   "outputs": [
    {
     "data": {
      "text/html": [
       "<div>\n",
       "<style scoped>\n",
       "    .dataframe tbody tr th:only-of-type {\n",
       "        vertical-align: middle;\n",
       "    }\n",
       "\n",
       "    .dataframe tbody tr th {\n",
       "        vertical-align: top;\n",
       "    }\n",
       "\n",
       "    .dataframe thead th {\n",
       "        text-align: right;\n",
       "    }\n",
       "</style>\n",
       "<table border=\"1\" class=\"dataframe\">\n",
       "  <thead>\n",
       "    <tr style=\"text-align: right;\">\n",
       "      <th></th>\n",
       "      <th>cust</th>\n",
       "      <th>first_cop</th>\n",
       "      <th>first_cnt</th>\n",
       "      <th>second_cop</th>\n",
       "      <th>buy_am</th>\n",
       "      <th>online_prefer</th>\n",
       "      <th>cycle</th>\n",
       "      <th>Lpay</th>\n",
       "      <th>pd_c</th>\n",
       "      <th>clac_hlv_nm</th>\n",
       "      <th>...</th>\n",
       "      <th>D01</th>\n",
       "      <th>A05</th>\n",
       "      <th>A06</th>\n",
       "      <th>E01</th>\n",
       "      <th>B01</th>\n",
       "      <th>C02</th>\n",
       "      <th>L00</th>\n",
       "      <th>cycle_days</th>\n",
       "      <th>avg_buy_am</th>\n",
       "      <th>log_avg_buy_am</th>\n",
       "    </tr>\n",
       "  </thead>\n",
       "  <tbody>\n",
       "    <tr>\n",
       "      <th>0</th>\n",
       "      <td>M000034966</td>\n",
       "      <td>A01</td>\n",
       "      <td>1</td>\n",
       "      <td>A04</td>\n",
       "      <td>140200.0</td>\n",
       "      <td>0.0</td>\n",
       "      <td>1번 구매</td>\n",
       "      <td>0</td>\n",
       "      <td>['PD0777', 'PD0777', 'PD0796', 'PD0816']</td>\n",
       "      <td>['스포츠패션', '스포츠패션', '스포츠패션', '스포츠패션']</td>\n",
       "      <td>...</td>\n",
       "      <td>0</td>\n",
       "      <td>0</td>\n",
       "      <td>0</td>\n",
       "      <td>0</td>\n",
       "      <td>0</td>\n",
       "      <td>0</td>\n",
       "      <td>0</td>\n",
       "      <td>365</td>\n",
       "      <td>140200.000000</td>\n",
       "      <td>11.850832</td>\n",
       "    </tr>\n",
       "    <tr>\n",
       "      <th>1</th>\n",
       "      <td>M000136117</td>\n",
       "      <td>A02</td>\n",
       "      <td>1</td>\n",
       "      <td>A06</td>\n",
       "      <td>24700.0</td>\n",
       "      <td>1.0</td>\n",
       "      <td>1번 구매</td>\n",
       "      <td>0</td>\n",
       "      <td>['PD1164', 'PD1847', 'PD0601']</td>\n",
       "      <td>['음료', '퍼스널케어', '세제/위생']</td>\n",
       "      <td>...</td>\n",
       "      <td>0</td>\n",
       "      <td>0</td>\n",
       "      <td>0</td>\n",
       "      <td>0</td>\n",
       "      <td>0</td>\n",
       "      <td>0</td>\n",
       "      <td>0</td>\n",
       "      <td>365</td>\n",
       "      <td>24700.000000</td>\n",
       "      <td>10.114599</td>\n",
       "    </tr>\n",
       "    <tr>\n",
       "      <th>2</th>\n",
       "      <td>M000225114</td>\n",
       "      <td>A01</td>\n",
       "      <td>4</td>\n",
       "      <td>A03</td>\n",
       "      <td>82580.0</td>\n",
       "      <td>0.0</td>\n",
       "      <td>1 days 19:20:00</td>\n",
       "      <td>0</td>\n",
       "      <td>['PD0232', 'PD0232', 'PD0232', 'PD1170', 'PD11...</td>\n",
       "      <td>['과자', '과자', '과자', '음료', '음료', '테넌트/음식점', '테넌트...</td>\n",
       "      <td>...</td>\n",
       "      <td>0</td>\n",
       "      <td>0</td>\n",
       "      <td>0</td>\n",
       "      <td>0</td>\n",
       "      <td>0</td>\n",
       "      <td>0</td>\n",
       "      <td>0</td>\n",
       "      <td>1</td>\n",
       "      <td>20645.000000</td>\n",
       "      <td>9.935277</td>\n",
       "    </tr>\n",
       "    <tr>\n",
       "      <th>3</th>\n",
       "      <td>M000261625</td>\n",
       "      <td>A01</td>\n",
       "      <td>3</td>\n",
       "      <td>D01</td>\n",
       "      <td>441700.0</td>\n",
       "      <td>0.0</td>\n",
       "      <td>20 days 22:00:00</td>\n",
       "      <td>0</td>\n",
       "      <td>['PD1919', 'PD1922', 'PD1919', 'PD1824', 'PD18...</td>\n",
       "      <td>['화장품/뷰티케어', '화장품/뷰티케어', '화장품/뷰티케어', '패션잡화', '...</td>\n",
       "      <td>...</td>\n",
       "      <td>0</td>\n",
       "      <td>0</td>\n",
       "      <td>0</td>\n",
       "      <td>0</td>\n",
       "      <td>0</td>\n",
       "      <td>0</td>\n",
       "      <td>0</td>\n",
       "      <td>20</td>\n",
       "      <td>147233.333333</td>\n",
       "      <td>11.899781</td>\n",
       "    </tr>\n",
       "    <tr>\n",
       "      <th>4</th>\n",
       "      <td>M000419293</td>\n",
       "      <td>L01</td>\n",
       "      <td>2</td>\n",
       "      <td>A01</td>\n",
       "      <td>188174.0</td>\n",
       "      <td>1.0</td>\n",
       "      <td>2 days 15:00:00</td>\n",
       "      <td>1</td>\n",
       "      <td>['L01', 'L01']</td>\n",
       "      <td>['L01', 'L01']</td>\n",
       "      <td>...</td>\n",
       "      <td>0</td>\n",
       "      <td>0</td>\n",
       "      <td>0</td>\n",
       "      <td>0</td>\n",
       "      <td>0</td>\n",
       "      <td>0</td>\n",
       "      <td>0</td>\n",
       "      <td>2</td>\n",
       "      <td>94087.000000</td>\n",
       "      <td>11.451986</td>\n",
       "    </tr>\n",
       "  </tbody>\n",
       "</table>\n",
       "<p>5 rows × 32 columns</p>\n",
       "</div>"
      ],
      "text/plain": [
       "         cust first_cop  first_cnt second_cop    buy_am  online_prefer  \\\n",
       "0  M000034966       A01          1        A04  140200.0            0.0   \n",
       "1  M000136117       A02          1        A06   24700.0            1.0   \n",
       "2  M000225114       A01          4        A03   82580.0            0.0   \n",
       "3  M000261625       A01          3        D01  441700.0            0.0   \n",
       "4  M000419293       L01          2        A01  188174.0            1.0   \n",
       "\n",
       "              cycle  Lpay                                               pd_c  \\\n",
       "0             1번 구매     0           ['PD0777', 'PD0777', 'PD0796', 'PD0816']   \n",
       "1             1번 구매     0                     ['PD1164', 'PD1847', 'PD0601']   \n",
       "2   1 days 19:20:00     0  ['PD0232', 'PD0232', 'PD0232', 'PD1170', 'PD11...   \n",
       "3  20 days 22:00:00     0  ['PD1919', 'PD1922', 'PD1919', 'PD1824', 'PD18...   \n",
       "4   2 days 15:00:00     1                                     ['L01', 'L01']   \n",
       "\n",
       "                                         clac_hlv_nm  ... D01 A05 A06 E01 B01  \\\n",
       "0               ['스포츠패션', '스포츠패션', '스포츠패션', '스포츠패션']  ...   0   0   0   0   0   \n",
       "1                           ['음료', '퍼스널케어', '세제/위생']  ...   0   0   0   0   0   \n",
       "2  ['과자', '과자', '과자', '음료', '음료', '테넌트/음식점', '테넌트...  ...   0   0   0   0   0   \n",
       "3  ['화장품/뷰티케어', '화장품/뷰티케어', '화장품/뷰티케어', '패션잡화', '...  ...   0   0   0   0   0   \n",
       "4                                     ['L01', 'L01']  ...   0   0   0   0   0   \n",
       "\n",
       "   C02  L00  cycle_days     avg_buy_am  log_avg_buy_am  \n",
       "0    0    0         365  140200.000000       11.850832  \n",
       "1    0    0         365   24700.000000       10.114599  \n",
       "2    0    0           1   20645.000000        9.935277  \n",
       "3    0    0          20  147233.333333       11.899781  \n",
       "4    0    0           2   94087.000000       11.451986  \n",
       "\n",
       "[5 rows x 32 columns]"
      ]
     },
     "execution_count": 11,
     "metadata": {},
     "output_type": "execute_result"
    }
   ],
   "source": [
    "ext.head()"
   ]
  },
  {
   "cell_type": "markdown",
   "metadata": {},
   "source": [
    "## Decision Tree"
   ]
  },
  {
   "cell_type": "markdown",
   "metadata": {},
   "source": [
    "### 2개의 feature"
   ]
  },
  {
   "cell_type": "code",
   "execution_count": 6,
   "metadata": {
    "ExecuteTime": {
     "end_time": "2022-08-12T08:26:45.683499Z",
     "start_time": "2022-08-12T08:26:45.669537Z"
    }
   },
   "outputs": [],
   "source": [
    "e0=ext[['cust', 'first_cop', 'first_cnt', 'second_cop']]"
   ]
  },
  {
   "cell_type": "code",
   "execution_count": 7,
   "metadata": {
    "ExecuteTime": {
     "end_time": "2022-08-12T08:26:45.698837Z",
     "start_time": "2022-08-12T08:26:45.684497Z"
    }
   },
   "outputs": [],
   "source": [
    "cop_list = list(e0.first_cop.unique())"
   ]
  },
  {
   "cell_type": "code",
   "execution_count": 8,
   "metadata": {
    "ExecuteTime": {
     "end_time": "2022-08-12T08:26:45.728754Z",
     "start_time": "2022-08-12T08:26:45.700789Z"
    }
   },
   "outputs": [],
   "source": [
    "for cop in cop_list:\n",
    "    e0[cop] = 0"
   ]
  },
  {
   "cell_type": "code",
   "execution_count": 9,
   "metadata": {
    "ExecuteTime": {
     "end_time": "2022-08-12T08:27:26.871386Z",
     "start_time": "2022-08-12T08:26:45.730710Z"
    }
   },
   "outputs": [],
   "source": [
    "for i in e0.values:\n",
    "    e0.loc[e0.cust == i[0], i[1]] = i[2]"
   ]
  },
  {
   "cell_type": "code",
   "execution_count": 10,
   "metadata": {
    "ExecuteTime": {
     "end_time": "2022-08-12T08:27:26.901305Z",
     "start_time": "2022-08-12T08:27:26.873342Z"
    }
   },
   "outputs": [
    {
     "data": {
      "text/html": [
       "<div>\n",
       "<style scoped>\n",
       "    .dataframe tbody tr th:only-of-type {\n",
       "        vertical-align: middle;\n",
       "    }\n",
       "\n",
       "    .dataframe tbody tr th {\n",
       "        vertical-align: top;\n",
       "    }\n",
       "\n",
       "    .dataframe thead th {\n",
       "        text-align: right;\n",
       "    }\n",
       "</style>\n",
       "<table border=\"1\" class=\"dataframe\">\n",
       "  <thead>\n",
       "    <tr style=\"text-align: right;\">\n",
       "      <th></th>\n",
       "      <th>cust</th>\n",
       "      <th>first_cop</th>\n",
       "      <th>first_cnt</th>\n",
       "      <th>second_cop</th>\n",
       "      <th>A01</th>\n",
       "      <th>A02</th>\n",
       "      <th>L01</th>\n",
       "      <th>A03</th>\n",
       "      <th>C01</th>\n",
       "      <th>D02</th>\n",
       "      <th>A04</th>\n",
       "      <th>D01</th>\n",
       "      <th>A05</th>\n",
       "      <th>A06</th>\n",
       "      <th>E01</th>\n",
       "      <th>B01</th>\n",
       "      <th>C02</th>\n",
       "      <th>L00</th>\n",
       "    </tr>\n",
       "  </thead>\n",
       "  <tbody>\n",
       "    <tr>\n",
       "      <th>0</th>\n",
       "      <td>M000034966</td>\n",
       "      <td>A01</td>\n",
       "      <td>1</td>\n",
       "      <td>A04</td>\n",
       "      <td>1</td>\n",
       "      <td>0</td>\n",
       "      <td>0</td>\n",
       "      <td>0</td>\n",
       "      <td>0</td>\n",
       "      <td>0</td>\n",
       "      <td>0</td>\n",
       "      <td>0</td>\n",
       "      <td>0</td>\n",
       "      <td>0</td>\n",
       "      <td>0</td>\n",
       "      <td>0</td>\n",
       "      <td>0</td>\n",
       "      <td>0</td>\n",
       "    </tr>\n",
       "    <tr>\n",
       "      <th>1</th>\n",
       "      <td>M000136117</td>\n",
       "      <td>A02</td>\n",
       "      <td>1</td>\n",
       "      <td>A06</td>\n",
       "      <td>0</td>\n",
       "      <td>1</td>\n",
       "      <td>0</td>\n",
       "      <td>0</td>\n",
       "      <td>0</td>\n",
       "      <td>0</td>\n",
       "      <td>0</td>\n",
       "      <td>0</td>\n",
       "      <td>0</td>\n",
       "      <td>0</td>\n",
       "      <td>0</td>\n",
       "      <td>0</td>\n",
       "      <td>0</td>\n",
       "      <td>0</td>\n",
       "    </tr>\n",
       "    <tr>\n",
       "      <th>2</th>\n",
       "      <td>M000225114</td>\n",
       "      <td>A01</td>\n",
       "      <td>4</td>\n",
       "      <td>A03</td>\n",
       "      <td>4</td>\n",
       "      <td>0</td>\n",
       "      <td>0</td>\n",
       "      <td>0</td>\n",
       "      <td>0</td>\n",
       "      <td>0</td>\n",
       "      <td>0</td>\n",
       "      <td>0</td>\n",
       "      <td>0</td>\n",
       "      <td>0</td>\n",
       "      <td>0</td>\n",
       "      <td>0</td>\n",
       "      <td>0</td>\n",
       "      <td>0</td>\n",
       "    </tr>\n",
       "    <tr>\n",
       "      <th>3</th>\n",
       "      <td>M000261625</td>\n",
       "      <td>A01</td>\n",
       "      <td>3</td>\n",
       "      <td>D01</td>\n",
       "      <td>3</td>\n",
       "      <td>0</td>\n",
       "      <td>0</td>\n",
       "      <td>0</td>\n",
       "      <td>0</td>\n",
       "      <td>0</td>\n",
       "      <td>0</td>\n",
       "      <td>0</td>\n",
       "      <td>0</td>\n",
       "      <td>0</td>\n",
       "      <td>0</td>\n",
       "      <td>0</td>\n",
       "      <td>0</td>\n",
       "      <td>0</td>\n",
       "    </tr>\n",
       "    <tr>\n",
       "      <th>4</th>\n",
       "      <td>M000419293</td>\n",
       "      <td>L01</td>\n",
       "      <td>2</td>\n",
       "      <td>A01</td>\n",
       "      <td>0</td>\n",
       "      <td>0</td>\n",
       "      <td>2</td>\n",
       "      <td>0</td>\n",
       "      <td>0</td>\n",
       "      <td>0</td>\n",
       "      <td>0</td>\n",
       "      <td>0</td>\n",
       "      <td>0</td>\n",
       "      <td>0</td>\n",
       "      <td>0</td>\n",
       "      <td>0</td>\n",
       "      <td>0</td>\n",
       "      <td>0</td>\n",
       "    </tr>\n",
       "  </tbody>\n",
       "</table>\n",
       "</div>"
      ],
      "text/plain": [
       "         cust first_cop  first_cnt second_cop  A01  A02  L01  A03  C01  D02  \\\n",
       "0  M000034966       A01          1        A04    1    0    0    0    0    0   \n",
       "1  M000136117       A02          1        A06    0    1    0    0    0    0   \n",
       "2  M000225114       A01          4        A03    4    0    0    0    0    0   \n",
       "3  M000261625       A01          3        D01    3    0    0    0    0    0   \n",
       "4  M000419293       L01          2        A01    0    0    2    0    0    0   \n",
       "\n",
       "   A04  D01  A05  A06  E01  B01  C02  L00  \n",
       "0    0    0    0    0    0    0    0    0  \n",
       "1    0    0    0    0    0    0    0    0  \n",
       "2    0    0    0    0    0    0    0    0  \n",
       "3    0    0    0    0    0    0    0    0  \n",
       "4    0    0    0    0    0    0    0    0  "
      ]
     },
     "execution_count": 10,
     "metadata": {},
     "output_type": "execute_result"
    }
   ],
   "source": [
    "e0.head()"
   ]
  },
  {
   "cell_type": "code",
   "execution_count": 11,
   "metadata": {
    "ExecuteTime": {
     "end_time": "2022-08-12T08:27:26.931226Z",
     "start_time": "2022-08-12T08:27:26.903267Z"
    }
   },
   "outputs": [
    {
     "data": {
      "text/html": [
       "<div>\n",
       "<style scoped>\n",
       "    .dataframe tbody tr th:only-of-type {\n",
       "        vertical-align: middle;\n",
       "    }\n",
       "\n",
       "    .dataframe tbody tr th {\n",
       "        vertical-align: top;\n",
       "    }\n",
       "\n",
       "    .dataframe thead th {\n",
       "        text-align: right;\n",
       "    }\n",
       "</style>\n",
       "<table border=\"1\" class=\"dataframe\">\n",
       "  <thead>\n",
       "    <tr style=\"text-align: right;\">\n",
       "      <th></th>\n",
       "      <th>A01</th>\n",
       "      <th>A02</th>\n",
       "      <th>L01</th>\n",
       "      <th>A03</th>\n",
       "      <th>C01</th>\n",
       "      <th>D02</th>\n",
       "      <th>A04</th>\n",
       "      <th>D01</th>\n",
       "      <th>A05</th>\n",
       "      <th>A06</th>\n",
       "      <th>E01</th>\n",
       "      <th>B01</th>\n",
       "      <th>C02</th>\n",
       "      <th>L00</th>\n",
       "    </tr>\n",
       "  </thead>\n",
       "  <tbody>\n",
       "    <tr>\n",
       "      <th>0</th>\n",
       "      <td>1</td>\n",
       "      <td>0</td>\n",
       "      <td>0</td>\n",
       "      <td>0</td>\n",
       "      <td>0</td>\n",
       "      <td>0</td>\n",
       "      <td>0</td>\n",
       "      <td>0</td>\n",
       "      <td>0</td>\n",
       "      <td>0</td>\n",
       "      <td>0</td>\n",
       "      <td>0</td>\n",
       "      <td>0</td>\n",
       "      <td>0</td>\n",
       "    </tr>\n",
       "    <tr>\n",
       "      <th>1</th>\n",
       "      <td>0</td>\n",
       "      <td>1</td>\n",
       "      <td>0</td>\n",
       "      <td>0</td>\n",
       "      <td>0</td>\n",
       "      <td>0</td>\n",
       "      <td>0</td>\n",
       "      <td>0</td>\n",
       "      <td>0</td>\n",
       "      <td>0</td>\n",
       "      <td>0</td>\n",
       "      <td>0</td>\n",
       "      <td>0</td>\n",
       "      <td>0</td>\n",
       "    </tr>\n",
       "    <tr>\n",
       "      <th>2</th>\n",
       "      <td>4</td>\n",
       "      <td>0</td>\n",
       "      <td>0</td>\n",
       "      <td>0</td>\n",
       "      <td>0</td>\n",
       "      <td>0</td>\n",
       "      <td>0</td>\n",
       "      <td>0</td>\n",
       "      <td>0</td>\n",
       "      <td>0</td>\n",
       "      <td>0</td>\n",
       "      <td>0</td>\n",
       "      <td>0</td>\n",
       "      <td>0</td>\n",
       "    </tr>\n",
       "    <tr>\n",
       "      <th>3</th>\n",
       "      <td>3</td>\n",
       "      <td>0</td>\n",
       "      <td>0</td>\n",
       "      <td>0</td>\n",
       "      <td>0</td>\n",
       "      <td>0</td>\n",
       "      <td>0</td>\n",
       "      <td>0</td>\n",
       "      <td>0</td>\n",
       "      <td>0</td>\n",
       "      <td>0</td>\n",
       "      <td>0</td>\n",
       "      <td>0</td>\n",
       "      <td>0</td>\n",
       "    </tr>\n",
       "    <tr>\n",
       "      <th>4</th>\n",
       "      <td>0</td>\n",
       "      <td>0</td>\n",
       "      <td>2</td>\n",
       "      <td>0</td>\n",
       "      <td>0</td>\n",
       "      <td>0</td>\n",
       "      <td>0</td>\n",
       "      <td>0</td>\n",
       "      <td>0</td>\n",
       "      <td>0</td>\n",
       "      <td>0</td>\n",
       "      <td>0</td>\n",
       "      <td>0</td>\n",
       "      <td>0</td>\n",
       "    </tr>\n",
       "  </tbody>\n",
       "</table>\n",
       "</div>"
      ],
      "text/plain": [
       "   A01  A02  L01  A03  C01  D02  A04  D01  A05  A06  E01  B01  C02  L00\n",
       "0    1    0    0    0    0    0    0    0    0    0    0    0    0    0\n",
       "1    0    1    0    0    0    0    0    0    0    0    0    0    0    0\n",
       "2    4    0    0    0    0    0    0    0    0    0    0    0    0    0\n",
       "3    3    0    0    0    0    0    0    0    0    0    0    0    0    0\n",
       "4    0    0    2    0    0    0    0    0    0    0    0    0    0    0"
      ]
     },
     "execution_count": 11,
     "metadata": {},
     "output_type": "execute_result"
    }
   ],
   "source": [
    "e0.iloc[:, 4:].head()"
   ]
  },
  {
   "cell_type": "code",
   "execution_count": 12,
   "metadata": {
    "ExecuteTime": {
     "end_time": "2022-08-12T08:27:28.207293Z",
     "start_time": "2022-08-12T08:27:26.933185Z"
    }
   },
   "outputs": [
    {
     "data": {
      "text/plain": [
       "DecisionTreeClassifier(random_state=11)"
      ]
     },
     "execution_count": 12,
     "metadata": {},
     "output_type": "execute_result"
    }
   ],
   "source": [
    "from sklearn.tree import DecisionTreeClassifier\n",
    "from sklearn.datasets import load_iris\n",
    "from sklearn.model_selection import train_test_split\n",
    "import warnings\n",
    "warnings.filterwarnings('ignore')\n",
    "\n",
    "# DecisionTree Classifier 생성\n",
    "model = DecisionTreeClassifier(random_state=11)\n",
    "\n",
    "# 학습과 테스트 데이터 셋으로 분리\n",
    "data = e0.iloc[:,4:]\n",
    "target = e0.loc[:, 'second_cop']\n",
    "X_train , X_test , y_train , y_test = train_test_split(data, target, test_size=0.2,  random_state=11)\n",
    "\n",
    "# DecisionTreeClassifer 학습. \n",
    "model.fit(X_train , y_train)"
   ]
  },
  {
   "cell_type": "code",
   "execution_count": 13,
   "metadata": {
    "ExecuteTime": {
     "end_time": "2022-08-12T08:27:28.237166Z",
     "start_time": "2022-08-12T08:27:28.211235Z"
    }
   },
   "outputs": [
    {
     "name": "stdout",
     "output_type": "stream",
     "text": [
      "accuracy : 0.30392156862745096\n"
     ]
    }
   ],
   "source": [
    "from sklearn.metrics import accuracy_score\n",
    "pred = model.predict(X_test)\n",
    "accuracy = accuracy_score(y_test , pred)\n",
    "print(f'accuracy : {accuracy}')"
   ]
  },
  {
   "cell_type": "markdown",
   "metadata": {},
   "source": [
    "- decision tree 대신 xgboost 써보자!"
   ]
  },
  {
   "cell_type": "markdown",
   "metadata": {},
   "source": [
    "## XGBoost"
   ]
  },
  {
   "cell_type": "markdown",
   "metadata": {},
   "source": [
    "### 2개의 feature"
   ]
  },
  {
   "cell_type": "code",
   "execution_count": 82,
   "metadata": {
    "ExecuteTime": {
     "end_time": "2022-08-10T09:26:14.089022Z",
     "start_time": "2022-08-10T09:26:14.073910Z"
    }
   },
   "outputs": [],
   "source": [
    "from sklearn.preprocessing import LabelEncoder\n",
    "le = LabelEncoder()\n",
    "e0['second_cop']=le.fit_transform(e0['second_cop'])"
   ]
  },
  {
   "cell_type": "code",
   "execution_count": 83,
   "metadata": {
    "ExecuteTime": {
     "end_time": "2022-08-10T09:26:20.408936Z",
     "start_time": "2022-08-10T09:26:15.170144Z"
    }
   },
   "outputs": [
    {
     "data": {
      "text/plain": [
       "XGBClassifier(base_score=0.5, booster='gbtree', callbacks=None,\n",
       "              colsample_bylevel=1, colsample_bynode=1, colsample_bytree=1,\n",
       "              early_stopping_rounds=None, enable_categorical=False,\n",
       "              eval_metric=None, gamma=0, gpu_id=-1, grow_policy='depthwise',\n",
       "              importance_type=None, interaction_constraints='',\n",
       "              learning_rate=0.300000012, max_bin=256, max_cat_to_onehot=4,\n",
       "              max_delta_step=0, max_depth=6, max_leaves=0, min_child_weight=1,\n",
       "              missing=nan, monotone_constraints='()', n_estimators=100,\n",
       "              n_jobs=0, num_parallel_tree=1, objective='multi:softprob',\n",
       "              predictor='auto', random_state=11, reg_alpha=0, ...)"
      ]
     },
     "execution_count": 83,
     "metadata": {},
     "output_type": "execute_result"
    }
   ],
   "source": [
    "from xgboost import XGBClassifier\n",
    "from sklearn.datasets import load_iris\n",
    "from sklearn.model_selection import train_test_split\n",
    "import warnings\n",
    "warnings.filterwarnings('ignore')\n",
    "\n",
    "# DecisionTree Classifier 생성\n",
    "model = XGBClassifier(random_state=11)\n",
    "\n",
    "# 학습과 테스트 데이터 셋으로 분리\n",
    "data = e0.iloc[:, 4:]\n",
    "target = e0.loc[:, 'second_cop']\n",
    "X_train , X_test , y_train , y_test = train_test_split(data, target, test_size=0.2,  random_state=11)\n",
    "\n",
    "# DecisionTreeClassifer 학습. \n",
    "model.fit(X_train , y_train)"
   ]
  },
  {
   "cell_type": "code",
   "execution_count": 84,
   "metadata": {
    "ExecuteTime": {
     "end_time": "2022-08-10T09:26:20.485747Z",
     "start_time": "2022-08-10T09:26:20.410931Z"
    }
   },
   "outputs": [
    {
     "name": "stdout",
     "output_type": "stream",
     "text": [
      "accuracy : 0.30310457516339867\n"
     ]
    }
   ],
   "source": [
    "from sklearn.metrics import accuracy_score\n",
    "pred = model.predict(X_test)\n",
    "accuracy = accuracy_score(y_test , pred)\n",
    "print(f'accuracy : {accuracy}')"
   ]
  },
  {
   "cell_type": "markdown",
   "metadata": {},
   "source": [
    "- feature 수가 너무 적어서 성능이 낮게 나옴.\n",
    "- feature를 더 추가해보자!"
   ]
  },
  {
   "cell_type": "markdown",
   "metadata": {
    "id": "9-Hsq3HWYYRx"
   },
   "source": [
    "### 모든 feature: label encoder"
   ]
  },
  {
   "cell_type": "code",
   "execution_count": 89,
   "metadata": {
    "ExecuteTime": {
     "end_time": "2022-08-10T09:28:01.575152Z",
     "start_time": "2022-08-10T09:28:01.557201Z"
    },
    "id": "0FbsOdztYYRy"
   },
   "outputs": [],
   "source": [
    "e1=ext.copy()"
   ]
  },
  {
   "cell_type": "code",
   "execution_count": 90,
   "metadata": {
    "ExecuteTime": {
     "end_time": "2022-08-10T09:28:09.103854Z",
     "start_time": "2022-08-10T09:28:09.077887Z"
    },
    "colab": {
     "base_uri": "https://localhost:8080/",
     "height": 357
    },
    "id": "tE7QLA1AYYRz",
    "outputId": "4dea1d9b-46d6-4d74-ac7c-cd4ad1797912"
   },
   "outputs": [
    {
     "data": {
      "text/html": [
       "<div>\n",
       "<style scoped>\n",
       "    .dataframe tbody tr th:only-of-type {\n",
       "        vertical-align: middle;\n",
       "    }\n",
       "\n",
       "    .dataframe tbody tr th {\n",
       "        vertical-align: top;\n",
       "    }\n",
       "\n",
       "    .dataframe thead th {\n",
       "        text-align: right;\n",
       "    }\n",
       "</style>\n",
       "<table border=\"1\" class=\"dataframe\">\n",
       "  <thead>\n",
       "    <tr style=\"text-align: right;\">\n",
       "      <th></th>\n",
       "      <th>cust</th>\n",
       "      <th>first_cop</th>\n",
       "      <th>first_cnt</th>\n",
       "      <th>second_cop</th>\n",
       "      <th>buy_am</th>\n",
       "      <th>online_prefer</th>\n",
       "      <th>cycle</th>\n",
       "      <th>Lpay</th>\n",
       "      <th>pd_c</th>\n",
       "      <th>clac_hlv_nm</th>\n",
       "      <th>clac_mcls_nm</th>\n",
       "      <th>br_c</th>\n",
       "      <th>ma_fem_dv</th>\n",
       "      <th>ages</th>\n",
       "      <th>zon_hlv</th>\n",
       "      <th>cycle_days</th>\n",
       "      <th>avg_buy_am</th>\n",
       "      <th>log_avg_buy_am</th>\n",
       "    </tr>\n",
       "  </thead>\n",
       "  <tbody>\n",
       "    <tr>\n",
       "      <th>0</th>\n",
       "      <td>M000034966</td>\n",
       "      <td>A01</td>\n",
       "      <td>1</td>\n",
       "      <td>A04</td>\n",
       "      <td>140200.0</td>\n",
       "      <td>0.0</td>\n",
       "      <td>1번 구매</td>\n",
       "      <td>0</td>\n",
       "      <td>PD0816</td>\n",
       "      <td>스포츠패션</td>\n",
       "      <td>여성스포츠화</td>\n",
       "      <td>A010045</td>\n",
       "      <td>여성</td>\n",
       "      <td>40대</td>\n",
       "      <td>Z07</td>\n",
       "      <td>365</td>\n",
       "      <td>140200.000000</td>\n",
       "      <td>11.850832</td>\n",
       "    </tr>\n",
       "    <tr>\n",
       "      <th>1</th>\n",
       "      <td>M000136117</td>\n",
       "      <td>A02</td>\n",
       "      <td>1</td>\n",
       "      <td>A06</td>\n",
       "      <td>24700.0</td>\n",
       "      <td>1.0</td>\n",
       "      <td>1번 구매</td>\n",
       "      <td>0</td>\n",
       "      <td>PD1847</td>\n",
       "      <td>퍼스널케어</td>\n",
       "      <td>여성위생용품</td>\n",
       "      <td>A0200000</td>\n",
       "      <td>여성</td>\n",
       "      <td>30대</td>\n",
       "      <td>Z11</td>\n",
       "      <td>365</td>\n",
       "      <td>24700.000000</td>\n",
       "      <td>10.114599</td>\n",
       "    </tr>\n",
       "    <tr>\n",
       "      <th>2</th>\n",
       "      <td>M000225114</td>\n",
       "      <td>A01</td>\n",
       "      <td>4</td>\n",
       "      <td>A03</td>\n",
       "      <td>82580.0</td>\n",
       "      <td>0.0</td>\n",
       "      <td>1 days 19:20:00</td>\n",
       "      <td>0</td>\n",
       "      <td>PD1688</td>\n",
       "      <td>테넌트/음식점</td>\n",
       "      <td>식당</td>\n",
       "      <td>A010011</td>\n",
       "      <td>여성</td>\n",
       "      <td>40대</td>\n",
       "      <td>Z17</td>\n",
       "      <td>1</td>\n",
       "      <td>20645.000000</td>\n",
       "      <td>9.935277</td>\n",
       "    </tr>\n",
       "    <tr>\n",
       "      <th>3</th>\n",
       "      <td>M000261625</td>\n",
       "      <td>A01</td>\n",
       "      <td>3</td>\n",
       "      <td>D01</td>\n",
       "      <td>441700.0</td>\n",
       "      <td>0.0</td>\n",
       "      <td>20 days 22:00:00</td>\n",
       "      <td>0</td>\n",
       "      <td>PD1922</td>\n",
       "      <td>화장품/뷰티케어</td>\n",
       "      <td>패션액세서리</td>\n",
       "      <td>A010017</td>\n",
       "      <td>여성</td>\n",
       "      <td>40대</td>\n",
       "      <td>Z17</td>\n",
       "      <td>20</td>\n",
       "      <td>147233.333333</td>\n",
       "      <td>11.899781</td>\n",
       "    </tr>\n",
       "    <tr>\n",
       "      <th>4</th>\n",
       "      <td>M000419293</td>\n",
       "      <td>L01</td>\n",
       "      <td>2</td>\n",
       "      <td>A01</td>\n",
       "      <td>188174.0</td>\n",
       "      <td>1.0</td>\n",
       "      <td>2 days 15:00:00</td>\n",
       "      <td>1</td>\n",
       "      <td>L01</td>\n",
       "      <td>L01</td>\n",
       "      <td>L01</td>\n",
       "      <td>L0100000</td>\n",
       "      <td>여성</td>\n",
       "      <td>40대</td>\n",
       "      <td>Z17</td>\n",
       "      <td>2</td>\n",
       "      <td>94087.000000</td>\n",
       "      <td>11.451986</td>\n",
       "    </tr>\n",
       "  </tbody>\n",
       "</table>\n",
       "</div>"
      ],
      "text/plain": [
       "         cust first_cop  first_cnt second_cop    buy_am  online_prefer  \\\n",
       "0  M000034966       A01          1        A04  140200.0            0.0   \n",
       "1  M000136117       A02          1        A06   24700.0            1.0   \n",
       "2  M000225114       A01          4        A03   82580.0            0.0   \n",
       "3  M000261625       A01          3        D01  441700.0            0.0   \n",
       "4  M000419293       L01          2        A01  188174.0            1.0   \n",
       "\n",
       "              cycle  Lpay    pd_c clac_hlv_nm clac_mcls_nm      br_c  \\\n",
       "0             1번 구매     0  PD0816       스포츠패션       여성스포츠화   A010045   \n",
       "1             1번 구매     0  PD1847       퍼스널케어       여성위생용품  A0200000   \n",
       "2   1 days 19:20:00     0  PD1688     테넌트/음식점           식당   A010011   \n",
       "3  20 days 22:00:00     0  PD1922    화장품/뷰티케어       패션액세서리   A010017   \n",
       "4   2 days 15:00:00     1     L01         L01          L01  L0100000   \n",
       "\n",
       "  ma_fem_dv ages zon_hlv  cycle_days     avg_buy_am  log_avg_buy_am  \n",
       "0        여성  40대     Z07         365  140200.000000       11.850832  \n",
       "1        여성  30대     Z11         365   24700.000000       10.114599  \n",
       "2        여성  40대     Z17           1   20645.000000        9.935277  \n",
       "3        여성  40대     Z17          20  147233.333333       11.899781  \n",
       "4        여성  40대     Z17           2   94087.000000       11.451986  "
      ]
     },
     "execution_count": 90,
     "metadata": {},
     "output_type": "execute_result"
    }
   ],
   "source": [
    "e1.drop(['A01', 'A02', 'A03', 'A04', 'A05', 'A06', 'B01', 'C01', 'C02',\n",
    "       'D01', 'D02', 'E01', 'L00', 'L01'],axis=1,inplace=True)\n",
    "e1.head()"
   ]
  },
  {
   "cell_type": "code",
   "execution_count": 91,
   "metadata": {
    "ExecuteTime": {
     "end_time": "2022-08-10T09:28:10.286360Z",
     "start_time": "2022-08-10T09:28:10.271649Z"
    },
    "colab": {
     "base_uri": "https://localhost:8080/"
    },
    "id": "gVWY6feuYYR0",
    "outputId": "c89ddeb7-7a32-4f53-8a85-feaa3ec5414f"
   },
   "outputs": [
    {
     "data": {
      "text/plain": [
       "['cust',\n",
       " 'first_cop',\n",
       " 'second_cop',\n",
       " 'cycle',\n",
       " 'pd_c',\n",
       " 'clac_hlv_nm',\n",
       " 'clac_mcls_nm',\n",
       " 'br_c',\n",
       " 'ma_fem_dv',\n",
       " 'ages',\n",
       " 'zon_hlv']"
      ]
     },
     "execution_count": 91,
     "metadata": {},
     "output_type": "execute_result"
    }
   ],
   "source": [
    "e1.columns[e1.dtypes==object].tolist()"
   ]
  },
  {
   "cell_type": "code",
   "execution_count": 92,
   "metadata": {
    "ExecuteTime": {
     "end_time": "2022-08-10T09:28:14.159707Z",
     "start_time": "2022-08-10T09:28:14.079888Z"
    },
    "id": "O0xE8KoWYYR1"
   },
   "outputs": [],
   "source": [
    "from sklearn.preprocessing import LabelEncoder\n",
    "le = LabelEncoder()\n",
    "e1['first_cop']=le.fit_transform(e1['first_cop'])\n",
    "e1['pd_c']=le.fit_transform(e1['pd_c'])\n",
    "e1['clac_hlv_nm']=le.fit_transform(e1['clac_hlv_nm'])\n",
    "e1['clac_mcls_nm']=le.fit_transform(e1['clac_mcls_nm'])\n",
    "e1['br_c']=le.fit_transform(e1['br_c'])\n",
    "e1['ma_fem_dv']=le.fit_transform(e1['ma_fem_dv'])\n",
    "e1['ages']=le.fit_transform(e1['ages'])\n",
    "e1['zon_hlv']=le.fit_transform(e1['zon_hlv'])\n",
    "e1['second_cop']=le.fit_transform(e1['second_cop'])"
   ]
  },
  {
   "cell_type": "code",
   "execution_count": 93,
   "metadata": {
    "ExecuteTime": {
     "end_time": "2022-08-10T09:28:17.847815Z",
     "start_time": "2022-08-10T09:28:17.833585Z"
    },
    "colab": {
     "base_uri": "https://localhost:8080/"
    },
    "id": "oW4-22x0YYR2",
    "outputId": "3cf2760d-6aae-40b8-ef46-ac73ae6e0987"
   },
   "outputs": [
    {
     "data": {
      "text/plain": [
       "['cust', 'cycle']"
      ]
     },
     "execution_count": 93,
     "metadata": {},
     "output_type": "execute_result"
    }
   ],
   "source": [
    "e1.columns[e1.dtypes==object].tolist()"
   ]
  },
  {
   "cell_type": "code",
   "execution_count": 97,
   "metadata": {
    "ExecuteTime": {
     "end_time": "2022-08-10T09:28:52.923787Z",
     "start_time": "2022-08-10T09:28:33.718626Z"
    },
    "scrolled": true
   },
   "outputs": [
    {
     "data": {
      "text/plain": [
       "XGBClassifier(base_score=0.5, booster='gbtree', callbacks=None,\n",
       "              colsample_bylevel=1, colsample_bynode=1, colsample_bytree=1,\n",
       "              early_stopping_rounds=None, enable_categorical=False,\n",
       "              eval_metric=None, gamma=0, gpu_id=-1, grow_policy='depthwise',\n",
       "              importance_type=None, interaction_constraints='',\n",
       "              learning_rate=0.300000012, max_bin=256, max_cat_to_onehot=4,\n",
       "              max_delta_step=0, max_depth=6, max_leaves=0, min_child_weight=1,\n",
       "              missing=nan, monotone_constraints='()', n_estimators=100,\n",
       "              n_jobs=0, num_parallel_tree=1, objective='multi:softprob',\n",
       "              predictor='auto', random_state=11, reg_alpha=0, ...)"
      ]
     },
     "execution_count": 97,
     "metadata": {},
     "output_type": "execute_result"
    }
   ],
   "source": [
    "from sklearn.tree import DecisionTreeClassifier\n",
    "from sklearn.datasets import load_iris\n",
    "from sklearn.model_selection import train_test_split\n",
    "from xgboost import XGBClassifier\n",
    "import warnings\n",
    "warnings.filterwarnings('ignore')\n",
    "\n",
    "# XGBClassifier 생성\n",
    "model = XGBClassifier(random_state=11)\n",
    "\n",
    "X=e1[['first_cop', 'first_cnt',\n",
    "       'online_prefer', 'Lpay', 'pd_c', 'clac_hlv_nm', 'clac_mcls_nm',\n",
    "       'br_c', 'ma_fem_dv', 'ages', 'zon_hlv', 'cycle_days', \n",
    "       'log_avg_buy_am']]\n",
    "y=e1.loc[:, 'second_cop']\n",
    "X_train , X_test , y_train , y_test = train_test_split(X, y, test_size=0.05, random_state=11)\n",
    "\n",
    "# XGBClassifier 학습. \n",
    "model.fit(X_train , y_train)"
   ]
  },
  {
   "cell_type": "code",
   "execution_count": 98,
   "metadata": {
    "ExecuteTime": {
     "end_time": "2022-08-10T09:28:52.954723Z",
     "start_time": "2022-08-10T09:28:52.926778Z"
    }
   },
   "outputs": [
    {
     "name": "stdout",
     "output_type": "stream",
     "text": [
      "accuracy : 0.352124183006536\n"
     ]
    }
   ],
   "source": [
    "from sklearn.metrics import accuracy_score\n",
    "pred = model.predict(X_test)\n",
    "accuracy = accuracy_score(y_test , pred)\n",
    "print(f'accuracy : {accuracy}')"
   ]
  },
  {
   "cell_type": "code",
   "execution_count": 99,
   "metadata": {
    "ExecuteTime": {
     "end_time": "2022-08-10T09:28:53.210093Z",
     "start_time": "2022-08-10T09:28:52.956717Z"
    }
   },
   "outputs": [
    {
     "data": {
      "text/plain": [
       "<AxesSubplot:title={'center':'Feature importance'}, xlabel='F score', ylabel='Features'>"
      ]
     },
     "execution_count": 99,
     "metadata": {},
     "output_type": "execute_result"
    },
    {
     "data": {
      "image/png": "[encoded data removed]",
      "text/plain": [
       "<Figure size 748.8x514.8 with 1 Axes>"
      ]
     },
     "metadata": {},
     "output_type": "display_data"
    }
   ],
   "source": [
    "from xgboost import plot_importance\n",
    "plot_importance(model)"
   ]
  },
  {
   "cell_type": "code",
   "execution_count": 100,
   "metadata": {
    "ExecuteTime": {
     "end_time": "2022-08-10T09:28:54.693065Z",
     "start_time": "2022-08-10T09:28:54.667342Z"
    }
   },
   "outputs": [
    {
     "name": "stdout",
     "output_type": "stream",
     "text": [
      "[[193  37   3   3   0   5   0   5   0  21   3   0   2   1]\n",
      " [ 61 118   5   4   0  11   1   2   1  18   6   1   1   0]\n",
      " [ 35  18   6   1   0   4   0   2   0   9   2   0   0   0]\n",
      " [ 39  27   1   4   0   1   0   1   1   7   1   0   1   0]\n",
      " [  8   6   3   1   0   1   0   0   0   4   2   0   1   0]\n",
      " [ 39  26   0   1   1  60   0   1   1   8   2   0   0   1]\n",
      " [  3   2   0   0   0   0   0   1   0   2   1   0   0   0]\n",
      " [ 28  22   1   2   0   4   0   7   0   9   2   0   0   0]\n",
      " [  8   4   0   0   0   0   0   2   0   2   0   0   0   0]\n",
      " [ 73  28   6   4   0   6   0   4   0  35   4   0   0   0]\n",
      " [ 38  30   2   1   0   4   0   1   0   8   7   0   2   0]\n",
      " [  1   1   0   0   0   1   0   1   0   1   0   0   0   0]\n",
      " [  8   7   1   0   0   0   0   0   0   2   0   0   1   1]\n",
      " [  7   7   0   0   0   1   0   0   0   3   0   0   0   0]]\n"
     ]
    }
   ],
   "source": [
    "from sklearn.metrics import confusion_matrix\n",
    "print(confusion_matrix(y_test,pred))"
   ]
  },
  {
   "cell_type": "code",
   "execution_count": 102,
   "metadata": {
    "ExecuteTime": {
     "end_time": "2022-08-10T09:29:19.408074Z",
     "start_time": "2022-08-10T09:29:19.387131Z"
    }
   },
   "outputs": [
    {
     "name": "stdout",
     "output_type": "stream",
     "text": [
      "              precision    recall  f1-score   support\n",
      "\n",
      "           0       0.36      0.71      0.47       273\n",
      "           1       0.35      0.52      0.42       229\n",
      "           2       0.21      0.08      0.11        77\n",
      "           3       0.19      0.05      0.08        83\n",
      "           4       0.00      0.00      0.00        26\n",
      "           5       0.61      0.43      0.50       140\n",
      "           6       0.00      0.00      0.00         9\n",
      "           7       0.26      0.09      0.14        75\n",
      "           8       0.00      0.00      0.00        16\n",
      "           9       0.27      0.22      0.24       160\n",
      "          10       0.23      0.08      0.11        93\n",
      "          11       0.00      0.00      0.00         5\n",
      "          12       0.12      0.05      0.07        20\n",
      "          13       0.00      0.00      0.00        18\n",
      "\n",
      "    accuracy                           0.35      1224\n",
      "   macro avg       0.19      0.16      0.15      1224\n",
      "weighted avg       0.31      0.35      0.30      1224\n",
      "\n"
     ]
    }
   ],
   "source": [
    "from sklearn.metrics import classification_report\n",
    "print(classification_report(y_test,pred))"
   ]
  },
  {
   "cell_type": "markdown",
   "metadata": {
    "id": "mDrguJxVYYSZ"
   },
   "source": [
    "### 첫제휴사&빈도수 이외 feature: label encoder"
   ]
  },
  {
   "cell_type": "code",
   "execution_count": 103,
   "metadata": {
    "ExecuteTime": {
     "end_time": "2022-08-10T09:29:41.185219Z",
     "start_time": "2022-08-10T09:29:41.175736Z"
    },
    "id": "YF7bWH0BYYSa"
   },
   "outputs": [],
   "source": [
    "e2=ext.copy()"
   ]
  },
  {
   "cell_type": "code",
   "execution_count": 104,
   "metadata": {
    "ExecuteTime": {
     "end_time": "2022-08-10T09:29:41.845101Z",
     "start_time": "2022-08-10T09:29:41.833622Z"
    },
    "colab": {
     "base_uri": "https://localhost:8080/"
    },
    "id": "jpHGd0oxYYSa",
    "outputId": "9b605e14-c62c-4751-8b5a-f2b3fd0e98d4"
   },
   "outputs": [
    {
     "data": {
      "text/plain": [
       "['cust',\n",
       " 'first_cop',\n",
       " 'second_cop',\n",
       " 'cycle',\n",
       " 'pd_c',\n",
       " 'clac_hlv_nm',\n",
       " 'clac_mcls_nm',\n",
       " 'br_c',\n",
       " 'ma_fem_dv',\n",
       " 'ages',\n",
       " 'zon_hlv']"
      ]
     },
     "execution_count": 104,
     "metadata": {},
     "output_type": "execute_result"
    }
   ],
   "source": [
    "e2.columns[e2.dtypes==object].tolist()"
   ]
  },
  {
   "cell_type": "code",
   "execution_count": 105,
   "metadata": {
    "ExecuteTime": {
     "end_time": "2022-08-10T09:29:49.475285Z",
     "start_time": "2022-08-10T09:29:49.409923Z"
    },
    "id": "zWdzbdoyYYSa"
   },
   "outputs": [],
   "source": [
    "from sklearn.preprocessing import LabelEncoder\n",
    "le = LabelEncoder()\n",
    "e2['second_cop']=le.fit_transform(e2['second_cop'])\n",
    "e2['pd_c']=le.fit_transform(e2['pd_c'])\n",
    "e2['clac_hlv_nm']=le.fit_transform(e2['clac_hlv_nm'])\n",
    "e2['clac_mcls_nm']=le.fit_transform(e2['clac_mcls_nm'])\n",
    "e2['br_c']=le.fit_transform(e2['br_c'])\n",
    "e2['ma_fem_dv']=le.fit_transform(e2['ma_fem_dv'])\n",
    "e2['ages']=le.fit_transform(e2['ages'])\n",
    "e2['zon_hlv']=le.fit_transform(e2['zon_hlv'])"
   ]
  },
  {
   "cell_type": "code",
   "execution_count": 106,
   "metadata": {
    "ExecuteTime": {
     "end_time": "2022-08-10T09:29:49.956528Z",
     "start_time": "2022-08-10T09:29:49.948531Z"
    },
    "colab": {
     "base_uri": "https://localhost:8080/"
    },
    "id": "y5ZNV7DRYYSb",
    "outputId": "da39c27a-0e5f-4b84-ad12-a95a47cd3154"
   },
   "outputs": [
    {
     "data": {
      "text/plain": [
       "['cust', 'first_cop', 'cycle']"
      ]
     },
     "execution_count": 106,
     "metadata": {},
     "output_type": "execute_result"
    }
   ],
   "source": [
    "e2.columns[e2.dtypes==object].tolist()"
   ]
  },
  {
   "cell_type": "code",
   "execution_count": 107,
   "metadata": {
    "ExecuteTime": {
     "end_time": "2022-08-10T09:29:50.525582Z",
     "start_time": "2022-08-10T09:29:50.505102Z"
    },
    "colab": {
     "base_uri": "https://localhost:8080/"
    },
    "id": "wMg3Bbn0YYSb",
    "outputId": "1a01145e-9661-4c99-b1c2-86a5d8e005eb"
   },
   "outputs": [
    {
     "data": {
      "text/plain": [
       "Index(['cust', 'first_cop', 'first_cnt', 'second_cop', 'buy_am',\n",
       "       'online_prefer', 'cycle', 'Lpay', 'pd_c', 'clac_hlv_nm', 'clac_mcls_nm',\n",
       "       'br_c', 'ma_fem_dv', 'ages', 'zon_hlv', 'A01', 'A02', 'L01', 'A03',\n",
       "       'C01', 'D02', 'A04', 'D01', 'A05', 'A06', 'E01', 'B01', 'C02', 'L00',\n",
       "       'cycle_days', 'avg_buy_am', 'log_avg_buy_am'],\n",
       "      dtype='object')"
      ]
     },
     "execution_count": 107,
     "metadata": {},
     "output_type": "execute_result"
    }
   ],
   "source": [
    "e2.columns"
   ]
  },
  {
   "cell_type": "code",
   "execution_count": 108,
   "metadata": {
    "ExecuteTime": {
     "end_time": "2022-08-10T09:30:42.450073Z",
     "start_time": "2022-08-10T09:30:20.232307Z"
    },
    "colab": {
     "base_uri": "https://localhost:8080/"
    },
    "id": "eOwOpoWqYYSc",
    "outputId": "bb15a5e8-3bc9-4743-d4f3-5a0c7cdcdf93"
   },
   "outputs": [
    {
     "data": {
      "text/plain": [
       "XGBClassifier(base_score=0.5, booster='gbtree', callbacks=None,\n",
       "              colsample_bylevel=1, colsample_bynode=1, colsample_bytree=1,\n",
       "              early_stopping_rounds=None, enable_categorical=False,\n",
       "              eval_metric=None, gamma=0, gpu_id=-1, grow_policy='depthwise',\n",
       "              importance_type=None, interaction_constraints='',\n",
       "              learning_rate=0.300000012, max_bin=256, max_cat_to_onehot=4,\n",
       "              max_delta_step=0, max_depth=6, max_leaves=0, min_child_weight=1,\n",
       "              missing=nan, monotone_constraints='()', n_estimators=100,\n",
       "              n_jobs=0, num_parallel_tree=1, objective='multi:softprob',\n",
       "              predictor='auto', random_state=11, reg_alpha=0, ...)"
      ]
     },
     "execution_count": 108,
     "metadata": {},
     "output_type": "execute_result"
    }
   ],
   "source": [
    "from sklearn.tree import DecisionTreeClassifier\n",
    "from sklearn.datasets import load_iris\n",
    "from sklearn.model_selection import train_test_split\n",
    "from xgboost import XGBClassifier\n",
    "import warnings\n",
    "warnings.filterwarnings('ignore')\n",
    "\n",
    "# XGBClassifier 생성\n",
    "model = XGBClassifier(random_state=11)\n",
    "\n",
    "X=e2[['A01', 'A02', 'A03', 'A04', 'A05', 'A06', 'B01', 'C01', 'C02',\n",
    "       'D01', 'D02', 'E01', 'L00', 'L01',\n",
    "      'online_prefer', 'Lpay', 'pd_c', 'clac_hlv_nm', 'clac_mcls_nm',\n",
    "       'br_c', 'ma_fem_dv', 'ages', 'zon_hlv', 'cycle_days', \n",
    "       'log_avg_buy_am']]\n",
    "y=e2.loc[:, 'second_cop']\n",
    "X_train , X_test , y_train , y_test = train_test_split(X, y, test_size=0.05, random_state=11)\n",
    "\n",
    "# XGBClassifier 학습. \n",
    "model.fit(X_train , y_train)"
   ]
  },
  {
   "cell_type": "code",
   "execution_count": 109,
   "metadata": {
    "ExecuteTime": {
     "end_time": "2022-08-10T09:30:42.481009Z",
     "start_time": "2022-08-10T09:30:42.453064Z"
    }
   },
   "outputs": [
    {
     "name": "stdout",
     "output_type": "stream",
     "text": [
      "accuracy : 0.36356209150326796\n"
     ]
    }
   ],
   "source": [
    "from sklearn.metrics import accuracy_score\n",
    "pred = model.predict(X_test)\n",
    "accuracy = accuracy_score(y_test , pred)\n",
    "print(f'accuracy : {accuracy}')"
   ]
  },
  {
   "cell_type": "code",
   "execution_count": 112,
   "metadata": {
    "ExecuteTime": {
     "end_time": "2022-08-10T09:32:21.205519Z",
     "start_time": "2022-08-10T09:32:20.871443Z"
    }
   },
   "outputs": [
    {
     "data": {
      "text/plain": [
       "<AxesSubplot:title={'center':'Feature importance'}, xlabel='F score', ylabel='Features'>"
      ]
     },
     "execution_count": 112,
     "metadata": {},
     "output_type": "execute_result"
    },
    {
     "data": {
      "image/png": "[encoded data removed]",
      "text/plain": [
       "<Figure size 748.8x514.8 with 1 Axes>"
      ]
     },
     "metadata": {},
     "output_type": "display_data"
    }
   ],
   "source": [
    "from xgboost import plot_importance\n",
    "plot_importance(model)"
   ]
  },
  {
   "cell_type": "code",
   "execution_count": 110,
   "metadata": {
    "ExecuteTime": {
     "end_time": "2022-08-10T09:31:37.826465Z",
     "start_time": "2022-08-10T09:31:37.803007Z"
    }
   },
   "outputs": [
    {
     "name": "stdout",
     "output_type": "stream",
     "text": [
      "[[205  32   1   1   0   4   0   3   0  23   1   0   2   1]\n",
      " [ 63 120   4   4   0   6   1   2   1  19   6   0   3   0]\n",
      " [ 38  19   3   1   0   4   0   2   0   7   3   0   0   0]\n",
      " [ 35  32   1   3   1   0   0   2   0   8   1   0   0   0]\n",
      " [  9   7   1   2   1   1   0   0   0   3   1   0   1   0]\n",
      " [ 34  27   1   0   0  66   0   2   1   7   1   0   0   1]\n",
      " [  2   2   1   0   0   0   0   1   1   1   1   0   0   0]\n",
      " [ 27  22   1   1   0   8   0   8   0   5   3   0   0   0]\n",
      " [  8   5   0   0   0   0   0   1   0   1   1   0   0   0]\n",
      " [ 72  35   2   0   0   6   0   3   0  36   5   0   1   0]\n",
      " [ 40  32   2   2   0   2   0   2   0   9   3   0   1   0]\n",
      " [  2   1   0   1   0   1   0   0   0   0   0   0   0   0]\n",
      " [  6  10   0   0   0   0   0   0   0   4   0   0   0   0]\n",
      " [  4   6   1   0   0   1   0   1   0   4   0   0   1   0]]\n"
     ]
    }
   ],
   "source": [
    "from sklearn.metrics import confusion_matrix\n",
    "print(confusion_matrix(y_test,pred))"
   ]
  },
  {
   "cell_type": "code",
   "execution_count": 111,
   "metadata": {
    "ExecuteTime": {
     "end_time": "2022-08-10T09:31:38.260731Z",
     "start_time": "2022-08-10T09:31:38.244691Z"
    }
   },
   "outputs": [
    {
     "name": "stdout",
     "output_type": "stream",
     "text": [
      "              precision    recall  f1-score   support\n",
      "\n",
      "           0       0.38      0.75      0.50       273\n",
      "           1       0.34      0.52      0.41       229\n",
      "           2       0.17      0.04      0.06        77\n",
      "           3       0.20      0.04      0.06        83\n",
      "           4       0.50      0.04      0.07        26\n",
      "           5       0.67      0.47      0.55       140\n",
      "           6       0.00      0.00      0.00         9\n",
      "           7       0.30      0.11      0.16        75\n",
      "           8       0.00      0.00      0.00        16\n",
      "           9       0.28      0.23      0.25       160\n",
      "          10       0.12      0.03      0.05        93\n",
      "          11       0.00      0.00      0.00         5\n",
      "          12       0.00      0.00      0.00        20\n",
      "          13       0.00      0.00      0.00        18\n",
      "\n",
      "    accuracy                           0.36      1224\n",
      "   macro avg       0.21      0.16      0.15      1224\n",
      "weighted avg       0.32      0.36      0.31      1224\n",
      "\n"
     ]
    }
   ],
   "source": [
    "from sklearn.metrics import classification_report\n",
    "print(classification_report(y_test,pred))"
   ]
  },
  {
   "cell_type": "code",
   "execution_count": 143,
   "metadata": {
    "ExecuteTime": {
     "end_time": "2022-08-10T09:52:03.783197Z",
     "start_time": "2022-08-10T09:52:03.766715Z"
    }
   },
   "outputs": [
    {
     "data": {
      "text/plain": [
       "24480"
      ]
     },
     "execution_count": 143,
     "metadata": {},
     "output_type": "execute_result"
    }
   ],
   "source": [
    "len(ext)"
   ]
  },
  {
   "cell_type": "markdown",
   "metadata": {},
   "source": [
    "- 데이터 수를 더 늘려보자!"
   ]
  },
  {
   "cell_type": "markdown",
   "metadata": {},
   "source": [
    "# Data: 데이터 확장"
   ]
  },
  {
   "cell_type": "markdown",
   "metadata": {},
   "source": [
    "고객의 구매 데이터를 통해 다음으로 이용할 가능성이 높은 계열사를 예측하고자 한다."
   ]
  },
  {
   "cell_type": "markdown",
   "metadata": {},
   "source": [
    "**첫구매를 기준으로 첫 번째 확장뿐만 아니라 그 이후의 확장까지 고려한 정보를 이용해 다음 확장될 계열사를 예측해보자!**\n",
    "- 구매가 한 번 이하인 사람들은 제외시킴. \n",
    "- A01&rarr;A02&rarr;A03&rarr;A02&rarr;A05가 나오면 A01&rarr;A02&rarr;A03까지만 다루고 그 이후는 제외시킴.\n",
    "- 즉, 같은 고객에서 중복된 계열사가 추후에 나오면 그 이전까지의 데이터만을 다룸."
   ]
  },
  {
   "cell_type": "markdown",
   "metadata": {
    "ExecuteTime": {
     "end_time": "2022-08-10T16:16:30.658160Z",
     "start_time": "2022-08-10T16:16:30.642201Z"
    }
   },
   "source": [
    "## XGBoost"
   ]
  },
  {
   "cell_type": "code",
   "execution_count": 13,
   "metadata": {
    "ExecuteTime": {
     "end_time": "2022-08-12T08:27:28.701101Z",
     "start_time": "2022-08-12T08:27:28.239160Z"
    }
   },
   "outputs": [],
   "source": [
    "extend = pd.read_csv('../3. LOTTO_데이터 및 모델 세이브 파일/예측 모델 데이터/extension_continue_cust_info.csv', index_col=0)"
   ]
  },
  {
   "cell_type": "code",
   "execution_count": 14,
   "metadata": {
    "ExecuteTime": {
     "end_time": "2022-08-12T08:27:28.955591Z",
     "start_time": "2022-08-12T08:27:28.703100Z"
    }
   },
   "outputs": [],
   "source": [
    "extend['clac_hlv_nm']=extend['clac_hlv_nm'].apply(lambda x: max(x[1:-1].split(', '))[1:-1])\n",
    "extend['clac_mcls_nm']=extend['clac_mcls_nm'].apply(lambda x: max(x[1:-1].split(', '))[1:-1])\n",
    "extend['pd_c']=extend['pd_c'].apply(lambda x: max(x[1:-1].split(', '))[1:-1])\n",
    "extend['br_c']=extend['br_c'].apply(lambda x: max(x[1:-1].split(', '))[1:-1])"
   ]
  },
  {
   "cell_type": "code",
   "execution_count": 15,
   "metadata": {
    "ExecuteTime": {
     "end_time": "2022-08-12T08:27:28.970527Z",
     "start_time": "2022-08-12T08:27:28.956464Z"
    }
   },
   "outputs": [
    {
     "data": {
      "text/plain": [
       "Index(['cust', 'first_cop', 'first_cnt', 'second_cop', 'buy_am',\n",
       "       'online_prefer', 'cycle', 'Lpay', 'pd_c', 'clac_hlv_nm', 'clac_mcls_nm',\n",
       "       'br_c', 'ma_fem_dv', 'ages', 'zon_hlv', 'A01', 'A04', 'A02', 'L01',\n",
       "       'A03', 'C01', 'A06', 'D02', 'L00', 'D01', 'A05', 'E01', 'B01', 'C02',\n",
       "       'cycle_days', 'avg_buy_am', 'log_avg_buy_am'],\n",
       "      dtype='object')"
      ]
     },
     "execution_count": 15,
     "metadata": {},
     "output_type": "execute_result"
    }
   ],
   "source": [
    "extend.columns"
   ]
  },
  {
   "cell_type": "code",
   "execution_count": 16,
   "metadata": {
    "ExecuteTime": {
     "end_time": "2022-08-12T08:27:29.000448Z",
     "start_time": "2022-08-12T08:27:28.971524Z"
    }
   },
   "outputs": [
    {
     "data": {
      "text/html": [
       "<div>\n",
       "<style scoped>\n",
       "    .dataframe tbody tr th:only-of-type {\n",
       "        vertical-align: middle;\n",
       "    }\n",
       "\n",
       "    .dataframe tbody tr th {\n",
       "        vertical-align: top;\n",
       "    }\n",
       "\n",
       "    .dataframe thead th {\n",
       "        text-align: right;\n",
       "    }\n",
       "</style>\n",
       "<table border=\"1\" class=\"dataframe\">\n",
       "  <thead>\n",
       "    <tr style=\"text-align: right;\">\n",
       "      <th></th>\n",
       "      <th>cust</th>\n",
       "      <th>first_cop</th>\n",
       "      <th>first_cnt</th>\n",
       "      <th>second_cop</th>\n",
       "      <th>buy_am</th>\n",
       "      <th>online_prefer</th>\n",
       "      <th>cycle</th>\n",
       "      <th>Lpay</th>\n",
       "      <th>pd_c</th>\n",
       "      <th>clac_hlv_nm</th>\n",
       "      <th>...</th>\n",
       "      <th>D02</th>\n",
       "      <th>L00</th>\n",
       "      <th>D01</th>\n",
       "      <th>A05</th>\n",
       "      <th>E01</th>\n",
       "      <th>B01</th>\n",
       "      <th>C02</th>\n",
       "      <th>cycle_days</th>\n",
       "      <th>avg_buy_am</th>\n",
       "      <th>log_avg_buy_am</th>\n",
       "    </tr>\n",
       "  </thead>\n",
       "  <tbody>\n",
       "    <tr>\n",
       "      <th>0</th>\n",
       "      <td>M000034966</td>\n",
       "      <td>A01</td>\n",
       "      <td>1</td>\n",
       "      <td>A04</td>\n",
       "      <td>140200.0</td>\n",
       "      <td>0.0</td>\n",
       "      <td>1번 구매</td>\n",
       "      <td>0</td>\n",
       "      <td>PD0816</td>\n",
       "      <td>스포츠패션</td>\n",
       "      <td>...</td>\n",
       "      <td>0</td>\n",
       "      <td>0</td>\n",
       "      <td>0</td>\n",
       "      <td>0</td>\n",
       "      <td>0</td>\n",
       "      <td>0</td>\n",
       "      <td>0</td>\n",
       "      <td>365</td>\n",
       "      <td>140200.000000</td>\n",
       "      <td>11.850832</td>\n",
       "    </tr>\n",
       "    <tr>\n",
       "      <th>1</th>\n",
       "      <td>M000034966</td>\n",
       "      <td>A04</td>\n",
       "      <td>1</td>\n",
       "      <td>A02</td>\n",
       "      <td>12000.0</td>\n",
       "      <td>0.0</td>\n",
       "      <td>1번 구매</td>\n",
       "      <td>0</td>\n",
       "      <td>PD1330</td>\n",
       "      <td>주류</td>\n",
       "      <td>...</td>\n",
       "      <td>0</td>\n",
       "      <td>0</td>\n",
       "      <td>0</td>\n",
       "      <td>0</td>\n",
       "      <td>0</td>\n",
       "      <td>0</td>\n",
       "      <td>0</td>\n",
       "      <td>365</td>\n",
       "      <td>12000.000000</td>\n",
       "      <td>9.392745</td>\n",
       "    </tr>\n",
       "    <tr>\n",
       "      <th>2</th>\n",
       "      <td>M000136117</td>\n",
       "      <td>A02</td>\n",
       "      <td>1</td>\n",
       "      <td>A06</td>\n",
       "      <td>24700.0</td>\n",
       "      <td>1.0</td>\n",
       "      <td>1번 구매</td>\n",
       "      <td>0</td>\n",
       "      <td>PD1847</td>\n",
       "      <td>퍼스널케어</td>\n",
       "      <td>...</td>\n",
       "      <td>0</td>\n",
       "      <td>0</td>\n",
       "      <td>0</td>\n",
       "      <td>0</td>\n",
       "      <td>0</td>\n",
       "      <td>0</td>\n",
       "      <td>0</td>\n",
       "      <td>365</td>\n",
       "      <td>24700.000000</td>\n",
       "      <td>10.114599</td>\n",
       "    </tr>\n",
       "    <tr>\n",
       "      <th>3</th>\n",
       "      <td>M000225114</td>\n",
       "      <td>A01</td>\n",
       "      <td>4</td>\n",
       "      <td>A03</td>\n",
       "      <td>82580.0</td>\n",
       "      <td>0.0</td>\n",
       "      <td>1 days 19:20:00</td>\n",
       "      <td>0</td>\n",
       "      <td>PD1688</td>\n",
       "      <td>테넌트/음식점</td>\n",
       "      <td>...</td>\n",
       "      <td>0</td>\n",
       "      <td>0</td>\n",
       "      <td>0</td>\n",
       "      <td>0</td>\n",
       "      <td>0</td>\n",
       "      <td>0</td>\n",
       "      <td>0</td>\n",
       "      <td>1</td>\n",
       "      <td>20645.000000</td>\n",
       "      <td>9.935277</td>\n",
       "    </tr>\n",
       "    <tr>\n",
       "      <th>4</th>\n",
       "      <td>M000261625</td>\n",
       "      <td>A01</td>\n",
       "      <td>3</td>\n",
       "      <td>D01</td>\n",
       "      <td>441700.0</td>\n",
       "      <td>0.0</td>\n",
       "      <td>20 days 22:00:00</td>\n",
       "      <td>0</td>\n",
       "      <td>PD1922</td>\n",
       "      <td>화장품/뷰티케어</td>\n",
       "      <td>...</td>\n",
       "      <td>0</td>\n",
       "      <td>0</td>\n",
       "      <td>0</td>\n",
       "      <td>0</td>\n",
       "      <td>0</td>\n",
       "      <td>0</td>\n",
       "      <td>0</td>\n",
       "      <td>20</td>\n",
       "      <td>147233.333333</td>\n",
       "      <td>11.899781</td>\n",
       "    </tr>\n",
       "  </tbody>\n",
       "</table>\n",
       "<p>5 rows × 32 columns</p>\n",
       "</div>"
      ],
      "text/plain": [
       "         cust first_cop  first_cnt second_cop    buy_am  online_prefer  \\\n",
       "0  M000034966       A01          1        A04  140200.0            0.0   \n",
       "1  M000034966       A04          1        A02   12000.0            0.0   \n",
       "2  M000136117       A02          1        A06   24700.0            1.0   \n",
       "3  M000225114       A01          4        A03   82580.0            0.0   \n",
       "4  M000261625       A01          3        D01  441700.0            0.0   \n",
       "\n",
       "              cycle  Lpay    pd_c clac_hlv_nm  ... D02 L00 D01 A05 E01  B01  \\\n",
       "0             1번 구매     0  PD0816       스포츠패션  ...   0   0   0   0   0    0   \n",
       "1             1번 구매     0  PD1330          주류  ...   0   0   0   0   0    0   \n",
       "2             1번 구매     0  PD1847       퍼스널케어  ...   0   0   0   0   0    0   \n",
       "3   1 days 19:20:00     0  PD1688     테넌트/음식점  ...   0   0   0   0   0    0   \n",
       "4  20 days 22:00:00     0  PD1922    화장품/뷰티케어  ...   0   0   0   0   0    0   \n",
       "\n",
       "   C02  cycle_days     avg_buy_am  log_avg_buy_am  \n",
       "0    0         365  140200.000000       11.850832  \n",
       "1    0         365   12000.000000        9.392745  \n",
       "2    0         365   24700.000000       10.114599  \n",
       "3    0           1   20645.000000        9.935277  \n",
       "4    0          20  147233.333333       11.899781  \n",
       "\n",
       "[5 rows x 32 columns]"
      ]
     },
     "execution_count": 16,
     "metadata": {},
     "output_type": "execute_result"
    }
   ],
   "source": [
    "extend.head()"
   ]
  },
  {
   "cell_type": "code",
   "execution_count": 18,
   "metadata": {
    "ExecuteTime": {
     "end_time": "2022-08-12T08:27:29.015408Z",
     "start_time": "2022-08-12T08:27:29.001445Z"
    }
   },
   "outputs": [],
   "source": [
    "cop_list = list(extend.first_cop.unique())"
   ]
  },
  {
   "cell_type": "markdown",
   "metadata": {
    "ExecuteTime": {
     "end_time": "2022-08-10T18:14:28.540279Z",
     "start_time": "2022-08-10T18:14:28.535292Z"
    }
   },
   "source": [
    "### Custom & Label encoding"
   ]
  },
  {
   "cell_type": "code",
   "execution_count": 23,
   "metadata": {
    "ExecuteTime": {
     "end_time": "2022-08-12T08:29:20.512970Z",
     "start_time": "2022-08-12T08:29:20.494308Z"
    }
   },
   "outputs": [],
   "source": [
    "e3=extend.copy()"
   ]
  },
  {
   "cell_type": "code",
   "execution_count": 24,
   "metadata": {
    "ExecuteTime": {
     "end_time": "2022-08-12T08:29:21.012032Z",
     "start_time": "2022-08-12T08:29:20.900487Z"
    }
   },
   "outputs": [],
   "source": [
    "from sklearn.preprocessing import LabelEncoder\n",
    "le = LabelEncoder()\n",
    "e3['first_cop']=le.fit_transform(e3['first_cop'])\n",
    "e3['second_cop']=le.fit_transform(e3['second_cop'])\n",
    "e3['pd_c']=le.fit_transform(e3['pd_c'])\n",
    "e3['clac_hlv_nm']=le.fit_transform(e3['clac_hlv_nm'])\n",
    "e3['clac_mcls_nm']=le.fit_transform(e3['clac_mcls_nm'])\n",
    "e3['br_c']=le.fit_transform(e3['br_c'])\n",
    "e3['ma_fem_dv']=le.fit_transform(e3['ma_fem_dv'])\n",
    "e3['ages']=le.fit_transform(e3['ages'])\n",
    "e3['zon_hlv']=le.fit_transform(e3['zon_hlv'])"
   ]
  },
  {
   "cell_type": "code",
   "execution_count": 25,
   "metadata": {
    "ExecuteTime": {
     "end_time": "2022-08-12T08:29:21.409655Z",
     "start_time": "2022-08-12T08:29:21.391621Z"
    }
   },
   "outputs": [
    {
     "data": {
      "text/plain": [
       "['cust', 'cycle']"
      ]
     },
     "execution_count": 25,
     "metadata": {},
     "output_type": "execute_result"
    }
   ],
   "source": [
    "e3.columns[e3.dtypes==object].tolist()"
   ]
  },
  {
   "cell_type": "code",
   "execution_count": 26,
   "metadata": {
    "ExecuteTime": {
     "end_time": "2022-08-12T08:29:21.805862Z",
     "start_time": "2022-08-12T08:29:21.798884Z"
    }
   },
   "outputs": [
    {
     "data": {
      "text/plain": [
       "Index(['cust', 'first_cop', 'first_cnt', 'second_cop', 'buy_am',\n",
       "       'online_prefer', 'cycle', 'Lpay', 'pd_c', 'clac_hlv_nm', 'clac_mcls_nm',\n",
       "       'br_c', 'ma_fem_dv', 'ages', 'zon_hlv', 'A01', 'A04', 'A02', 'L01',\n",
       "       'A03', 'C01', 'A06', 'D02', 'L00', 'D01', 'A05', 'E01', 'B01', 'C02',\n",
       "       'cycle_days', 'avg_buy_am', 'log_avg_buy_am'],\n",
       "      dtype='object')"
      ]
     },
     "execution_count": 26,
     "metadata": {},
     "output_type": "execute_result"
    }
   ],
   "source": [
    "e3.columns"
   ]
  },
  {
   "cell_type": "code",
   "execution_count": 27,
   "metadata": {
    "ExecuteTime": {
     "end_time": "2022-08-12T08:29:22.064818Z",
     "start_time": "2022-08-12T08:29:22.059825Z"
    }
   },
   "outputs": [],
   "source": [
    "#e3.to_csv('최종_extension_continue_cust_info_전처리.csv')"
   ]
  },
  {
   "cell_type": "code",
   "execution_count": 28,
   "metadata": {
    "ExecuteTime": {
     "end_time": "2022-08-12T08:29:56.894912Z",
     "start_time": "2022-08-12T08:29:22.441533Z"
    }
   },
   "outputs": [
    {
     "data": {
      "text/plain": [
       "XGBClassifier(base_score=0.5, booster='gbtree', callbacks=None,\n",
       "              colsample_bylevel=1, colsample_bynode=1, colsample_bytree=1,\n",
       "              early_stopping_rounds=None, enable_categorical=False,\n",
       "              eval_metric=None, gamma=0, gpu_id=-1, grow_policy='depthwise',\n",
       "              importance_type=None, interaction_constraints='',\n",
       "              learning_rate=0.300000012, max_bin=256, max_cat_to_onehot=4,\n",
       "              max_delta_step=0, max_depth=6, max_leaves=0, min_child_weight=1,\n",
       "              missing=nan, monotone_constraints='()', n_estimators=100,\n",
       "              n_jobs=0, num_parallel_tree=1, objective='multi:softprob',\n",
       "              predictor='auto', random_state=11, reg_alpha=0, ...)"
      ]
     },
     "execution_count": 28,
     "metadata": {},
     "output_type": "execute_result"
    }
   ],
   "source": [
    "from sklearn.tree import DecisionTreeClassifier\n",
    "from sklearn.datasets import load_iris\n",
    "from sklearn.model_selection import train_test_split\n",
    "from xgboost import XGBClassifier\n",
    "import warnings\n",
    "warnings.filterwarnings('ignore')\n",
    "\n",
    "# XGBClassifier 생성\n",
    "model = XGBClassifier(random_state=11)\n",
    "\n",
    "X=e3[['A01', 'A02', 'A03', 'A04', 'A05', 'A06', 'B01', 'C01', 'C02',\n",
    "       'D01', 'D02', 'E01', 'L00', 'L01',\n",
    "      'online_prefer', 'Lpay', 'pd_c', 'clac_hlv_nm', 'clac_mcls_nm',\n",
    "       'br_c', 'ma_fem_dv', 'ages', 'zon_hlv', 'cycle_days', \n",
    "       'log_avg_buy_am']]\n",
    "y=e3.loc[:, 'second_cop']\n",
    "X_train , X_test , y_train , y_test = train_test_split(X, y, test_size=0.05, random_state=11)\n",
    "\n",
    "# XGBClassifier 학습. \n",
    "model.fit(X_train , y_train)"
   ]
  },
  {
   "cell_type": "code",
   "execution_count": 29,
   "metadata": {
    "ExecuteTime": {
     "end_time": "2022-08-12T08:29:56.954754Z",
     "start_time": "2022-08-12T08:29:56.897905Z"
    }
   },
   "outputs": [
    {
     "name": "stdout",
     "output_type": "stream",
     "text": [
      "accuracy : 0.3904295812941816\n"
     ]
    }
   ],
   "source": [
    "from sklearn.metrics import accuracy_score\n",
    "pred = model.predict(X_test)\n",
    "accuracy = accuracy_score(y_test , pred)\n",
    "print(f'accuracy : {accuracy}')"
   ]
  },
  {
   "cell_type": "code",
   "execution_count": 30,
   "metadata": {
    "ExecuteTime": {
     "end_time": "2022-08-12T08:29:57.512531Z",
     "start_time": "2022-08-12T08:29:56.958742Z"
    }
   },
   "outputs": [
    {
     "data": {
      "text/plain": [
       "<AxesSubplot:title={'center':'Feature importance'}, xlabel='F score', ylabel='Features'>"
      ]
     },
     "execution_count": 30,
     "metadata": {},
     "output_type": "execute_result"
    },
    {
     "data": {
      "image/png": "[encoded data removed]",
      "text/plain": [
       "<Figure size 748.8x514.8 with 1 Axes>"
      ]
     },
     "metadata": {},
     "output_type": "display_data"
    }
   ],
   "source": [
    "from xgboost import plot_importance\n",
    "plot_importance(model)"
   ]
  },
  {
   "cell_type": "code",
   "execution_count": 31,
   "metadata": {
    "ExecuteTime": {
     "end_time": "2022-08-12T08:29:57.527493Z",
     "start_time": "2022-08-12T08:29:57.515524Z"
    }
   },
   "outputs": [
    {
     "name": "stdout",
     "output_type": "stream",
     "text": [
      "[[223  45  11  16   5  14   1  11   6  24  12   0   7   2]\n",
      " [ 65 178  12   5   4  10   3   3   1  21   9   1   6   3]\n",
      " [ 33  31  27   4   1   4   1   7   0   7   5   0   2   4]\n",
      " [ 36  27   3  34   0   5   0   4   0  11   4   0   1   2]\n",
      " [ 11  14   0   1   4   1   2   2   0   1   3   0   0   0]\n",
      " [ 29  27   2   8   0 100   0   3   1  16   4   0   2   1]\n",
      " [  4   3   1   0   0   2   3   0   1   1   1   0   0   0]\n",
      " [ 28  23   4   3   0   5   0  26   3   9   4   0   0   0]\n",
      " [ 12  11   0   1   0   4   1   4  13   7   5   0   0   0]\n",
      " [ 79  39   9   6   1  13   2   9   3  63   9   1   5   3]\n",
      " [ 37  39   6   5   2   4   2   4   0  10  33   1   3   0]\n",
      " [  2   5   0   2   0   0   0   0   0   1   2   0   0   1]\n",
      " [ 12   8   1   0   0   2   0   1   0   4   0   0   6   2]\n",
      " [  8   7   1   1   0   4   0   0   1   7   2   0   1   8]]\n"
     ]
    }
   ],
   "source": [
    "from sklearn.metrics import confusion_matrix\n",
    "print(confusion_matrix(y_test,pred))"
   ]
  },
  {
   "cell_type": "code",
   "execution_count": 32,
   "metadata": {
    "ExecuteTime": {
     "end_time": "2022-08-12T08:29:57.557411Z",
     "start_time": "2022-08-12T08:29:57.529488Z"
    }
   },
   "outputs": [
    {
     "name": "stdout",
     "output_type": "stream",
     "text": [
      "              precision    recall  f1-score   support\n",
      "\n",
      "           0       0.39      0.59      0.47       377\n",
      "           1       0.39      0.55      0.46       321\n",
      "           2       0.35      0.21      0.27       126\n",
      "           3       0.40      0.27      0.32       127\n",
      "           4       0.24      0.10      0.14        39\n",
      "           5       0.60      0.52      0.55       193\n",
      "           6       0.20      0.19      0.19        16\n",
      "           7       0.35      0.25      0.29       105\n",
      "           8       0.45      0.22      0.30        58\n",
      "           9       0.35      0.26      0.30       242\n",
      "          10       0.35      0.23      0.28       146\n",
      "          11       0.00      0.00      0.00        13\n",
      "          12       0.18      0.17      0.17        36\n",
      "          13       0.31      0.20      0.24        40\n",
      "\n",
      "    accuracy                           0.39      1839\n",
      "   macro avg       0.32      0.27      0.28      1839\n",
      "weighted avg       0.39      0.39      0.37      1839\n",
      "\n"
     ]
    }
   ],
   "source": [
    "from sklearn.metrics import classification_report\n",
    "print(classification_report(y_test,pred))"
   ]
  },
  {
   "cell_type": "markdown",
   "metadata": {},
   "source": [
    "### 불균형 class 분류"
   ]
  },
  {
   "cell_type": "code",
   "execution_count": 41,
   "metadata": {
    "ExecuteTime": {
     "end_time": "2022-08-11T12:16:34.825995Z",
     "start_time": "2022-08-11T12:16:34.318638Z"
    }
   },
   "outputs": [
    {
     "data": {
      "text/plain": [
       "Text(0.5, 1.0, 'second_cop')"
      ]
     },
     "execution_count": 41,
     "metadata": {},
     "output_type": "execute_result"
    },
    {
     "data": {
      "image/png": "[encoded data removed]",
      "text/plain": [
       "<Figure size 1296x576 with 1 Axes>"
      ]
     },
     "metadata": {},
     "output_type": "display_data"
    }
   ],
   "source": [
    "CopLabels=['A01', 'A02', 'A03','A04', 'A05', 'A06', 'B01','C01', 'C02','D01', 'D02', 'E01', 'L00','L01']\n",
    "f, ax = plt.subplots(figsize=(18, 8))\n",
    "sns.countplot(x=\"second_cop\", data=extend,order=CopLabels)\n",
    "ax.set_title('second_cop')"
   ]
  },
  {
   "cell_type": "markdown",
   "metadata": {},
   "source": [
    "- 각 class가 가지고 있는 data의 양의 차이가 크다.\n",
    "- 즉, 불균형 클래스 분류임을 알 수 있다.\n",
    "- SMOTE와 sample_weights를 이용해 불균형 데이터 문제를 해결하고자 한다."
   ]
  },
  {
   "cell_type": "markdown",
   "metadata": {},
   "source": [
    "#### SMOTE"
   ]
  },
  {
   "cell_type": "code",
   "execution_count": 42,
   "metadata": {
    "ExecuteTime": {
     "end_time": "2022-08-11T12:30:28.815705Z",
     "start_time": "2022-08-11T12:30:28.736991Z"
    }
   },
   "outputs": [],
   "source": [
    "from sklearn.tree import DecisionTreeClassifier\n",
    "from sklearn.datasets import load_iris\n",
    "from sklearn.model_selection import train_test_split\n",
    "from xgboost import XGBClassifier\n",
    "import warnings\n",
    "warnings.filterwarnings('ignore')\n",
    "\n",
    "# XGBClassifier 생성\n",
    "model = XGBClassifier(random_state=11)\n",
    "\n",
    "X=e3[[ 'A01', 'A02', 'L01', 'A03',\n",
    "       'C01', 'D02', 'A04', 'D01', 'A05', 'A06', 'E01', 'B01', 'C02', 'L00',\n",
    "      'online_prefer', 'Lpay', 'pd_c', 'clac_hlv_nm', 'clac_mcls_nm',\n",
    "       'br_c', 'ma_fem_dv', 'ages', 'zon_hlv', 'cycle_days', \n",
    "       'log_avg_buy_am']]\n",
    "y=e3.loc[:, 'second_cop']\n",
    "X_train , X_test , y_train , y_test = train_test_split(X, y, test_size=0.05, stratify=y, random_state=11)"
   ]
  },
  {
   "cell_type": "code",
   "execution_count": 43,
   "metadata": {
    "ExecuteTime": {
     "end_time": "2022-08-11T12:30:31.272285Z",
     "start_time": "2022-08-11T12:30:31.259246Z"
    }
   },
   "outputs": [],
   "source": [
    "train=pd.concat([X_train,y_train],axis=1)\n",
    "test=pd.concat([X_test,y_test],axis=1)"
   ]
  },
  {
   "cell_type": "code",
   "execution_count": 44,
   "metadata": {
    "ExecuteTime": {
     "end_time": "2022-08-11T12:30:35.648074Z",
     "start_time": "2022-08-11T12:30:32.780832Z"
    }
   },
   "outputs": [
    {
     "name": "stdout",
     "output_type": "stream",
     "text": [
      "SMOTE 적용 전 학습용 피처/레이블 데이터 세트 :  (34928, 25) (34928,)\n",
      "SMOTE 적용 후 학습용 피처/레이블 데이터 세트 : (104510, 25) (104510,)\n",
      "SMOTE 적용 후 값의 분포 :\n",
      " 0     7465\n",
      "1     7465\n",
      "2     7465\n",
      "3     7465\n",
      "4     7465\n",
      "5     7465\n",
      "6     7465\n",
      "7     7465\n",
      "8     7465\n",
      "9     7465\n",
      "10    7465\n",
      "11    7465\n",
      "12    7465\n",
      "13    7465\n",
      "Name: second_cop, dtype: int64\n"
     ]
    }
   ],
   "source": [
    "from imblearn.over_sampling import SMOTE\n",
    "\n",
    "smote = SMOTE(random_state=11)\n",
    "X_train_over, y_train_over = smote.fit_sample(X_train, y_train)\n",
    "print(\"SMOTE 적용 전 학습용 피처/레이블 데이터 세트 : \", X_train.shape, y_train.shape)\n",
    "print('SMOTE 적용 후 학습용 피처/레이블 데이터 세트 :', X_train_over.shape, y_train_over.shape)\n",
    "print('SMOTE 적용 후 값의 분포 :\\n',pd.Series(y_train_over).value_counts() )"
   ]
  },
  {
   "cell_type": "code",
   "execution_count": 45,
   "metadata": {
    "ExecuteTime": {
     "end_time": "2022-08-11T12:33:23.801875Z",
     "start_time": "2022-08-11T12:30:37.463347Z"
    }
   },
   "outputs": [
    {
     "data": {
      "text/plain": [
       "XGBClassifier(base_score=0.5, booster='gbtree', callbacks=None,\n",
       "              colsample_bylevel=1, colsample_bynode=1, colsample_bytree=1,\n",
       "              early_stopping_rounds=None, enable_categorical=False,\n",
       "              eval_metric=None, gamma=0, gpu_id=-1, grow_policy='depthwise',\n",
       "              importance_type=None, interaction_constraints='',\n",
       "              learning_rate=0.300000012, max_bin=256, max_cat_to_onehot=4,\n",
       "              max_delta_step=0, max_depth=6, max_leaves=0, min_child_weight=1,\n",
       "              missing=nan, monotone_constraints='()', n_estimators=100,\n",
       "              n_jobs=0, num_parallel_tree=1, objective='multi:softprob',\n",
       "              predictor='auto', random_state=11, reg_alpha=0, ...)"
      ]
     },
     "execution_count": 45,
     "metadata": {},
     "output_type": "execute_result"
    }
   ],
   "source": [
    "# XGBClassifier 학습. \n",
    "model.fit(X_train_over, y_train_over)"
   ]
  },
  {
   "cell_type": "code",
   "execution_count": 46,
   "metadata": {
    "ExecuteTime": {
     "end_time": "2022-08-11T12:33:23.880176Z",
     "start_time": "2022-08-11T12:33:23.805865Z"
    }
   },
   "outputs": [
    {
     "name": "stdout",
     "output_type": "stream",
     "text": [
      "accuracy : 0.32463295269168024\n"
     ]
    }
   ],
   "source": [
    "from sklearn.metrics import accuracy_score\n",
    "pred = model.predict(X_test)\n",
    "accuracy = accuracy_score(y_test , pred)\n",
    "print(f'accuracy : {accuracy}')"
   ]
  },
  {
   "cell_type": "code",
   "execution_count": 48,
   "metadata": {
    "ExecuteTime": {
     "end_time": "2022-08-11T12:33:23.954977Z",
     "start_time": "2022-08-11T12:33:23.914086Z"
    }
   },
   "outputs": [
    {
     "name": "stdout",
     "output_type": "stream",
     "text": [
      "[[159  48  24  14  10  24   8  19  15  34   6  10  12  10]\n",
      " [ 38 125  12   9  12  17   2  20  13  15  16   3  14  17]\n",
      " [ 22  21  32   4   7   6   0   7   3  11   8   3   3   4]\n",
      " [ 18  14   6  27   8   8   5   6   7   8   7   0   2   7]\n",
      " [  8   3   2   1  12   7   1   1   0   3   3   0   0   0]\n",
      " [ 24  16   2   3   3  92   4   3   1  11   6   1   5   4]\n",
      " [  4   3   1   1   0   2   4   0   2   2   1   0   0   1]\n",
      " [ 16  15   5   8   3   9   4  21   8   6   5   4   5   4]\n",
      " [  4   3   2   3   3   1   0   3  18   4   4   2   1   1]\n",
      " [ 46  24  16  12   7  18   7  13  15  48  15   3  12  12]\n",
      " [ 23  15  11   3   4   6   3   6   7  13  34   1   1  10]\n",
      " [  4   0   0   1   1   0   1   1   1   2   1   0   0   1]\n",
      " [  5   5   3   3   0   4   0   2   0   2   1   0  11   5]\n",
      " [  5   4   2   1   2   2   0   1   1   5   1   0   3  14]]\n"
     ]
    }
   ],
   "source": [
    "from sklearn.metrics import confusion_matrix\n",
    "print(confusion_matrix(y_test,pred))"
   ]
  },
  {
   "cell_type": "code",
   "execution_count": 47,
   "metadata": {
    "ExecuteTime": {
     "end_time": "2022-08-11T12:33:23.910096Z",
     "start_time": "2022-08-11T12:33:23.882171Z"
    }
   },
   "outputs": [
    {
     "name": "stdout",
     "output_type": "stream",
     "text": [
      "              precision    recall  f1-score   support\n",
      "\n",
      "           0       0.42      0.40      0.41       393\n",
      "           1       0.42      0.40      0.41       313\n",
      "           2       0.27      0.24      0.26       131\n",
      "           3       0.30      0.22      0.25       123\n",
      "           4       0.17      0.29      0.21        41\n",
      "           5       0.47      0.53      0.50       175\n",
      "           6       0.10      0.19      0.13        21\n",
      "           7       0.20      0.19      0.19       113\n",
      "           8       0.20      0.37      0.26        49\n",
      "           9       0.29      0.19      0.23       248\n",
      "          10       0.31      0.25      0.28       137\n",
      "          11       0.00      0.00      0.00        13\n",
      "          12       0.16      0.27      0.20        41\n",
      "          13       0.16      0.34      0.21        41\n",
      "\n",
      "    accuracy                           0.32      1839\n",
      "   macro avg       0.25      0.28      0.25      1839\n",
      "weighted avg       0.34      0.32      0.33      1839\n",
      "\n"
     ]
    }
   ],
   "source": [
    "from sklearn.metrics import classification_report\n",
    "print(classification_report(y_test,pred))"
   ]
  },
  {
   "cell_type": "markdown",
   "metadata": {},
   "source": [
    "#### sample_weights"
   ]
  },
  {
   "cell_type": "code",
   "execution_count": 49,
   "metadata": {
    "ExecuteTime": {
     "end_time": "2022-08-11T12:35:18.458715Z",
     "start_time": "2022-08-11T12:35:18.422914Z"
    }
   },
   "outputs": [],
   "source": [
    "from sklearn.tree import DecisionTreeClassifier\n",
    "from sklearn.datasets import load_iris\n",
    "from sklearn.model_selection import train_test_split\n",
    "from xgboost import XGBClassifier\n",
    "import warnings\n",
    "warnings.filterwarnings('ignore')\n",
    "\n",
    "# XGBClassifier 생성\n",
    "model = XGBClassifier(random_state=11)\n",
    "\n",
    "X=e3[[ 'A01', 'A02', 'L01', 'A03',\n",
    "       'C01', 'D02', 'A04', 'D01', 'A05', 'A06', 'E01', 'B01', 'C02', 'L00',\n",
    "      'online_prefer', 'Lpay', 'pd_c', 'clac_hlv_nm', 'clac_mcls_nm',\n",
    "       'br_c', 'ma_fem_dv', 'ages', 'zon_hlv', 'cycle_days', \n",
    "       'log_avg_buy_am']]\n",
    "y=e3.loc[:, 'second_cop']\n",
    "X_train , X_test , y_train , y_test = train_test_split(X, y, test_size=0.05, stratify=y, random_state=11)"
   ]
  },
  {
   "cell_type": "code",
   "execution_count": 54,
   "metadata": {
    "ExecuteTime": {
     "end_time": "2022-08-11T12:37:37.637810Z",
     "start_time": "2022-08-11T12:37:37.616698Z"
    }
   },
   "outputs": [],
   "source": [
    "sample_weights = compute_sample_weight(\n",
    "\n",
    "    class_weight='balanced',\n",
    "\n",
    "    y=y_train #provide your own target name\n",
    "\n",
    ")"
   ]
  },
  {
   "cell_type": "code",
   "execution_count": 55,
   "metadata": {
    "ExecuteTime": {
     "end_time": "2022-08-11T12:37:37.997009Z",
     "start_time": "2022-08-11T12:37:37.976868Z"
    }
   },
   "outputs": [
    {
     "data": {
      "text/plain": [
       "array([1.06983582, 0.33420725, 3.16606236, ..., 0.52913195, 0.41951524,\n",
       "       1.00034368])"
      ]
     },
     "execution_count": 55,
     "metadata": {},
     "output_type": "execute_result"
    }
   ],
   "source": [
    "sample_weights"
   ]
  },
  {
   "cell_type": "code",
   "execution_count": 56,
   "metadata": {
    "ExecuteTime": {
     "end_time": "2022-08-11T12:38:23.254167Z",
     "start_time": "2022-08-11T12:37:40.284462Z"
    }
   },
   "outputs": [
    {
     "data": {
      "text/plain": [
       "XGBClassifier(base_score=0.5, booster='gbtree', callbacks=None,\n",
       "              colsample_bylevel=1, colsample_bynode=1, colsample_bytree=1,\n",
       "              early_stopping_rounds=None, enable_categorical=False,\n",
       "              eval_metric=None, gamma=0, gpu_id=-1, grow_policy='depthwise',\n",
       "              importance_type=None, interaction_constraints='',\n",
       "              learning_rate=0.300000012, max_bin=256, max_cat_to_onehot=4,\n",
       "              max_delta_step=0, max_depth=6, max_leaves=0, min_child_weight=1,\n",
       "              missing=nan, monotone_constraints='()', n_estimators=100,\n",
       "              n_jobs=0, num_parallel_tree=1, objective='multi:softprob',\n",
       "              predictor='auto', random_state=11, reg_alpha=0, ...)"
      ]
     },
     "execution_count": 56,
     "metadata": {},
     "output_type": "execute_result"
    }
   ],
   "source": [
    "# XGBClassifier 학습. \n",
    "model.fit(X_train , y_train, sample_weight=sample_weights)"
   ]
  },
  {
   "cell_type": "code",
   "execution_count": 57,
   "metadata": {
    "ExecuteTime": {
     "end_time": "2022-08-11T12:38:23.315003Z",
     "start_time": "2022-08-11T12:38:23.258156Z"
    }
   },
   "outputs": [
    {
     "name": "stdout",
     "output_type": "stream",
     "text": [
      "accuracy : 0.33278955954323003\n"
     ]
    }
   ],
   "source": [
    "from sklearn.metrics import accuracy_score\n",
    "pred = model.predict(X_test)\n",
    "accuracy = accuracy_score(y_test , pred)\n",
    "print(f'accuracy : {accuracy}')"
   ]
  },
  {
   "cell_type": "markdown",
   "metadata": {},
   "source": [
    "## hyperparameter tunning"
   ]
  },
  {
   "cell_type": "markdown",
   "metadata": {},
   "source": [
    "- XGBoost에서 하이퍼파라미터 튜닝은 매우 중요하다.\n",
    "- WandB(Weights & Biases)를 이용해 xgboost hyperparameter tunning을 하고자 한다.\n",
    "- Colab이용"
   ]
  },
  {
   "cell_type": "code",
   "execution_count": 32,
   "metadata": {
    "colab": {
     "base_uri": "https://localhost:8080/",
     "height": 424
    },
    "executionInfo": {
     "elapsed": 319,
     "status": "ok",
     "timestamp": 1660269401947,
     "user": {
      "displayName": "Heejin Park",
      "userId": "14751649725316507028"
     },
     "user_tz": -540
    },
    "id": "29VLMwG5DlzX",
    "outputId": "0bf17a46-e34d-4c4a-fb20-77fa685faf0a",
    "scrolled": true
   },
   "outputs": [
    {
     "data": {
      "text/html": [
       "\n",
       "  <div id=\"df-a748eab1-001f-456f-a3af-10097d72e0ee\">\n",
       "    <div class=\"colab-df-container\">\n",
       "      <div>\n",
       "<style scoped>\n",
       "    .dataframe tbody tr th:only-of-type {\n",
       "        vertical-align: middle;\n",
       "    }\n",
       "\n",
       "    .dataframe tbody tr th {\n",
       "        vertical-align: top;\n",
       "    }\n",
       "\n",
       "    .dataframe thead th {\n",
       "        text-align: right;\n",
       "    }\n",
       "</style>\n",
       "<table border=\"1\" class=\"dataframe\">\n",
       "  <thead>\n",
       "    <tr style=\"text-align: right;\">\n",
       "      <th></th>\n",
       "      <th>cust</th>\n",
       "      <th>first_cop</th>\n",
       "      <th>first_cnt</th>\n",
       "      <th>second_cop</th>\n",
       "      <th>buy_am</th>\n",
       "      <th>online_prefer</th>\n",
       "      <th>cycle</th>\n",
       "      <th>Lpay</th>\n",
       "      <th>pd_c</th>\n",
       "      <th>clac_hlv_nm</th>\n",
       "      <th>...</th>\n",
       "      <th>D02</th>\n",
       "      <th>L00</th>\n",
       "      <th>D01</th>\n",
       "      <th>A05</th>\n",
       "      <th>E01</th>\n",
       "      <th>B01</th>\n",
       "      <th>C02</th>\n",
       "      <th>cycle_days</th>\n",
       "      <th>avg_buy_am</th>\n",
       "      <th>log_avg_buy_am</th>\n",
       "    </tr>\n",
       "  </thead>\n",
       "  <tbody>\n",
       "    <tr>\n",
       "      <th>0</th>\n",
       "      <td>M000034966</td>\n",
       "      <td>A01</td>\n",
       "      <td>1</td>\n",
       "      <td>3</td>\n",
       "      <td>140200.0</td>\n",
       "      <td>0.0</td>\n",
       "      <td>1번 구매</td>\n",
       "      <td>0</td>\n",
       "      <td>9</td>\n",
       "      <td>23</td>\n",
       "      <td>...</td>\n",
       "      <td>0</td>\n",
       "      <td>0</td>\n",
       "      <td>0</td>\n",
       "      <td>0</td>\n",
       "      <td>0</td>\n",
       "      <td>0</td>\n",
       "      <td>0</td>\n",
       "      <td>365</td>\n",
       "      <td>140200.000000</td>\n",
       "      <td>11.850832</td>\n",
       "    </tr>\n",
       "    <tr>\n",
       "      <th>1</th>\n",
       "      <td>M000034966</td>\n",
       "      <td>A04</td>\n",
       "      <td>1</td>\n",
       "      <td>1</td>\n",
       "      <td>12000.0</td>\n",
       "      <td>0.0</td>\n",
       "      <td>1번 구매</td>\n",
       "      <td>0</td>\n",
       "      <td>14</td>\n",
       "      <td>0</td>\n",
       "      <td>...</td>\n",
       "      <td>0</td>\n",
       "      <td>0</td>\n",
       "      <td>0</td>\n",
       "      <td>0</td>\n",
       "      <td>0</td>\n",
       "      <td>0</td>\n",
       "      <td>0</td>\n",
       "      <td>365</td>\n",
       "      <td>12000.000000</td>\n",
       "      <td>9.392745</td>\n",
       "    </tr>\n",
       "    <tr>\n",
       "      <th>2</th>\n",
       "      <td>M000136117</td>\n",
       "      <td>A02</td>\n",
       "      <td>1</td>\n",
       "      <td>5</td>\n",
       "      <td>24700.0</td>\n",
       "      <td>1.0</td>\n",
       "      <td>1번 구매</td>\n",
       "      <td>0</td>\n",
       "      <td>19</td>\n",
       "      <td>17</td>\n",
       "      <td>...</td>\n",
       "      <td>0</td>\n",
       "      <td>0</td>\n",
       "      <td>0</td>\n",
       "      <td>0</td>\n",
       "      <td>0</td>\n",
       "      <td>0</td>\n",
       "      <td>0</td>\n",
       "      <td>365</td>\n",
       "      <td>24700.000000</td>\n",
       "      <td>10.114599</td>\n",
       "    </tr>\n",
       "    <tr>\n",
       "      <th>3</th>\n",
       "      <td>M000225114</td>\n",
       "      <td>A01</td>\n",
       "      <td>4</td>\n",
       "      <td>2</td>\n",
       "      <td>82580.0</td>\n",
       "      <td>0.0</td>\n",
       "      <td>1 days 19:20:00</td>\n",
       "      <td>0</td>\n",
       "      <td>17</td>\n",
       "      <td>24</td>\n",
       "      <td>...</td>\n",
       "      <td>0</td>\n",
       "      <td>0</td>\n",
       "      <td>0</td>\n",
       "      <td>0</td>\n",
       "      <td>0</td>\n",
       "      <td>0</td>\n",
       "      <td>0</td>\n",
       "      <td>1</td>\n",
       "      <td>20645.000000</td>\n",
       "      <td>9.935277</td>\n",
       "    </tr>\n",
       "    <tr>\n",
       "      <th>4</th>\n",
       "      <td>M000261625</td>\n",
       "      <td>A01</td>\n",
       "      <td>3</td>\n",
       "      <td>9</td>\n",
       "      <td>441700.0</td>\n",
       "      <td>0.0</td>\n",
       "      <td>20 days 22:00:00</td>\n",
       "      <td>0</td>\n",
       "      <td>20</td>\n",
       "      <td>25</td>\n",
       "      <td>...</td>\n",
       "      <td>0</td>\n",
       "      <td>0</td>\n",
       "      <td>0</td>\n",
       "      <td>0</td>\n",
       "      <td>0</td>\n",
       "      <td>0</td>\n",
       "      <td>0</td>\n",
       "      <td>20</td>\n",
       "      <td>147233.333333</td>\n",
       "      <td>11.899781</td>\n",
       "    </tr>\n",
       "    <tr>\n",
       "      <th>...</th>\n",
       "      <td>...</td>\n",
       "      <td>...</td>\n",
       "      <td>...</td>\n",
       "      <td>...</td>\n",
       "      <td>...</td>\n",
       "      <td>...</td>\n",
       "      <td>...</td>\n",
       "      <td>...</td>\n",
       "      <td>...</td>\n",
       "      <td>...</td>\n",
       "      <td>...</td>\n",
       "      <td>...</td>\n",
       "      <td>...</td>\n",
       "      <td>...</td>\n",
       "      <td>...</td>\n",
       "      <td>...</td>\n",
       "      <td>...</td>\n",
       "      <td>...</td>\n",
       "      <td>...</td>\n",
       "      <td>...</td>\n",
       "      <td>...</td>\n",
       "    </tr>\n",
       "    <tr>\n",
       "      <th>36762</th>\n",
       "      <td>M999849895</td>\n",
       "      <td>A01</td>\n",
       "      <td>2</td>\n",
       "      <td>9</td>\n",
       "      <td>80950.0</td>\n",
       "      <td>0.0</td>\n",
       "      <td>0 days 01:00:00</td>\n",
       "      <td>0</td>\n",
       "      <td>3</td>\n",
       "      <td>1</td>\n",
       "      <td>...</td>\n",
       "      <td>0</td>\n",
       "      <td>0</td>\n",
       "      <td>0</td>\n",
       "      <td>0</td>\n",
       "      <td>0</td>\n",
       "      <td>0</td>\n",
       "      <td>0</td>\n",
       "      <td>0</td>\n",
       "      <td>40475.000000</td>\n",
       "      <td>10.608464</td>\n",
       "    </tr>\n",
       "    <tr>\n",
       "      <th>36763</th>\n",
       "      <td>M999926092</td>\n",
       "      <td>D02</td>\n",
       "      <td>1</td>\n",
       "      <td>9</td>\n",
       "      <td>29100.0</td>\n",
       "      <td>0.0</td>\n",
       "      <td>1번 구매</td>\n",
       "      <td>0</td>\n",
       "      <td>0</td>\n",
       "      <td>0</td>\n",
       "      <td>...</td>\n",
       "      <td>1</td>\n",
       "      <td>0</td>\n",
       "      <td>0</td>\n",
       "      <td>0</td>\n",
       "      <td>0</td>\n",
       "      <td>0</td>\n",
       "      <td>0</td>\n",
       "      <td>365</td>\n",
       "      <td>29100.000000</td>\n",
       "      <td>10.278528</td>\n",
       "    </tr>\n",
       "    <tr>\n",
       "      <th>36764</th>\n",
       "      <td>M999962961</td>\n",
       "      <td>A01</td>\n",
       "      <td>1</td>\n",
       "      <td>1</td>\n",
       "      <td>39000.0</td>\n",
       "      <td>0.0</td>\n",
       "      <td>1번 구매</td>\n",
       "      <td>0</td>\n",
       "      <td>10</td>\n",
       "      <td>0</td>\n",
       "      <td>...</td>\n",
       "      <td>0</td>\n",
       "      <td>0</td>\n",
       "      <td>0</td>\n",
       "      <td>0</td>\n",
       "      <td>0</td>\n",
       "      <td>0</td>\n",
       "      <td>0</td>\n",
       "      <td>365</td>\n",
       "      <td>39000.000000</td>\n",
       "      <td>10.571343</td>\n",
       "    </tr>\n",
       "    <tr>\n",
       "      <th>36765</th>\n",
       "      <td>M999962961</td>\n",
       "      <td>A02</td>\n",
       "      <td>1</td>\n",
       "      <td>2</td>\n",
       "      <td>54680.0</td>\n",
       "      <td>0.0</td>\n",
       "      <td>1번 구매</td>\n",
       "      <td>0</td>\n",
       "      <td>15</td>\n",
       "      <td>0</td>\n",
       "      <td>...</td>\n",
       "      <td>0</td>\n",
       "      <td>0</td>\n",
       "      <td>0</td>\n",
       "      <td>0</td>\n",
       "      <td>0</td>\n",
       "      <td>0</td>\n",
       "      <td>0</td>\n",
       "      <td>365</td>\n",
       "      <td>54680.000000</td>\n",
       "      <td>10.909272</td>\n",
       "    </tr>\n",
       "    <tr>\n",
       "      <th>36766</th>\n",
       "      <td>M999962961</td>\n",
       "      <td>A03</td>\n",
       "      <td>1</td>\n",
       "      <td>5</td>\n",
       "      <td>6990.0</td>\n",
       "      <td>0.0</td>\n",
       "      <td>1번 구매</td>\n",
       "      <td>0</td>\n",
       "      <td>15</td>\n",
       "      <td>0</td>\n",
       "      <td>...</td>\n",
       "      <td>0</td>\n",
       "      <td>0</td>\n",
       "      <td>0</td>\n",
       "      <td>0</td>\n",
       "      <td>0</td>\n",
       "      <td>0</td>\n",
       "      <td>0</td>\n",
       "      <td>365</td>\n",
       "      <td>6990.000000</td>\n",
       "      <td>8.852379</td>\n",
       "    </tr>\n",
       "  </tbody>\n",
       "</table>\n",
       "<p>36767 rows × 32 columns</p>\n",
       "</div>\n",
       "      <button class=\"colab-df-convert\" onclick=\"convertToInteractive('df-a748eab1-001f-456f-a3af-10097d72e0ee')\"\n",
       "              title=\"Convert this dataframe to an interactive table.\"\n",
       "              style=\"display:none;\">\n",
       "        \n",
       "  <svg xmlns=\"http://www.w3.org/2000/svg\" height=\"24px\"viewBox=\"0 0 24 24\"\n",
       "       width=\"24px\">\n",
       "    <path d=\"M0 0h24v24H0V0z\" fill=\"none\"/>\n",
       "    <path d=\"M18.56 5.44l.94 2.06.94-2.06 2.06-.94-2.06-.94-.94-2.06-.94 2.06-2.06.94zm-11 1L8.5 8.5l.94-2.06 2.06-.94-2.06-.94L8.5 2.5l-.94 2.06-2.06.94zm10 10l.94 2.06.94-2.06 2.06-.94-2.06-.94-.94-2.06-.94 2.06-2.06.94z\"/><path d=\"M17.41 7.96l-1.37-1.37c-.4-.4-.92-.59-1.43-.59-.52 0-1.04.2-1.43.59L10.3 9.45l-7.72 7.72c-.78.78-.78 2.05 0 2.83L4 21.41c.39.39.9.59 1.41.59.51 0 1.02-.2 1.41-.59l7.78-7.78 2.81-2.81c.8-.78.8-2.07 0-2.86zM5.41 20L4 18.59l7.72-7.72 1.47 1.35L5.41 20z\"/>\n",
       "  </svg>\n",
       "      </button>\n",
       "      \n",
       "  <style>\n",
       "    .colab-df-container {\n",
       "      display:flex;\n",
       "      flex-wrap:wrap;\n",
       "      gap: 12px;\n",
       "    }\n",
       "\n",
       "    .colab-df-convert {\n",
       "      background-color: #E8F0FE;\n",
       "      border: none;\n",
       "      border-radius: 50%;\n",
       "      cursor: pointer;\n",
       "      display: none;\n",
       "      fill: #1967D2;\n",
       "      height: 32px;\n",
       "      padding: 0 0 0 0;\n",
       "      width: 32px;\n",
       "    }\n",
       "\n",
       "    .colab-df-convert:hover {\n",
       "      background-color: #E2EBFA;\n",
       "      box-shadow: 0px 1px 2px rgba(60, 64, 67, 0.3), 0px 1px 3px 1px rgba(60, 64, 67, 0.15);\n",
       "      fill: #174EA6;\n",
       "    }\n",
       "\n",
       "    [theme=dark] .colab-df-convert {\n",
       "      background-color: #3B4455;\n",
       "      fill: #D2E3FC;\n",
       "    }\n",
       "\n",
       "    [theme=dark] .colab-df-convert:hover {\n",
       "      background-color: #434B5C;\n",
       "      box-shadow: 0px 1px 3px 1px rgba(0, 0, 0, 0.15);\n",
       "      filter: drop-shadow(0px 1px 2px rgba(0, 0, 0, 0.3));\n",
       "      fill: #FFFFFF;\n",
       "    }\n",
       "  </style>\n",
       "\n",
       "      <script>\n",
       "        const buttonEl =\n",
       "          document.querySelector('#df-a748eab1-001f-456f-a3af-10097d72e0ee button.colab-df-convert');\n",
       "        buttonEl.style.display =\n",
       "          google.colab.kernel.accessAllowed ? 'block' : 'none';\n",
       "\n",
       "        async function convertToInteractive(key) {\n",
       "          const element = document.querySelector('#df-a748eab1-001f-456f-a3af-10097d72e0ee');\n",
       "          const dataTable =\n",
       "            await google.colab.kernel.invokeFunction('convertToInteractive',\n",
       "                                                     [key], {});\n",
       "          if (!dataTable) return;\n",
       "\n",
       "          const docLinkHtml = 'Like what you see? Visit the ' +\n",
       "            '<a target=\"_blank\" href=https://colab.research.google.com/notebooks/data_table.ipynb>data table notebook</a>'\n",
       "            + ' to learn more about interactive tables.';\n",
       "          element.innerHTML = '';\n",
       "          dataTable['output_type'] = 'display_data';\n",
       "          await google.colab.output.renderOutput(dataTable, element);\n",
       "          const docLink = document.createElement('div');\n",
       "          docLink.innerHTML = docLinkHtml;\n",
       "          element.appendChild(docLink);\n",
       "        }\n",
       "      </script>\n",
       "    </div>\n",
       "  </div>\n",
       "  "
      ],
      "text/plain": [
       "             cust first_cop  first_cnt  second_cop    buy_am  online_prefer  \\\n",
       "0      M000034966       A01          1           3  140200.0            0.0   \n",
       "1      M000034966       A04          1           1   12000.0            0.0   \n",
       "2      M000136117       A02          1           5   24700.0            1.0   \n",
       "3      M000225114       A01          4           2   82580.0            0.0   \n",
       "4      M000261625       A01          3           9  441700.0            0.0   \n",
       "...           ...       ...        ...         ...       ...            ...   \n",
       "36762  M999849895       A01          2           9   80950.0            0.0   \n",
       "36763  M999926092       D02          1           9   29100.0            0.0   \n",
       "36764  M999962961       A01          1           1   39000.0            0.0   \n",
       "36765  M999962961       A02          1           2   54680.0            0.0   \n",
       "36766  M999962961       A03          1           5    6990.0            0.0   \n",
       "\n",
       "                  cycle  Lpay  pd_c  clac_hlv_nm  ...  D02  L00  D01  A05  \\\n",
       "0                 1번 구매     0     9           23  ...    0    0    0    0   \n",
       "1                 1번 구매     0    14            0  ...    0    0    0    0   \n",
       "2                 1번 구매     0    19           17  ...    0    0    0    0   \n",
       "3       1 days 19:20:00     0    17           24  ...    0    0    0    0   \n",
       "4      20 days 22:00:00     0    20           25  ...    0    0    0    0   \n",
       "...                 ...   ...   ...          ...  ...  ...  ...  ...  ...   \n",
       "36762   0 days 01:00:00     0     3            1  ...    0    0    0    0   \n",
       "36763             1번 구매     0     0            0  ...    1    0    0    0   \n",
       "36764             1번 구매     0    10            0  ...    0    0    0    0   \n",
       "36765             1번 구매     0    15            0  ...    0    0    0    0   \n",
       "36766             1번 구매     0    15            0  ...    0    0    0    0   \n",
       "\n",
       "       E01  B01  C02  cycle_days     avg_buy_am  log_avg_buy_am  \n",
       "0        0    0    0         365  140200.000000       11.850832  \n",
       "1        0    0    0         365   12000.000000        9.392745  \n",
       "2        0    0    0         365   24700.000000       10.114599  \n",
       "3        0    0    0           1   20645.000000        9.935277  \n",
       "4        0    0    0          20  147233.333333       11.899781  \n",
       "...    ...  ...  ...         ...            ...             ...  \n",
       "36762    0    0    0           0   40475.000000       10.608464  \n",
       "36763    0    0    0         365   29100.000000       10.278528  \n",
       "36764    0    0    0         365   39000.000000       10.571343  \n",
       "36765    0    0    0         365   54680.000000       10.909272  \n",
       "36766    0    0    0         365    6990.000000        8.852379  \n",
       "\n",
       "[36767 rows x 32 columns]"
      ]
     },
     "execution_count": 32,
     "metadata": {},
     "output_type": "execute_result"
    }
   ],
   "source": [
    "import pandas as pd\n",
    "\n",
    "ext_df = pd.read_csv('../3. LOTTO_데이터 및 모델 세이브 파일/예측 모델 데이터/extension.csv', index_col=0)\n",
    "ext_df"
   ]
  },
  {
   "cell_type": "code",
   "execution_count": 34,
   "metadata": {
    "executionInfo": {
     "elapsed": 4,
     "status": "ok",
     "timestamp": 1660269405414,
     "user": {
      "displayName": "Heejin Park",
      "userId": "14751649725316507028"
     },
     "user_tz": -540
    },
    "id": "JcMNNLWoFMjv"
   },
   "outputs": [],
   "source": [
    "X=ext_df[[ 'A01', 'A02', 'L01', 'A03',\n",
    "       'C01', 'D02', 'A04', 'D01', 'A05', 'A06', 'E01', 'B01', 'C02', 'L00',\n",
    "      'online_prefer', 'Lpay', 'pd_c', 'clac_hlv_nm', 'clac_mcls_nm',\n",
    "       'br_c', 'ma_fem_dv', 'ages', 'zon_hlv', 'cycle_days', \n",
    "       'log_avg_buy_am']]\n",
    "Y=ext_df.loc[:, 'second_cop']"
   ]
  },
  {
   "cell_type": "code",
   "execution_count": 35,
   "metadata": {
    "colab": {
     "base_uri": "https://localhost:8080/",
     "height": 424
    },
    "executionInfo": {
     "elapsed": 8,
     "status": "ok",
     "timestamp": 1660269406089,
     "user": {
      "displayName": "Heejin Park",
      "userId": "14751649725316507028"
     },
     "user_tz": -540
    },
    "id": "10bWHfrJDb2z",
    "outputId": "20b5bcf5-9525-4a12-a9c8-1dbb67f1b774"
   },
   "outputs": [
    {
     "data": {
      "text/html": [
       "\n",
       "  <div id=\"df-26e26185-59b1-4241-850e-06c29f3e33f9\">\n",
       "    <div class=\"colab-df-container\">\n",
       "      <div>\n",
       "<style scoped>\n",
       "    .dataframe tbody tr th:only-of-type {\n",
       "        vertical-align: middle;\n",
       "    }\n",
       "\n",
       "    .dataframe tbody tr th {\n",
       "        vertical-align: top;\n",
       "    }\n",
       "\n",
       "    .dataframe thead th {\n",
       "        text-align: right;\n",
       "    }\n",
       "</style>\n",
       "<table border=\"1\" class=\"dataframe\">\n",
       "  <thead>\n",
       "    <tr style=\"text-align: right;\">\n",
       "      <th></th>\n",
       "      <th>A01</th>\n",
       "      <th>A02</th>\n",
       "      <th>L01</th>\n",
       "      <th>A03</th>\n",
       "      <th>C01</th>\n",
       "      <th>D02</th>\n",
       "      <th>A04</th>\n",
       "      <th>D01</th>\n",
       "      <th>A05</th>\n",
       "      <th>A06</th>\n",
       "      <th>...</th>\n",
       "      <th>Lpay</th>\n",
       "      <th>pd_c</th>\n",
       "      <th>clac_hlv_nm</th>\n",
       "      <th>clac_mcls_nm</th>\n",
       "      <th>br_c</th>\n",
       "      <th>ma_fem_dv</th>\n",
       "      <th>ages</th>\n",
       "      <th>zon_hlv</th>\n",
       "      <th>cycle_days</th>\n",
       "      <th>log_avg_buy_am</th>\n",
       "    </tr>\n",
       "  </thead>\n",
       "  <tbody>\n",
       "    <tr>\n",
       "      <th>0</th>\n",
       "      <td>1</td>\n",
       "      <td>0</td>\n",
       "      <td>0</td>\n",
       "      <td>0</td>\n",
       "      <td>0</td>\n",
       "      <td>0</td>\n",
       "      <td>1</td>\n",
       "      <td>0</td>\n",
       "      <td>0</td>\n",
       "      <td>0</td>\n",
       "      <td>...</td>\n",
       "      <td>0</td>\n",
       "      <td>9</td>\n",
       "      <td>23</td>\n",
       "      <td>59</td>\n",
       "      <td>1</td>\n",
       "      <td>1</td>\n",
       "      <td>2</td>\n",
       "      <td>6</td>\n",
       "      <td>365</td>\n",
       "      <td>11.850832</td>\n",
       "    </tr>\n",
       "    <tr>\n",
       "      <th>1</th>\n",
       "      <td>1</td>\n",
       "      <td>0</td>\n",
       "      <td>0</td>\n",
       "      <td>0</td>\n",
       "      <td>0</td>\n",
       "      <td>0</td>\n",
       "      <td>1</td>\n",
       "      <td>0</td>\n",
       "      <td>0</td>\n",
       "      <td>0</td>\n",
       "      <td>...</td>\n",
       "      <td>0</td>\n",
       "      <td>14</td>\n",
       "      <td>0</td>\n",
       "      <td>0</td>\n",
       "      <td>66</td>\n",
       "      <td>1</td>\n",
       "      <td>2</td>\n",
       "      <td>6</td>\n",
       "      <td>365</td>\n",
       "      <td>9.392745</td>\n",
       "    </tr>\n",
       "    <tr>\n",
       "      <th>2</th>\n",
       "      <td>0</td>\n",
       "      <td>1</td>\n",
       "      <td>0</td>\n",
       "      <td>0</td>\n",
       "      <td>0</td>\n",
       "      <td>0</td>\n",
       "      <td>0</td>\n",
       "      <td>0</td>\n",
       "      <td>0</td>\n",
       "      <td>0</td>\n",
       "      <td>...</td>\n",
       "      <td>0</td>\n",
       "      <td>19</td>\n",
       "      <td>17</td>\n",
       "      <td>71</td>\n",
       "      <td>17</td>\n",
       "      <td>1</td>\n",
       "      <td>1</td>\n",
       "      <td>10</td>\n",
       "      <td>365</td>\n",
       "      <td>10.114599</td>\n",
       "    </tr>\n",
       "    <tr>\n",
       "      <th>3</th>\n",
       "      <td>4</td>\n",
       "      <td>0</td>\n",
       "      <td>0</td>\n",
       "      <td>0</td>\n",
       "      <td>0</td>\n",
       "      <td>0</td>\n",
       "      <td>0</td>\n",
       "      <td>0</td>\n",
       "      <td>0</td>\n",
       "      <td>0</td>\n",
       "      <td>...</td>\n",
       "      <td>0</td>\n",
       "      <td>17</td>\n",
       "      <td>24</td>\n",
       "      <td>0</td>\n",
       "      <td>1</td>\n",
       "      <td>1</td>\n",
       "      <td>2</td>\n",
       "      <td>16</td>\n",
       "      <td>1</td>\n",
       "      <td>9.935277</td>\n",
       "    </tr>\n",
       "    <tr>\n",
       "      <th>4</th>\n",
       "      <td>3</td>\n",
       "      <td>0</td>\n",
       "      <td>0</td>\n",
       "      <td>0</td>\n",
       "      <td>0</td>\n",
       "      <td>0</td>\n",
       "      <td>0</td>\n",
       "      <td>0</td>\n",
       "      <td>0</td>\n",
       "      <td>0</td>\n",
       "      <td>...</td>\n",
       "      <td>0</td>\n",
       "      <td>20</td>\n",
       "      <td>25</td>\n",
       "      <td>64</td>\n",
       "      <td>1</td>\n",
       "      <td>1</td>\n",
       "      <td>2</td>\n",
       "      <td>16</td>\n",
       "      <td>20</td>\n",
       "      <td>11.899781</td>\n",
       "    </tr>\n",
       "    <tr>\n",
       "      <th>...</th>\n",
       "      <td>...</td>\n",
       "      <td>...</td>\n",
       "      <td>...</td>\n",
       "      <td>...</td>\n",
       "      <td>...</td>\n",
       "      <td>...</td>\n",
       "      <td>...</td>\n",
       "      <td>...</td>\n",
       "      <td>...</td>\n",
       "      <td>...</td>\n",
       "      <td>...</td>\n",
       "      <td>...</td>\n",
       "      <td>...</td>\n",
       "      <td>...</td>\n",
       "      <td>...</td>\n",
       "      <td>...</td>\n",
       "      <td>...</td>\n",
       "      <td>...</td>\n",
       "      <td>...</td>\n",
       "      <td>...</td>\n",
       "      <td>...</td>\n",
       "    </tr>\n",
       "    <tr>\n",
       "      <th>36762</th>\n",
       "      <td>2</td>\n",
       "      <td>0</td>\n",
       "      <td>0</td>\n",
       "      <td>0</td>\n",
       "      <td>0</td>\n",
       "      <td>0</td>\n",
       "      <td>0</td>\n",
       "      <td>0</td>\n",
       "      <td>0</td>\n",
       "      <td>0</td>\n",
       "      <td>...</td>\n",
       "      <td>0</td>\n",
       "      <td>3</td>\n",
       "      <td>1</td>\n",
       "      <td>0</td>\n",
       "      <td>1</td>\n",
       "      <td>1</td>\n",
       "      <td>0</td>\n",
       "      <td>3</td>\n",
       "      <td>0</td>\n",
       "      <td>10.608464</td>\n",
       "    </tr>\n",
       "    <tr>\n",
       "      <th>36763</th>\n",
       "      <td>0</td>\n",
       "      <td>0</td>\n",
       "      <td>0</td>\n",
       "      <td>0</td>\n",
       "      <td>0</td>\n",
       "      <td>1</td>\n",
       "      <td>0</td>\n",
       "      <td>0</td>\n",
       "      <td>0</td>\n",
       "      <td>0</td>\n",
       "      <td>...</td>\n",
       "      <td>0</td>\n",
       "      <td>0</td>\n",
       "      <td>0</td>\n",
       "      <td>0</td>\n",
       "      <td>21</td>\n",
       "      <td>0</td>\n",
       "      <td>1</td>\n",
       "      <td>7</td>\n",
       "      <td>365</td>\n",
       "      <td>10.278528</td>\n",
       "    </tr>\n",
       "    <tr>\n",
       "      <th>36764</th>\n",
       "      <td>1</td>\n",
       "      <td>1</td>\n",
       "      <td>0</td>\n",
       "      <td>1</td>\n",
       "      <td>0</td>\n",
       "      <td>0</td>\n",
       "      <td>0</td>\n",
       "      <td>0</td>\n",
       "      <td>0</td>\n",
       "      <td>0</td>\n",
       "      <td>...</td>\n",
       "      <td>0</td>\n",
       "      <td>10</td>\n",
       "      <td>0</td>\n",
       "      <td>74</td>\n",
       "      <td>1</td>\n",
       "      <td>1</td>\n",
       "      <td>3</td>\n",
       "      <td>16</td>\n",
       "      <td>365</td>\n",
       "      <td>10.571343</td>\n",
       "    </tr>\n",
       "    <tr>\n",
       "      <th>36765</th>\n",
       "      <td>1</td>\n",
       "      <td>1</td>\n",
       "      <td>0</td>\n",
       "      <td>1</td>\n",
       "      <td>0</td>\n",
       "      <td>0</td>\n",
       "      <td>0</td>\n",
       "      <td>0</td>\n",
       "      <td>0</td>\n",
       "      <td>0</td>\n",
       "      <td>...</td>\n",
       "      <td>0</td>\n",
       "      <td>15</td>\n",
       "      <td>0</td>\n",
       "      <td>0</td>\n",
       "      <td>16</td>\n",
       "      <td>1</td>\n",
       "      <td>3</td>\n",
       "      <td>16</td>\n",
       "      <td>365</td>\n",
       "      <td>10.909272</td>\n",
       "    </tr>\n",
       "    <tr>\n",
       "      <th>36766</th>\n",
       "      <td>1</td>\n",
       "      <td>1</td>\n",
       "      <td>0</td>\n",
       "      <td>1</td>\n",
       "      <td>0</td>\n",
       "      <td>0</td>\n",
       "      <td>0</td>\n",
       "      <td>0</td>\n",
       "      <td>0</td>\n",
       "      <td>0</td>\n",
       "      <td>...</td>\n",
       "      <td>0</td>\n",
       "      <td>15</td>\n",
       "      <td>0</td>\n",
       "      <td>0</td>\n",
       "      <td>25</td>\n",
       "      <td>1</td>\n",
       "      <td>3</td>\n",
       "      <td>16</td>\n",
       "      <td>365</td>\n",
       "      <td>8.852379</td>\n",
       "    </tr>\n",
       "  </tbody>\n",
       "</table>\n",
       "<p>36767 rows × 25 columns</p>\n",
       "</div>\n",
       "      <button class=\"colab-df-convert\" onclick=\"convertToInteractive('df-26e26185-59b1-4241-850e-06c29f3e33f9')\"\n",
       "              title=\"Convert this dataframe to an interactive table.\"\n",
       "              style=\"display:none;\">\n",
       "        \n",
       "  <svg xmlns=\"http://www.w3.org/2000/svg\" height=\"24px\"viewBox=\"0 0 24 24\"\n",
       "       width=\"24px\">\n",
       "    <path d=\"M0 0h24v24H0V0z\" fill=\"none\"/>\n",
       "    <path d=\"M18.56 5.44l.94 2.06.94-2.06 2.06-.94-2.06-.94-.94-2.06-.94 2.06-2.06.94zm-11 1L8.5 8.5l.94-2.06 2.06-.94-2.06-.94L8.5 2.5l-.94 2.06-2.06.94zm10 10l.94 2.06.94-2.06 2.06-.94-2.06-.94-.94-2.06-.94 2.06-2.06.94z\"/><path d=\"M17.41 7.96l-1.37-1.37c-.4-.4-.92-.59-1.43-.59-.52 0-1.04.2-1.43.59L10.3 9.45l-7.72 7.72c-.78.78-.78 2.05 0 2.83L4 21.41c.39.39.9.59 1.41.59.51 0 1.02-.2 1.41-.59l7.78-7.78 2.81-2.81c.8-.78.8-2.07 0-2.86zM5.41 20L4 18.59l7.72-7.72 1.47 1.35L5.41 20z\"/>\n",
       "  </svg>\n",
       "      </button>\n",
       "      \n",
       "  <style>\n",
       "    .colab-df-container {\n",
       "      display:flex;\n",
       "      flex-wrap:wrap;\n",
       "      gap: 12px;\n",
       "    }\n",
       "\n",
       "    .colab-df-convert {\n",
       "      background-color: #E8F0FE;\n",
       "      border: none;\n",
       "      border-radius: 50%;\n",
       "      cursor: pointer;\n",
       "      display: none;\n",
       "      fill: #1967D2;\n",
       "      height: 32px;\n",
       "      padding: 0 0 0 0;\n",
       "      width: 32px;\n",
       "    }\n",
       "\n",
       "    .colab-df-convert:hover {\n",
       "      background-color: #E2EBFA;\n",
       "      box-shadow: 0px 1px 2px rgba(60, 64, 67, 0.3), 0px 1px 3px 1px rgba(60, 64, 67, 0.15);\n",
       "      fill: #174EA6;\n",
       "    }\n",
       "\n",
       "    [theme=dark] .colab-df-convert {\n",
       "      background-color: #3B4455;\n",
       "      fill: #D2E3FC;\n",
       "    }\n",
       "\n",
       "    [theme=dark] .colab-df-convert:hover {\n",
       "      background-color: #434B5C;\n",
       "      box-shadow: 0px 1px 3px 1px rgba(0, 0, 0, 0.15);\n",
       "      filter: drop-shadow(0px 1px 2px rgba(0, 0, 0, 0.3));\n",
       "      fill: #FFFFFF;\n",
       "    }\n",
       "  </style>\n",
       "\n",
       "      <script>\n",
       "        const buttonEl =\n",
       "          document.querySelector('#df-26e26185-59b1-4241-850e-06c29f3e33f9 button.colab-df-convert');\n",
       "        buttonEl.style.display =\n",
       "          google.colab.kernel.accessAllowed ? 'block' : 'none';\n",
       "\n",
       "        async function convertToInteractive(key) {\n",
       "          const element = document.querySelector('#df-26e26185-59b1-4241-850e-06c29f3e33f9');\n",
       "          const dataTable =\n",
       "            await google.colab.kernel.invokeFunction('convertToInteractive',\n",
       "                                                     [key], {});\n",
       "          if (!dataTable) return;\n",
       "\n",
       "          const docLinkHtml = 'Like what you see? Visit the ' +\n",
       "            '<a target=\"_blank\" href=https://colab.research.google.com/notebooks/data_table.ipynb>data table notebook</a>'\n",
       "            + ' to learn more about interactive tables.';\n",
       "          element.innerHTML = '';\n",
       "          dataTable['output_type'] = 'display_data';\n",
       "          await google.colab.output.renderOutput(dataTable, element);\n",
       "          const docLink = document.createElement('div');\n",
       "          docLink.innerHTML = docLinkHtml;\n",
       "          element.appendChild(docLink);\n",
       "        }\n",
       "      </script>\n",
       "    </div>\n",
       "  </div>\n",
       "  "
      ],
      "text/plain": [
       "       A01  A02  L01  A03  C01  D02  A04  D01  A05  A06  ...  Lpay  pd_c  \\\n",
       "0        1    0    0    0    0    0    1    0    0    0  ...     0     9   \n",
       "1        1    0    0    0    0    0    1    0    0    0  ...     0    14   \n",
       "2        0    1    0    0    0    0    0    0    0    0  ...     0    19   \n",
       "3        4    0    0    0    0    0    0    0    0    0  ...     0    17   \n",
       "4        3    0    0    0    0    0    0    0    0    0  ...     0    20   \n",
       "...    ...  ...  ...  ...  ...  ...  ...  ...  ...  ...  ...   ...   ...   \n",
       "36762    2    0    0    0    0    0    0    0    0    0  ...     0     3   \n",
       "36763    0    0    0    0    0    1    0    0    0    0  ...     0     0   \n",
       "36764    1    1    0    1    0    0    0    0    0    0  ...     0    10   \n",
       "36765    1    1    0    1    0    0    0    0    0    0  ...     0    15   \n",
       "36766    1    1    0    1    0    0    0    0    0    0  ...     0    15   \n",
       "\n",
       "       clac_hlv_nm  clac_mcls_nm  br_c  ma_fem_dv  ages  zon_hlv  cycle_days  \\\n",
       "0               23            59     1          1     2        6         365   \n",
       "1                0             0    66          1     2        6         365   \n",
       "2               17            71    17          1     1       10         365   \n",
       "3               24             0     1          1     2       16           1   \n",
       "4               25            64     1          1     2       16          20   \n",
       "...            ...           ...   ...        ...   ...      ...         ...   \n",
       "36762            1             0     1          1     0        3           0   \n",
       "36763            0             0    21          0     1        7         365   \n",
       "36764            0            74     1          1     3       16         365   \n",
       "36765            0             0    16          1     3       16         365   \n",
       "36766            0             0    25          1     3       16         365   \n",
       "\n",
       "       log_avg_buy_am  \n",
       "0           11.850832  \n",
       "1            9.392745  \n",
       "2           10.114599  \n",
       "3            9.935277  \n",
       "4           11.899781  \n",
       "...               ...  \n",
       "36762       10.608464  \n",
       "36763       10.278528  \n",
       "36764       10.571343  \n",
       "36765       10.909272  \n",
       "36766        8.852379  \n",
       "\n",
       "[36767 rows x 25 columns]"
      ]
     },
     "execution_count": 35,
     "metadata": {},
     "output_type": "execute_result"
    }
   ],
   "source": [
    "X"
   ]
  },
  {
   "cell_type": "code",
   "execution_count": 36,
   "metadata": {
    "colab": {
     "base_uri": "https://localhost:8080/"
    },
    "executionInfo": {
     "elapsed": 4,
     "status": "ok",
     "timestamp": 1660269408107,
     "user": {
      "displayName": "Heejin Park",
      "userId": "14751649725316507028"
     },
     "user_tz": -540
    },
    "id": "BDyN_1ZPDe2Q",
    "outputId": "60128b0f-af0f-4746-8756-caf9e9f329a0"
   },
   "outputs": [
    {
     "data": {
      "text/plain": [
       "0        3\n",
       "1        1\n",
       "2        5\n",
       "3        2\n",
       "4        9\n",
       "        ..\n",
       "36762    9\n",
       "36763    9\n",
       "36764    1\n",
       "36765    2\n",
       "36766    5\n",
       "Name: second_cop, Length: 36767, dtype: int64"
      ]
     },
     "execution_count": 36,
     "metadata": {},
     "output_type": "execute_result"
    }
   ],
   "source": [
    "Y"
   ]
  },
  {
   "cell_type": "code",
   "execution_count": 37,
   "metadata": {
    "colab": {
     "base_uri": "https://localhost:8080/"
    },
    "executionInfo": {
     "elapsed": 288,
     "status": "ok",
     "timestamp": 1660269410600,
     "user": {
      "displayName": "Heejin Park",
      "userId": "14751649725316507028"
     },
     "user_tz": -540
    },
    "id": "KS-YpOI7EBH5",
    "outputId": "46045a94-2b58-4e12-8210-799434d93f6b",
    "scrolled": true
   },
   "outputs": [
    {
     "data": {
      "text/plain": [
       "Index(['cust', 'first_cop', 'first_cnt', 'second_cop', 'buy_am',\n",
       "       'online_prefer', 'cycle', 'Lpay', 'pd_c', 'clac_hlv_nm', 'clac_mcls_nm',\n",
       "       'br_c', 'ma_fem_dv', 'ages', 'zon_hlv', 'A01', 'A04', 'A02', 'L01',\n",
       "       'A03', 'C01', 'A06', 'D02', 'L00', 'D01', 'A05', 'E01', 'B01', 'C02',\n",
       "       'cycle_days', 'avg_buy_am', 'log_avg_buy_am'],\n",
       "      dtype='object')"
      ]
     },
     "execution_count": 37,
     "metadata": {},
     "output_type": "execute_result"
    }
   ],
   "source": [
    "ext_df.columns"
   ]
  },
  {
   "cell_type": "code",
   "execution_count": 38,
   "metadata": {
    "colab": {
     "base_uri": "https://localhost:8080/",
     "height": 236
    },
    "executionInfo": {
     "elapsed": 31328,
     "status": "ok",
     "timestamp": 1660269519816,
     "user": {
      "displayName": "Heejin Park",
      "userId": "14751649725316507028"
     },
     "user_tz": -540
    },
    "id": "E-4tqbciqAU9",
    "outputId": "28e4a304-bb98-43cf-d100-18c98a389a1a"
   },
   "outputs": [
    {
     "name": "stdout",
     "output_type": "stream",
     "text": [
      "\u001b[K     |████████████████████████████████| 1.8 MB 5.1 MB/s \n",
      "\u001b[K     |████████████████████████████████| 157 kB 61.6 MB/s \n",
      "\u001b[K     |████████████████████████████████| 181 kB 72.2 MB/s \n",
      "\u001b[K     |████████████████████████████████| 63 kB 2.0 MB/s \n",
      "\u001b[K     |████████████████████████████████| 157 kB 70.0 MB/s \n",
      "\u001b[K     |████████████████████████████████| 157 kB 77.2 MB/s \n",
      "\u001b[K     |████████████████████████████████| 157 kB 78.7 MB/s \n",
      "\u001b[K     |████████████████████████████████| 156 kB 60.6 MB/s \n",
      "\u001b[?25h  Building wheel for pathtools (setup.py) ... \u001b[?25l\u001b[?25hdone\n"
     ]
    },
    {
     "data": {
      "application/javascript": [
       "\n",
       "        window._wandbApiKey = new Promise((resolve, reject) => {\n",
       "            function loadScript(url) {\n",
       "            return new Promise(function(resolve, reject) {\n",
       "                let newScript = document.createElement(\"script\");\n",
       "                newScript.onerror = reject;\n",
       "                newScript.onload = resolve;\n",
       "                document.body.appendChild(newScript);\n",
       "                newScript.src = url;\n",
       "            });\n",
       "            }\n",
       "            loadScript(\"https://cdn.jsdelivr.net/npm/postmate/build/postmate.min.js\").then(() => {\n",
       "            const iframe = document.createElement('iframe')\n",
       "            iframe.style.cssText = \"width:0;height:0;border:none\"\n",
       "            document.body.appendChild(iframe)\n",
       "            const handshake = new Postmate({\n",
       "                container: iframe,\n",
       "                url: 'https://wandb.ai/authorize'\n",
       "            });\n",
       "            const timeout = setTimeout(() => reject(\"Couldn't auto authenticate\"), 5000)\n",
       "            handshake.then(function(child) {\n",
       "                child.on('authorize', data => {\n",
       "                    clearTimeout(timeout)\n",
       "                    resolve(data)\n",
       "                });\n",
       "            });\n",
       "            })\n",
       "        });\n",
       "    "
      ],
      "text/plain": [
       "<IPython.core.display.Javascript object>"
      ]
     },
     "metadata": {},
     "output_type": "display_data"
    },
    {
     "name": "stderr",
     "output_type": "stream",
     "text": [
      "\u001b[34m\u001b[1mwandb\u001b[0m: Appending key for api.wandb.ai to your netrc file: /root/.netrc\n"
     ]
    },
    {
     "data": {
      "text/plain": [
       "True"
      ]
     },
     "execution_count": 38,
     "metadata": {},
     "output_type": "execute_result"
    }
   ],
   "source": [
    "!pip install wandb -qqq\n",
    "import wandb\n",
    "wandb.login()"
   ]
  },
  {
   "cell_type": "code",
   "execution_count": null,
   "metadata": {
    "id": "0BxJv1N05yTc"
   },
   "outputs": [],
   "source": [
    "sweep_config = {\n",
    "    \"method\": \"random\", # try grid or random\n",
    "    \"metric\": {\n",
    "      \"name\": \"accuracy\",\n",
    "      \"goal\": \"maximize\"   \n",
    "    },\n",
    "    \"parameters\": {\n",
    "        \"objective\": {\n",
    "            \"values\": ['multi:softmax']\n",
    "        },\n",
    "        \"n_estimators\": {\n",
    "            \"values\": [100,200,400]\n",
    "        },\n",
    "        \"max_depth\": {\n",
    "            \"values\": [6,8,10,12,14],\n",
    "        },\n",
    "        \"learning_rate\": {\n",
    "            \"values\": [0.01]\n",
    "        },\n",
    "        \"subsample\": {\n",
    "            \"values\": [1],\n",
    "        },\n",
    "        \"gamma\": {\n",
    "            \"values\": [0, 1, 2]\n",
    "        },\n",
    "        \"reg_lambda\":{\n",
    "            \"values\": [0, 1, 2, 3]\n",
    "        },\n",
    "        \"reg_alpha\":{\n",
    "            \"values\": [0, 1, 2]\n",
    "        },\n",
    "        \"min_child_weight\":{\n",
    "            \"values\": [1]\n",
    "        },\n",
    "        \"colsample_bytree\":{\n",
    "            \"values\": [1]\n",
    "        },\n",
    "        \"colsample_bylevel\":{\n",
    "            \"values\": [0.8]\n",
    "        },\n",
    "        \"random_state\":{\n",
    "            \"values\": [11]\n",
    "        }\n",
    "    }\n",
    "}"
   ]
  },
  {
   "cell_type": "code",
   "execution_count": null,
   "metadata": {
    "colab": {
     "base_uri": "https://localhost:8080/"
    },
    "id": "RrLli5vlzvZd",
    "outputId": "339ba0a3-8477-43cc-8ec8-b74e9b26b16b",
    "scrolled": true
   },
   "outputs": [
    {
     "name": "stdout",
     "output_type": "stream",
     "text": [
      "Create sweep with ID: cmsnlhru\n",
      "Sweep URL: https://wandb.ai/naian/lotto/sweeps/cmsnlhru\n"
     ]
    }
   ],
   "source": [
    "sweep_id = wandb.sweep(sweep_config, entity=\"naian\", project=\"lotto\")"
   ]
  },
  {
   "cell_type": "code",
   "execution_count": null,
   "metadata": {
    "id": "RsN0UMVVzzgb"
   },
   "outputs": [],
   "source": [
    "# XGBoost model for Pima Indians dataset\n",
    "from numpy import loadtxt\n",
    "from xgboost import XGBClassifier\n",
    "from sklearn.model_selection import train_test_split\n",
    "from sklearn.metrics import accuracy_score\n",
    "\n",
    "# load data\n",
    "def train():\n",
    "  config_defaults = {\n",
    "    \"booster\": \"gbtree\",\n",
    "    \"max_depth\": 3,\n",
    "    \"learning_rate\": 0.1,\n",
    "    \"subsample\": 1,\n",
    "    \"seed\": 34,\n",
    "    \"test_size\": 0.05,\n",
    "  }\n",
    "\n",
    "  wandb.init(project=\"lotto\", entity=\"naian\", config=config_defaults)  # defaults are over-ridden during the sweep\n",
    "  config = wandb.config\n",
    "\n",
    "  # load data and split into predictors and targets\n",
    "  #dataset = loadtxt(\"pima-indians-diabetes.data.csv\", delimiter=\",\")\n",
    "  #X, Y = dataset[:, :8], dataset[:, 8]\n",
    "\n",
    "  # split data into train and test sets\n",
    "  X_train, X_test, y_train, y_test = train_test_split(X, Y,\n",
    "                                                      test_size=config.test_size,\n",
    "                                                      random_state=config.seed)\n",
    "\n",
    "  # fit model on train\n",
    "  model = XGBClassifier(tree_method='gpu_hist',\n",
    "                        booster=config.booster,\n",
    "                        max_depth=config.max_depth,\n",
    "                        learning_rate=config.learning_rate,\n",
    "                        subsample=config.subsample,\n",
    "                        colsample_bylevel=config.colsample_bylevel,\n",
    "                        colsample_bytree=config.colsample_bytree,\n",
    "                        gamma=config.gamma,\n",
    "                        reg_lambda=config.reg_lambda,\n",
    "                        reg_alpha=config.reg_alpha,\n",
    "                        min_child_weight=config.min_child_weight,\n",
    "                        n_estimators=config.n_estimators,\n",
    "                        objective=config.objective,\n",
    "                        random_state=config.random_state)\n",
    "  model.fit(X_train, y_train)\n",
    "\n",
    "  # make predictions on test\n",
    "  y_pred = model.predict(X_test)\n",
    "  predictions = [round(value) for value in y_pred]\n",
    "\n",
    "  # evaluate predictions\n",
    "  accuracy = accuracy_score(y_test, predictions)\n",
    "  print(f\"Accuracy: {int(accuracy * 100.)}%\")\n",
    "  wandb.log({\"accuracy\": accuracy})"
   ]
  },
  {
   "cell_type": "code",
   "execution_count": null,
   "metadata": {},
   "outputs": [],
   "source": [
    "wandb.agent(sweep_id, train, count=200)"
   ]
  },
  {
   "cell_type": "markdown",
   "metadata": {},
   "source": [
    "## XGboost 최종모델"
   ]
  },
  {
   "cell_type": "code",
   "execution_count": 20,
   "metadata": {
    "colab": {
     "base_uri": "https://localhost:8080/"
    },
    "id": "kym_JRZYFxOL",
    "outputId": "e99a245b-d054-4e4f-f010-08bf056060ae",
    "scrolled": true
   },
   "outputs": [
    {
     "name": "stdout",
     "output_type": "stream",
     "text": [
      "Accuracy: 0.41163675910821096\n"
     ]
    }
   ],
   "source": [
    "import pickle\n",
    "\n",
    "# easy_sweep-dlrj\n",
    "from numpy import loadtxt\n",
    "from xgboost import XGBClassifier\n",
    "from sklearn.model_selection import train_test_split\n",
    "from sklearn.metrics import accuracy_score\n",
    "\n",
    "X_train, X_test, y_train, y_test = train_test_split(X, Y,\n",
    "                                                      test_size=0.05, stratify=Y,shuffle=True,\n",
    "                                                      random_state=34)\n",
    "\n",
    "model = XGBClassifier(tree_method='gpu_hist',\n",
    "                        booster='gbtree',\n",
    "                        max_depth=12,\n",
    "                        learning_rate=0.01,\n",
    "                        subsample=1,\n",
    "                        colsample_bylevel=0.8,\n",
    "                        colsample_bytree=1,\n",
    "                        gamma=0,\n",
    "                        reg_lambda=3,\n",
    "                        reg_alpha=0,\n",
    "                        min_child_weight=1,\n",
    "                        n_estimators=200,\n",
    "                        objective='multi:softmax',\n",
    "                        random_state=11)\n",
    "\n",
    "model.fit(X_train, y_train)\n",
    "    \n",
    "y_pred = model.predict(X_test)\n",
    "predictions = [round(value) for value in y_pred]\n",
    "\n",
    "# evaluate predictions\n",
    "accuracy = accuracy_score(y_test, predictions)\n",
    "print(f\"Accuracy: {accuracy}\")\n",
    "\n",
    "#파일명\n",
    "filename='xgb_model2.pickle'\n",
    "\n",
    "#모델 저장\n",
    "pickle.dump(model, open(filename, 'wb'))"
   ]
  },
  {
   "cell_type": "markdown",
   "metadata": {},
   "source": [
    "# Catboost"
   ]
  },
  {
   "cell_type": "markdown",
   "metadata": {
    "id": "2B1UzNKiczWO"
   },
   "source": [
    "## Import"
   ]
  },
  {
   "cell_type": "code",
   "execution_count": 1,
   "metadata": {
    "colab": {
     "base_uri": "https://localhost:8080/"
    },
    "id": "irXsnHYKQiJ-",
    "outputId": "c7755af1-42dd-4ad8-bc4d-0f1fe845e166"
   },
   "outputs": [
    {
     "name": "stdout",
     "output_type": "stream",
     "text": [
      "Looking in indexes: https://pypi.org/simple, https://us-python.pkg.dev/colab-wheels/public/simple/\n",
      "Collecting catboost\n",
      "  Downloading catboost-1.0.6-cp37-none-manylinux1_x86_64.whl (76.6 MB)\n",
      "\u001b[K     |████████████████████████████████| 76.6 MB 1.2 MB/s \n",
      "\u001b[?25hRequirement already satisfied: plotly in /usr/local/lib/python3.7/dist-packages (from catboost) (5.5.0)\n",
      "Requirement already satisfied: six in /usr/local/lib/python3.7/dist-packages (from catboost) (1.15.0)\n",
      "Requirement already satisfied: matplotlib in /usr/local/lib/python3.7/dist-packages (from catboost) (3.2.2)\n",
      "Requirement already satisfied: scipy in /usr/local/lib/python3.7/dist-packages (from catboost) (1.7.3)\n",
      "Requirement already satisfied: pandas>=0.24.0 in /usr/local/lib/python3.7/dist-packages (from catboost) (1.3.5)\n",
      "Requirement already satisfied: numpy>=1.16.0 in /usr/local/lib/python3.7/dist-packages (from catboost) (1.21.6)\n",
      "Requirement already satisfied: graphviz in /usr/local/lib/python3.7/dist-packages (from catboost) (0.10.1)\n",
      "Requirement already satisfied: python-dateutil>=2.7.3 in /usr/local/lib/python3.7/dist-packages (from pandas>=0.24.0->catboost) (2.8.2)\n",
      "Requirement already satisfied: pytz>=2017.3 in /usr/local/lib/python3.7/dist-packages (from pandas>=0.24.0->catboost) (2022.1)\n",
      "Requirement already satisfied: cycler>=0.10 in /usr/local/lib/python3.7/dist-packages (from matplotlib->catboost) (0.11.0)\n",
      "Requirement already satisfied: kiwisolver>=1.0.1 in /usr/local/lib/python3.7/dist-packages (from matplotlib->catboost) (1.4.4)\n",
      "Requirement already satisfied: pyparsing!=2.0.4,!=2.1.2,!=2.1.6,>=2.0.1 in /usr/local/lib/python3.7/dist-packages (from matplotlib->catboost) (3.0.9)\n",
      "Requirement already satisfied: typing-extensions in /usr/local/lib/python3.7/dist-packages (from kiwisolver>=1.0.1->matplotlib->catboost) (4.1.1)\n",
      "Requirement already satisfied: tenacity>=6.2.0 in /usr/local/lib/python3.7/dist-packages (from plotly->catboost) (8.0.1)\n",
      "Installing collected packages: catboost\n",
      "Successfully installed catboost-1.0.6\n"
     ]
    }
   ],
   "source": [
    "!pip install catboost"
   ]
  },
  {
   "cell_type": "code",
   "execution_count": 2,
   "metadata": {
    "colab": {
     "base_uri": "https://localhost:8080/"
    },
    "id": "rIM7wI6GQrjX",
    "outputId": "3baeb3f1-5258-4510-a36e-a56438829c93"
   },
   "outputs": [
    {
     "name": "stdout",
     "output_type": "stream",
     "text": [
      "Looking in indexes: https://pypi.org/simple, https://us-python.pkg.dev/colab-wheels/public/simple/\n",
      "Collecting category_encoders\n",
      "  Downloading category_encoders-2.5.0-py2.py3-none-any.whl (69 kB)\n",
      "\u001b[K     |████████████████████████████████| 69 kB 4.8 MB/s \n",
      "\u001b[?25hRequirement already satisfied: numpy>=1.14.0 in /usr/local/lib/python3.7/dist-packages (from category_encoders) (1.21.6)\n",
      "Requirement already satisfied: patsy>=0.5.1 in /usr/local/lib/python3.7/dist-packages (from category_encoders) (0.5.2)\n",
      "Requirement already satisfied: pandas>=1.0.5 in /usr/local/lib/python3.7/dist-packages (from category_encoders) (1.3.5)\n",
      "Requirement already satisfied: scipy>=1.0.0 in /usr/local/lib/python3.7/dist-packages (from category_encoders) (1.7.3)\n",
      "Requirement already satisfied: statsmodels>=0.9.0 in /usr/local/lib/python3.7/dist-packages (from category_encoders) (0.10.2)\n",
      "Requirement already satisfied: scikit-learn>=0.20.0 in /usr/local/lib/python3.7/dist-packages (from category_encoders) (1.0.2)\n",
      "Requirement already satisfied: pytz>=2017.3 in /usr/local/lib/python3.7/dist-packages (from pandas>=1.0.5->category_encoders) (2022.1)\n",
      "Requirement already satisfied: python-dateutil>=2.7.3 in /usr/local/lib/python3.7/dist-packages (from pandas>=1.0.5->category_encoders) (2.8.2)\n",
      "Requirement already satisfied: six in /usr/local/lib/python3.7/dist-packages (from patsy>=0.5.1->category_encoders) (1.15.0)\n",
      "Requirement already satisfied: joblib>=0.11 in /usr/local/lib/python3.7/dist-packages (from scikit-learn>=0.20.0->category_encoders) (1.1.0)\n",
      "Requirement already satisfied: threadpoolctl>=2.0.0 in /usr/local/lib/python3.7/dist-packages (from scikit-learn>=0.20.0->category_encoders) (3.1.0)\n",
      "Installing collected packages: category-encoders\n",
      "Successfully installed category-encoders-2.5.0\n"
     ]
    }
   ],
   "source": [
    "!pip install category_encoders"
   ]
  },
  {
   "cell_type": "code",
   "execution_count": 3,
   "metadata": {
    "id": "oz3A9XXFQg_K"
   },
   "outputs": [],
   "source": [
    "import numpy as np\n",
    "import pandas as pd\n",
    "import seaborn as sns\n",
    "import matplotlib.pyplot as plt\n",
    "import warnings, random\n",
    "warnings.filterwarnings(action='ignore')\n",
    "\n",
    "from sklearn.metrics import log_loss\n",
    "from sklearn.preprocessing import StandardScaler\n",
    "from category_encoders.ordinal import OrdinalEncoder\n",
    "from sklearn.model_selection import StratifiedKFold\n",
    "\n",
    "from sklearn.cluster import KMeans\n",
    "from catboost import CatBoostClassifier, Pool"
   ]
  },
  {
   "cell_type": "markdown",
   "metadata": {
    "id": "Hgxj1Qnoc49g"
   },
   "source": [
    "## Data Load"
   ]
  },
  {
   "cell_type": "code",
   "execution_count": 92,
   "metadata": {
    "colab": {
     "base_uri": "https://localhost:8080/",
     "height": 661
    },
    "id": "F_L3Y-2tQsxw",
    "outputId": "8b2224af-172d-4201-b91e-b5f580d7d0c2"
   },
   "outputs": [
    {
     "data": {
      "text/html": [
       "\n",
       "  <div id=\"df-f4d29e1b-80b6-47ef-bbb6-42cdb19c877e\">\n",
       "    <div class=\"colab-df-container\">\n",
       "      <div>\n",
       "<style scoped>\n",
       "    .dataframe tbody tr th:only-of-type {\n",
       "        vertical-align: middle;\n",
       "    }\n",
       "\n",
       "    .dataframe tbody tr th {\n",
       "        vertical-align: top;\n",
       "    }\n",
       "\n",
       "    .dataframe thead th {\n",
       "        text-align: right;\n",
       "    }\n",
       "</style>\n",
       "<table border=\"1\" class=\"dataframe\">\n",
       "  <thead>\n",
       "    <tr style=\"text-align: right;\">\n",
       "      <th></th>\n",
       "      <th>cust</th>\n",
       "      <th>first_cop</th>\n",
       "      <th>first_cnt</th>\n",
       "      <th>second_cop</th>\n",
       "      <th>buy_am</th>\n",
       "      <th>online_prefer</th>\n",
       "      <th>cycle</th>\n",
       "      <th>Lpay</th>\n",
       "      <th>pd_c</th>\n",
       "      <th>clac_hlv_nm</th>\n",
       "      <th>...</th>\n",
       "      <th>D02</th>\n",
       "      <th>L00</th>\n",
       "      <th>D01</th>\n",
       "      <th>A05</th>\n",
       "      <th>E01</th>\n",
       "      <th>B01</th>\n",
       "      <th>C02</th>\n",
       "      <th>cycle_days</th>\n",
       "      <th>avg_buy_am</th>\n",
       "      <th>log_avg_buy_am</th>\n",
       "    </tr>\n",
       "  </thead>\n",
       "  <tbody>\n",
       "    <tr>\n",
       "      <th>0</th>\n",
       "      <td>M000034966</td>\n",
       "      <td>A01</td>\n",
       "      <td>1</td>\n",
       "      <td>3</td>\n",
       "      <td>140200.0</td>\n",
       "      <td>0.0</td>\n",
       "      <td>1번 구매</td>\n",
       "      <td>0</td>\n",
       "      <td>9</td>\n",
       "      <td>23</td>\n",
       "      <td>...</td>\n",
       "      <td>0</td>\n",
       "      <td>0</td>\n",
       "      <td>0</td>\n",
       "      <td>0</td>\n",
       "      <td>0</td>\n",
       "      <td>0</td>\n",
       "      <td>0</td>\n",
       "      <td>365</td>\n",
       "      <td>140200.000000</td>\n",
       "      <td>11.850832</td>\n",
       "    </tr>\n",
       "    <tr>\n",
       "      <th>1</th>\n",
       "      <td>M000034966</td>\n",
       "      <td>A04</td>\n",
       "      <td>1</td>\n",
       "      <td>1</td>\n",
       "      <td>12000.0</td>\n",
       "      <td>0.0</td>\n",
       "      <td>1번 구매</td>\n",
       "      <td>0</td>\n",
       "      <td>14</td>\n",
       "      <td>0</td>\n",
       "      <td>...</td>\n",
       "      <td>0</td>\n",
       "      <td>0</td>\n",
       "      <td>0</td>\n",
       "      <td>0</td>\n",
       "      <td>0</td>\n",
       "      <td>0</td>\n",
       "      <td>0</td>\n",
       "      <td>365</td>\n",
       "      <td>12000.000000</td>\n",
       "      <td>9.392745</td>\n",
       "    </tr>\n",
       "    <tr>\n",
       "      <th>2</th>\n",
       "      <td>M000136117</td>\n",
       "      <td>A02</td>\n",
       "      <td>1</td>\n",
       "      <td>5</td>\n",
       "      <td>24700.0</td>\n",
       "      <td>1.0</td>\n",
       "      <td>1번 구매</td>\n",
       "      <td>0</td>\n",
       "      <td>19</td>\n",
       "      <td>17</td>\n",
       "      <td>...</td>\n",
       "      <td>0</td>\n",
       "      <td>0</td>\n",
       "      <td>0</td>\n",
       "      <td>0</td>\n",
       "      <td>0</td>\n",
       "      <td>0</td>\n",
       "      <td>0</td>\n",
       "      <td>365</td>\n",
       "      <td>24700.000000</td>\n",
       "      <td>10.114599</td>\n",
       "    </tr>\n",
       "    <tr>\n",
       "      <th>3</th>\n",
       "      <td>M000225114</td>\n",
       "      <td>A01</td>\n",
       "      <td>4</td>\n",
       "      <td>2</td>\n",
       "      <td>82580.0</td>\n",
       "      <td>0.0</td>\n",
       "      <td>1 days 19:20:00</td>\n",
       "      <td>0</td>\n",
       "      <td>17</td>\n",
       "      <td>24</td>\n",
       "      <td>...</td>\n",
       "      <td>0</td>\n",
       "      <td>0</td>\n",
       "      <td>0</td>\n",
       "      <td>0</td>\n",
       "      <td>0</td>\n",
       "      <td>0</td>\n",
       "      <td>0</td>\n",
       "      <td>1</td>\n",
       "      <td>20645.000000</td>\n",
       "      <td>9.935277</td>\n",
       "    </tr>\n",
       "    <tr>\n",
       "      <th>4</th>\n",
       "      <td>M000261625</td>\n",
       "      <td>A01</td>\n",
       "      <td>3</td>\n",
       "      <td>9</td>\n",
       "      <td>441700.0</td>\n",
       "      <td>0.0</td>\n",
       "      <td>20 days 22:00:00</td>\n",
       "      <td>0</td>\n",
       "      <td>20</td>\n",
       "      <td>25</td>\n",
       "      <td>...</td>\n",
       "      <td>0</td>\n",
       "      <td>0</td>\n",
       "      <td>0</td>\n",
       "      <td>0</td>\n",
       "      <td>0</td>\n",
       "      <td>0</td>\n",
       "      <td>0</td>\n",
       "      <td>20</td>\n",
       "      <td>147233.333333</td>\n",
       "      <td>11.899781</td>\n",
       "    </tr>\n",
       "    <tr>\n",
       "      <th>...</th>\n",
       "      <td>...</td>\n",
       "      <td>...</td>\n",
       "      <td>...</td>\n",
       "      <td>...</td>\n",
       "      <td>...</td>\n",
       "      <td>...</td>\n",
       "      <td>...</td>\n",
       "      <td>...</td>\n",
       "      <td>...</td>\n",
       "      <td>...</td>\n",
       "      <td>...</td>\n",
       "      <td>...</td>\n",
       "      <td>...</td>\n",
       "      <td>...</td>\n",
       "      <td>...</td>\n",
       "      <td>...</td>\n",
       "      <td>...</td>\n",
       "      <td>...</td>\n",
       "      <td>...</td>\n",
       "      <td>...</td>\n",
       "      <td>...</td>\n",
       "    </tr>\n",
       "    <tr>\n",
       "      <th>36762</th>\n",
       "      <td>M999849895</td>\n",
       "      <td>A01</td>\n",
       "      <td>2</td>\n",
       "      <td>9</td>\n",
       "      <td>80950.0</td>\n",
       "      <td>0.0</td>\n",
       "      <td>0 days 01:00:00</td>\n",
       "      <td>0</td>\n",
       "      <td>3</td>\n",
       "      <td>1</td>\n",
       "      <td>...</td>\n",
       "      <td>0</td>\n",
       "      <td>0</td>\n",
       "      <td>0</td>\n",
       "      <td>0</td>\n",
       "      <td>0</td>\n",
       "      <td>0</td>\n",
       "      <td>0</td>\n",
       "      <td>0</td>\n",
       "      <td>40475.000000</td>\n",
       "      <td>10.608464</td>\n",
       "    </tr>\n",
       "    <tr>\n",
       "      <th>36763</th>\n",
       "      <td>M999926092</td>\n",
       "      <td>D02</td>\n",
       "      <td>1</td>\n",
       "      <td>9</td>\n",
       "      <td>29100.0</td>\n",
       "      <td>0.0</td>\n",
       "      <td>1번 구매</td>\n",
       "      <td>0</td>\n",
       "      <td>0</td>\n",
       "      <td>0</td>\n",
       "      <td>...</td>\n",
       "      <td>1</td>\n",
       "      <td>0</td>\n",
       "      <td>0</td>\n",
       "      <td>0</td>\n",
       "      <td>0</td>\n",
       "      <td>0</td>\n",
       "      <td>0</td>\n",
       "      <td>365</td>\n",
       "      <td>29100.000000</td>\n",
       "      <td>10.278528</td>\n",
       "    </tr>\n",
       "    <tr>\n",
       "      <th>36764</th>\n",
       "      <td>M999962961</td>\n",
       "      <td>A01</td>\n",
       "      <td>1</td>\n",
       "      <td>1</td>\n",
       "      <td>39000.0</td>\n",
       "      <td>0.0</td>\n",
       "      <td>1번 구매</td>\n",
       "      <td>0</td>\n",
       "      <td>10</td>\n",
       "      <td>0</td>\n",
       "      <td>...</td>\n",
       "      <td>0</td>\n",
       "      <td>0</td>\n",
       "      <td>0</td>\n",
       "      <td>0</td>\n",
       "      <td>0</td>\n",
       "      <td>0</td>\n",
       "      <td>0</td>\n",
       "      <td>365</td>\n",
       "      <td>39000.000000</td>\n",
       "      <td>10.571343</td>\n",
       "    </tr>\n",
       "    <tr>\n",
       "      <th>36765</th>\n",
       "      <td>M999962961</td>\n",
       "      <td>A02</td>\n",
       "      <td>1</td>\n",
       "      <td>2</td>\n",
       "      <td>54680.0</td>\n",
       "      <td>0.0</td>\n",
       "      <td>1번 구매</td>\n",
       "      <td>0</td>\n",
       "      <td>15</td>\n",
       "      <td>0</td>\n",
       "      <td>...</td>\n",
       "      <td>0</td>\n",
       "      <td>0</td>\n",
       "      <td>0</td>\n",
       "      <td>0</td>\n",
       "      <td>0</td>\n",
       "      <td>0</td>\n",
       "      <td>0</td>\n",
       "      <td>365</td>\n",
       "      <td>54680.000000</td>\n",
       "      <td>10.909272</td>\n",
       "    </tr>\n",
       "    <tr>\n",
       "      <th>36766</th>\n",
       "      <td>M999962961</td>\n",
       "      <td>A03</td>\n",
       "      <td>1</td>\n",
       "      <td>5</td>\n",
       "      <td>6990.0</td>\n",
       "      <td>0.0</td>\n",
       "      <td>1번 구매</td>\n",
       "      <td>0</td>\n",
       "      <td>15</td>\n",
       "      <td>0</td>\n",
       "      <td>...</td>\n",
       "      <td>0</td>\n",
       "      <td>0</td>\n",
       "      <td>0</td>\n",
       "      <td>0</td>\n",
       "      <td>0</td>\n",
       "      <td>0</td>\n",
       "      <td>0</td>\n",
       "      <td>365</td>\n",
       "      <td>6990.000000</td>\n",
       "      <td>8.852379</td>\n",
       "    </tr>\n",
       "  </tbody>\n",
       "</table>\n",
       "<p>36767 rows × 32 columns</p>\n",
       "</div>\n",
       "      <button class=\"colab-df-convert\" onclick=\"convertToInteractive('df-f4d29e1b-80b6-47ef-bbb6-42cdb19c877e')\"\n",
       "              title=\"Convert this dataframe to an interactive table.\"\n",
       "              style=\"display:none;\">\n",
       "        \n",
       "  <svg xmlns=\"http://www.w3.org/2000/svg\" height=\"24px\"viewBox=\"0 0 24 24\"\n",
       "       width=\"24px\">\n",
       "    <path d=\"M0 0h24v24H0V0z\" fill=\"none\"/>\n",
       "    <path d=\"M18.56 5.44l.94 2.06.94-2.06 2.06-.94-2.06-.94-.94-2.06-.94 2.06-2.06.94zm-11 1L8.5 8.5l.94-2.06 2.06-.94-2.06-.94L8.5 2.5l-.94 2.06-2.06.94zm10 10l.94 2.06.94-2.06 2.06-.94-2.06-.94-.94-2.06-.94 2.06-2.06.94z\"/><path d=\"M17.41 7.96l-1.37-1.37c-.4-.4-.92-.59-1.43-.59-.52 0-1.04.2-1.43.59L10.3 9.45l-7.72 7.72c-.78.78-.78 2.05 0 2.83L4 21.41c.39.39.9.59 1.41.59.51 0 1.02-.2 1.41-.59l7.78-7.78 2.81-2.81c.8-.78.8-2.07 0-2.86zM5.41 20L4 18.59l7.72-7.72 1.47 1.35L5.41 20z\"/>\n",
       "  </svg>\n",
       "      </button>\n",
       "      \n",
       "  <style>\n",
       "    .colab-df-container {\n",
       "      display:flex;\n",
       "      flex-wrap:wrap;\n",
       "      gap: 12px;\n",
       "    }\n",
       "\n",
       "    .colab-df-convert {\n",
       "      background-color: #E8F0FE;\n",
       "      border: none;\n",
       "      border-radius: 50%;\n",
       "      cursor: pointer;\n",
       "      display: none;\n",
       "      fill: #1967D2;\n",
       "      height: 32px;\n",
       "      padding: 0 0 0 0;\n",
       "      width: 32px;\n",
       "    }\n",
       "\n",
       "    .colab-df-convert:hover {\n",
       "      background-color: #E2EBFA;\n",
       "      box-shadow: 0px 1px 2px rgba(60, 64, 67, 0.3), 0px 1px 3px 1px rgba(60, 64, 67, 0.15);\n",
       "      fill: #174EA6;\n",
       "    }\n",
       "\n",
       "    [theme=dark] .colab-df-convert {\n",
       "      background-color: #3B4455;\n",
       "      fill: #D2E3FC;\n",
       "    }\n",
       "\n",
       "    [theme=dark] .colab-df-convert:hover {\n",
       "      background-color: #434B5C;\n",
       "      box-shadow: 0px 1px 3px 1px rgba(0, 0, 0, 0.15);\n",
       "      filter: drop-shadow(0px 1px 2px rgba(0, 0, 0, 0.3));\n",
       "      fill: #FFFFFF;\n",
       "    }\n",
       "  </style>\n",
       "\n",
       "      <script>\n",
       "        const buttonEl =\n",
       "          document.querySelector('#df-f4d29e1b-80b6-47ef-bbb6-42cdb19c877e button.colab-df-convert');\n",
       "        buttonEl.style.display =\n",
       "          google.colab.kernel.accessAllowed ? 'block' : 'none';\n",
       "\n",
       "        async function convertToInteractive(key) {\n",
       "          const element = document.querySelector('#df-f4d29e1b-80b6-47ef-bbb6-42cdb19c877e');\n",
       "          const dataTable =\n",
       "            await google.colab.kernel.invokeFunction('convertToInteractive',\n",
       "                                                     [key], {});\n",
       "          if (!dataTable) return;\n",
       "\n",
       "          const docLinkHtml = 'Like what you see? Visit the ' +\n",
       "            '<a target=\"_blank\" href=https://colab.research.google.com/notebooks/data_table.ipynb>data table notebook</a>'\n",
       "            + ' to learn more about interactive tables.';\n",
       "          element.innerHTML = '';\n",
       "          dataTable['output_type'] = 'display_data';\n",
       "          await google.colab.output.renderOutput(dataTable, element);\n",
       "          const docLink = document.createElement('div');\n",
       "          docLink.innerHTML = docLinkHtml;\n",
       "          element.appendChild(docLink);\n",
       "        }\n",
       "      </script>\n",
       "    </div>\n",
       "  </div>\n",
       "  "
      ],
      "text/plain": [
       "             cust first_cop  first_cnt  second_cop    buy_am  online_prefer  \\\n",
       "0      M000034966       A01          1           3  140200.0            0.0   \n",
       "1      M000034966       A04          1           1   12000.0            0.0   \n",
       "2      M000136117       A02          1           5   24700.0            1.0   \n",
       "3      M000225114       A01          4           2   82580.0            0.0   \n",
       "4      M000261625       A01          3           9  441700.0            0.0   \n",
       "...           ...       ...        ...         ...       ...            ...   \n",
       "36762  M999849895       A01          2           9   80950.0            0.0   \n",
       "36763  M999926092       D02          1           9   29100.0            0.0   \n",
       "36764  M999962961       A01          1           1   39000.0            0.0   \n",
       "36765  M999962961       A02          1           2   54680.0            0.0   \n",
       "36766  M999962961       A03          1           5    6990.0            0.0   \n",
       "\n",
       "                  cycle  Lpay  pd_c  clac_hlv_nm  ...  D02  L00  D01  A05  \\\n",
       "0                 1번 구매     0     9           23  ...    0    0    0    0   \n",
       "1                 1번 구매     0    14            0  ...    0    0    0    0   \n",
       "2                 1번 구매     0    19           17  ...    0    0    0    0   \n",
       "3       1 days 19:20:00     0    17           24  ...    0    0    0    0   \n",
       "4      20 days 22:00:00     0    20           25  ...    0    0    0    0   \n",
       "...                 ...   ...   ...          ...  ...  ...  ...  ...  ...   \n",
       "36762   0 days 01:00:00     0     3            1  ...    0    0    0    0   \n",
       "36763             1번 구매     0     0            0  ...    1    0    0    0   \n",
       "36764             1번 구매     0    10            0  ...    0    0    0    0   \n",
       "36765             1번 구매     0    15            0  ...    0    0    0    0   \n",
       "36766             1번 구매     0    15            0  ...    0    0    0    0   \n",
       "\n",
       "       E01  B01  C02  cycle_days     avg_buy_am  log_avg_buy_am  \n",
       "0        0    0    0         365  140200.000000       11.850832  \n",
       "1        0    0    0         365   12000.000000        9.392745  \n",
       "2        0    0    0         365   24700.000000       10.114599  \n",
       "3        0    0    0           1   20645.000000        9.935277  \n",
       "4        0    0    0          20  147233.333333       11.899781  \n",
       "...    ...  ...  ...         ...            ...             ...  \n",
       "36762    0    0    0           0   40475.000000       10.608464  \n",
       "36763    0    0    0         365   29100.000000       10.278528  \n",
       "36764    0    0    0         365   39000.000000       10.571343  \n",
       "36765    0    0    0         365   54680.000000       10.909272  \n",
       "36766    0    0    0         365    6990.000000        8.852379  \n",
       "\n",
       "[36767 rows x 32 columns]"
      ]
     },
     "execution_count": 92,
     "metadata": {},
     "output_type": "execute_result"
    }
   ],
   "source": [
    "ext2 = pd.read_csv('../3. LOTTO_데이터 및 모델 세이브 파일/예측 모델 데이터/extension.csv', index_col=0)\n",
    "ext2"
   ]
  },
  {
   "cell_type": "code",
   "execution_count": 93,
   "metadata": {
    "colab": {
     "base_uri": "https://localhost:8080/"
    },
    "id": "eCbHlDlt5KnS",
    "outputId": "25b6dfab-7ddc-4b9b-c41a-3f2b474d3e31"
   },
   "outputs": [
    {
     "data": {
      "text/plain": [
       "Index(['cust', 'first_cop', 'first_cnt', 'second_cop', 'buy_am',\n",
       "       'online_prefer', 'cycle', 'Lpay', 'pd_c', 'clac_hlv_nm', 'clac_mcls_nm',\n",
       "       'br_c', 'ma_fem_dv', 'ages', 'zon_hlv', 'A01', 'A04', 'A02', 'L01',\n",
       "       'A03', 'C01', 'A06', 'D02', 'L00', 'D01', 'A05', 'E01', 'B01', 'C02',\n",
       "       'cycle_days', 'avg_buy_am', 'log_avg_buy_am'],\n",
       "      dtype='object')"
      ]
     },
     "execution_count": 93,
     "metadata": {},
     "output_type": "execute_result"
    }
   ],
   "source": [
    "ext2.columns"
   ]
  },
  {
   "cell_type": "code",
   "execution_count": 95,
   "metadata": {
    "id": "0GAffwWV9D--"
   },
   "outputs": [],
   "source": [
    "data=ext2[[ 'A01', 'A02', 'L01', 'A03',\n",
    "       'C01', 'D02', 'A04', 'D01', 'A05', 'A06', 'E01', 'B01', 'C02', 'L00',\n",
    "      'online_prefer', 'Lpay', 'pd_c', 'clac_hlv_nm', 'clac_mcls_nm',\n",
    "       'br_c', 'ma_fem_dv', 'ages', 'zon_hlv', 'cycle_days', \n",
    "       'log_avg_buy_am']]\n",
    "target=ext2.loc[:, 'second_cop']"
   ]
  },
  {
   "cell_type": "code",
   "execution_count": 123,
   "metadata": {
    "id": "P2yFJa0TR88t"
   },
   "outputs": [],
   "source": [
    "from sklearn.model_selection import train_test_split\n",
    "X, X_test, y, y_test = train_test_split(data, target, test_size=0.05, stratify=target, shuffle=True, random_state=34)"
   ]
  },
  {
   "cell_type": "code",
   "execution_count": 98,
   "metadata": {
    "colab": {
     "base_uri": "https://localhost:8080/"
    },
    "id": "PbjypKt0cH0i",
    "outputId": "4d0e917b-57e5-4b49-9585-95701c2b7dd2"
   },
   "outputs": [
    {
     "name": "stdout",
     "output_type": "stream",
     "text": [
      "<class 'pandas.core.frame.DataFrame'>\n",
      "Int64Index: 34928 entries, 22656 to 3175\n",
      "Data columns (total 25 columns):\n",
      " #   Column          Non-Null Count  Dtype  \n",
      "---  ------          --------------  -----  \n",
      " 0   A01             34928 non-null  int64  \n",
      " 1   A02             34928 non-null  int64  \n",
      " 2   L01             34928 non-null  int64  \n",
      " 3   A03             34928 non-null  int64  \n",
      " 4   C01             34928 non-null  int64  \n",
      " 5   D02             34928 non-null  int64  \n",
      " 6   A04             34928 non-null  int64  \n",
      " 7   D01             34928 non-null  int64  \n",
      " 8   A05             34928 non-null  int64  \n",
      " 9   A06             34928 non-null  int64  \n",
      " 10  E01             34928 non-null  int64  \n",
      " 11  B01             34928 non-null  int64  \n",
      " 12  C02             34928 non-null  int64  \n",
      " 13  L00             34928 non-null  int64  \n",
      " 14  online_prefer   34928 non-null  float64\n",
      " 15  Lpay            34928 non-null  int64  \n",
      " 16  pd_c            34928 non-null  int64  \n",
      " 17  clac_hlv_nm     34928 non-null  int64  \n",
      " 18  clac_mcls_nm    34928 non-null  int64  \n",
      " 19  br_c            34928 non-null  int64  \n",
      " 20  ma_fem_dv       34928 non-null  int64  \n",
      " 21  ages            34928 non-null  int64  \n",
      " 22  zon_hlv         34928 non-null  int64  \n",
      " 23  cycle_days      34928 non-null  int64  \n",
      " 24  log_avg_buy_am  34928 non-null  float64\n",
      "dtypes: float64(2), int64(23)\n",
      "memory usage: 6.9 MB\n"
     ]
    }
   ],
   "source": [
    "X.info()"
   ]
  },
  {
   "cell_type": "code",
   "execution_count": 99,
   "metadata": {
    "colab": {
     "base_uri": "https://localhost:8080/",
     "height": 488
    },
    "id": "HcsH7kFEas2J",
    "outputId": "7c6eeac6-1d59-4b0b-f6b4-50b2119fd6b7"
   },
   "outputs": [
    {
     "data": {
      "text/html": [
       "\n",
       "  <div id=\"df-823cc22c-eb6c-4c51-9fda-144d8e0d79d0\">\n",
       "    <div class=\"colab-df-container\">\n",
       "      <div>\n",
       "<style scoped>\n",
       "    .dataframe tbody tr th:only-of-type {\n",
       "        vertical-align: middle;\n",
       "    }\n",
       "\n",
       "    .dataframe tbody tr th {\n",
       "        vertical-align: top;\n",
       "    }\n",
       "\n",
       "    .dataframe thead th {\n",
       "        text-align: right;\n",
       "    }\n",
       "</style>\n",
       "<table border=\"1\" class=\"dataframe\">\n",
       "  <thead>\n",
       "    <tr style=\"text-align: right;\">\n",
       "      <th></th>\n",
       "      <th>A01</th>\n",
       "      <th>A02</th>\n",
       "      <th>L01</th>\n",
       "      <th>A03</th>\n",
       "      <th>C01</th>\n",
       "      <th>D02</th>\n",
       "      <th>A04</th>\n",
       "      <th>D01</th>\n",
       "      <th>A05</th>\n",
       "      <th>A06</th>\n",
       "      <th>...</th>\n",
       "      <th>Lpay</th>\n",
       "      <th>pd_c</th>\n",
       "      <th>clac_hlv_nm</th>\n",
       "      <th>clac_mcls_nm</th>\n",
       "      <th>br_c</th>\n",
       "      <th>ma_fem_dv</th>\n",
       "      <th>ages</th>\n",
       "      <th>zon_hlv</th>\n",
       "      <th>cycle_days</th>\n",
       "      <th>log_avg_buy_am</th>\n",
       "    </tr>\n",
       "  </thead>\n",
       "  <tbody>\n",
       "    <tr>\n",
       "      <th>11786</th>\n",
       "      <td>1</td>\n",
       "      <td>1</td>\n",
       "      <td>0</td>\n",
       "      <td>0</td>\n",
       "      <td>0</td>\n",
       "      <td>0</td>\n",
       "      <td>0</td>\n",
       "      <td>1</td>\n",
       "      <td>0</td>\n",
       "      <td>0</td>\n",
       "      <td>...</td>\n",
       "      <td>0</td>\n",
       "      <td>19</td>\n",
       "      <td>15</td>\n",
       "      <td>0</td>\n",
       "      <td>1</td>\n",
       "      <td>0</td>\n",
       "      <td>2</td>\n",
       "      <td>9</td>\n",
       "      <td>365</td>\n",
       "      <td>10.981914</td>\n",
       "    </tr>\n",
       "    <tr>\n",
       "      <th>16810</th>\n",
       "      <td>0</td>\n",
       "      <td>0</td>\n",
       "      <td>0</td>\n",
       "      <td>0</td>\n",
       "      <td>0</td>\n",
       "      <td>1</td>\n",
       "      <td>0</td>\n",
       "      <td>1</td>\n",
       "      <td>0</td>\n",
       "      <td>0</td>\n",
       "      <td>...</td>\n",
       "      <td>0</td>\n",
       "      <td>0</td>\n",
       "      <td>0</td>\n",
       "      <td>0</td>\n",
       "      <td>9</td>\n",
       "      <td>1</td>\n",
       "      <td>2</td>\n",
       "      <td>9</td>\n",
       "      <td>365</td>\n",
       "      <td>8.716208</td>\n",
       "    </tr>\n",
       "    <tr>\n",
       "      <th>23921</th>\n",
       "      <td>0</td>\n",
       "      <td>1</td>\n",
       "      <td>0</td>\n",
       "      <td>0</td>\n",
       "      <td>0</td>\n",
       "      <td>2</td>\n",
       "      <td>0</td>\n",
       "      <td>1</td>\n",
       "      <td>0</td>\n",
       "      <td>0</td>\n",
       "      <td>...</td>\n",
       "      <td>0</td>\n",
       "      <td>0</td>\n",
       "      <td>0</td>\n",
       "      <td>0</td>\n",
       "      <td>16</td>\n",
       "      <td>1</td>\n",
       "      <td>1</td>\n",
       "      <td>16</td>\n",
       "      <td>0</td>\n",
       "      <td>9.071193</td>\n",
       "    </tr>\n",
       "    <tr>\n",
       "      <th>5078</th>\n",
       "      <td>2</td>\n",
       "      <td>0</td>\n",
       "      <td>0</td>\n",
       "      <td>1</td>\n",
       "      <td>0</td>\n",
       "      <td>0</td>\n",
       "      <td>0</td>\n",
       "      <td>0</td>\n",
       "      <td>0</td>\n",
       "      <td>0</td>\n",
       "      <td>...</td>\n",
       "      <td>0</td>\n",
       "      <td>15</td>\n",
       "      <td>0</td>\n",
       "      <td>0</td>\n",
       "      <td>28</td>\n",
       "      <td>1</td>\n",
       "      <td>3</td>\n",
       "      <td>16</td>\n",
       "      <td>365</td>\n",
       "      <td>10.027518</td>\n",
       "    </tr>\n",
       "    <tr>\n",
       "      <th>13287</th>\n",
       "      <td>1</td>\n",
       "      <td>0</td>\n",
       "      <td>0</td>\n",
       "      <td>0</td>\n",
       "      <td>1</td>\n",
       "      <td>0</td>\n",
       "      <td>0</td>\n",
       "      <td>0</td>\n",
       "      <td>0</td>\n",
       "      <td>0</td>\n",
       "      <td>...</td>\n",
       "      <td>0</td>\n",
       "      <td>0</td>\n",
       "      <td>0</td>\n",
       "      <td>0</td>\n",
       "      <td>1</td>\n",
       "      <td>1</td>\n",
       "      <td>0</td>\n",
       "      <td>8</td>\n",
       "      <td>365</td>\n",
       "      <td>8.497195</td>\n",
       "    </tr>\n",
       "    <tr>\n",
       "      <th>...</th>\n",
       "      <td>...</td>\n",
       "      <td>...</td>\n",
       "      <td>...</td>\n",
       "      <td>...</td>\n",
       "      <td>...</td>\n",
       "      <td>...</td>\n",
       "      <td>...</td>\n",
       "      <td>...</td>\n",
       "      <td>...</td>\n",
       "      <td>...</td>\n",
       "      <td>...</td>\n",
       "      <td>...</td>\n",
       "      <td>...</td>\n",
       "      <td>...</td>\n",
       "      <td>...</td>\n",
       "      <td>...</td>\n",
       "      <td>...</td>\n",
       "      <td>...</td>\n",
       "      <td>...</td>\n",
       "      <td>...</td>\n",
       "      <td>...</td>\n",
       "    </tr>\n",
       "    <tr>\n",
       "      <th>2674</th>\n",
       "      <td>1</td>\n",
       "      <td>0</td>\n",
       "      <td>0</td>\n",
       "      <td>0</td>\n",
       "      <td>0</td>\n",
       "      <td>0</td>\n",
       "      <td>0</td>\n",
       "      <td>0</td>\n",
       "      <td>0</td>\n",
       "      <td>0</td>\n",
       "      <td>...</td>\n",
       "      <td>0</td>\n",
       "      <td>3</td>\n",
       "      <td>0</td>\n",
       "      <td>0</td>\n",
       "      <td>1</td>\n",
       "      <td>1</td>\n",
       "      <td>1</td>\n",
       "      <td>9</td>\n",
       "      <td>365</td>\n",
       "      <td>10.165890</td>\n",
       "    </tr>\n",
       "    <tr>\n",
       "      <th>11319</th>\n",
       "      <td>1</td>\n",
       "      <td>0</td>\n",
       "      <td>0</td>\n",
       "      <td>0</td>\n",
       "      <td>0</td>\n",
       "      <td>0</td>\n",
       "      <td>0</td>\n",
       "      <td>0</td>\n",
       "      <td>0</td>\n",
       "      <td>1</td>\n",
       "      <td>...</td>\n",
       "      <td>0</td>\n",
       "      <td>12</td>\n",
       "      <td>19</td>\n",
       "      <td>74</td>\n",
       "      <td>1</td>\n",
       "      <td>1</td>\n",
       "      <td>2</td>\n",
       "      <td>16</td>\n",
       "      <td>365</td>\n",
       "      <td>11.259336</td>\n",
       "    </tr>\n",
       "    <tr>\n",
       "      <th>11678</th>\n",
       "      <td>0</td>\n",
       "      <td>3</td>\n",
       "      <td>0</td>\n",
       "      <td>0</td>\n",
       "      <td>0</td>\n",
       "      <td>0</td>\n",
       "      <td>0</td>\n",
       "      <td>0</td>\n",
       "      <td>0</td>\n",
       "      <td>0</td>\n",
       "      <td>...</td>\n",
       "      <td>0</td>\n",
       "      <td>16</td>\n",
       "      <td>0</td>\n",
       "      <td>21</td>\n",
       "      <td>16</td>\n",
       "      <td>1</td>\n",
       "      <td>2</td>\n",
       "      <td>8</td>\n",
       "      <td>6</td>\n",
       "      <td>11.108025</td>\n",
       "    </tr>\n",
       "    <tr>\n",
       "      <th>18457</th>\n",
       "      <td>3</td>\n",
       "      <td>1</td>\n",
       "      <td>0</td>\n",
       "      <td>0</td>\n",
       "      <td>0</td>\n",
       "      <td>0</td>\n",
       "      <td>0</td>\n",
       "      <td>1</td>\n",
       "      <td>0</td>\n",
       "      <td>0</td>\n",
       "      <td>...</td>\n",
       "      <td>0</td>\n",
       "      <td>17</td>\n",
       "      <td>24</td>\n",
       "      <td>0</td>\n",
       "      <td>1</td>\n",
       "      <td>1</td>\n",
       "      <td>2</td>\n",
       "      <td>9</td>\n",
       "      <td>0</td>\n",
       "      <td>11.706580</td>\n",
       "    </tr>\n",
       "    <tr>\n",
       "      <th>5974</th>\n",
       "      <td>0</td>\n",
       "      <td>0</td>\n",
       "      <td>0</td>\n",
       "      <td>0</td>\n",
       "      <td>0</td>\n",
       "      <td>0</td>\n",
       "      <td>0</td>\n",
       "      <td>1</td>\n",
       "      <td>0</td>\n",
       "      <td>0</td>\n",
       "      <td>...</td>\n",
       "      <td>0</td>\n",
       "      <td>0</td>\n",
       "      <td>0</td>\n",
       "      <td>0</td>\n",
       "      <td>9</td>\n",
       "      <td>1</td>\n",
       "      <td>2</td>\n",
       "      <td>10</td>\n",
       "      <td>365</td>\n",
       "      <td>9.893488</td>\n",
       "    </tr>\n",
       "  </tbody>\n",
       "</table>\n",
       "<p>1839 rows × 25 columns</p>\n",
       "</div>\n",
       "      <button class=\"colab-df-convert\" onclick=\"convertToInteractive('df-823cc22c-eb6c-4c51-9fda-144d8e0d79d0')\"\n",
       "              title=\"Convert this dataframe to an interactive table.\"\n",
       "              style=\"display:none;\">\n",
       "        \n",
       "  <svg xmlns=\"http://www.w3.org/2000/svg\" height=\"24px\"viewBox=\"0 0 24 24\"\n",
       "       width=\"24px\">\n",
       "    <path d=\"M0 0h24v24H0V0z\" fill=\"none\"/>\n",
       "    <path d=\"M18.56 5.44l.94 2.06.94-2.06 2.06-.94-2.06-.94-.94-2.06-.94 2.06-2.06.94zm-11 1L8.5 8.5l.94-2.06 2.06-.94-2.06-.94L8.5 2.5l-.94 2.06-2.06.94zm10 10l.94 2.06.94-2.06 2.06-.94-2.06-.94-.94-2.06-.94 2.06-2.06.94z\"/><path d=\"M17.41 7.96l-1.37-1.37c-.4-.4-.92-.59-1.43-.59-.52 0-1.04.2-1.43.59L10.3 9.45l-7.72 7.72c-.78.78-.78 2.05 0 2.83L4 21.41c.39.39.9.59 1.41.59.51 0 1.02-.2 1.41-.59l7.78-7.78 2.81-2.81c.8-.78.8-2.07 0-2.86zM5.41 20L4 18.59l7.72-7.72 1.47 1.35L5.41 20z\"/>\n",
       "  </svg>\n",
       "      </button>\n",
       "      \n",
       "  <style>\n",
       "    .colab-df-container {\n",
       "      display:flex;\n",
       "      flex-wrap:wrap;\n",
       "      gap: 12px;\n",
       "    }\n",
       "\n",
       "    .colab-df-convert {\n",
       "      background-color: #E8F0FE;\n",
       "      border: none;\n",
       "      border-radius: 50%;\n",
       "      cursor: pointer;\n",
       "      display: none;\n",
       "      fill: #1967D2;\n",
       "      height: 32px;\n",
       "      padding: 0 0 0 0;\n",
       "      width: 32px;\n",
       "    }\n",
       "\n",
       "    .colab-df-convert:hover {\n",
       "      background-color: #E2EBFA;\n",
       "      box-shadow: 0px 1px 2px rgba(60, 64, 67, 0.3), 0px 1px 3px 1px rgba(60, 64, 67, 0.15);\n",
       "      fill: #174EA6;\n",
       "    }\n",
       "\n",
       "    [theme=dark] .colab-df-convert {\n",
       "      background-color: #3B4455;\n",
       "      fill: #D2E3FC;\n",
       "    }\n",
       "\n",
       "    [theme=dark] .colab-df-convert:hover {\n",
       "      background-color: #434B5C;\n",
       "      box-shadow: 0px 1px 3px 1px rgba(0, 0, 0, 0.15);\n",
       "      filter: drop-shadow(0px 1px 2px rgba(0, 0, 0, 0.3));\n",
       "      fill: #FFFFFF;\n",
       "    }\n",
       "  </style>\n",
       "\n",
       "      <script>\n",
       "        const buttonEl =\n",
       "          document.querySelector('#df-823cc22c-eb6c-4c51-9fda-144d8e0d79d0 button.colab-df-convert');\n",
       "        buttonEl.style.display =\n",
       "          google.colab.kernel.accessAllowed ? 'block' : 'none';\n",
       "\n",
       "        async function convertToInteractive(key) {\n",
       "          const element = document.querySelector('#df-823cc22c-eb6c-4c51-9fda-144d8e0d79d0');\n",
       "          const dataTable =\n",
       "            await google.colab.kernel.invokeFunction('convertToInteractive',\n",
       "                                                     [key], {});\n",
       "          if (!dataTable) return;\n",
       "\n",
       "          const docLinkHtml = 'Like what you see? Visit the ' +\n",
       "            '<a target=\"_blank\" href=https://colab.research.google.com/notebooks/data_table.ipynb>data table notebook</a>'\n",
       "            + ' to learn more about interactive tables.';\n",
       "          element.innerHTML = '';\n",
       "          dataTable['output_type'] = 'display_data';\n",
       "          await google.colab.output.renderOutput(dataTable, element);\n",
       "          const docLink = document.createElement('div');\n",
       "          docLink.innerHTML = docLinkHtml;\n",
       "          element.appendChild(docLink);\n",
       "        }\n",
       "      </script>\n",
       "    </div>\n",
       "  </div>\n",
       "  "
      ],
      "text/plain": [
       "       A01  A02  L01  A03  C01  D02  A04  D01  A05  A06  ...  Lpay  pd_c  \\\n",
       "11786    1    1    0    0    0    0    0    1    0    0  ...     0    19   \n",
       "16810    0    0    0    0    0    1    0    1    0    0  ...     0     0   \n",
       "23921    0    1    0    0    0    2    0    1    0    0  ...     0     0   \n",
       "5078     2    0    0    1    0    0    0    0    0    0  ...     0    15   \n",
       "13287    1    0    0    0    1    0    0    0    0    0  ...     0     0   \n",
       "...    ...  ...  ...  ...  ...  ...  ...  ...  ...  ...  ...   ...   ...   \n",
       "2674     1    0    0    0    0    0    0    0    0    0  ...     0     3   \n",
       "11319    1    0    0    0    0    0    0    0    0    1  ...     0    12   \n",
       "11678    0    3    0    0    0    0    0    0    0    0  ...     0    16   \n",
       "18457    3    1    0    0    0    0    0    1    0    0  ...     0    17   \n",
       "5974     0    0    0    0    0    0    0    1    0    0  ...     0     0   \n",
       "\n",
       "       clac_hlv_nm  clac_mcls_nm  br_c  ma_fem_dv  ages  zon_hlv  cycle_days  \\\n",
       "11786           15             0     1          0     2        9         365   \n",
       "16810            0             0     9          1     2        9         365   \n",
       "23921            0             0    16          1     1       16           0   \n",
       "5078             0             0    28          1     3       16         365   \n",
       "13287            0             0     1          1     0        8         365   \n",
       "...            ...           ...   ...        ...   ...      ...         ...   \n",
       "2674             0             0     1          1     1        9         365   \n",
       "11319           19            74     1          1     2       16         365   \n",
       "11678            0            21    16          1     2        8           6   \n",
       "18457           24             0     1          1     2        9           0   \n",
       "5974             0             0     9          1     2       10         365   \n",
       "\n",
       "       log_avg_buy_am  \n",
       "11786       10.981914  \n",
       "16810        8.716208  \n",
       "23921        9.071193  \n",
       "5078        10.027518  \n",
       "13287        8.497195  \n",
       "...               ...  \n",
       "2674        10.165890  \n",
       "11319       11.259336  \n",
       "11678       11.108025  \n",
       "18457       11.706580  \n",
       "5974         9.893488  \n",
       "\n",
       "[1839 rows x 25 columns]"
      ]
     },
     "execution_count": 99,
     "metadata": {},
     "output_type": "execute_result"
    }
   ],
   "source": [
    "X_test"
   ]
  },
  {
   "cell_type": "code",
   "execution_count": 100,
   "metadata": {
    "colab": {
     "base_uri": "https://localhost:8080/"
    },
    "id": "QJ6SaRIjdiWL",
    "outputId": "52b283d4-5751-4cdd-e090-d9175e732df4"
   },
   "outputs": [
    {
     "data": {
      "text/plain": [
       "Index(['A01', 'A02', 'L01', 'A03', 'C01', 'D02', 'A04', 'D01', 'A05', 'A06',\n",
       "       'E01', 'B01', 'C02', 'L00', 'online_prefer', 'Lpay', 'pd_c',\n",
       "       'clac_hlv_nm', 'clac_mcls_nm', 'br_c', 'ma_fem_dv', 'ages', 'zon_hlv',\n",
       "       'cycle_days', 'log_avg_buy_am'],\n",
       "      dtype='object')"
      ]
     },
     "execution_count": 100,
     "metadata": {},
     "output_type": "execute_result"
    }
   ],
   "source": [
    "X.columns"
   ]
  },
  {
   "cell_type": "markdown",
   "metadata": {},
   "source": [
    "## Catboost 최종 모델\n",
    "- hyperparamter : default\n",
    "- accuracy : 0.42"
   ]
  },
  {
   "cell_type": "code",
   "execution_count": 101,
   "metadata": {
    "id": "iTkZUWC5Rqx_"
   },
   "outputs": [],
   "source": [
    "n_est = 2000\n",
    "seed = 42\n",
    "n_fold = 8\n",
    "n_class = 14"
   ]
  },
  {
   "cell_type": "code",
   "execution_count": 102,
   "metadata": {
    "colab": {
     "base_uri": "https://localhost:8080/"
    },
    "id": "aWaZ1GLS_iCy",
    "outputId": "bf7467c0-286f-43e5-d0cf-956d6a144e03"
   },
   "outputs": [
    {
     "name": "stdout",
     "output_type": "stream",
     "text": [
      "\n",
      "----------------- Fold 0 -----------------\n",
      "\n",
      "Learning rate set to 0.148537\n",
      "0:\tlearn: 2.4814542\ttest: 2.4889044\tbest: 2.4889044 (0)\ttotal: 20.9ms\tremaining: 20.9s\n",
      "100:\tlearn: 1.7076239\ttest: 1.8221519\tbest: 1.8221519 (100)\ttotal: 1.93s\tremaining: 17.1s\n",
      "200:\tlearn: 1.6404565\ttest: 1.8144487\tbest: 1.8136173 (184)\ttotal: 3.75s\tremaining: 14.9s\n",
      "300:\tlearn: 1.5891194\ttest: 1.8127139\tbest: 1.8126147 (282)\ttotal: 5.58s\tremaining: 13s\n",
      "bestTest = 1.812614745\n",
      "bestIteration = 282\n",
      "Shrink model to first 283 iterations.\n",
      "CV Log Loss Score: 1.812615\n",
      "\tLog Loss: 2.535752\n",
      "\n",
      "----------------- Fold 1 -----------------\n",
      "\n",
      "Learning rate set to 0.148537\n",
      "0:\tlearn: 2.4856634\ttest: 2.4875852\tbest: 2.4875852 (0)\ttotal: 23.7ms\tremaining: 23.7s\n",
      "100:\tlearn: 1.7157358\ttest: 1.8269316\tbest: 1.8269316 (100)\ttotal: 1.91s\tremaining: 17s\n",
      "200:\tlearn: 1.6428761\ttest: 1.8175554\tbest: 1.8173160 (171)\ttotal: 3.75s\tremaining: 14.9s\n",
      "bestTest = 1.817316046\n",
      "bestIteration = 171\n",
      "Shrink model to first 172 iterations.\n",
      "CV Log Loss Score: 1.817316\n",
      "\tLog Loss: 2.433034\n",
      "\n",
      "----------------- Fold 2 -----------------\n",
      "\n",
      "Learning rate set to 0.148537\n",
      "0:\tlearn: 2.4846892\ttest: 2.4873624\tbest: 2.4873624 (0)\ttotal: 21.2ms\tremaining: 21.1s\n",
      "100:\tlearn: 1.7136141\ttest: 1.8096317\tbest: 1.8096317 (100)\ttotal: 1.89s\tremaining: 16.9s\n",
      "200:\tlearn: 1.6478464\ttest: 1.7999997\tbest: 1.7998634 (199)\ttotal: 3.71s\tremaining: 14.7s\n",
      "300:\tlearn: 1.5930503\ttest: 1.8015989\tbest: 1.7987976 (227)\ttotal: 5.52s\tremaining: 12.8s\n",
      "bestTest = 1.798797593\n",
      "bestIteration = 227\n",
      "Shrink model to first 228 iterations.\n",
      "CV Log Loss Score: 1.798797\n",
      "\tLog Loss: 2.328002\n",
      "\n",
      "----------------- Fold 3 -----------------\n",
      "\n",
      "Learning rate set to 0.148537\n",
      "0:\tlearn: 2.4806597\ttest: 2.4806193\tbest: 2.4806193 (0)\ttotal: 20.9ms\tremaining: 20.9s\n",
      "100:\tlearn: 1.7184880\ttest: 1.8057034\tbest: 1.8057034 (100)\ttotal: 1.89s\tremaining: 16.8s\n",
      "200:\tlearn: 1.6437460\ttest: 1.7920533\tbest: 1.7920533 (200)\ttotal: 3.68s\tremaining: 14.6s\n",
      "300:\tlearn: 1.5986836\ttest: 1.7920209\tbest: 1.7913334 (255)\ttotal: 5.48s\tremaining: 12.7s\n",
      "bestTest = 1.791333355\n",
      "bestIteration = 255\n",
      "Shrink model to first 256 iterations.\n",
      "CV Log Loss Score: 1.791333\n",
      "\tLog Loss: 2.222036\n",
      "\n",
      "----------------- Fold 4 -----------------\n",
      "\n",
      "Learning rate set to 0.148537\n",
      "0:\tlearn: 2.4838228\ttest: 2.4858235\tbest: 2.4858235 (0)\ttotal: 21.1ms\tremaining: 21.1s\n",
      "100:\tlearn: 1.7170363\ttest: 1.8430757\tbest: 1.8430757 (100)\ttotal: 3.55s\tremaining: 31.6s\n",
      "200:\tlearn: 1.6446730\ttest: 1.8353353\tbest: 1.8347159 (197)\ttotal: 5.39s\tremaining: 21.4s\n",
      "bestTest = 1.834715902\n",
      "bestIteration = 197\n",
      "Shrink model to first 198 iterations.\n",
      "CV Log Loss Score: 1.834716\n",
      "\tLog Loss: 2.121494\n",
      "\n",
      "----------------- Fold 5 -----------------\n",
      "\n",
      "Learning rate set to 0.148537\n",
      "0:\tlearn: 2.4829522\ttest: 2.4932415\tbest: 2.4932415 (0)\ttotal: 21.4ms\tremaining: 21.4s\n",
      "100:\tlearn: 1.7175859\ttest: 1.8368948\tbest: 1.8368948 (100)\ttotal: 1.92s\tremaining: 17.1s\n",
      "200:\tlearn: 1.6498273\ttest: 1.8258930\tbest: 1.8258930 (200)\ttotal: 3.74s\tremaining: 14.9s\n",
      "300:\tlearn: 1.5987838\ttest: 1.8250014\tbest: 1.8243366 (265)\ttotal: 5.57s\tremaining: 12.9s\n",
      "bestTest = 1.824336626\n",
      "bestIteration = 265\n",
      "Shrink model to first 266 iterations.\n",
      "CV Log Loss Score: 1.824336\n",
      "\tLog Loss: 2.019654\n",
      "\n",
      "----------------- Fold 6 -----------------\n",
      "\n",
      "Learning rate set to 0.148537\n",
      "0:\tlearn: 2.4833471\ttest: 2.4815867\tbest: 2.4815867 (0)\ttotal: 20.4ms\tremaining: 20.4s\n",
      "100:\tlearn: 1.7158401\ttest: 1.8238658\tbest: 1.8238658 (100)\ttotal: 1.89s\tremaining: 16.8s\n",
      "200:\tlearn: 1.6476805\ttest: 1.8171703\tbest: 1.8163380 (158)\ttotal: 3.74s\tremaining: 14.9s\n",
      "300:\tlearn: 1.5973691\ttest: 1.8167510\tbest: 1.8153485 (276)\ttotal: 5.56s\tremaining: 12.9s\n",
      "bestTest = 1.815348494\n",
      "bestIteration = 276\n",
      "Shrink model to first 277 iterations.\n",
      "CV Log Loss Score: 1.815348\n",
      "\tLog Loss: 1.916690\n",
      "\n",
      "----------------- Fold 7 -----------------\n",
      "\n",
      "Learning rate set to 0.148537\n",
      "0:\tlearn: 2.4822855\ttest: 2.4845170\tbest: 2.4845170 (0)\ttotal: 19.6ms\tremaining: 19.5s\n",
      "100:\tlearn: 1.7104615\ttest: 1.8126962\tbest: 1.8126962 (100)\ttotal: 1.85s\tremaining: 16.5s\n",
      "200:\tlearn: 1.6438418\ttest: 1.8085960\tbest: 1.8064196 (165)\ttotal: 3.65s\tremaining: 14.5s\n",
      "bestTest = 1.806419635\n",
      "bestIteration = 165\n",
      "Shrink model to first 166 iterations.\n",
      "CV Log Loss Score: 1.806420\n",
      "\tLog Loss: 1.812610\n"
     ]
    }
   ],
   "source": [
    "from sklearn.model_selection import StratifiedKFold\n",
    "from catboost import CatBoostClassifier, Pool\n",
    "skfold = StratifiedKFold(n_splits=n_fold, shuffle=True, random_state=seed)\n",
    "folds=[]\n",
    "for train_idx, valid_idx in skfold.split(X, y):\n",
    "        folds.append((train_idx, valid_idx))\n",
    "\n",
    "cat_pred = np.zeros((X.shape[0], n_class))\n",
    "cat_pred_test = np.zeros((X_test.shape[0], n_class))\n",
    "cat_cols = ['Lpay', 'pd_c', 'clac_hlv_nm', 'clac_mcls_nm', 'br_c', 'ma_fem_dv', 'ages', 'zon_hlv']\n",
    "for fold in range(n_fold):\n",
    "    print(f'\\n----------------- Fold {fold} -----------------\\n')\n",
    "    train_idx, valid_idx = folds[fold]\n",
    "    X_train, X_valid, y_train, y_valid = X.iloc[train_idx], X.iloc[valid_idx], y.iloc[train_idx], y.iloc[valid_idx]\n",
    "    train_data = Pool(data=X_train, label=y_train, cat_features=cat_cols)\n",
    "    valid_data = Pool(data=X_valid, label=y_valid, cat_features=cat_cols)\n",
    "\n",
    "    model_cat = CatBoostClassifier(task_type=\"GPU\", random_seed=seed)\n",
    "    model_cat.fit(train_data, eval_set=valid_data, use_best_model=True, early_stopping_rounds=100, verbose=100)\n",
    "\n",
    "    cat_pred[valid_idx] = model_cat.predict_proba(X_valid)\n",
    "    cat_pred_test += model_cat.predict_proba(X_test) / n_fold\n",
    "\n",
    "    print(f'CV Log Loss Score: {log_loss(y_valid, cat_pred[valid_idx]):.6f}')\n",
    "\n",
    "    print(f'\\tLog Loss: {log_loss(y, cat_pred):.6f}')"
   ]
  },
  {
   "cell_type": "code",
   "execution_count": 103,
   "metadata": {
    "colab": {
     "base_uri": "https://localhost:8080/"
    },
    "id": "64UtKU0aoL9f",
    "outputId": "6a77ec19-654e-4116-95c0-433fc8bea2f5"
   },
   "outputs": [
    {
     "data": {
      "text/plain": [
       "0.42088091353996737"
      ]
     },
     "execution_count": 103,
     "metadata": {},
     "output_type": "execute_result"
    }
   ],
   "source": [
    "# 8이 최대\n",
    "from sklearn.metrics import accuracy_score\n",
    "\n",
    "y_pred = np.argmax(cat_pred_test, axis=1)\n",
    "y_true = y_test.values\n",
    "accuracy_score(y_true, y_pred)"
   ]
  },
  {
   "cell_type": "code",
   "execution_count": 94,
   "metadata": {
    "id": "xKi35cuoJSDX"
   },
   "outputs": [],
   "source": [
    "def plot_feature_importance(importance,names,model_type):\n",
    "    \n",
    "    feature_importance = np.array(importance)\n",
    "    feature_names = np.array(names)\n",
    "    \n",
    "    data={'feature_names':feature_names,'feature_importance':feature_importance}\n",
    "    fi_df = pd.DataFrame(data)  \n",
    "    \n",
    "    fi_df.sort_values(by=['feature_importance'], ascending=False,inplace=True)\n",
    "\n",
    "    plt.figure(figsize=(10,8))\n",
    "\n",
    "    sns.barplot(x=fi_df['feature_importance'], y=fi_df['feature_names'])\n",
    "\n",
    "    plt.title(model_type + ' Feature Importance')\n",
    "    plt.xlabel('Feature Importance')\n",
    "    plt.ylabel('Feature Names')"
   ]
  },
  {
   "cell_type": "code",
   "execution_count": null,
   "metadata": {
    "colab": {
     "base_uri": "https://localhost:8080/",
     "height": 513
    },
    "id": "16aZY6LpI5aA",
    "outputId": "e3dd4676-2e2c-4ced-e830-fca08ee1d806"
   },
   "outputs": [
    {
     "data": {
      "image/png": "[encoded data removed]",
      "text/plain": [
       "<Figure size 720x576 with 1 Axes>"
      ]
     },
     "metadata": {
      "needs_background": "light"
     },
     "output_type": "display_data"
    }
   ],
   "source": [
    "plot_feature_importance(model_cat.get_feature_importance(),X_test.columns,'CATBOOST')"
   ]
  },
  {
   "cell_type": "markdown",
   "metadata": {},
   "source": [
    "# Ensemble"
   ]
  },
  {
   "cell_type": "code",
   "execution_count": 20,
   "metadata": {
    "id": "p7OcP6ZPfAG4"
   },
   "outputs": [],
   "source": [
    "import pickle\n",
    "import xgboost as xgb\n",
    "from xgboost import XGBClassifier\n",
    "xgb_model = pickle.load(open('../3. LOTTO_데이터 및 모델 세이브 파일/모델 세이브 파일/xgb_model.pickle', 'rb'))\n",
    "cat_model = pickle.load(open('../3. LOTTO_데이터 및 모델 세이브 파일/모델 세이브 파일/cat_model.pickle', 'rb'))\n"
   ]
  },
  {
   "cell_type": "code",
   "execution_count": 26,
   "metadata": {
    "colab": {
     "base_uri": "https://localhost:8080/"
    },
    "id": "TH_mjY8TnOgE",
    "outputId": "2006ce0e-4cb9-4556-ad08-ff903a6067a2"
   },
   "outputs": [
    {
     "data": {
      "text/plain": [
       "0.4187058183795541"
      ]
     },
     "execution_count": 26,
     "metadata": {},
     "output_type": "execute_result"
    }
   ],
   "source": [
    "xgb_pred_test = xgb_model.predict_proba(X_test)\n",
    "cat_pred_test = cat_model.predict_proba(X_test)\n",
    "pred_test = (xgb_pred_test + cat_pred_test)/2\n",
    "\n",
    "y_pred = np.argmax(pred_test, axis=1)\n",
    "y_true = y_test.values\n",
    "accuracy_score(y_true, y_pred)"
   ]
  }
 ],
 "metadata": {
  "accelerator": "GPU",
  "colab": {
   "collapsed_sections": [
    "_wOpsxscYYTN",
    "yIdIXqUzYYTR",
    "lQqZe7wCYYTc",
    "DAOTgUeIYYTi",
    "6S2JKHvDYYTn",
    "wL4gQ3-uYYTq",
    "KOnF574YYYUj",
    "MOXo4ZYpYYUp"
   ],
   "name": "0805-xgbxgb_v2.ipynb",
   "provenance": []
  },
  "gpuClass": "standard",
  "kernelspec": {
   "display_name": "Python 3",
   "language": "python",
   "name": "python3"
  },
  "language_info": {
   "codemirror_mode": {
    "name": "ipython",
    "version": 3
   },
   "file_extension": ".py",
   "mimetype": "text/x-python",
   "name": "python",
   "nbconvert_exporter": "python",
   "pygments_lexer": "ipython3",
   "version": "3.8.5"
  },
  "toc": {
   "base_numbering": 1,
   "nav_menu": {},
   "number_sections": true,
   "sideBar": true,
   "skip_h1_title": false,
   "title_cell": "Table of Contents",
   "title_sidebar": "Contents",
   "toc_cell": false,
   "toc_position": {
    "height": "calc(100% - 180px)",
    "left": "10px",
    "top": "150px",
    "width": "303.797px"
   },
   "toc_section_display": true,
   "toc_window_display": true
  }
 },
 "nbformat": 4,
 "nbformat_minor": 1
}
